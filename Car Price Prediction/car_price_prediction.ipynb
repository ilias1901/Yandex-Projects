{
 "cells": [
  {
   "cell_type": "markdown",
   "metadata": {},
   "source": [
    "# Car price prediction"
   ]
  },
  {
   "cell_type": "markdown",
   "metadata": {},
   "source": [
    "We need to predict the market value of the car. Available: technical characteristics, configurations and prices of vehicles. We need to build a model to determine the cost."
   ]
  },
  {
   "cell_type": "markdown",
   "metadata": {},
   "source": [
    "## Loading libraries"
   ]
  },
  {
   "cell_type": "code",
   "execution_count": 1,
   "metadata": {},
   "outputs": [],
   "source": [
    "import pandas as pd\n",
    "import numpy as np\n",
    "import matplotlib.pyplot as plt\n",
    "import seaborn as sns\n",
    "import phik\n",
    "from phik.report import plot_correlation_matrix\n",
    "from phik import report\n",
    "from sklearn.preprocessing import OrdinalEncoder\n",
    "from sklearn.preprocessing import StandardScaler, OneHotEncoder\n",
    "from sklearn.model_selection import train_test_split\n",
    "from sklearn.metrics import mean_squared_error\n",
    "from sklearn.metrics import make_scorer\n",
    "import time\n",
    "from sklearn.tree import DecisionTreeRegressor\n",
    "from sklearn.ensemble import RandomForestRegressor\n",
    "from sklearn.linear_model import LinearRegression\n",
    "from sklearn.model_selection import cross_val_score\n",
    "from sklearn.model_selection import KFold\n",
    "from sklearn.model_selection import GridSearchCV\n",
    "import warnings\n",
    "warnings.filterwarnings('ignore')"
   ]
  },
  {
   "cell_type": "markdown",
   "metadata": {},
   "source": [
    "## 1. Load the dataset"
   ]
  },
  {
   "cell_type": "markdown",
   "metadata": {},
   "source": [
    "Let's load the dataset and look throuhg the first lines."
   ]
  },
  {
   "cell_type": "code",
   "execution_count": 79,
   "metadata": {},
   "outputs": [
    {
     "data": {
      "text/html": [
       "<div>\n",
       "<style scoped>\n",
       "    .dataframe tbody tr th:only-of-type {\n",
       "        vertical-align: middle;\n",
       "    }\n",
       "\n",
       "    .dataframe tbody tr th {\n",
       "        vertical-align: top;\n",
       "    }\n",
       "\n",
       "    .dataframe thead th {\n",
       "        text-align: right;\n",
       "    }\n",
       "</style>\n",
       "<table border=\"1\" class=\"dataframe\">\n",
       "  <thead>\n",
       "    <tr style=\"text-align: right;\">\n",
       "      <th></th>\n",
       "      <th>DateCrawled</th>\n",
       "      <th>Price</th>\n",
       "      <th>VehicleType</th>\n",
       "      <th>RegistrationYear</th>\n",
       "      <th>Gearbox</th>\n",
       "      <th>Power</th>\n",
       "      <th>Model</th>\n",
       "      <th>Kilometer</th>\n",
       "      <th>RegistrationMonth</th>\n",
       "      <th>FuelType</th>\n",
       "      <th>Brand</th>\n",
       "      <th>Repaired</th>\n",
       "      <th>DateCreated</th>\n",
       "      <th>NumberOfPictures</th>\n",
       "      <th>PostalCode</th>\n",
       "      <th>LastSeen</th>\n",
       "    </tr>\n",
       "  </thead>\n",
       "  <tbody>\n",
       "    <tr>\n",
       "      <th>0</th>\n",
       "      <td>2016-03-24 11:52:17</td>\n",
       "      <td>480</td>\n",
       "      <td>NaN</td>\n",
       "      <td>1993</td>\n",
       "      <td>manual</td>\n",
       "      <td>0</td>\n",
       "      <td>golf</td>\n",
       "      <td>150000</td>\n",
       "      <td>0</td>\n",
       "      <td>petrol</td>\n",
       "      <td>volkswagen</td>\n",
       "      <td>NaN</td>\n",
       "      <td>2016-03-24 00:00:00</td>\n",
       "      <td>0</td>\n",
       "      <td>70435</td>\n",
       "      <td>2016-04-07 03:16:57</td>\n",
       "    </tr>\n",
       "    <tr>\n",
       "      <th>1</th>\n",
       "      <td>2016-03-24 10:58:45</td>\n",
       "      <td>18300</td>\n",
       "      <td>coupe</td>\n",
       "      <td>2011</td>\n",
       "      <td>manual</td>\n",
       "      <td>190</td>\n",
       "      <td>NaN</td>\n",
       "      <td>125000</td>\n",
       "      <td>5</td>\n",
       "      <td>gasoline</td>\n",
       "      <td>audi</td>\n",
       "      <td>yes</td>\n",
       "      <td>2016-03-24 00:00:00</td>\n",
       "      <td>0</td>\n",
       "      <td>66954</td>\n",
       "      <td>2016-04-07 01:46:50</td>\n",
       "    </tr>\n",
       "    <tr>\n",
       "      <th>2</th>\n",
       "      <td>2016-03-14 12:52:21</td>\n",
       "      <td>9800</td>\n",
       "      <td>suv</td>\n",
       "      <td>2004</td>\n",
       "      <td>auto</td>\n",
       "      <td>163</td>\n",
       "      <td>grand</td>\n",
       "      <td>125000</td>\n",
       "      <td>8</td>\n",
       "      <td>gasoline</td>\n",
       "      <td>jeep</td>\n",
       "      <td>NaN</td>\n",
       "      <td>2016-03-14 00:00:00</td>\n",
       "      <td>0</td>\n",
       "      <td>90480</td>\n",
       "      <td>2016-04-05 12:47:46</td>\n",
       "    </tr>\n",
       "    <tr>\n",
       "      <th>3</th>\n",
       "      <td>2016-03-17 16:54:04</td>\n",
       "      <td>1500</td>\n",
       "      <td>small</td>\n",
       "      <td>2001</td>\n",
       "      <td>manual</td>\n",
       "      <td>75</td>\n",
       "      <td>golf</td>\n",
       "      <td>150000</td>\n",
       "      <td>6</td>\n",
       "      <td>petrol</td>\n",
       "      <td>volkswagen</td>\n",
       "      <td>no</td>\n",
       "      <td>2016-03-17 00:00:00</td>\n",
       "      <td>0</td>\n",
       "      <td>91074</td>\n",
       "      <td>2016-03-17 17:40:17</td>\n",
       "    </tr>\n",
       "    <tr>\n",
       "      <th>4</th>\n",
       "      <td>2016-03-31 17:25:20</td>\n",
       "      <td>3600</td>\n",
       "      <td>small</td>\n",
       "      <td>2008</td>\n",
       "      <td>manual</td>\n",
       "      <td>69</td>\n",
       "      <td>fabia</td>\n",
       "      <td>90000</td>\n",
       "      <td>7</td>\n",
       "      <td>gasoline</td>\n",
       "      <td>skoda</td>\n",
       "      <td>no</td>\n",
       "      <td>2016-03-31 00:00:00</td>\n",
       "      <td>0</td>\n",
       "      <td>60437</td>\n",
       "      <td>2016-04-06 10:17:21</td>\n",
       "    </tr>\n",
       "  </tbody>\n",
       "</table>\n",
       "</div>"
      ],
      "text/plain": [
       "           DateCrawled  Price VehicleType  RegistrationYear Gearbox  Power  \\\n",
       "0  2016-03-24 11:52:17    480         NaN              1993  manual      0   \n",
       "1  2016-03-24 10:58:45  18300       coupe              2011  manual    190   \n",
       "2  2016-03-14 12:52:21   9800         suv              2004    auto    163   \n",
       "3  2016-03-17 16:54:04   1500       small              2001  manual     75   \n",
       "4  2016-03-31 17:25:20   3600       small              2008  manual     69   \n",
       "\n",
       "   Model  Kilometer  RegistrationMonth  FuelType       Brand Repaired  \\\n",
       "0   golf     150000                  0    petrol  volkswagen      NaN   \n",
       "1    NaN     125000                  5  gasoline        audi      yes   \n",
       "2  grand     125000                  8  gasoline        jeep      NaN   \n",
       "3   golf     150000                  6    petrol  volkswagen       no   \n",
       "4  fabia      90000                  7  gasoline       skoda       no   \n",
       "\n",
       "           DateCreated  NumberOfPictures  PostalCode             LastSeen  \n",
       "0  2016-03-24 00:00:00                 0       70435  2016-04-07 03:16:57  \n",
       "1  2016-03-24 00:00:00                 0       66954  2016-04-07 01:46:50  \n",
       "2  2016-03-14 00:00:00                 0       90480  2016-04-05 12:47:46  \n",
       "3  2016-03-17 00:00:00                 0       91074  2016-03-17 17:40:17  \n",
       "4  2016-03-31 00:00:00                 0       60437  2016-04-06 10:17:21  "
      ]
     },
     "execution_count": 79,
     "metadata": {},
     "output_type": "execute_result"
    }
   ],
   "source": [
    "data = pd.read_csv('/datasets/autos.csv')\n",
    "data_row = pd.read_csv('/datasets/autos.csv')\n",
    "pd.set_option('display.max_columns', None)\n",
    "data.head()"
   ]
  },
  {
   "cell_type": "markdown",
   "metadata": {},
   "source": [
    "The column `NumberOfPictures` looks to be useless, let's check how many values does it contain"
   ]
  },
  {
   "cell_type": "code",
   "execution_count": 3,
   "metadata": {},
   "outputs": [
    {
     "data": {
      "text/plain": [
       "0    354369\n",
       "Name: NumberOfPictures, dtype: int64"
      ]
     },
     "execution_count": 3,
     "metadata": {},
     "output_type": "execute_result"
    }
   ],
   "source": [
    "data['NumberOfPictures'].value_counts()"
   ]
  },
  {
   "cell_type": "code",
   "execution_count": 4,
   "metadata": {},
   "outputs": [],
   "source": [
    "#drop this column\n",
    "data = data.drop(['NumberOfPictures'], axis=1)"
   ]
  },
  {
   "cell_type": "markdown",
   "metadata": {},
   "source": [
    "**Features**\n",
    "\n",
    "`DateCrawled` — date when the data has been downloaded\n",
    "\n",
    "`VehicleType` — type of car body\n",
    "\n",
    "`RegistrationYear` — year of vehicle registration\n",
    "\n",
    "`Gearbox` — type of gearbox\n",
    "\n",
    "`Power` — power (hp)\n",
    "\n",
    "`Model` — car model\n",
    "\n",
    "`Kilometer` — mileage (km)\n",
    "\n",
    "`RegistrationMonth` — month of car registration\n",
    "\n",
    "`FuelType` — type of fuel\n",
    "\n",
    "`Brand` — car brand\n",
    "\n",
    "`NotRepaired` — was the car under repair or not\n",
    "\n",
    "`DateCreated` — date of creation of the questionnaire\n",
    "\n",
    "`PostalCode` — postal code of the owner of the profile (user)\n",
    "\n",
    "`LastSeen` — date of last user activity\n",
    "\n",
    "**Target feature**\n",
    "\n",
    "`Price` - price (euro)"
   ]
  },
  {
   "cell_type": "markdown",
   "metadata": {},
   "source": [
    "### Check the shape of dataset and types of data."
   ]
  },
  {
   "cell_type": "code",
   "execution_count": 5,
   "metadata": {},
   "outputs": [
    {
     "name": "stdout",
     "output_type": "stream",
     "text": [
      "Dataset has 354369 rows and 15 columns\n"
     ]
    }
   ],
   "source": [
    "print('Dataset has {} rows and {} columns'.format(data.shape[0],data.shape[1]))"
   ]
  },
  {
   "cell_type": "code",
   "execution_count": 6,
   "metadata": {},
   "outputs": [
    {
     "name": "stdout",
     "output_type": "stream",
     "text": [
      "<class 'pandas.core.frame.DataFrame'>\n",
      "RangeIndex: 354369 entries, 0 to 354368\n",
      "Data columns (total 15 columns):\n",
      " #   Column             Non-Null Count   Dtype \n",
      "---  ------             --------------   ----- \n",
      " 0   DateCrawled        354369 non-null  object\n",
      " 1   Price              354369 non-null  int64 \n",
      " 2   VehicleType        316879 non-null  object\n",
      " 3   RegistrationYear   354369 non-null  int64 \n",
      " 4   Gearbox            334536 non-null  object\n",
      " 5   Power              354369 non-null  int64 \n",
      " 6   Model              334664 non-null  object\n",
      " 7   Kilometer          354369 non-null  int64 \n",
      " 8   RegistrationMonth  354369 non-null  int64 \n",
      " 9   FuelType           321474 non-null  object\n",
      " 10  Brand              354369 non-null  object\n",
      " 11  Repaired           283215 non-null  object\n",
      " 12  DateCreated        354369 non-null  object\n",
      " 13  PostalCode         354369 non-null  int64 \n",
      " 14  LastSeen           354369 non-null  object\n",
      "dtypes: int64(6), object(9)\n",
      "memory usage: 40.6+ MB\n"
     ]
    }
   ],
   "source": [
    "data.info()"
   ]
  },
  {
   "cell_type": "markdown",
   "metadata": {},
   "source": [
    "Let's change the type of date columns to datetime."
   ]
  },
  {
   "cell_type": "code",
   "execution_count": 7,
   "metadata": {},
   "outputs": [],
   "source": [
    "data['DateCrawled'] = pd.to_datetime(data['DateCrawled']) \n",
    "data['DateCreated'] = pd.to_datetime(data['DateCreated']) \n",
    "data['LastSeen'] = pd.to_datetime(data['LastSeen']) "
   ]
  },
  {
   "cell_type": "markdown",
   "metadata": {},
   "source": [
    "### Data processing."
   ]
  },
  {
   "cell_type": "markdown",
   "metadata": {},
   "source": [
    "#### Missing data"
   ]
  },
  {
   "cell_type": "markdown",
   "metadata": {},
   "source": [
    "Make a function to detect the % of missing values in dataset"
   ]
  },
  {
   "cell_type": "code",
   "execution_count": 8,
   "metadata": {},
   "outputs": [],
   "source": [
    "def missing(df):\n",
    "    for i in data.columns:\n",
    "        if data[i].isna().sum() / len(data) > 0:\n",
    "            print('% of missing values in {} is {:,.2f}.\\n Number of missing values:'.\n",
    "                  format(i, (data[i].isna().sum() / len(data))*100), data[i].isna().sum())"
   ]
  },
  {
   "cell_type": "code",
   "execution_count": 9,
   "metadata": {},
   "outputs": [
    {
     "name": "stdout",
     "output_type": "stream",
     "text": [
      "% of missing values in VehicleType is 10.58.\n",
      " Number of missing values: 37490\n",
      "% of missing values in Gearbox is 5.60.\n",
      " Number of missing values: 19833\n",
      "% of missing values in Model is 5.56.\n",
      " Number of missing values: 19705\n",
      "% of missing values in FuelType is 9.28.\n",
      " Number of missing values: 32895\n",
      "% of missing values in Repaired is 20.08.\n",
      " Number of missing values: 71154\n"
     ]
    }
   ],
   "source": [
    "missing(data)"
   ]
  },
  {
   "cell_type": "markdown",
   "metadata": {},
   "source": [
    "Let's count the number of rows where data in columns `VehicleType`, `Gearbox`, `Model` and `FuelType` is missing simultaneously."
   ]
  },
  {
   "cell_type": "code",
   "execution_count": 10,
   "metadata": {},
   "outputs": [
    {
     "name": "stdout",
     "output_type": "stream",
     "text": [
      "Missing value is 0.68%\n"
     ]
    }
   ],
   "source": [
    "print('Missing value is {}%'.format(round((len(data[(data['VehicleType'].isna()) &\n",
    "                                                   (data['Gearbox'].isna()) &\n",
    "                                                   (data['Model'].isna()) &\n",
    "                                                   (data['FuelType'].isna())]) / (len(data)) * 100), 2)))"
   ]
  },
  {
   "cell_type": "markdown",
   "metadata": {},
   "source": [
    "The percentage is insignificant, we can get rid of these rows."
   ]
  },
  {
   "cell_type": "code",
   "execution_count": 11,
   "metadata": {},
   "outputs": [],
   "source": [
    "data.dropna(axis=0, how='all', subset=['VehicleType', 'Gearbox', 'Model', 'FuelType'], inplace=True)"
   ]
  },
  {
   "cell_type": "markdown",
   "metadata": {},
   "source": [
    "Let's work with missing data at each column."
   ]
  },
  {
   "cell_type": "code",
   "execution_count": 12,
   "metadata": {},
   "outputs": [
    {
     "data": {
      "text/html": [
       "<div>\n",
       "<style scoped>\n",
       "    .dataframe tbody tr th:only-of-type {\n",
       "        vertical-align: middle;\n",
       "    }\n",
       "\n",
       "    .dataframe tbody tr th {\n",
       "        vertical-align: top;\n",
       "    }\n",
       "\n",
       "    .dataframe thead th {\n",
       "        text-align: right;\n",
       "    }\n",
       "</style>\n",
       "<table border=\"1\" class=\"dataframe\">\n",
       "  <thead>\n",
       "    <tr style=\"text-align: right;\">\n",
       "      <th></th>\n",
       "      <th>Price</th>\n",
       "      <th>RegistrationYear</th>\n",
       "      <th>Power</th>\n",
       "      <th>Kilometer</th>\n",
       "      <th>RegistrationMonth</th>\n",
       "      <th>PostalCode</th>\n",
       "    </tr>\n",
       "  </thead>\n",
       "  <tbody>\n",
       "    <tr>\n",
       "      <th>count</th>\n",
       "      <td>351977.000000</td>\n",
       "      <td>351977.000000</td>\n",
       "      <td>351977.000000</td>\n",
       "      <td>351977.000000</td>\n",
       "      <td>351977.000000</td>\n",
       "      <td>351977.000000</td>\n",
       "    </tr>\n",
       "    <tr>\n",
       "      <th>mean</th>\n",
       "      <td>4438.998889</td>\n",
       "      <td>2003.875375</td>\n",
       "      <td>110.743012</td>\n",
       "      <td>128447.284908</td>\n",
       "      <td>5.748236</td>\n",
       "      <td>50537.367811</td>\n",
       "    </tr>\n",
       "    <tr>\n",
       "      <th>std</th>\n",
       "      <td>4516.837414</td>\n",
       "      <td>70.488638</td>\n",
       "      <td>190.225922</td>\n",
       "      <td>37548.322925</td>\n",
       "      <td>3.711517</td>\n",
       "      <td>25779.045240</td>\n",
       "    </tr>\n",
       "    <tr>\n",
       "      <th>min</th>\n",
       "      <td>0.000000</td>\n",
       "      <td>1000.000000</td>\n",
       "      <td>0.000000</td>\n",
       "      <td>5000.000000</td>\n",
       "      <td>0.000000</td>\n",
       "      <td>1067.000000</td>\n",
       "    </tr>\n",
       "    <tr>\n",
       "      <th>25%</th>\n",
       "      <td>1100.000000</td>\n",
       "      <td>1999.000000</td>\n",
       "      <td>69.000000</td>\n",
       "      <td>125000.000000</td>\n",
       "      <td>3.000000</td>\n",
       "      <td>30167.000000</td>\n",
       "    </tr>\n",
       "    <tr>\n",
       "      <th>50%</th>\n",
       "      <td>2750.000000</td>\n",
       "      <td>2003.000000</td>\n",
       "      <td>105.000000</td>\n",
       "      <td>150000.000000</td>\n",
       "      <td>6.000000</td>\n",
       "      <td>49429.000000</td>\n",
       "    </tr>\n",
       "    <tr>\n",
       "      <th>75%</th>\n",
       "      <td>6450.000000</td>\n",
       "      <td>2008.000000</td>\n",
       "      <td>143.000000</td>\n",
       "      <td>150000.000000</td>\n",
       "      <td>9.000000</td>\n",
       "      <td>71101.000000</td>\n",
       "    </tr>\n",
       "    <tr>\n",
       "      <th>max</th>\n",
       "      <td>20000.000000</td>\n",
       "      <td>9999.000000</td>\n",
       "      <td>20000.000000</td>\n",
       "      <td>150000.000000</td>\n",
       "      <td>12.000000</td>\n",
       "      <td>99998.000000</td>\n",
       "    </tr>\n",
       "  </tbody>\n",
       "</table>\n",
       "</div>"
      ],
      "text/plain": [
       "               Price  RegistrationYear          Power      Kilometer  \\\n",
       "count  351977.000000     351977.000000  351977.000000  351977.000000   \n",
       "mean     4438.998889       2003.875375     110.743012  128447.284908   \n",
       "std      4516.837414         70.488638     190.225922   37548.322925   \n",
       "min         0.000000       1000.000000       0.000000    5000.000000   \n",
       "25%      1100.000000       1999.000000      69.000000  125000.000000   \n",
       "50%      2750.000000       2003.000000     105.000000  150000.000000   \n",
       "75%      6450.000000       2008.000000     143.000000  150000.000000   \n",
       "max     20000.000000       9999.000000   20000.000000  150000.000000   \n",
       "\n",
       "       RegistrationMonth     PostalCode  \n",
       "count      351977.000000  351977.000000  \n",
       "mean            5.748236   50537.367811  \n",
       "std             3.711517   25779.045240  \n",
       "min             0.000000    1067.000000  \n",
       "25%             3.000000   30167.000000  \n",
       "50%             6.000000   49429.000000  \n",
       "75%             9.000000   71101.000000  \n",
       "max            12.000000   99998.000000  "
      ]
     },
     "execution_count": 12,
     "metadata": {},
     "output_type": "execute_result"
    }
   ],
   "source": [
    "data.describe()"
   ]
  },
  {
   "cell_type": "markdown",
   "metadata": {},
   "source": [
    "**VehicleType**"
   ]
  },
  {
   "cell_type": "markdown",
   "metadata": {},
   "source": [
    "Let's check lines with missing type of vehicle."
   ]
  },
  {
   "cell_type": "code",
   "execution_count": 13,
   "metadata": {},
   "outputs": [
    {
     "data": {
      "text/html": [
       "<div>\n",
       "<style scoped>\n",
       "    .dataframe tbody tr th:only-of-type {\n",
       "        vertical-align: middle;\n",
       "    }\n",
       "\n",
       "    .dataframe tbody tr th {\n",
       "        vertical-align: top;\n",
       "    }\n",
       "\n",
       "    .dataframe thead th {\n",
       "        text-align: right;\n",
       "    }\n",
       "</style>\n",
       "<table border=\"1\" class=\"dataframe\">\n",
       "  <thead>\n",
       "    <tr style=\"text-align: right;\">\n",
       "      <th></th>\n",
       "      <th>DateCrawled</th>\n",
       "      <th>Price</th>\n",
       "      <th>VehicleType</th>\n",
       "      <th>RegistrationYear</th>\n",
       "      <th>Gearbox</th>\n",
       "      <th>Power</th>\n",
       "      <th>Model</th>\n",
       "      <th>Kilometer</th>\n",
       "      <th>RegistrationMonth</th>\n",
       "      <th>FuelType</th>\n",
       "      <th>Brand</th>\n",
       "      <th>Repaired</th>\n",
       "      <th>DateCreated</th>\n",
       "      <th>PostalCode</th>\n",
       "      <th>LastSeen</th>\n",
       "    </tr>\n",
       "  </thead>\n",
       "  <tbody>\n",
       "    <tr>\n",
       "      <th>289562</th>\n",
       "      <td>2016-03-12 16:49:55</td>\n",
       "      <td>1450</td>\n",
       "      <td>NaN</td>\n",
       "      <td>2005</td>\n",
       "      <td>NaN</td>\n",
       "      <td>0</td>\n",
       "      <td>golf</td>\n",
       "      <td>150000</td>\n",
       "      <td>0</td>\n",
       "      <td>NaN</td>\n",
       "      <td>volkswagen</td>\n",
       "      <td>NaN</td>\n",
       "      <td>2016-03-12</td>\n",
       "      <td>67551</td>\n",
       "      <td>2016-03-12 16:49:55</td>\n",
       "    </tr>\n",
       "    <tr>\n",
       "      <th>51274</th>\n",
       "      <td>2016-03-20 11:38:54</td>\n",
       "      <td>2699</td>\n",
       "      <td>NaN</td>\n",
       "      <td>2017</td>\n",
       "      <td>manual</td>\n",
       "      <td>0</td>\n",
       "      <td>golf</td>\n",
       "      <td>150000</td>\n",
       "      <td>3</td>\n",
       "      <td>NaN</td>\n",
       "      <td>volkswagen</td>\n",
       "      <td>no</td>\n",
       "      <td>2016-03-20</td>\n",
       "      <td>73035</td>\n",
       "      <td>2016-04-06 08:46:37</td>\n",
       "    </tr>\n",
       "    <tr>\n",
       "      <th>334376</th>\n",
       "      <td>2016-03-27 14:49:54</td>\n",
       "      <td>5000</td>\n",
       "      <td>NaN</td>\n",
       "      <td>2006</td>\n",
       "      <td>NaN</td>\n",
       "      <td>0</td>\n",
       "      <td>fabia</td>\n",
       "      <td>90000</td>\n",
       "      <td>0</td>\n",
       "      <td>NaN</td>\n",
       "      <td>skoda</td>\n",
       "      <td>NaN</td>\n",
       "      <td>2016-03-27</td>\n",
       "      <td>69509</td>\n",
       "      <td>2016-04-07 11:45:05</td>\n",
       "    </tr>\n",
       "    <tr>\n",
       "      <th>44428</th>\n",
       "      <td>2016-03-20 22:56:45</td>\n",
       "      <td>750</td>\n",
       "      <td>NaN</td>\n",
       "      <td>2017</td>\n",
       "      <td>manual</td>\n",
       "      <td>0</td>\n",
       "      <td>ka</td>\n",
       "      <td>125000</td>\n",
       "      <td>7</td>\n",
       "      <td>petrol</td>\n",
       "      <td>ford</td>\n",
       "      <td>NaN</td>\n",
       "      <td>2016-03-20</td>\n",
       "      <td>25361</td>\n",
       "      <td>2016-04-07 11:44:24</td>\n",
       "    </tr>\n",
       "    <tr>\n",
       "      <th>286627</th>\n",
       "      <td>2016-03-05 15:28:30</td>\n",
       "      <td>1500</td>\n",
       "      <td>NaN</td>\n",
       "      <td>1970</td>\n",
       "      <td>auto</td>\n",
       "      <td>90</td>\n",
       "      <td>NaN</td>\n",
       "      <td>100000</td>\n",
       "      <td>3</td>\n",
       "      <td>NaN</td>\n",
       "      <td>opel</td>\n",
       "      <td>NaN</td>\n",
       "      <td>2016-03-05</td>\n",
       "      <td>65207</td>\n",
       "      <td>2016-03-09 03:44:53</td>\n",
       "    </tr>\n",
       "  </tbody>\n",
       "</table>\n",
       "</div>"
      ],
      "text/plain": [
       "               DateCrawled  Price VehicleType  RegistrationYear Gearbox  \\\n",
       "289562 2016-03-12 16:49:55   1450         NaN              2005     NaN   \n",
       "51274  2016-03-20 11:38:54   2699         NaN              2017  manual   \n",
       "334376 2016-03-27 14:49:54   5000         NaN              2006     NaN   \n",
       "44428  2016-03-20 22:56:45    750         NaN              2017  manual   \n",
       "286627 2016-03-05 15:28:30   1500         NaN              1970    auto   \n",
       "\n",
       "        Power  Model  Kilometer  RegistrationMonth FuelType       Brand  \\\n",
       "289562      0   golf     150000                  0      NaN  volkswagen   \n",
       "51274       0   golf     150000                  3      NaN  volkswagen   \n",
       "334376      0  fabia      90000                  0      NaN       skoda   \n",
       "44428       0     ka     125000                  7   petrol        ford   \n",
       "286627     90    NaN     100000                  3      NaN        opel   \n",
       "\n",
       "       Repaired DateCreated  PostalCode            LastSeen  \n",
       "289562      NaN  2016-03-12       67551 2016-03-12 16:49:55  \n",
       "51274        no  2016-03-20       73035 2016-04-06 08:46:37  \n",
       "334376      NaN  2016-03-27       69509 2016-04-07 11:45:05  \n",
       "44428       NaN  2016-03-20       25361 2016-04-07 11:44:24  \n",
       "286627      NaN  2016-03-05       65207 2016-03-09 03:44:53  "
      ]
     },
     "execution_count": 13,
     "metadata": {},
     "output_type": "execute_result"
    }
   ],
   "source": [
    "data[data['VehicleType'].isna()].sample(5)"
   ]
  },
  {
   "cell_type": "markdown",
   "metadata": {},
   "source": [
    "There is no any obvious relation between other features and missing data, we can group the dataset by `Model` and to fill in the first value in each group."
   ]
  },
  {
   "cell_type": "code",
   "execution_count": 14,
   "metadata": {},
   "outputs": [],
   "source": [
    "data.loc[data['VehicleType'].isna(), 'VehicleType'] = data.loc[data['VehicleType'].isna(), 'Model'].map(data.groupby(['Model'])['VehicleType'].first())"
   ]
  },
  {
   "cell_type": "code",
   "execution_count": 15,
   "metadata": {},
   "outputs": [
    {
     "name": "stdout",
     "output_type": "stream",
     "text": [
      "Missing 0.01 %\n"
     ]
    }
   ],
   "source": [
    "print('Missing {:,.2f} %'.format((data['VehicleType'].isna().sum()) / len(data)))"
   ]
  },
  {
   "cell_type": "code",
   "execution_count": 16,
   "metadata": {},
   "outputs": [],
   "source": [
    "#we can drop the rest of missing values\n",
    "data.dropna(subset=['VehicleType'], inplace=True)"
   ]
  },
  {
   "cell_type": "markdown",
   "metadata": {},
   "source": [
    "##### Gearbox"
   ]
  },
  {
   "cell_type": "code",
   "execution_count": 17,
   "metadata": {},
   "outputs": [
    {
     "data": {
      "text/html": [
       "<div>\n",
       "<style scoped>\n",
       "    .dataframe tbody tr th:only-of-type {\n",
       "        vertical-align: middle;\n",
       "    }\n",
       "\n",
       "    .dataframe tbody tr th {\n",
       "        vertical-align: top;\n",
       "    }\n",
       "\n",
       "    .dataframe thead th {\n",
       "        text-align: right;\n",
       "    }\n",
       "</style>\n",
       "<table border=\"1\" class=\"dataframe\">\n",
       "  <thead>\n",
       "    <tr style=\"text-align: right;\">\n",
       "      <th></th>\n",
       "      <th>DateCrawled</th>\n",
       "      <th>Price</th>\n",
       "      <th>VehicleType</th>\n",
       "      <th>RegistrationYear</th>\n",
       "      <th>Gearbox</th>\n",
       "      <th>Power</th>\n",
       "      <th>Model</th>\n",
       "      <th>Kilometer</th>\n",
       "      <th>RegistrationMonth</th>\n",
       "      <th>FuelType</th>\n",
       "      <th>Brand</th>\n",
       "      <th>Repaired</th>\n",
       "      <th>DateCreated</th>\n",
       "      <th>PostalCode</th>\n",
       "      <th>LastSeen</th>\n",
       "    </tr>\n",
       "  </thead>\n",
       "  <tbody>\n",
       "    <tr>\n",
       "      <th>166176</th>\n",
       "      <td>2016-03-29 17:06:20</td>\n",
       "      <td>3100</td>\n",
       "      <td>wagon</td>\n",
       "      <td>2008</td>\n",
       "      <td>NaN</td>\n",
       "      <td>0</td>\n",
       "      <td>touran</td>\n",
       "      <td>150000</td>\n",
       "      <td>7</td>\n",
       "      <td>gasoline</td>\n",
       "      <td>volkswagen</td>\n",
       "      <td>no</td>\n",
       "      <td>2016-03-29</td>\n",
       "      <td>57518</td>\n",
       "      <td>2016-03-29 17:06:20</td>\n",
       "    </tr>\n",
       "    <tr>\n",
       "      <th>252375</th>\n",
       "      <td>2016-03-07 14:38:53</td>\n",
       "      <td>5650</td>\n",
       "      <td>sedan</td>\n",
       "      <td>2003</td>\n",
       "      <td>NaN</td>\n",
       "      <td>163</td>\n",
       "      <td>a6</td>\n",
       "      <td>150000</td>\n",
       "      <td>6</td>\n",
       "      <td>gasoline</td>\n",
       "      <td>audi</td>\n",
       "      <td>NaN</td>\n",
       "      <td>2016-03-07</td>\n",
       "      <td>59063</td>\n",
       "      <td>2016-03-20 18:24:22</td>\n",
       "    </tr>\n",
       "    <tr>\n",
       "      <th>231730</th>\n",
       "      <td>2016-03-29 20:51:41</td>\n",
       "      <td>3800</td>\n",
       "      <td>sedan</td>\n",
       "      <td>2001</td>\n",
       "      <td>NaN</td>\n",
       "      <td>0</td>\n",
       "      <td>5er</td>\n",
       "      <td>150000</td>\n",
       "      <td>1</td>\n",
       "      <td>gasoline</td>\n",
       "      <td>bmw</td>\n",
       "      <td>NaN</td>\n",
       "      <td>2016-03-29</td>\n",
       "      <td>24568</td>\n",
       "      <td>2016-03-29 20:51:41</td>\n",
       "    </tr>\n",
       "    <tr>\n",
       "      <th>306766</th>\n",
       "      <td>2016-03-10 20:50:44</td>\n",
       "      <td>5555</td>\n",
       "      <td>bus</td>\n",
       "      <td>2007</td>\n",
       "      <td>NaN</td>\n",
       "      <td>0</td>\n",
       "      <td>zafira</td>\n",
       "      <td>150000</td>\n",
       "      <td>9</td>\n",
       "      <td>petrol</td>\n",
       "      <td>opel</td>\n",
       "      <td>no</td>\n",
       "      <td>2016-03-10</td>\n",
       "      <td>64743</td>\n",
       "      <td>2016-04-06 09:16:12</td>\n",
       "    </tr>\n",
       "    <tr>\n",
       "      <th>315149</th>\n",
       "      <td>2016-03-08 17:55:44</td>\n",
       "      <td>250</td>\n",
       "      <td>small</td>\n",
       "      <td>2000</td>\n",
       "      <td>NaN</td>\n",
       "      <td>0</td>\n",
       "      <td>twingo</td>\n",
       "      <td>150000</td>\n",
       "      <td>0</td>\n",
       "      <td>NaN</td>\n",
       "      <td>renault</td>\n",
       "      <td>NaN</td>\n",
       "      <td>2016-03-08</td>\n",
       "      <td>87773</td>\n",
       "      <td>2016-04-07 08:46:37</td>\n",
       "    </tr>\n",
       "  </tbody>\n",
       "</table>\n",
       "</div>"
      ],
      "text/plain": [
       "               DateCrawled  Price VehicleType  RegistrationYear Gearbox  \\\n",
       "166176 2016-03-29 17:06:20   3100       wagon              2008     NaN   \n",
       "252375 2016-03-07 14:38:53   5650       sedan              2003     NaN   \n",
       "231730 2016-03-29 20:51:41   3800       sedan              2001     NaN   \n",
       "306766 2016-03-10 20:50:44   5555         bus              2007     NaN   \n",
       "315149 2016-03-08 17:55:44    250       small              2000     NaN   \n",
       "\n",
       "        Power   Model  Kilometer  RegistrationMonth  FuelType       Brand  \\\n",
       "166176      0  touran     150000                  7  gasoline  volkswagen   \n",
       "252375    163      a6     150000                  6  gasoline        audi   \n",
       "231730      0     5er     150000                  1  gasoline         bmw   \n",
       "306766      0  zafira     150000                  9    petrol        opel   \n",
       "315149      0  twingo     150000                  0       NaN     renault   \n",
       "\n",
       "       Repaired DateCreated  PostalCode            LastSeen  \n",
       "166176       no  2016-03-29       57518 2016-03-29 17:06:20  \n",
       "252375      NaN  2016-03-07       59063 2016-03-20 18:24:22  \n",
       "231730      NaN  2016-03-29       24568 2016-03-29 20:51:41  \n",
       "306766       no  2016-03-10       64743 2016-04-06 09:16:12  \n",
       "315149      NaN  2016-03-08       87773 2016-04-07 08:46:37  "
      ]
     },
     "execution_count": 17,
     "metadata": {},
     "output_type": "execute_result"
    }
   ],
   "source": [
    "data[data['Gearbox'].isna()].sample(5)"
   ]
  },
  {
   "cell_type": "markdown",
   "metadata": {},
   "source": [
    "Let's group dataset by Model and fill in the first value in each group. Ignore the fact that the same model can have either manual or auto. Taking into acount the quantity of missing data, it shouldn't affect the analysis badly."
   ]
  },
  {
   "cell_type": "code",
   "execution_count": 18,
   "metadata": {},
   "outputs": [],
   "source": [
    "data.loc[data['Gearbox'].isna(), 'Gearbox'] = data.loc[data['Gearbox'].isna(), 'Model'].map(data.groupby(['Model'])['Gearbox'].first())"
   ]
  },
  {
   "cell_type": "code",
   "execution_count": 19,
   "metadata": {},
   "outputs": [
    {
     "name": "stdout",
     "output_type": "stream",
     "text": [
      "Missing 0.00 %\n"
     ]
    }
   ],
   "source": [
    "print('Missing {:,.2f} %'.format((data['Gearbox'].isna().sum()) / len(data)))"
   ]
  },
  {
   "cell_type": "code",
   "execution_count": 20,
   "metadata": {},
   "outputs": [],
   "source": [
    "#we can drop the rest of missing values\n",
    "data.dropna(subset=['Gearbox'], inplace=True)"
   ]
  },
  {
   "cell_type": "markdown",
   "metadata": {},
   "source": [
    "##### Model        "
   ]
  },
  {
   "cell_type": "code",
   "execution_count": 21,
   "metadata": {},
   "outputs": [
    {
     "data": {
      "text/html": [
       "<div>\n",
       "<style scoped>\n",
       "    .dataframe tbody tr th:only-of-type {\n",
       "        vertical-align: middle;\n",
       "    }\n",
       "\n",
       "    .dataframe tbody tr th {\n",
       "        vertical-align: top;\n",
       "    }\n",
       "\n",
       "    .dataframe thead th {\n",
       "        text-align: right;\n",
       "    }\n",
       "</style>\n",
       "<table border=\"1\" class=\"dataframe\">\n",
       "  <thead>\n",
       "    <tr style=\"text-align: right;\">\n",
       "      <th></th>\n",
       "      <th>DateCrawled</th>\n",
       "      <th>Price</th>\n",
       "      <th>VehicleType</th>\n",
       "      <th>RegistrationYear</th>\n",
       "      <th>Gearbox</th>\n",
       "      <th>Power</th>\n",
       "      <th>Model</th>\n",
       "      <th>Kilometer</th>\n",
       "      <th>RegistrationMonth</th>\n",
       "      <th>FuelType</th>\n",
       "      <th>Brand</th>\n",
       "      <th>Repaired</th>\n",
       "      <th>DateCreated</th>\n",
       "      <th>PostalCode</th>\n",
       "      <th>LastSeen</th>\n",
       "    </tr>\n",
       "  </thead>\n",
       "  <tbody>\n",
       "    <tr>\n",
       "      <th>81724</th>\n",
       "      <td>2016-04-02 16:51:02</td>\n",
       "      <td>4000</td>\n",
       "      <td>small</td>\n",
       "      <td>2009</td>\n",
       "      <td>manual</td>\n",
       "      <td>65</td>\n",
       "      <td>NaN</td>\n",
       "      <td>150000</td>\n",
       "      <td>8</td>\n",
       "      <td>petrol</td>\n",
       "      <td>fiat</td>\n",
       "      <td>no</td>\n",
       "      <td>2016-04-02</td>\n",
       "      <td>12629</td>\n",
       "      <td>2016-04-06 16:15:48</td>\n",
       "    </tr>\n",
       "    <tr>\n",
       "      <th>221474</th>\n",
       "      <td>2016-03-22 10:50:40</td>\n",
       "      <td>200</td>\n",
       "      <td>small</td>\n",
       "      <td>1999</td>\n",
       "      <td>manual</td>\n",
       "      <td>0</td>\n",
       "      <td>NaN</td>\n",
       "      <td>150000</td>\n",
       "      <td>0</td>\n",
       "      <td>petrol</td>\n",
       "      <td>ford</td>\n",
       "      <td>yes</td>\n",
       "      <td>2016-03-22</td>\n",
       "      <td>52388</td>\n",
       "      <td>2016-03-29 13:47:51</td>\n",
       "    </tr>\n",
       "    <tr>\n",
       "      <th>134000</th>\n",
       "      <td>2016-03-24 22:25:37</td>\n",
       "      <td>300</td>\n",
       "      <td>small</td>\n",
       "      <td>2002</td>\n",
       "      <td>manual</td>\n",
       "      <td>60</td>\n",
       "      <td>NaN</td>\n",
       "      <td>150000</td>\n",
       "      <td>0</td>\n",
       "      <td>petrol</td>\n",
       "      <td>peugeot</td>\n",
       "      <td>yes</td>\n",
       "      <td>2016-03-24</td>\n",
       "      <td>57299</td>\n",
       "      <td>2016-04-06 10:15:21</td>\n",
       "    </tr>\n",
       "    <tr>\n",
       "      <th>117462</th>\n",
       "      <td>2016-03-15 12:46:23</td>\n",
       "      <td>100</td>\n",
       "      <td>small</td>\n",
       "      <td>1997</td>\n",
       "      <td>manual</td>\n",
       "      <td>0</td>\n",
       "      <td>NaN</td>\n",
       "      <td>150000</td>\n",
       "      <td>6</td>\n",
       "      <td>petrol</td>\n",
       "      <td>opel</td>\n",
       "      <td>yes</td>\n",
       "      <td>2016-03-15</td>\n",
       "      <td>23701</td>\n",
       "      <td>2016-03-15 12:46:23</td>\n",
       "    </tr>\n",
       "    <tr>\n",
       "      <th>298219</th>\n",
       "      <td>2016-03-21 12:49:00</td>\n",
       "      <td>1900</td>\n",
       "      <td>wagon</td>\n",
       "      <td>2002</td>\n",
       "      <td>manual</td>\n",
       "      <td>105</td>\n",
       "      <td>NaN</td>\n",
       "      <td>150000</td>\n",
       "      <td>8</td>\n",
       "      <td>petrol</td>\n",
       "      <td>volkswagen</td>\n",
       "      <td>NaN</td>\n",
       "      <td>2016-03-21</td>\n",
       "      <td>14542</td>\n",
       "      <td>2016-03-21 12:49:00</td>\n",
       "    </tr>\n",
       "  </tbody>\n",
       "</table>\n",
       "</div>"
      ],
      "text/plain": [
       "               DateCrawled  Price VehicleType  RegistrationYear Gearbox  \\\n",
       "81724  2016-04-02 16:51:02   4000       small              2009  manual   \n",
       "221474 2016-03-22 10:50:40    200       small              1999  manual   \n",
       "134000 2016-03-24 22:25:37    300       small              2002  manual   \n",
       "117462 2016-03-15 12:46:23    100       small              1997  manual   \n",
       "298219 2016-03-21 12:49:00   1900       wagon              2002  manual   \n",
       "\n",
       "        Power Model  Kilometer  RegistrationMonth FuelType       Brand  \\\n",
       "81724      65   NaN     150000                  8   petrol        fiat   \n",
       "221474      0   NaN     150000                  0   petrol        ford   \n",
       "134000     60   NaN     150000                  0   petrol     peugeot   \n",
       "117462      0   NaN     150000                  6   petrol        opel   \n",
       "298219    105   NaN     150000                  8   petrol  volkswagen   \n",
       "\n",
       "       Repaired DateCreated  PostalCode            LastSeen  \n",
       "81724        no  2016-04-02       12629 2016-04-06 16:15:48  \n",
       "221474      yes  2016-03-22       52388 2016-03-29 13:47:51  \n",
       "134000      yes  2016-03-24       57299 2016-04-06 10:15:21  \n",
       "117462      yes  2016-03-15       23701 2016-03-15 12:46:23  \n",
       "298219      NaN  2016-03-21       14542 2016-03-21 12:49:00  "
      ]
     },
     "execution_count": 21,
     "metadata": {},
     "output_type": "execute_result"
    }
   ],
   "source": [
    "data[data['Model'].isna()].sample(5)"
   ]
  },
  {
   "cell_type": "markdown",
   "metadata": {},
   "source": [
    "Let's fill in missing values by `Brand`"
   ]
  },
  {
   "cell_type": "code",
   "execution_count": 22,
   "metadata": {},
   "outputs": [],
   "source": [
    "data.loc[data['Model'].isna(), 'Model'] = \\\n",
    "    data.loc[data['Model'].isna(), 'Brand'].map(data.groupby(['VehicleType','Brand'])['Model'].first())"
   ]
  },
  {
   "cell_type": "code",
   "execution_count": 23,
   "metadata": {},
   "outputs": [
    {
     "name": "stdout",
     "output_type": "stream",
     "text": [
      "Missing 0.03 %\n"
     ]
    }
   ],
   "source": [
    "print('Missing {:,.2f} %'.format((data['Model'].isna().sum()) / len(data)))"
   ]
  },
  {
   "cell_type": "code",
   "execution_count": 24,
   "metadata": {},
   "outputs": [],
   "source": [
    "#we can drop the rest of missing values\n",
    "data.dropna(subset=['Model'], inplace=True)"
   ]
  },
  {
   "cell_type": "markdown",
   "metadata": {},
   "source": [
    "##### FuelType             "
   ]
  },
  {
   "cell_type": "code",
   "execution_count": 25,
   "metadata": {},
   "outputs": [
    {
     "data": {
      "text/html": [
       "<div>\n",
       "<style scoped>\n",
       "    .dataframe tbody tr th:only-of-type {\n",
       "        vertical-align: middle;\n",
       "    }\n",
       "\n",
       "    .dataframe tbody tr th {\n",
       "        vertical-align: top;\n",
       "    }\n",
       "\n",
       "    .dataframe thead th {\n",
       "        text-align: right;\n",
       "    }\n",
       "</style>\n",
       "<table border=\"1\" class=\"dataframe\">\n",
       "  <thead>\n",
       "    <tr style=\"text-align: right;\">\n",
       "      <th></th>\n",
       "      <th>DateCrawled</th>\n",
       "      <th>Price</th>\n",
       "      <th>VehicleType</th>\n",
       "      <th>RegistrationYear</th>\n",
       "      <th>Gearbox</th>\n",
       "      <th>Power</th>\n",
       "      <th>Model</th>\n",
       "      <th>Kilometer</th>\n",
       "      <th>RegistrationMonth</th>\n",
       "      <th>FuelType</th>\n",
       "      <th>Brand</th>\n",
       "      <th>Repaired</th>\n",
       "      <th>DateCreated</th>\n",
       "      <th>PostalCode</th>\n",
       "      <th>LastSeen</th>\n",
       "    </tr>\n",
       "  </thead>\n",
       "  <tbody>\n",
       "    <tr>\n",
       "      <th>91974</th>\n",
       "      <td>2016-03-08 02:00:49</td>\n",
       "      <td>50</td>\n",
       "      <td>small</td>\n",
       "      <td>1997</td>\n",
       "      <td>manual</td>\n",
       "      <td>55</td>\n",
       "      <td>punto</td>\n",
       "      <td>150000</td>\n",
       "      <td>3</td>\n",
       "      <td>NaN</td>\n",
       "      <td>fiat</td>\n",
       "      <td>no</td>\n",
       "      <td>2016-03-08</td>\n",
       "      <td>79183</td>\n",
       "      <td>2016-03-20 06:18:02</td>\n",
       "    </tr>\n",
       "    <tr>\n",
       "      <th>201249</th>\n",
       "      <td>2016-03-13 15:52:01</td>\n",
       "      <td>0</td>\n",
       "      <td>sedan</td>\n",
       "      <td>1997</td>\n",
       "      <td>manual</td>\n",
       "      <td>0</td>\n",
       "      <td>cordoba</td>\n",
       "      <td>150000</td>\n",
       "      <td>0</td>\n",
       "      <td>NaN</td>\n",
       "      <td>seat</td>\n",
       "      <td>yes</td>\n",
       "      <td>2016-03-13</td>\n",
       "      <td>6246</td>\n",
       "      <td>2016-03-13 15:52:01</td>\n",
       "    </tr>\n",
       "    <tr>\n",
       "      <th>147380</th>\n",
       "      <td>2016-03-28 21:49:04</td>\n",
       "      <td>900</td>\n",
       "      <td>small</td>\n",
       "      <td>1997</td>\n",
       "      <td>manual</td>\n",
       "      <td>50</td>\n",
       "      <td>polo</td>\n",
       "      <td>150000</td>\n",
       "      <td>2</td>\n",
       "      <td>NaN</td>\n",
       "      <td>volkswagen</td>\n",
       "      <td>no</td>\n",
       "      <td>2016-03-28</td>\n",
       "      <td>53721</td>\n",
       "      <td>2016-04-07 04:45:25</td>\n",
       "    </tr>\n",
       "    <tr>\n",
       "      <th>130003</th>\n",
       "      <td>2016-03-30 14:06:39</td>\n",
       "      <td>1000</td>\n",
       "      <td>small</td>\n",
       "      <td>2018</td>\n",
       "      <td>manual</td>\n",
       "      <td>60</td>\n",
       "      <td>ka</td>\n",
       "      <td>150000</td>\n",
       "      <td>11</td>\n",
       "      <td>NaN</td>\n",
       "      <td>ford</td>\n",
       "      <td>no</td>\n",
       "      <td>2016-03-30</td>\n",
       "      <td>65933</td>\n",
       "      <td>2016-04-07 06:25:39</td>\n",
       "    </tr>\n",
       "    <tr>\n",
       "      <th>15274</th>\n",
       "      <td>2016-03-21 18:56:33</td>\n",
       "      <td>7950</td>\n",
       "      <td>coupe</td>\n",
       "      <td>2009</td>\n",
       "      <td>manual</td>\n",
       "      <td>116</td>\n",
       "      <td>astra</td>\n",
       "      <td>60000</td>\n",
       "      <td>10</td>\n",
       "      <td>NaN</td>\n",
       "      <td>opel</td>\n",
       "      <td>NaN</td>\n",
       "      <td>2016-03-21</td>\n",
       "      <td>52477</td>\n",
       "      <td>2016-04-06 21:16:48</td>\n",
       "    </tr>\n",
       "  </tbody>\n",
       "</table>\n",
       "</div>"
      ],
      "text/plain": [
       "               DateCrawled  Price VehicleType  RegistrationYear Gearbox  \\\n",
       "91974  2016-03-08 02:00:49     50       small              1997  manual   \n",
       "201249 2016-03-13 15:52:01      0       sedan              1997  manual   \n",
       "147380 2016-03-28 21:49:04    900       small              1997  manual   \n",
       "130003 2016-03-30 14:06:39   1000       small              2018  manual   \n",
       "15274  2016-03-21 18:56:33   7950       coupe              2009  manual   \n",
       "\n",
       "        Power    Model  Kilometer  RegistrationMonth FuelType       Brand  \\\n",
       "91974      55    punto     150000                  3      NaN        fiat   \n",
       "201249      0  cordoba     150000                  0      NaN        seat   \n",
       "147380     50     polo     150000                  2      NaN  volkswagen   \n",
       "130003     60       ka     150000                 11      NaN        ford   \n",
       "15274     116    astra      60000                 10      NaN        opel   \n",
       "\n",
       "       Repaired DateCreated  PostalCode            LastSeen  \n",
       "91974        no  2016-03-08       79183 2016-03-20 06:18:02  \n",
       "201249      yes  2016-03-13        6246 2016-03-13 15:52:01  \n",
       "147380       no  2016-03-28       53721 2016-04-07 04:45:25  \n",
       "130003       no  2016-03-30       65933 2016-04-07 06:25:39  \n",
       "15274       NaN  2016-03-21       52477 2016-04-06 21:16:48  "
      ]
     },
     "execution_count": 25,
     "metadata": {},
     "output_type": "execute_result"
    }
   ],
   "source": [
    "data[data['FuelType'].isna()].sample(5)"
   ]
  },
  {
   "cell_type": "markdown",
   "metadata": {},
   "source": [
    "Let's fill in missing values by `Model`"
   ]
  },
  {
   "cell_type": "code",
   "execution_count": 26,
   "metadata": {},
   "outputs": [],
   "source": [
    "data.loc[data[\"FuelType\"].isna(), \"FuelType\"] = \\\n",
    "    data.loc[data[\"FuelType\"].isna(), \"Model\"].map(data.groupby([\"Model\"])[\"FuelType\"].first())"
   ]
  },
  {
   "cell_type": "code",
   "execution_count": 27,
   "metadata": {},
   "outputs": [
    {
     "name": "stdout",
     "output_type": "stream",
     "text": [
      "Missing 0.00 %\n"
     ]
    }
   ],
   "source": [
    "print('Missing {:,.2f} %'.format((data['FuelType'].isna().sum()) / len(data)))"
   ]
  },
  {
   "cell_type": "markdown",
   "metadata": {},
   "source": [
    "##### Repaired          "
   ]
  },
  {
   "cell_type": "code",
   "execution_count": 28,
   "metadata": {},
   "outputs": [
    {
     "name": "stdout",
     "output_type": "stream",
     "text": [
      "Missing 0.19 %\n"
     ]
    }
   ],
   "source": [
    "print('Missing {:,.2f} %'.format((data['Repaired'].isna().sum()) / len(data)))"
   ]
  },
  {
   "cell_type": "markdown",
   "metadata": {},
   "source": [
    "Let's check the distribution in this column"
   ]
  },
  {
   "cell_type": "code",
   "execution_count": 29,
   "metadata": {},
   "outputs": [
    {
     "data": {
      "image/png": "[encoded data removed]",
      "text/plain": [
       "<Figure size 432x288 with 1 Axes>"
      ]
     },
     "metadata": {
      "needs_background": "light"
     },
     "output_type": "display_data"
    }
   ],
   "source": [
    "repaired = data[data['Repaired'] == 'yes']\n",
    "not_repaired = data[data['Repaired'] == 'no']\n",
    "\n",
    "plt.hist(repaired['Price'].value_counts(), alpha=0.5, bins=100, label = 'Repaired',range=(100,3000))\n",
    "plt.hist(not_repaired['Price'].value_counts(), alpha=0.5, bins=100, label = 'Not repaired',range=(100,3000))\n",
    "plt.title('Price comparison')\n",
    "plt.ylabel('q-ty')\n",
    "plt.xlabel('Price')\n",
    "plt.grid(True)\n",
    "plt.legend();"
   ]
  },
  {
   "cell_type": "markdown",
   "metadata": {},
   "source": [
    "Check how this information is balanced "
   ]
  },
  {
   "cell_type": "code",
   "execution_count": 30,
   "metadata": {},
   "outputs": [
    {
     "data": {
      "text/plain": [
       "Repaired\n",
       "no     71.37\n",
       "yes    10.07\n",
       "Name: Repaired, dtype: float64"
      ]
     },
     "execution_count": 30,
     "metadata": {},
     "output_type": "execute_result"
    }
   ],
   "source": [
    "round(data.groupby('Repaired')['Repaired'].count() / (len(data) / 100), 2)"
   ]
  },
  {
   "cell_type": "markdown",
   "metadata": {},
   "source": [
    "As the car damages are random feature, we can fill this column with random values. Count the total percentage of the data that we have ad add this numbers to the probability form into `random.choice`."
   ]
  },
  {
   "cell_type": "code",
   "execution_count": 31,
   "metadata": {},
   "outputs": [],
   "source": [
    "rep = data['Repaired'].isna().values \n",
    "u, c = np.unique(data['Repaired'][~rep], return_counts=True)\n",
    "data.loc[data['Repaired'].isna(), 'Repaired'] = np.random.choice(u, rep.sum(), p=c / c.sum())"
   ]
  },
  {
   "cell_type": "code",
   "execution_count": 32,
   "metadata": {},
   "outputs": [
    {
     "data": {
      "text/plain": [
       "Repaired\n",
       "no     87.59\n",
       "yes    12.41\n",
       "Name: Repaired, dtype: float64"
      ]
     },
     "execution_count": 32,
     "metadata": {},
     "output_type": "execute_result"
    }
   ],
   "source": [
    "round(data.groupby('Repaired')['Repaired'].count() / (len(data) / 100), 2)"
   ]
  },
  {
   "cell_type": "code",
   "execution_count": 33,
   "metadata": {},
   "outputs": [
    {
     "data": {
      "image/png": "[encoded data removed]",
      "text/plain": [
       "<Figure size 432x288 with 1 Axes>"
      ]
     },
     "metadata": {
      "needs_background": "light"
     },
     "output_type": "display_data"
    }
   ],
   "source": [
    "repaired = data[data['Repaired'] == 'yes']\n",
    "not_repaired = data[data['Repaired'] == 'no']\n",
    "\n",
    "plt.hist(repaired['Price'].value_counts(), alpha=0.5, bins=100, label = 'Repaired',range=(100,3000))\n",
    "plt.hist(not_repaired['Price'].value_counts(), alpha=0.5, bins=100, label = 'Not repaired',range=(100,3000))\n",
    "plt.title('Price comparison')\n",
    "plt.ylabel('q-ty')\n",
    "plt.xlabel('Price')\n",
    "plt.grid(True)\n",
    "plt.legend();"
   ]
  },
  {
   "cell_type": "markdown",
   "metadata": {},
   "source": [
    "No critical changes in the histogram after filling in the missing values."
   ]
  },
  {
   "cell_type": "markdown",
   "metadata": {},
   "source": [
    "#### Handling the abnormal data"
   ]
  },
  {
   "cell_type": "code",
   "execution_count": 34,
   "metadata": {},
   "outputs": [
    {
     "data": {
      "text/html": [
       "<div>\n",
       "<style scoped>\n",
       "    .dataframe tbody tr th:only-of-type {\n",
       "        vertical-align: middle;\n",
       "    }\n",
       "\n",
       "    .dataframe tbody tr th {\n",
       "        vertical-align: top;\n",
       "    }\n",
       "\n",
       "    .dataframe thead th {\n",
       "        text-align: right;\n",
       "    }\n",
       "</style>\n",
       "<table border=\"1\" class=\"dataframe\">\n",
       "  <thead>\n",
       "    <tr style=\"text-align: right;\">\n",
       "      <th></th>\n",
       "      <th>Price</th>\n",
       "      <th>RegistrationYear</th>\n",
       "      <th>Power</th>\n",
       "      <th>Kilometer</th>\n",
       "      <th>RegistrationMonth</th>\n",
       "      <th>PostalCode</th>\n",
       "    </tr>\n",
       "  </thead>\n",
       "  <tbody>\n",
       "    <tr>\n",
       "      <th>count</th>\n",
       "      <td>334664.000000</td>\n",
       "      <td>334664.000000</td>\n",
       "      <td>334664.000000</td>\n",
       "      <td>334664.000000</td>\n",
       "      <td>334664.000000</td>\n",
       "      <td>334664.000000</td>\n",
       "    </tr>\n",
       "    <tr>\n",
       "      <th>mean</th>\n",
       "      <td>4504.346790</td>\n",
       "      <td>2003.923992</td>\n",
       "      <td>111.373195</td>\n",
       "      <td>128562.588148</td>\n",
       "      <td>5.806068</td>\n",
       "      <td>50671.521616</td>\n",
       "    </tr>\n",
       "    <tr>\n",
       "      <th>std</th>\n",
       "      <td>4531.438572</td>\n",
       "      <td>69.377219</td>\n",
       "      <td>185.156439</td>\n",
       "      <td>37205.926976</td>\n",
       "      <td>3.689145</td>\n",
       "      <td>25754.522388</td>\n",
       "    </tr>\n",
       "    <tr>\n",
       "      <th>min</th>\n",
       "      <td>0.000000</td>\n",
       "      <td>1000.000000</td>\n",
       "      <td>0.000000</td>\n",
       "      <td>5000.000000</td>\n",
       "      <td>0.000000</td>\n",
       "      <td>1067.000000</td>\n",
       "    </tr>\n",
       "    <tr>\n",
       "      <th>25%</th>\n",
       "      <td>1150.000000</td>\n",
       "      <td>1999.000000</td>\n",
       "      <td>70.000000</td>\n",
       "      <td>125000.000000</td>\n",
       "      <td>3.000000</td>\n",
       "      <td>30419.000000</td>\n",
       "    </tr>\n",
       "    <tr>\n",
       "      <th>50%</th>\n",
       "      <td>2800.000000</td>\n",
       "      <td>2003.000000</td>\n",
       "      <td>105.000000</td>\n",
       "      <td>150000.000000</td>\n",
       "      <td>6.000000</td>\n",
       "      <td>49525.000000</td>\n",
       "    </tr>\n",
       "    <tr>\n",
       "      <th>75%</th>\n",
       "      <td>6500.000000</td>\n",
       "      <td>2008.000000</td>\n",
       "      <td>143.000000</td>\n",
       "      <td>150000.000000</td>\n",
       "      <td>9.000000</td>\n",
       "      <td>71229.000000</td>\n",
       "    </tr>\n",
       "    <tr>\n",
       "      <th>max</th>\n",
       "      <td>20000.000000</td>\n",
       "      <td>9999.000000</td>\n",
       "      <td>20000.000000</td>\n",
       "      <td>150000.000000</td>\n",
       "      <td>12.000000</td>\n",
       "      <td>99998.000000</td>\n",
       "    </tr>\n",
       "  </tbody>\n",
       "</table>\n",
       "</div>"
      ],
      "text/plain": [
       "               Price  RegistrationYear          Power      Kilometer  \\\n",
       "count  334664.000000     334664.000000  334664.000000  334664.000000   \n",
       "mean     4504.346790       2003.923992     111.373195  128562.588148   \n",
       "std      4531.438572         69.377219     185.156439   37205.926976   \n",
       "min         0.000000       1000.000000       0.000000    5000.000000   \n",
       "25%      1150.000000       1999.000000      70.000000  125000.000000   \n",
       "50%      2800.000000       2003.000000     105.000000  150000.000000   \n",
       "75%      6500.000000       2008.000000     143.000000  150000.000000   \n",
       "max     20000.000000       9999.000000   20000.000000  150000.000000   \n",
       "\n",
       "       RegistrationMonth     PostalCode  \n",
       "count      334664.000000  334664.000000  \n",
       "mean            5.806068   50671.521616  \n",
       "std             3.689145   25754.522388  \n",
       "min             0.000000    1067.000000  \n",
       "25%             3.000000   30419.000000  \n",
       "50%             6.000000   49525.000000  \n",
       "75%             9.000000   71229.000000  \n",
       "max            12.000000   99998.000000  "
      ]
     },
     "execution_count": 34,
     "metadata": {},
     "output_type": "execute_result"
    }
   ],
   "source": [
    "data.describe()"
   ]
  },
  {
   "cell_type": "markdown",
   "metadata": {},
   "source": [
    "##### Price"
   ]
  },
  {
   "cell_type": "markdown",
   "metadata": {},
   "source": [
    "Check the histogram"
   ]
  },
  {
   "cell_type": "code",
   "execution_count": 35,
   "metadata": {},
   "outputs": [
    {
     "data": {
      "text/plain": [
       "<AxesSubplot:>"
      ]
     },
     "execution_count": 35,
     "metadata": {},
     "output_type": "execute_result"
    },
    {
     "data": {
      "image/png": "[encoded data removed]",
      "text/plain": [
       "<Figure size 432x288 with 1 Axes>"
      ]
     },
     "metadata": {
      "needs_background": "light"
     },
     "output_type": "display_data"
    }
   ],
   "source": [
    "data['Price'].hist()"
   ]
  },
  {
   "cell_type": "code",
   "execution_count": 36,
   "metadata": {},
   "outputs": [
    {
     "data": {
      "image/png": "[encoded data removed]",
      "text/plain": [
       "<Figure size 432x288 with 1 Axes>"
      ]
     },
     "metadata": {
      "needs_background": "light"
     },
     "output_type": "display_data"
    }
   ],
   "source": [
    "data['Price'].hist(range=(0,1000));"
   ]
  },
  {
   "cell_type": "markdown",
   "metadata": {},
   "source": [
    "Let's guess that the minimum price could be 100 (in case if the car is being sold for spare parts). Count the percent of price less than 100."
   ]
  },
  {
   "cell_type": "code",
   "execution_count": 37,
   "metadata": {},
   "outputs": [
    {
     "name": "stdout",
     "output_type": "stream",
     "text": [
      "There are 3.18 % of cars cheaper than 100\n"
     ]
    }
   ],
   "source": [
    "print('There are {} % of cars cheaper than 100'.format(round(data[data['Price'] < 100].value_counts().sum() / (len(data) / 100), 2)))"
   ]
  },
  {
   "cell_type": "markdown",
   "metadata": {},
   "source": [
    "We can get rid of this data."
   ]
  },
  {
   "cell_type": "code",
   "execution_count": 38,
   "metadata": {},
   "outputs": [],
   "source": [
    "data = data[data['Price'] >= 100]"
   ]
  },
  {
   "cell_type": "markdown",
   "metadata": {},
   "source": [
    "##### RegistrationYear"
   ]
  },
  {
   "cell_type": "markdown",
   "metadata": {},
   "source": [
    "Let's look at `boxplot` diagram."
   ]
  },
  {
   "cell_type": "code",
   "execution_count": 39,
   "metadata": {},
   "outputs": [
    {
     "data": {
      "image/png": "[encoded data removed]",
      "text/plain": [
       "<Figure size 576x432 with 1 Axes>"
      ]
     },
     "metadata": {
      "needs_background": "light"
     },
     "output_type": "display_data"
    }
   ],
   "source": [
    "plt.figure(figsize=(8,6))\n",
    "plt.title('Registration Year')\n",
    "plt.boxplot(data['RegistrationYear'])\n",
    "plt.ylim(1985,2020)\n",
    "plt.grid(True)\n",
    "plt.show()"
   ]
  },
  {
   "cell_type": "markdown",
   "metadata": {},
   "source": [
    "Most of the data is between 1986 and 2019."
   ]
  },
  {
   "cell_type": "code",
   "execution_count": 40,
   "metadata": {},
   "outputs": [
    {
     "name": "stdout",
     "output_type": "stream",
     "text": [
      "1.51% of cars that are older than 1986\n"
     ]
    }
   ],
   "source": [
    "print('{}% of cars that are older than 1986'.format(round(len(data[data['RegistrationYear'] <= 1986]) / (len(data) / 100), 2)))"
   ]
  },
  {
   "cell_type": "markdown",
   "metadata": {},
   "source": [
    "We can get rid of this data"
   ]
  },
  {
   "cell_type": "code",
   "execution_count": 41,
   "metadata": {},
   "outputs": [],
   "source": [
    "data = data[data['RegistrationYear'] >= 1986]"
   ]
  },
  {
   "cell_type": "markdown",
   "metadata": {},
   "source": [
    "Let's check the maximum date in `DateCrawled`"
   ]
  },
  {
   "cell_type": "code",
   "execution_count": 42,
   "metadata": {},
   "outputs": [
    {
     "data": {
      "text/plain": [
       "Timestamp('2016-04-07 14:36:58')"
      ]
     },
     "execution_count": 42,
     "metadata": {},
     "output_type": "execute_result"
    }
   ],
   "source": [
    "data['DateCrawled'].max()"
   ]
  },
  {
   "cell_type": "code",
   "execution_count": 43,
   "metadata": {},
   "outputs": [
    {
     "name": "stdout",
     "output_type": "stream",
     "text": [
      "There are 3.71% of cars above the maximum date\n"
     ]
    }
   ],
   "source": [
    "print('There are {}% of cars above the maximum date'.format(round(len(data[data['RegistrationYear'] > 2016]) / (len(data) / 100), 2)))"
   ]
  },
  {
   "cell_type": "markdown",
   "metadata": {},
   "source": [
    "We can get rid of this data"
   ]
  },
  {
   "cell_type": "code",
   "execution_count": 44,
   "metadata": {},
   "outputs": [],
   "source": [
    "data = data[data['RegistrationYear'] <= 2017]"
   ]
  },
  {
   "cell_type": "markdown",
   "metadata": {},
   "source": [
    "##### Power"
   ]
  },
  {
   "cell_type": "markdown",
   "metadata": {},
   "source": [
    "Let's look at `boxplot` diagram."
   ]
  },
  {
   "cell_type": "code",
   "execution_count": 45,
   "metadata": {},
   "outputs": [
    {
     "data": {
      "image/png": "[encoded data removed]",
      "text/plain": [
       "<Figure size 432x288 with 1 Axes>"
      ]
     },
     "metadata": {
      "needs_background": "light"
     },
     "output_type": "display_data"
    }
   ],
   "source": [
    "sns.boxplot(x=data['Power'], showfliers=False);"
   ]
  },
  {
   "cell_type": "code",
   "execution_count": 46,
   "metadata": {},
   "outputs": [
    {
     "name": "stdout",
     "output_type": "stream",
     "text": [
      "There are 2.06 % of cars above the 4th quartile\n"
     ]
    }
   ],
   "source": [
    "print('There are {} % of cars above the 4th quartile'.format(round(len(data[data['Power'] > 250]) / (len(data) / 100), 2)))"
   ]
  },
  {
   "cell_type": "markdown",
   "metadata": {},
   "source": [
    "We can group the dataset by Model and replace each value that is above the limit with the first value in each group."
   ]
  },
  {
   "cell_type": "code",
   "execution_count": 47,
   "metadata": {},
   "outputs": [],
   "source": [
    "data['Power'].replace(range(250,5000), np.nan, inplace=True) \n",
    "data.loc[data['Power'].isna(), 'Power'] = \\\n",
    "    data.loc[data['Power'].isna(), 'Model'].map(data.groupby(['Model'])['Power'].first())"
   ]
  },
  {
   "cell_type": "code",
   "execution_count": 48,
   "metadata": {},
   "outputs": [
    {
     "data": {
      "text/plain": [
       "68"
      ]
     },
     "execution_count": 48,
     "metadata": {},
     "output_type": "execute_result"
    }
   ],
   "source": [
    "data[data['Power'] >= 250].value_counts().sum()"
   ]
  },
  {
   "cell_type": "markdown",
   "metadata": {},
   "source": [
    "Filter all the values above."
   ]
  },
  {
   "cell_type": "code",
   "execution_count": 49,
   "metadata": {},
   "outputs": [],
   "source": [
    "data = data[data['Power'] <= 250]"
   ]
  },
  {
   "cell_type": "markdown",
   "metadata": {},
   "source": [
    "Check the minimum."
   ]
  },
  {
   "cell_type": "code",
   "execution_count": 50,
   "metadata": {},
   "outputs": [
    {
     "data": {
      "image/png": "[encoded data removed]",
      "text/plain": [
       "<Figure size 432x288 with 1 Axes>"
      ]
     },
     "metadata": {
      "needs_background": "light"
     },
     "output_type": "display_data"
    }
   ],
   "source": [
    "data['Power'].hist(range=(0,40));"
   ]
  },
  {
   "cell_type": "code",
   "execution_count": 51,
   "metadata": {},
   "outputs": [
    {
     "data": {
      "text/plain": [
       "9.85"
      ]
     },
     "execution_count": 51,
     "metadata": {},
     "output_type": "execute_result"
    }
   ],
   "source": [
    "round(data[data['Power'] < 40].value_counts().sum() / (len(data) / 100), 2)"
   ]
  },
  {
   "cell_type": "markdown",
   "metadata": {},
   "source": [
    "Replace all the values beyond 40 as Nan and replace it with values for unique model. "
   ]
  },
  {
   "cell_type": "code",
   "execution_count": 52,
   "metadata": {},
   "outputs": [],
   "source": [
    "data['Power'].replace(range(0,40), np.nan, inplace=True) \n",
    "data.loc[data['Power'].isna(), 'Power'] = \\\n",
    "    data.loc[data['Power'].isna(), 'Model'].map(data.groupby(['Model'])['Power'].first())"
   ]
  },
  {
   "cell_type": "code",
   "execution_count": 53,
   "metadata": {},
   "outputs": [
    {
     "data": {
      "text/plain": [
       "0"
      ]
     },
     "execution_count": 53,
     "metadata": {},
     "output_type": "execute_result"
    }
   ],
   "source": [
    "data['Power'].isna().sum()"
   ]
  },
  {
   "cell_type": "markdown",
   "metadata": {},
   "source": [
    "##### RegistrationMonth"
   ]
  },
  {
   "cell_type": "markdown",
   "metadata": {},
   "source": [
    "Check the histogram"
   ]
  },
  {
   "cell_type": "code",
   "execution_count": 54,
   "metadata": {},
   "outputs": [
    {
     "data": {
      "image/png": "[encoded data removed]",
      "text/plain": [
       "<Figure size 432x288 with 1 Axes>"
      ]
     },
     "metadata": {
      "needs_background": "light"
     },
     "output_type": "display_data"
    }
   ],
   "source": [
    "data['RegistrationMonth'].hist();"
   ]
  },
  {
   "cell_type": "markdown",
   "metadata": {},
   "source": [
    "Replace 0 with NaN and fill in the random month."
   ]
  },
  {
   "cell_type": "code",
   "execution_count": 55,
   "metadata": {},
   "outputs": [],
   "source": [
    "data['RegistrationMonth'].replace(0, np.nan, inplace=True) \n",
    "data['RegistrationMonth'].fillna(np.random.choice(range(1,13)), inplace=True)"
   ]
  },
  {
   "cell_type": "markdown",
   "metadata": {},
   "source": [
    "#### Duplicates"
   ]
  },
  {
   "cell_type": "code",
   "execution_count": 56,
   "metadata": {},
   "outputs": [
    {
     "data": {
      "text/plain": [
       "5"
      ]
     },
     "execution_count": 56,
     "metadata": {},
     "output_type": "execute_result"
    }
   ],
   "source": [
    "data.duplicated().sum()"
   ]
  },
  {
   "cell_type": "code",
   "execution_count": 57,
   "metadata": {},
   "outputs": [],
   "source": [
    "data = data.drop_duplicates().reset_index(drop = True)"
   ]
  },
  {
   "cell_type": "markdown",
   "metadata": {},
   "source": [
    "Check the % of data that has been deleted."
   ]
  },
  {
   "cell_type": "code",
   "execution_count": 58,
   "metadata": {},
   "outputs": [
    {
     "data": {
      "text/plain": [
       "10.77"
      ]
     },
     "execution_count": 58,
     "metadata": {},
     "output_type": "execute_result"
    }
   ],
   "source": [
    "round(100 - (len(data) / (len(data_row) / 100)), 2)"
   ]
  },
  {
   "cell_type": "markdown",
   "metadata": {},
   "source": [
    "Satisfactory"
   ]
  },
  {
   "cell_type": "markdown",
   "metadata": {},
   "source": [
    "Get rid of columns that are not useful: `DateCrawled`, `DateCreated`, `LastSeen`."
   ]
  },
  {
   "cell_type": "code",
   "execution_count": 59,
   "metadata": {},
   "outputs": [],
   "source": [
    "data = data.drop(['DateCrawled', 'DateCreated', 'LastSeen','PostalCode'], axis=1)"
   ]
  },
  {
   "cell_type": "code",
   "execution_count": 60,
   "metadata": {},
   "outputs": [
    {
     "data": {
      "text/plain": [
       "Index(['Price', 'VehicleType', 'RegistrationYear', 'Gearbox', 'Power', 'Model',\n",
       "       'Kilometer', 'RegistrationMonth', 'FuelType', 'Brand', 'Repaired'],\n",
       "      dtype='object')"
      ]
     },
     "execution_count": 60,
     "metadata": {},
     "output_type": "execute_result"
    }
   ],
   "source": [
    "data.columns"
   ]
  },
  {
   "cell_type": "markdown",
   "metadata": {},
   "source": [
    "#### Check correlations between features"
   ]
  },
  {
   "cell_type": "code",
   "execution_count": 61,
   "metadata": {},
   "outputs": [
    {
     "name": "stdout",
     "output_type": "stream",
     "text": [
      "interval columns not set, guessing: ['Price', 'RegistrationYear', 'Power', 'Kilometer', 'RegistrationMonth']\n"
     ]
    },
    {
     "data": {
      "image/png": "[encoded data removed]",
      "text/plain": [
       "<Figure size 720x576 with 2 Axes>"
      ]
     },
     "metadata": {
      "needs_background": "light"
     },
     "output_type": "display_data"
    }
   ],
   "source": [
    "fig = plt.figure(figsize = (10,8))\n",
    "sns.heatmap(data.phik_matrix(), annot=True);"
   ]
  },
  {
   "cell_type": "markdown",
   "metadata": {},
   "source": [
    "`Model` is higly correlates with 3 features, it could be better to get rid of this column."
   ]
  },
  {
   "cell_type": "code",
   "execution_count": 62,
   "metadata": {},
   "outputs": [],
   "source": [
    "data = data.drop('Model', axis=1)"
   ]
  },
  {
   "cell_type": "markdown",
   "metadata": {},
   "source": [
    "## Prepairing data for models"
   ]
  },
  {
   "cell_type": "markdown",
   "metadata": {},
   "source": [
    "Let's split the features and target columns."
   ]
  },
  {
   "cell_type": "code",
   "execution_count": 63,
   "metadata": {},
   "outputs": [],
   "source": [
    "features = data.drop('Price', axis=1)\n",
    "target = data['Price']"
   ]
  },
  {
   "cell_type": "markdown",
   "metadata": {},
   "source": [
    "### Prepairing samples"
   ]
  },
  {
   "cell_type": "markdown",
   "metadata": {},
   "source": [
    "Encode categorical features with `Ordinal Encoder`"
   ]
  },
  {
   "cell_type": "code",
   "execution_count": 64,
   "metadata": {},
   "outputs": [
    {
     "data": {
      "text/html": [
       "<div>\n",
       "<style scoped>\n",
       "    .dataframe tbody tr th:only-of-type {\n",
       "        vertical-align: middle;\n",
       "    }\n",
       "\n",
       "    .dataframe tbody tr th {\n",
       "        vertical-align: top;\n",
       "    }\n",
       "\n",
       "    .dataframe thead th {\n",
       "        text-align: right;\n",
       "    }\n",
       "</style>\n",
       "<table border=\"1\" class=\"dataframe\">\n",
       "  <thead>\n",
       "    <tr style=\"text-align: right;\">\n",
       "      <th></th>\n",
       "      <th>VehicleType</th>\n",
       "      <th>RegistrationYear</th>\n",
       "      <th>Gearbox</th>\n",
       "      <th>Power</th>\n",
       "      <th>Kilometer</th>\n",
       "      <th>RegistrationMonth</th>\n",
       "      <th>FuelType</th>\n",
       "      <th>Brand</th>\n",
       "      <th>Repaired</th>\n",
       "    </tr>\n",
       "  </thead>\n",
       "  <tbody>\n",
       "    <tr>\n",
       "      <th>0</th>\n",
       "      <td>5.0</td>\n",
       "      <td>1993</td>\n",
       "      <td>1.0</td>\n",
       "      <td>75.0</td>\n",
       "      <td>150000</td>\n",
       "      <td>7.0</td>\n",
       "      <td>6.0</td>\n",
       "      <td>37.0</td>\n",
       "      <td>0.0</td>\n",
       "    </tr>\n",
       "    <tr>\n",
       "      <th>1</th>\n",
       "      <td>6.0</td>\n",
       "      <td>2004</td>\n",
       "      <td>0.0</td>\n",
       "      <td>163.0</td>\n",
       "      <td>125000</td>\n",
       "      <td>7.0</td>\n",
       "      <td>2.0</td>\n",
       "      <td>14.0</td>\n",
       "      <td>0.0</td>\n",
       "    </tr>\n",
       "    <tr>\n",
       "      <th>2</th>\n",
       "      <td>5.0</td>\n",
       "      <td>2001</td>\n",
       "      <td>1.0</td>\n",
       "      <td>75.0</td>\n",
       "      <td>150000</td>\n",
       "      <td>5.0</td>\n",
       "      <td>6.0</td>\n",
       "      <td>37.0</td>\n",
       "      <td>0.0</td>\n",
       "    </tr>\n",
       "    <tr>\n",
       "      <th>3</th>\n",
       "      <td>5.0</td>\n",
       "      <td>2008</td>\n",
       "      <td>1.0</td>\n",
       "      <td>69.0</td>\n",
       "      <td>90000</td>\n",
       "      <td>6.0</td>\n",
       "      <td>2.0</td>\n",
       "      <td>31.0</td>\n",
       "      <td>0.0</td>\n",
       "    </tr>\n",
       "    <tr>\n",
       "      <th>4</th>\n",
       "      <td>4.0</td>\n",
       "      <td>1995</td>\n",
       "      <td>1.0</td>\n",
       "      <td>102.0</td>\n",
       "      <td>150000</td>\n",
       "      <td>9.0</td>\n",
       "      <td>6.0</td>\n",
       "      <td>2.0</td>\n",
       "      <td>1.0</td>\n",
       "    </tr>\n",
       "  </tbody>\n",
       "</table>\n",
       "</div>"
      ],
      "text/plain": [
       "   VehicleType  RegistrationYear  Gearbox  Power  Kilometer  \\\n",
       "0          5.0              1993      1.0   75.0     150000   \n",
       "1          6.0              2004      0.0  163.0     125000   \n",
       "2          5.0              2001      1.0   75.0     150000   \n",
       "3          5.0              2008      1.0   69.0      90000   \n",
       "4          4.0              1995      1.0  102.0     150000   \n",
       "\n",
       "   RegistrationMonth  FuelType  Brand  Repaired  \n",
       "0                7.0       6.0   37.0       0.0  \n",
       "1                7.0       2.0   14.0       0.0  \n",
       "2                5.0       6.0   37.0       0.0  \n",
       "3                6.0       2.0   31.0       0.0  \n",
       "4                9.0       6.0    2.0       1.0  "
      ]
     },
     "execution_count": 64,
     "metadata": {},
     "output_type": "execute_result"
    }
   ],
   "source": [
    "encoder = OrdinalEncoder()\n",
    "cat_features = ['VehicleType','Gearbox','RegistrationMonth','FuelType','Repaired','Brand']\n",
    "features[cat_features] = encoder.fit_transform(features[cat_features])\n",
    "features.head()"
   ]
  },
  {
   "cell_type": "markdown",
   "metadata": {},
   "source": [
    "Split the dataset into train and test dataset with proportion 60/40."
   ]
  },
  {
   "cell_type": "code",
   "execution_count": 65,
   "metadata": {},
   "outputs": [],
   "source": [
    "features_train, features_test, target_train, target_test = train_test_split(\n",
    "    features, target, test_size=0.2, random_state=12345)"
   ]
  },
  {
   "cell_type": "markdown",
   "metadata": {},
   "source": [
    "Check the size of sets:"
   ]
  },
  {
   "cell_type": "code",
   "execution_count": 66,
   "metadata": {},
   "outputs": [
    {
     "name": "stdout",
     "output_type": "stream",
     "text": [
      "% train: 80.0\n",
      "% test: 20.0\n"
     ]
    }
   ],
   "source": [
    "print('% train:',round((len(features_train) / len(data)*100),2))\n",
    "print('% test:', round((len(features_test) / len(data)*100),2))"
   ]
  },
  {
   "cell_type": "markdown",
   "metadata": {},
   "source": [
    "Standardize some features"
   ]
  },
  {
   "cell_type": "code",
   "execution_count": 67,
   "metadata": {},
   "outputs": [],
   "source": [
    "numeric = ['Power', 'RegistrationYear','Kilometer']\n",
    "scaler = StandardScaler()\n",
    "scaler.fit(features_train[numeric])\n",
    "features_train[numeric] = scaler.transform(features_train[numeric])\n",
    "features_test[numeric] = scaler.transform(features_test[numeric])"
   ]
  },
  {
   "cell_type": "code",
   "execution_count": 68,
   "metadata": {},
   "outputs": [
    {
     "data": {
      "text/html": [
       "<div>\n",
       "<style scoped>\n",
       "    .dataframe tbody tr th:only-of-type {\n",
       "        vertical-align: middle;\n",
       "    }\n",
       "\n",
       "    .dataframe tbody tr th {\n",
       "        vertical-align: top;\n",
       "    }\n",
       "\n",
       "    .dataframe thead th {\n",
       "        text-align: right;\n",
       "    }\n",
       "</style>\n",
       "<table border=\"1\" class=\"dataframe\">\n",
       "  <thead>\n",
       "    <tr style=\"text-align: right;\">\n",
       "      <th></th>\n",
       "      <th>VehicleType</th>\n",
       "      <th>RegistrationYear</th>\n",
       "      <th>Gearbox</th>\n",
       "      <th>Power</th>\n",
       "      <th>Kilometer</th>\n",
       "      <th>RegistrationMonth</th>\n",
       "      <th>FuelType</th>\n",
       "      <th>Brand</th>\n",
       "      <th>Repaired</th>\n",
       "    </tr>\n",
       "  </thead>\n",
       "  <tbody>\n",
       "    <tr>\n",
       "      <th>296425</th>\n",
       "      <td>7.0</td>\n",
       "      <td>0.735608</td>\n",
       "      <td>1.0</td>\n",
       "      <td>-0.245319</td>\n",
       "      <td>0.575699</td>\n",
       "      <td>0.0</td>\n",
       "      <td>2.0</td>\n",
       "      <td>37.0</td>\n",
       "      <td>0.0</td>\n",
       "    </tr>\n",
       "    <tr>\n",
       "      <th>54006</th>\n",
       "      <td>4.0</td>\n",
       "      <td>0.406554</td>\n",
       "      <td>0.0</td>\n",
       "      <td>0.525139</td>\n",
       "      <td>0.575699</td>\n",
       "      <td>7.0</td>\n",
       "      <td>6.0</td>\n",
       "      <td>37.0</td>\n",
       "      <td>0.0</td>\n",
       "    </tr>\n",
       "  </tbody>\n",
       "</table>\n",
       "</div>"
      ],
      "text/plain": [
       "        VehicleType  RegistrationYear  Gearbox     Power  Kilometer  \\\n",
       "296425          7.0          0.735608      1.0 -0.245319   0.575699   \n",
       "54006           4.0          0.406554      0.0  0.525139   0.575699   \n",
       "\n",
       "        RegistrationMonth  FuelType  Brand  Repaired  \n",
       "296425                0.0       2.0   37.0       0.0  \n",
       "54006                 7.0       6.0   37.0       0.0  "
      ]
     },
     "execution_count": 68,
     "metadata": {},
     "output_type": "execute_result"
    }
   ],
   "source": [
    "features_train.head(2)"
   ]
  },
  {
   "cell_type": "code",
   "execution_count": 69,
   "metadata": {},
   "outputs": [
    {
     "data": {
      "text/html": [
       "<div>\n",
       "<style scoped>\n",
       "    .dataframe tbody tr th:only-of-type {\n",
       "        vertical-align: middle;\n",
       "    }\n",
       "\n",
       "    .dataframe tbody tr th {\n",
       "        vertical-align: top;\n",
       "    }\n",
       "\n",
       "    .dataframe thead th {\n",
       "        text-align: right;\n",
       "    }\n",
       "</style>\n",
       "<table border=\"1\" class=\"dataframe\">\n",
       "  <thead>\n",
       "    <tr style=\"text-align: right;\">\n",
       "      <th></th>\n",
       "      <th>VehicleType</th>\n",
       "      <th>RegistrationYear</th>\n",
       "      <th>Gearbox</th>\n",
       "      <th>Power</th>\n",
       "      <th>Kilometer</th>\n",
       "      <th>RegistrationMonth</th>\n",
       "      <th>FuelType</th>\n",
       "      <th>Brand</th>\n",
       "      <th>Repaired</th>\n",
       "    </tr>\n",
       "  </thead>\n",
       "  <tbody>\n",
       "    <tr>\n",
       "      <th>222791</th>\n",
       "      <td>4.0</td>\n",
       "      <td>-1.567772</td>\n",
       "      <td>1.0</td>\n",
       "      <td>-0.575515</td>\n",
       "      <td>0.575699</td>\n",
       "      <td>7.0</td>\n",
       "      <td>6.0</td>\n",
       "      <td>1.0</td>\n",
       "      <td>1.0</td>\n",
       "    </tr>\n",
       "    <tr>\n",
       "      <th>192522</th>\n",
       "      <td>6.0</td>\n",
       "      <td>0.900136</td>\n",
       "      <td>1.0</td>\n",
       "      <td>0.437087</td>\n",
       "      <td>0.575699</td>\n",
       "      <td>6.0</td>\n",
       "      <td>2.0</td>\n",
       "      <td>10.0</td>\n",
       "      <td>0.0</td>\n",
       "    </tr>\n",
       "  </tbody>\n",
       "</table>\n",
       "</div>"
      ],
      "text/plain": [
       "        VehicleType  RegistrationYear  Gearbox     Power  Kilometer  \\\n",
       "222791          4.0         -1.567772      1.0 -0.575515   0.575699   \n",
       "192522          6.0          0.900136      1.0  0.437087   0.575699   \n",
       "\n",
       "        RegistrationMonth  FuelType  Brand  Repaired  \n",
       "222791                7.0       6.0    1.0       1.0  \n",
       "192522                6.0       2.0   10.0       0.0  "
      ]
     },
     "execution_count": 69,
     "metadata": {},
     "output_type": "execute_result"
    }
   ],
   "source": [
    "features_test.head(2)"
   ]
  },
  {
   "cell_type": "markdown",
   "metadata": {},
   "source": [
    "Let's make k-Fold cross-validator with 5 splits."
   ]
  },
  {
   "cell_type": "code",
   "execution_count": 70,
   "metadata": {},
   "outputs": [],
   "source": [
    "kf = KFold(n_splits=5, shuffle=True)"
   ]
  },
  {
   "cell_type": "markdown",
   "metadata": {},
   "source": [
    "Make a scorer with a root mean squared error."
   ]
  },
  {
   "cell_type": "code",
   "execution_count": 71,
   "metadata": {},
   "outputs": [],
   "source": [
    "rmse = make_scorer(mean_squared_error, greater_is_better=False, squared=False)"
   ]
  },
  {
   "cell_type": "markdown",
   "metadata": {},
   "source": [
    "Prepare lists for metrics for each model:\n",
    "1) `value of rmse`;\n",
    "\n",
    "2) `time of learning`;\n",
    "\n",
    "3) `best parameters`."
   ]
  },
  {
   "cell_type": "code",
   "execution_count": 72,
   "metadata": {},
   "outputs": [],
   "source": [
    "rsme_list = []\n",
    "time_list = []\n",
    "best_params_list = []"
   ]
  },
  {
   "cell_type": "markdown",
   "metadata": {},
   "source": [
    "### Decision Tree Regression."
   ]
  },
  {
   "cell_type": "code",
   "execution_count": 73,
   "metadata": {},
   "outputs": [
    {
     "name": "stdout",
     "output_type": "stream",
     "text": [
      "Best parameters:{'max_depth': 13}\n",
      "Best score:-1952.5195526783343\n",
      "Total time:0.5662750681241353\n"
     ]
    }
   ],
   "source": [
    "start = time.time()\n",
    "#set the parameters \n",
    "parametrs = {'max_depth': range (1, 30, 2)}\n",
    "\n",
    "model_dt = DecisionTreeRegressor(random_state=12345)\n",
    "grid = GridSearchCV(model_dt, parametrs, scoring = rmse, cv=kf, n_jobs=-1)\n",
    "grid.fit(features_train, target_train)\n",
    "\n",
    "\n",
    "stop = time.time()\n",
    "total_time = (stop - start)/60\n",
    "\n",
    "rsme_list.append(grid.best_score_)\n",
    "time_list.append(total_time)\n",
    "best_params_list.append(grid.best_params_)\n",
    "\n",
    "print('Best parameters:{}\\nBest score:{}\\nTotal time:{}'.format(grid.best_params_, grid.best_score_, total_time))\n"
   ]
  },
  {
   "cell_type": "markdown",
   "metadata": {},
   "source": [
    "### Random forest"
   ]
  },
  {
   "cell_type": "code",
   "execution_count": 74,
   "metadata": {},
   "outputs": [
    {
     "name": "stdout",
     "output_type": "stream",
     "text": [
      "Best parameters:{'max_depth': 9, 'n_estimators': 81}\n",
      "Best score:-2025.2347124041262\n",
      "Total time:12.518473370869954\n"
     ]
    }
   ],
   "source": [
    "start = time.time()\n",
    "\n",
    "parametrs = {'max_depth': range (1, 10, 2), 'n_estimators': range (1, 100, 20)}\n",
    "model_rf = RandomForestRegressor(random_state=12345)\n",
    "grid = GridSearchCV(model_rf, parametrs, scoring = rmse, cv=kf, n_jobs=-1)\n",
    "grid.fit(features_train, target_train)\n",
    "\n",
    "stop = time.time()\n",
    "total_time = (stop - start)/60\n",
    "\n",
    "rsme_list.append(grid.best_score_)\n",
    "time_list.append(total_time)\n",
    "best_params_list.append(grid.best_params_)\n",
    "\n",
    "print('Best parameters:{}\\nBest score:{}\\nTotal time:{}'.format(grid.best_params_, grid.best_score_, total_time))"
   ]
  },
  {
   "cell_type": "markdown",
   "metadata": {},
   "source": [
    "### Linear Regression."
   ]
  },
  {
   "cell_type": "code",
   "execution_count": 75,
   "metadata": {},
   "outputs": [
    {
     "name": "stdout",
     "output_type": "stream",
     "text": [
      "Best score:-2961.696884439024\n",
      "Total time:0.009356117248535157\n"
     ]
    }
   ],
   "source": [
    "start = time.time()\n",
    "\n",
    "model_lr = LinearRegression()\n",
    "rmse_linear = cross_val_score(model_lr, features_train, target_train, scoring = rmse, cv=kf)\n",
    "\n",
    "stop = time.time()\n",
    "total_time = (stop - start)/60\n",
    "\n",
    "rsme_list.append(rmse_linear)\n",
    "time_list.append(total_time)\n",
    "best_params_list.append(np.nan)\n",
    "\n",
    "print('Best score:{}\\nTotal time:{}'.format(rmse_linear.min(), total_time))"
   ]
  },
  {
   "cell_type": "markdown",
   "metadata": {},
   "source": [
    "## Model analysis"
   ]
  },
  {
   "cell_type": "markdown",
   "metadata": {},
   "source": [
    "Make a dataset with all the results"
   ]
  },
  {
   "cell_type": "code",
   "execution_count": 76,
   "metadata": {},
   "outputs": [
    {
     "data": {
      "text/html": [
       "<div>\n",
       "<style scoped>\n",
       "    .dataframe tbody tr th:only-of-type {\n",
       "        vertical-align: middle;\n",
       "    }\n",
       "\n",
       "    .dataframe tbody tr th {\n",
       "        vertical-align: top;\n",
       "    }\n",
       "\n",
       "    .dataframe thead th {\n",
       "        text-align: right;\n",
       "    }\n",
       "</style>\n",
       "<table border=\"1\" class=\"dataframe\">\n",
       "  <thead>\n",
       "    <tr style=\"text-align: right;\">\n",
       "      <th></th>\n",
       "      <th>Time</th>\n",
       "      <th>RMSE</th>\n",
       "      <th>Parameters</th>\n",
       "    </tr>\n",
       "  </thead>\n",
       "  <tbody>\n",
       "    <tr>\n",
       "      <th>DecisionTree</th>\n",
       "      <td>0.566275</td>\n",
       "      <td>-1952.519553</td>\n",
       "      <td>{'max_depth': 13}</td>\n",
       "    </tr>\n",
       "    <tr>\n",
       "      <th>RandomForest</th>\n",
       "      <td>12.518473</td>\n",
       "      <td>-2025.234712</td>\n",
       "      <td>{'max_depth': 9, 'n_estimators': 81}</td>\n",
       "    </tr>\n",
       "    <tr>\n",
       "      <th>LinearRegression</th>\n",
       "      <td>0.009356</td>\n",
       "      <td>[-2961.696884439024, -2961.687802080476, -2941...</td>\n",
       "      <td>NaN</td>\n",
       "    </tr>\n",
       "  </tbody>\n",
       "</table>\n",
       "</div>"
      ],
      "text/plain": [
       "                       Time  \\\n",
       "DecisionTree       0.566275   \n",
       "RandomForest      12.518473   \n",
       "LinearRegression   0.009356   \n",
       "\n",
       "                                                               RMSE  \\\n",
       "DecisionTree                                           -1952.519553   \n",
       "RandomForest                                           -2025.234712   \n",
       "LinearRegression  [-2961.696884439024, -2961.687802080476, -2941...   \n",
       "\n",
       "                                            Parameters  \n",
       "DecisionTree                         {'max_depth': 13}  \n",
       "RandomForest      {'max_depth': 9, 'n_estimators': 81}  \n",
       "LinearRegression                                   NaN  "
      ]
     },
     "execution_count": 76,
     "metadata": {},
     "output_type": "execute_result"
    }
   ],
   "source": [
    "conclusion = [time_list, rsme_list, best_params_list]\n",
    "index = ['Time', 'RMSE', 'Parameters']\n",
    "columns = ['DecisionTree','RandomForest', 'LinearRegression'] \n",
    "df = pd.DataFrame(conclusion, index, columns) \n",
    "df.T.head()\n"
   ]
  },
  {
   "cell_type": "markdown",
   "metadata": {},
   "source": [
    "Decision Tree has the best result with `max_depth`= 13. Let's test it."
   ]
  },
  {
   "cell_type": "code",
   "execution_count": 77,
   "metadata": {},
   "outputs": [
    {
     "name": "stdout",
     "output_type": "stream",
     "text": [
      "RMSE:  1904.5992392488224 Time:  0.015990598996480306\n"
     ]
    }
   ],
   "source": [
    "start = time.time()\n",
    "\n",
    "model_dt = DecisionTreeRegressor(max_depth=13, random_state=12345)\n",
    "model_dt.fit(features_train, target_train)\n",
    "predict = model_dt.predict(features_test)\n",
    "rms = mean_squared_error(target_test, predict, squared=False)\n",
    "stop = time.time()\n",
    "total_time = (stop - start)/60\n",
    "print('RMSE: ',rms,'Time: ', total_time)\n"
   ]
  },
  {
   "cell_type": "markdown",
   "metadata": {},
   "source": [
    "Let's check what features our model found to be the most important"
   ]
  },
  {
   "cell_type": "code",
   "execution_count": 78,
   "metadata": {},
   "outputs": [
    {
     "data": {
      "image/png": "[encoded data removed]",
      "text/plain": [
       "<Figure size 720x504 with 1 Axes>"
      ]
     },
     "metadata": {
      "needs_background": "light"
     },
     "output_type": "display_data"
    }
   ],
   "source": [
    "feature_names = features.columns\n",
    "importances = model_dt.feature_importances_\n",
    "forest_importances = pd.Series(importances, index=feature_names)\n",
    "\n",
    "std = np.std([model_dt.feature_importances_ for tree in str(1000)], axis=0)\n",
    "\n",
    "fig, ax = plt.subplots(figsize=(10,7))\n",
    "forest_importances.plot.bar(yerr=std, ax=ax)\n",
    "ax.set_title(\"Feature importances\")\n",
    "ax.set_ylabel(\"Mean decrease in impurity\")\n",
    "fig.tight_layout()"
   ]
  },
  {
   "cell_type": "markdown",
   "metadata": {},
   "source": [
    "`registration_year` and `Power` are shown as the most important. Secondary features are `VehicleType`, `Brand` and `Kilometer`."
   ]
  },
  {
   "cell_type": "markdown",
   "metadata": {},
   "source": [
    "# Conclusion"
   ]
  },
  {
   "cell_type": "markdown",
   "metadata": {},
   "source": [
    "The best result is shown by the **Decision Tree**.\n",
    "\n",
    "**RMSE**:  1904.245068189712 **Time**:  0.012438448270161946\n",
    "\n",
    "`registration_year` and `Power` are shown as the most important. Secondary features are `VehicleType`, `Brand` and `Kilometer`."
   ]
  }
 ],
 "metadata": {
  "ExecuteTimeLog": [
   {
    "duration": 123,
    "start_time": "2022-05-05T20:05:55.817Z"
   },
   {
    "duration": 641,
    "start_time": "2022-05-05T20:05:58.653Z"
   },
   {
    "duration": 1178,
    "start_time": "2022-05-05T20:06:00.291Z"
   },
   {
    "duration": 36,
    "start_time": "2022-05-05T20:06:08.687Z"
   },
   {
    "duration": 180,
    "start_time": "2022-05-05T20:06:16.531Z"
   },
   {
    "duration": 181,
    "start_time": "2022-05-05T20:06:37.205Z"
   },
   {
    "duration": 695,
    "start_time": "2022-05-05T20:06:47.758Z"
   },
   {
    "duration": 666,
    "start_time": "2022-05-05T20:06:52.272Z"
   },
   {
    "duration": 352,
    "start_time": "2022-05-06T14:18:46.295Z"
   },
   {
    "duration": 384,
    "start_time": "2022-05-06T14:18:57.266Z"
   },
   {
    "duration": 766,
    "start_time": "2022-05-06T14:18:57.652Z"
   },
   {
    "duration": 28,
    "start_time": "2022-05-06T14:18:58.420Z"
   },
   {
    "duration": 142,
    "start_time": "2022-05-06T14:18:58.451Z"
   },
   {
    "duration": 125,
    "start_time": "2022-05-06T14:18:58.595Z"
   },
   {
    "duration": 448,
    "start_time": "2022-05-06T14:18:58.722Z"
   },
   {
    "duration": 87,
    "start_time": "2022-05-06T14:20:27.179Z"
   },
   {
    "duration": 161,
    "start_time": "2022-05-06T14:20:34.371Z"
   },
   {
    "duration": 1908,
    "start_time": "2022-05-06T14:21:18.918Z"
   },
   {
    "duration": 23,
    "start_time": "2022-05-06T14:21:36.006Z"
   },
   {
    "duration": 183,
    "start_time": "2022-05-06T14:22:39.750Z"
   },
   {
    "duration": 43,
    "start_time": "2022-05-06T14:22:46.728Z"
   },
   {
    "duration": 36,
    "start_time": "2022-05-06T14:22:58.973Z"
   },
   {
    "duration": 1044,
    "start_time": "2022-05-06T14:23:29.529Z"
   },
   {
    "duration": 66,
    "start_time": "2022-05-06T14:23:55.612Z"
   },
   {
    "duration": 709,
    "start_time": "2022-05-06T14:26:06.148Z"
   },
   {
    "duration": 33,
    "start_time": "2022-05-06T14:28:16.365Z"
   },
   {
    "duration": 24,
    "start_time": "2022-05-06T14:29:11.128Z"
   },
   {
    "duration": 25,
    "start_time": "2022-05-06T14:29:14.261Z"
   },
   {
    "duration": 8,
    "start_time": "2022-05-06T14:29:37.296Z"
   },
   {
    "duration": 6,
    "start_time": "2022-05-06T14:29:42.238Z"
   },
   {
    "duration": 25,
    "start_time": "2022-05-06T14:29:44.290Z"
   },
   {
    "duration": 35,
    "start_time": "2022-05-06T14:29:49.805Z"
   },
   {
    "duration": 34,
    "start_time": "2022-05-06T14:29:53.296Z"
   },
   {
    "duration": 5,
    "start_time": "2022-05-06T14:30:05.436Z"
   },
   {
    "duration": 6,
    "start_time": "2022-05-06T14:30:09.506Z"
   },
   {
    "duration": 37,
    "start_time": "2022-05-06T14:30:31.044Z"
   },
   {
    "duration": 6,
    "start_time": "2022-05-06T14:30:35.388Z"
   },
   {
    "duration": 6,
    "start_time": "2022-05-06T14:30:46.213Z"
   },
   {
    "duration": 6,
    "start_time": "2022-05-06T14:31:10.959Z"
   },
   {
    "duration": 8,
    "start_time": "2022-05-06T14:32:13.781Z"
   },
   {
    "duration": 6,
    "start_time": "2022-05-06T14:32:23.319Z"
   },
   {
    "duration": 9,
    "start_time": "2022-05-06T14:32:31.729Z"
   },
   {
    "duration": 5,
    "start_time": "2022-05-06T14:32:59.731Z"
   },
   {
    "duration": 5,
    "start_time": "2022-05-06T14:33:15.104Z"
   },
   {
    "duration": 7,
    "start_time": "2022-05-06T14:33:35.887Z"
   },
   {
    "duration": 7,
    "start_time": "2022-05-06T14:33:46.996Z"
   },
   {
    "duration": 9,
    "start_time": "2022-05-06T14:33:52.981Z"
   },
   {
    "duration": 7,
    "start_time": "2022-05-06T14:34:29.273Z"
   },
   {
    "duration": 8,
    "start_time": "2022-05-06T14:34:36.999Z"
   },
   {
    "duration": 37,
    "start_time": "2022-05-06T14:34:44.587Z"
   },
   {
    "duration": 8,
    "start_time": "2022-05-06T14:35:26.373Z"
   },
   {
    "duration": 34,
    "start_time": "2022-05-06T14:35:44.382Z"
   },
   {
    "duration": 31,
    "start_time": "2022-05-06T14:36:16.671Z"
   },
   {
    "duration": 5,
    "start_time": "2022-05-06T14:36:38.572Z"
   },
   {
    "duration": 9,
    "start_time": "2022-05-06T14:37:02.997Z"
   },
   {
    "duration": 152,
    "start_time": "2022-05-06T14:39:08.867Z"
   },
   {
    "duration": 38,
    "start_time": "2022-05-06T14:39:14.419Z"
   },
   {
    "duration": 41,
    "start_time": "2022-05-06T14:39:24.429Z"
   },
   {
    "duration": 32,
    "start_time": "2022-05-06T14:40:54.660Z"
   },
   {
    "duration": 31,
    "start_time": "2022-05-06T14:41:03.267Z"
   },
   {
    "duration": 4,
    "start_time": "2022-05-06T14:42:25.224Z"
   },
   {
    "duration": 38,
    "start_time": "2022-05-06T14:43:10.599Z"
   },
   {
    "duration": 44,
    "start_time": "2022-05-06T14:43:18.368Z"
   },
   {
    "duration": 34,
    "start_time": "2022-05-06T14:46:06.827Z"
   },
   {
    "duration": 81,
    "start_time": "2022-05-06T14:50:26.025Z"
   },
   {
    "duration": 716,
    "start_time": "2022-05-06T14:52:05.403Z"
   },
   {
    "duration": 76,
    "start_time": "2022-05-06T14:52:14.743Z"
   },
   {
    "duration": 9,
    "start_time": "2022-05-06T14:54:11.069Z"
   },
   {
    "duration": 8,
    "start_time": "2022-05-06T14:54:20.913Z"
   },
   {
    "duration": 7,
    "start_time": "2022-05-06T14:54:24.861Z"
   },
   {
    "duration": 10,
    "start_time": "2022-05-06T14:54:45.118Z"
   },
   {
    "duration": 40,
    "start_time": "2022-05-06T14:55:45.800Z"
   },
   {
    "duration": 7,
    "start_time": "2022-05-06T14:55:58.350Z"
   },
   {
    "duration": 7,
    "start_time": "2022-05-06T14:56:55.010Z"
   },
   {
    "duration": 401,
    "start_time": "2022-05-06T14:56:59.537Z"
   },
   {
    "duration": 760,
    "start_time": "2022-05-06T14:56:59.940Z"
   },
   {
    "duration": 6,
    "start_time": "2022-05-06T14:57:00.702Z"
   },
   {
    "duration": 137,
    "start_time": "2022-05-06T14:57:00.710Z"
   },
   {
    "duration": 265,
    "start_time": "2022-05-06T14:57:00.849Z"
   },
   {
    "duration": 101,
    "start_time": "2022-05-06T14:57:01.115Z"
   },
   {
    "duration": 9,
    "start_time": "2022-05-06T14:57:01.218Z"
   },
   {
    "duration": 89,
    "start_time": "2022-05-06T14:57:01.228Z"
   },
   {
    "duration": 42,
    "start_time": "2022-05-06T14:57:01.318Z"
   },
   {
    "duration": 49,
    "start_time": "2022-05-06T14:57:01.362Z"
   },
   {
    "duration": 9,
    "start_time": "2022-05-06T14:57:01.413Z"
   },
   {
    "duration": 271,
    "start_time": "2022-05-06T14:57:01.423Z"
   },
   {
    "duration": 3,
    "start_time": "2022-05-06T15:00:00.416Z"
   },
   {
    "duration": 2,
    "start_time": "2022-05-06T15:00:20.753Z"
   },
   {
    "duration": 61,
    "start_time": "2022-05-06T15:00:31.103Z"
   },
   {
    "duration": 9,
    "start_time": "2022-05-06T15:00:36.832Z"
   },
   {
    "duration": 108,
    "start_time": "2022-05-06T15:00:50.363Z"
   },
   {
    "duration": 2,
    "start_time": "2022-05-06T15:01:02.281Z"
   },
   {
    "duration": 45,
    "start_time": "2022-05-06T15:01:07.966Z"
   },
   {
    "duration": 3,
    "start_time": "2022-05-06T15:01:14.192Z"
   },
   {
    "duration": 38,
    "start_time": "2022-05-06T15:01:16.186Z"
   },
   {
    "duration": 86,
    "start_time": "2022-05-06T15:01:21.107Z"
   },
   {
    "duration": 3,
    "start_time": "2022-05-06T15:01:43.272Z"
   },
   {
    "duration": 45,
    "start_time": "2022-05-06T15:01:44.785Z"
   },
   {
    "duration": 80,
    "start_time": "2022-05-06T15:01:46.864Z"
   },
   {
    "duration": 2,
    "start_time": "2022-05-06T15:01:59.935Z"
   },
   {
    "duration": 44,
    "start_time": "2022-05-06T15:02:02.196Z"
   },
   {
    "duration": 85,
    "start_time": "2022-05-06T15:02:10.949Z"
   },
   {
    "duration": 2,
    "start_time": "2022-05-06T15:02:35.536Z"
   },
   {
    "duration": 2802,
    "start_time": "2022-05-06T15:02:37.489Z"
   },
   {
    "duration": 3,
    "start_time": "2022-05-06T15:02:43.902Z"
   },
   {
    "duration": 2,
    "start_time": "2022-05-06T15:02:47.024Z"
   },
   {
    "duration": 2933,
    "start_time": "2022-05-06T15:02:48.539Z"
   },
   {
    "duration": 66,
    "start_time": "2022-05-06T15:02:53.035Z"
   },
   {
    "duration": 416,
    "start_time": "2022-05-06T15:03:15.331Z"
   },
   {
    "duration": 748,
    "start_time": "2022-05-06T15:03:15.749Z"
   },
   {
    "duration": 131,
    "start_time": "2022-05-06T15:03:16.498Z"
   },
   {
    "duration": 271,
    "start_time": "2022-05-06T15:03:16.631Z"
   },
   {
    "duration": 96,
    "start_time": "2022-05-06T15:03:16.904Z"
   },
   {
    "duration": 2,
    "start_time": "2022-05-06T15:03:17.002Z"
   },
   {
    "duration": 3211,
    "start_time": "2022-05-06T15:03:17.006Z"
   },
   {
    "duration": 101,
    "start_time": "2022-05-06T15:03:20.219Z"
   },
   {
    "duration": 36,
    "start_time": "2022-05-06T15:03:20.322Z"
   },
   {
    "duration": 128,
    "start_time": "2022-05-06T15:03:20.360Z"
   },
   {
    "duration": 8,
    "start_time": "2022-05-06T15:03:20.489Z"
   },
   {
    "duration": 492,
    "start_time": "2022-05-06T15:03:20.499Z"
   },
   {
    "duration": 72,
    "start_time": "2022-05-06T16:43:10.537Z"
   },
   {
    "duration": 3,
    "start_time": "2022-05-06T16:54:55.280Z"
   },
   {
    "duration": 404,
    "start_time": "2022-05-06T16:55:01.044Z"
   },
   {
    "duration": 863,
    "start_time": "2022-05-06T16:55:01.453Z"
   },
   {
    "duration": 140,
    "start_time": "2022-05-06T16:55:02.318Z"
   },
   {
    "duration": 268,
    "start_time": "2022-05-06T16:55:02.461Z"
   },
   {
    "duration": 98,
    "start_time": "2022-05-06T16:55:02.731Z"
   },
   {
    "duration": 3,
    "start_time": "2022-05-06T16:55:02.831Z"
   },
   {
    "duration": 77,
    "start_time": "2022-05-06T16:55:02.836Z"
   },
   {
    "duration": 0,
    "start_time": "2022-05-06T16:55:02.915Z"
   },
   {
    "duration": 0,
    "start_time": "2022-05-06T16:55:02.917Z"
   },
   {
    "duration": 0,
    "start_time": "2022-05-06T16:55:02.919Z"
   },
   {
    "duration": 0,
    "start_time": "2022-05-06T16:55:02.921Z"
   },
   {
    "duration": 0,
    "start_time": "2022-05-06T16:55:02.922Z"
   },
   {
    "duration": 75,
    "start_time": "2022-05-06T16:55:06.262Z"
   },
   {
    "duration": 7,
    "start_time": "2022-05-06T16:56:32.022Z"
   },
   {
    "duration": 6,
    "start_time": "2022-05-06T16:56:46.199Z"
   },
   {
    "duration": 37,
    "start_time": "2022-05-06T16:57:31.140Z"
   },
   {
    "duration": 93,
    "start_time": "2022-05-06T16:57:33.477Z"
   },
   {
    "duration": 40,
    "start_time": "2022-05-06T16:57:42.095Z"
   },
   {
    "duration": 80,
    "start_time": "2022-05-06T16:57:46.143Z"
   },
   {
    "duration": 29,
    "start_time": "2022-05-06T16:57:54.281Z"
   },
   {
    "duration": 85,
    "start_time": "2022-05-06T16:57:56.056Z"
   },
   {
    "duration": 8,
    "start_time": "2022-05-06T16:58:21.110Z"
   },
   {
    "duration": 3,
    "start_time": "2022-05-06T16:59:43.587Z"
   },
   {
    "duration": 2,
    "start_time": "2022-05-06T16:59:53.235Z"
   },
   {
    "duration": 3,
    "start_time": "2022-05-06T17:00:27.326Z"
   },
   {
    "duration": 62,
    "start_time": "2022-05-06T17:00:35.435Z"
   },
   {
    "duration": 107,
    "start_time": "2022-05-06T17:00:41.814Z"
   },
   {
    "duration": 2,
    "start_time": "2022-05-06T17:00:48.543Z"
   },
   {
    "duration": 22,
    "start_time": "2022-05-06T17:00:51.727Z"
   },
   {
    "duration": 76,
    "start_time": "2022-05-06T17:00:59.000Z"
   },
   {
    "duration": 8,
    "start_time": "2022-05-06T17:01:14.018Z"
   },
   {
    "duration": 24,
    "start_time": "2022-05-06T17:01:16.733Z"
   },
   {
    "duration": 2,
    "start_time": "2022-05-06T17:01:21.276Z"
   },
   {
    "duration": 396,
    "start_time": "2022-05-06T17:01:51.447Z"
   },
   {
    "duration": 742,
    "start_time": "2022-05-06T17:01:51.845Z"
   },
   {
    "duration": 121,
    "start_time": "2022-05-06T17:01:52.589Z"
   },
   {
    "duration": 256,
    "start_time": "2022-05-06T17:01:52.712Z"
   },
   {
    "duration": 96,
    "start_time": "2022-05-06T17:01:52.969Z"
   },
   {
    "duration": 2,
    "start_time": "2022-05-06T17:01:53.067Z"
   },
   {
    "duration": 87,
    "start_time": "2022-05-06T17:01:53.071Z"
   },
   {
    "duration": 33,
    "start_time": "2022-05-06T17:01:53.160Z"
   },
   {
    "duration": 36,
    "start_time": "2022-05-06T17:01:53.194Z"
   },
   {
    "duration": 8,
    "start_time": "2022-05-06T17:01:53.249Z"
   },
   {
    "duration": 272,
    "start_time": "2022-05-06T17:01:53.259Z"
   },
   {
    "duration": 32,
    "start_time": "2022-05-06T17:02:35.924Z"
   },
   {
    "duration": 17,
    "start_time": "2022-05-06T17:02:41.028Z"
   },
   {
    "duration": 549,
    "start_time": "2022-05-06T17:03:02.618Z"
   },
   {
    "duration": 12,
    "start_time": "2022-05-06T17:03:15.024Z"
   },
   {
    "duration": 13,
    "start_time": "2022-05-06T17:03:19.976Z"
   },
   {
    "duration": 13,
    "start_time": "2022-05-06T17:03:22.972Z"
   },
   {
    "duration": 21,
    "start_time": "2022-05-06T17:03:34.229Z"
   },
   {
    "duration": 10,
    "start_time": "2022-05-06T17:03:54.506Z"
   },
   {
    "duration": 10,
    "start_time": "2022-05-06T17:03:57.650Z"
   },
   {
    "duration": 11,
    "start_time": "2022-05-06T17:04:00.856Z"
   },
   {
    "duration": 11,
    "start_time": "2022-05-06T17:04:17.433Z"
   },
   {
    "duration": 415,
    "start_time": "2022-05-06T17:04:32.127Z"
   },
   {
    "duration": 761,
    "start_time": "2022-05-06T17:04:32.545Z"
   },
   {
    "duration": 130,
    "start_time": "2022-05-06T17:04:33.307Z"
   },
   {
    "duration": 263,
    "start_time": "2022-05-06T17:04:33.440Z"
   },
   {
    "duration": 97,
    "start_time": "2022-05-06T17:04:33.704Z"
   },
   {
    "duration": 13,
    "start_time": "2022-05-06T17:04:33.802Z"
   },
   {
    "duration": 2,
    "start_time": "2022-05-06T17:04:33.817Z"
   },
   {
    "duration": 95,
    "start_time": "2022-05-06T17:04:33.821Z"
   },
   {
    "duration": 36,
    "start_time": "2022-05-06T17:04:33.918Z"
   },
   {
    "duration": 31,
    "start_time": "2022-05-06T17:04:33.956Z"
   },
   {
    "duration": 8,
    "start_time": "2022-05-06T17:04:33.988Z"
   },
   {
    "duration": 283,
    "start_time": "2022-05-06T17:04:33.998Z"
   },
   {
    "duration": 9,
    "start_time": "2022-05-06T17:04:43.954Z"
   },
   {
    "duration": 557,
    "start_time": "2022-05-06T17:04:47.672Z"
   },
   {
    "duration": 11,
    "start_time": "2022-05-06T17:04:51.055Z"
   },
   {
    "duration": 11,
    "start_time": "2022-05-06T17:04:53.614Z"
   },
   {
    "duration": 11,
    "start_time": "2022-05-06T17:04:56.993Z"
   },
   {
    "duration": 2,
    "start_time": "2022-05-06T17:05:20.094Z"
   },
   {
    "duration": 42,
    "start_time": "2022-05-06T17:05:35.869Z"
   },
   {
    "duration": 61,
    "start_time": "2022-05-06T17:05:38.431Z"
   },
   {
    "duration": 3,
    "start_time": "2022-05-06T17:05:51.552Z"
   },
   {
    "duration": 8,
    "start_time": "2022-05-06T17:05:53.184Z"
   },
   {
    "duration": 336,
    "start_time": "2022-05-06T17:05:58.003Z"
   },
   {
    "duration": 730,
    "start_time": "2022-05-06T17:05:58.341Z"
   },
   {
    "duration": 133,
    "start_time": "2022-05-06T17:05:59.073Z"
   },
   {
    "duration": 261,
    "start_time": "2022-05-06T17:05:59.208Z"
   },
   {
    "duration": 94,
    "start_time": "2022-05-06T17:05:59.471Z"
   },
   {
    "duration": 12,
    "start_time": "2022-05-06T17:05:59.567Z"
   },
   {
    "duration": 2,
    "start_time": "2022-05-06T17:05:59.581Z"
   },
   {
    "duration": 32,
    "start_time": "2022-05-06T17:05:59.585Z"
   },
   {
    "duration": 102,
    "start_time": "2022-05-06T17:05:59.619Z"
   },
   {
    "duration": 42,
    "start_time": "2022-05-06T17:05:59.723Z"
   },
   {
    "duration": 33,
    "start_time": "2022-05-06T17:05:59.767Z"
   },
   {
    "duration": 9,
    "start_time": "2022-05-06T17:05:59.802Z"
   },
   {
    "duration": 289,
    "start_time": "2022-05-06T17:05:59.813Z"
   },
   {
    "duration": 3,
    "start_time": "2022-05-06T17:06:02.621Z"
   },
   {
    "duration": 394,
    "start_time": "2022-05-06T17:06:10.262Z"
   },
   {
    "duration": 755,
    "start_time": "2022-05-06T17:06:10.658Z"
   },
   {
    "duration": 136,
    "start_time": "2022-05-06T17:06:11.414Z"
   },
   {
    "duration": 266,
    "start_time": "2022-05-06T17:06:11.552Z"
   },
   {
    "duration": 101,
    "start_time": "2022-05-06T17:06:11.819Z"
   },
   {
    "duration": 13,
    "start_time": "2022-05-06T17:06:11.921Z"
   },
   {
    "duration": 13,
    "start_time": "2022-05-06T17:06:11.935Z"
   },
   {
    "duration": 32,
    "start_time": "2022-05-06T17:06:11.950Z"
   },
   {
    "duration": 90,
    "start_time": "2022-05-06T17:06:11.983Z"
   },
   {
    "duration": 34,
    "start_time": "2022-05-06T17:06:12.075Z"
   },
   {
    "duration": 46,
    "start_time": "2022-05-06T17:06:12.110Z"
   },
   {
    "duration": 9,
    "start_time": "2022-05-06T17:06:12.157Z"
   },
   {
    "duration": 284,
    "start_time": "2022-05-06T17:06:12.168Z"
   },
   {
    "duration": 77,
    "start_time": "2022-05-06T17:06:19.357Z"
   },
   {
    "duration": 2,
    "start_time": "2022-05-06T17:07:30.549Z"
   },
   {
    "duration": 50,
    "start_time": "2022-05-06T17:07:43.621Z"
   },
   {
    "duration": 24,
    "start_time": "2022-05-06T17:07:46.953Z"
   },
   {
    "duration": 80,
    "start_time": "2022-05-06T17:07:49.341Z"
   },
   {
    "duration": 13,
    "start_time": "2022-05-06T17:09:36.438Z"
   },
   {
    "duration": 12,
    "start_time": "2022-05-06T17:09:43.692Z"
   },
   {
    "duration": 13,
    "start_time": "2022-05-06T17:09:47.511Z"
   },
   {
    "duration": 12,
    "start_time": "2022-05-06T17:09:50.275Z"
   },
   {
    "duration": 17,
    "start_time": "2022-05-06T17:10:55.779Z"
   },
   {
    "duration": 11,
    "start_time": "2022-05-06T17:11:02.707Z"
   },
   {
    "duration": 446,
    "start_time": "2022-05-06T17:12:43.432Z"
   },
   {
    "duration": 56,
    "start_time": "2022-05-06T17:12:49.624Z"
   },
   {
    "duration": 54,
    "start_time": "2022-05-06T17:13:03.431Z"
   },
   {
    "duration": 10,
    "start_time": "2022-05-06T17:14:01.523Z"
   },
   {
    "duration": 59,
    "start_time": "2022-05-06T17:14:25.151Z"
   },
   {
    "duration": 71,
    "start_time": "2022-05-06T17:14:32.024Z"
   },
   {
    "duration": 12,
    "start_time": "2022-05-06T17:14:48.801Z"
   },
   {
    "duration": 9,
    "start_time": "2022-05-06T17:14:56.303Z"
   },
   {
    "duration": 107,
    "start_time": "2022-05-06T17:15:47.506Z"
   },
   {
    "duration": 1610,
    "start_time": "2022-05-06T17:17:20.214Z"
   },
   {
    "duration": 572,
    "start_time": "2022-05-06T17:17:38.281Z"
   },
   {
    "duration": 128,
    "start_time": "2022-05-06T17:17:44.423Z"
   },
   {
    "duration": 26,
    "start_time": "2022-05-06T17:19:46.843Z"
   },
   {
    "duration": 46,
    "start_time": "2022-05-06T17:19:56.804Z"
   },
   {
    "duration": 125,
    "start_time": "2022-05-06T17:20:34.563Z"
   },
   {
    "duration": 129,
    "start_time": "2022-05-06T17:20:42.871Z"
   },
   {
    "duration": 24,
    "start_time": "2022-05-06T17:20:57.725Z"
   },
   {
    "duration": 20,
    "start_time": "2022-05-06T17:21:28.668Z"
   },
   {
    "duration": 100,
    "start_time": "2022-05-06T17:21:53.033Z"
   },
   {
    "duration": 18,
    "start_time": "2022-05-06T17:21:58.447Z"
   },
   {
    "duration": 20,
    "start_time": "2022-05-06T17:22:06.032Z"
   },
   {
    "duration": 89,
    "start_time": "2022-05-06T17:22:12.647Z"
   },
   {
    "duration": 22,
    "start_time": "2022-05-06T17:22:16.603Z"
   },
   {
    "duration": 18,
    "start_time": "2022-05-06T17:22:27.035Z"
   },
   {
    "duration": 21,
    "start_time": "2022-05-06T17:24:14.614Z"
   },
   {
    "duration": 9,
    "start_time": "2022-05-06T17:25:14.153Z"
   },
   {
    "duration": 7,
    "start_time": "2022-05-06T17:26:10.088Z"
   },
   {
    "duration": 12,
    "start_time": "2022-05-06T17:27:02.907Z"
   },
   {
    "duration": 7,
    "start_time": "2022-05-06T17:27:11.795Z"
   },
   {
    "duration": 5,
    "start_time": "2022-05-06T17:27:20.233Z"
   },
   {
    "duration": 5,
    "start_time": "2022-05-06T17:27:27.520Z"
   },
   {
    "duration": 4,
    "start_time": "2022-05-06T17:27:41.132Z"
   },
   {
    "duration": 5,
    "start_time": "2022-05-06T17:27:51.313Z"
   },
   {
    "duration": 6,
    "start_time": "2022-05-06T17:27:58.278Z"
   },
   {
    "duration": 9,
    "start_time": "2022-05-06T17:28:13.844Z"
   },
   {
    "duration": 6,
    "start_time": "2022-05-06T17:29:52.038Z"
   },
   {
    "duration": 9,
    "start_time": "2022-05-06T17:31:14.352Z"
   },
   {
    "duration": 39,
    "start_time": "2022-05-06T17:34:16.241Z"
   },
   {
    "duration": 122,
    "start_time": "2022-05-06T17:34:29.982Z"
   },
   {
    "duration": 22,
    "start_time": "2022-05-06T17:34:34.288Z"
   },
   {
    "duration": 2727,
    "start_time": "2022-05-06T17:34:50.853Z"
   },
   {
    "duration": 1478,
    "start_time": "2022-05-06T17:35:19.662Z"
   },
   {
    "duration": 9,
    "start_time": "2022-05-06T17:37:00.759Z"
   },
   {
    "duration": 788,
    "start_time": "2022-05-06T17:37:23.642Z"
   },
   {
    "duration": 351,
    "start_time": "2022-05-06T17:38:01.503Z"
   },
   {
    "duration": 873,
    "start_time": "2022-05-06T17:38:01.856Z"
   },
   {
    "duration": 120,
    "start_time": "2022-05-06T17:38:02.731Z"
   },
   {
    "duration": 2022,
    "start_time": "2022-05-06T17:38:02.852Z"
   },
   {
    "duration": 0,
    "start_time": "2022-05-06T17:38:04.876Z"
   },
   {
    "duration": 0,
    "start_time": "2022-05-06T17:38:04.877Z"
   },
   {
    "duration": 0,
    "start_time": "2022-05-06T17:38:04.878Z"
   },
   {
    "duration": 0,
    "start_time": "2022-05-06T17:38:04.879Z"
   },
   {
    "duration": 0,
    "start_time": "2022-05-06T17:38:04.880Z"
   },
   {
    "duration": 0,
    "start_time": "2022-05-06T17:38:04.881Z"
   },
   {
    "duration": 0,
    "start_time": "2022-05-06T17:38:04.882Z"
   },
   {
    "duration": 0,
    "start_time": "2022-05-06T17:38:04.882Z"
   },
   {
    "duration": 0,
    "start_time": "2022-05-06T17:38:04.883Z"
   },
   {
    "duration": 0,
    "start_time": "2022-05-06T17:38:04.884Z"
   },
   {
    "duration": 0,
    "start_time": "2022-05-06T17:38:04.887Z"
   },
   {
    "duration": 0,
    "start_time": "2022-05-06T17:38:04.888Z"
   },
   {
    "duration": 0,
    "start_time": "2022-05-06T17:38:04.889Z"
   },
   {
    "duration": 0,
    "start_time": "2022-05-06T17:38:04.889Z"
   },
   {
    "duration": 0,
    "start_time": "2022-05-06T17:38:04.890Z"
   },
   {
    "duration": 142,
    "start_time": "2022-05-06T17:38:26.588Z"
   },
   {
    "duration": 362,
    "start_time": "2022-05-06T17:38:31.187Z"
   },
   {
    "duration": 842,
    "start_time": "2022-05-06T17:38:31.551Z"
   },
   {
    "duration": 115,
    "start_time": "2022-05-06T17:38:32.395Z"
   },
   {
    "duration": 152,
    "start_time": "2022-05-06T17:38:32.512Z"
   },
   {
    "duration": 100,
    "start_time": "2022-05-06T17:38:32.666Z"
   },
   {
    "duration": 402,
    "start_time": "2022-05-06T17:38:32.767Z"
   },
   {
    "duration": 10,
    "start_time": "2022-05-06T17:38:33.170Z"
   },
   {
    "duration": 12,
    "start_time": "2022-05-06T17:38:33.182Z"
   },
   {
    "duration": 1469,
    "start_time": "2022-05-06T17:38:33.195Z"
   },
   {
    "duration": 6,
    "start_time": "2022-05-06T17:38:34.667Z"
   },
   {
    "duration": 45,
    "start_time": "2022-05-06T17:38:34.674Z"
   },
   {
    "duration": 9,
    "start_time": "2022-05-06T17:38:34.721Z"
   },
   {
    "duration": 3,
    "start_time": "2022-05-06T17:38:34.731Z"
   },
   {
    "duration": 117,
    "start_time": "2022-05-06T17:38:34.735Z"
   },
   {
    "duration": 68,
    "start_time": "2022-05-06T17:38:34.854Z"
   },
   {
    "duration": 38,
    "start_time": "2022-05-06T17:38:34.923Z"
   },
   {
    "duration": 37,
    "start_time": "2022-05-06T17:38:34.962Z"
   },
   {
    "duration": 13,
    "start_time": "2022-05-06T17:38:35.001Z"
   },
   {
    "duration": 336,
    "start_time": "2022-05-06T17:38:35.016Z"
   },
   {
    "duration": 1382,
    "start_time": "2022-05-06T17:43:48.971Z"
   },
   {
    "duration": 129,
    "start_time": "2022-05-06T17:45:13.776Z"
   },
   {
    "duration": 1485,
    "start_time": "2022-05-06T17:45:32.263Z"
   },
   {
    "duration": 39,
    "start_time": "2022-05-06T17:46:10.614Z"
   },
   {
    "duration": 66,
    "start_time": "2022-05-06T17:46:44.306Z"
   },
   {
    "duration": 30,
    "start_time": "2022-05-06T17:47:08.604Z"
   },
   {
    "duration": 798,
    "start_time": "2022-05-06T17:47:24.390Z"
   },
   {
    "duration": 39,
    "start_time": "2022-05-06T17:47:32.923Z"
   },
   {
    "duration": 1167,
    "start_time": "2022-05-06T17:49:54.754Z"
   },
   {
    "duration": 0,
    "start_time": "2022-05-06T17:53:22.047Z"
   },
   {
    "duration": 0,
    "start_time": "2022-05-06T17:53:22.049Z"
   },
   {
    "duration": 420,
    "start_time": "2022-05-06T17:53:45.513Z"
   },
   {
    "duration": 932,
    "start_time": "2022-05-06T17:53:45.935Z"
   },
   {
    "duration": 124,
    "start_time": "2022-05-06T17:53:46.868Z"
   },
   {
    "duration": 183,
    "start_time": "2022-05-06T17:53:46.994Z"
   },
   {
    "duration": 98,
    "start_time": "2022-05-06T17:53:47.179Z"
   },
   {
    "duration": 421,
    "start_time": "2022-05-06T17:53:47.279Z"
   },
   {
    "duration": 12,
    "start_time": "2022-05-06T17:53:47.701Z"
   },
   {
    "duration": 13,
    "start_time": "2022-05-06T17:53:47.714Z"
   },
   {
    "duration": 266045,
    "start_time": "2022-05-06T17:53:47.728Z"
   },
   {
    "duration": 0,
    "start_time": "2022-05-06T17:58:13.775Z"
   },
   {
    "duration": 0,
    "start_time": "2022-05-06T17:58:13.805Z"
   },
   {
    "duration": 0,
    "start_time": "2022-05-06T17:58:13.806Z"
   },
   {
    "duration": 0,
    "start_time": "2022-05-06T17:58:13.807Z"
   },
   {
    "duration": 0,
    "start_time": "2022-05-06T17:58:13.808Z"
   },
   {
    "duration": 0,
    "start_time": "2022-05-06T17:58:13.809Z"
   },
   {
    "duration": 0,
    "start_time": "2022-05-06T17:58:13.811Z"
   },
   {
    "duration": 0,
    "start_time": "2022-05-06T17:58:13.811Z"
   },
   {
    "duration": 0,
    "start_time": "2022-05-06T17:58:13.812Z"
   },
   {
    "duration": 0,
    "start_time": "2022-05-06T17:58:13.813Z"
   },
   {
    "duration": 371,
    "start_time": "2022-05-06T17:58:17.890Z"
   },
   {
    "duration": 900,
    "start_time": "2022-05-06T17:58:18.264Z"
   },
   {
    "duration": 116,
    "start_time": "2022-05-06T17:58:19.166Z"
   },
   {
    "duration": 164,
    "start_time": "2022-05-06T17:58:19.284Z"
   },
   {
    "duration": 97,
    "start_time": "2022-05-06T17:58:19.450Z"
   },
   {
    "duration": 373,
    "start_time": "2022-05-06T17:58:19.549Z"
   },
   {
    "duration": 14,
    "start_time": "2022-05-06T17:58:19.923Z"
   },
   {
    "duration": 73,
    "start_time": "2022-05-06T17:58:19.947Z"
   },
   {
    "duration": 0,
    "start_time": "2022-05-06T17:58:20.022Z"
   },
   {
    "duration": 0,
    "start_time": "2022-05-06T17:58:20.023Z"
   },
   {
    "duration": 0,
    "start_time": "2022-05-06T17:58:20.024Z"
   },
   {
    "duration": 0,
    "start_time": "2022-05-06T17:58:20.025Z"
   },
   {
    "duration": 0,
    "start_time": "2022-05-06T17:58:20.026Z"
   },
   {
    "duration": 0,
    "start_time": "2022-05-06T17:58:20.027Z"
   },
   {
    "duration": 0,
    "start_time": "2022-05-06T17:58:20.047Z"
   },
   {
    "duration": 0,
    "start_time": "2022-05-06T17:58:20.049Z"
   },
   {
    "duration": 0,
    "start_time": "2022-05-06T17:58:20.050Z"
   },
   {
    "duration": 9,
    "start_time": "2022-05-06T17:59:37.043Z"
   },
   {
    "duration": 9,
    "start_time": "2022-05-06T17:59:45.324Z"
   },
   {
    "duration": 5269,
    "start_time": "2022-05-06T18:00:09.263Z"
   },
   {
    "duration": 398,
    "start_time": "2022-05-06T18:00:47.444Z"
   },
   {
    "duration": 923,
    "start_time": "2022-05-06T18:00:47.844Z"
   },
   {
    "duration": 114,
    "start_time": "2022-05-06T18:00:48.769Z"
   },
   {
    "duration": 166,
    "start_time": "2022-05-06T18:00:48.886Z"
   },
   {
    "duration": 94,
    "start_time": "2022-05-06T18:00:49.053Z"
   },
   {
    "duration": 381,
    "start_time": "2022-05-06T18:00:49.149Z"
   },
   {
    "duration": 18,
    "start_time": "2022-05-06T18:00:49.531Z"
   },
   {
    "duration": 0,
    "start_time": "2022-05-06T18:00:55.466Z"
   },
   {
    "duration": 0,
    "start_time": "2022-05-06T18:00:55.468Z"
   },
   {
    "duration": 0,
    "start_time": "2022-05-06T18:00:55.469Z"
   },
   {
    "duration": 0,
    "start_time": "2022-05-06T18:00:55.470Z"
   },
   {
    "duration": 0,
    "start_time": "2022-05-06T18:00:55.471Z"
   },
   {
    "duration": 0,
    "start_time": "2022-05-06T18:00:55.472Z"
   },
   {
    "duration": 0,
    "start_time": "2022-05-06T18:00:55.473Z"
   },
   {
    "duration": 0,
    "start_time": "2022-05-06T18:00:55.474Z"
   },
   {
    "duration": 0,
    "start_time": "2022-05-06T18:00:55.474Z"
   },
   {
    "duration": 1369,
    "start_time": "2022-05-06T18:00:56.151Z"
   },
   {
    "duration": 488,
    "start_time": "2022-05-06T18:01:03.145Z"
   },
   {
    "duration": 856,
    "start_time": "2022-05-06T18:01:03.635Z"
   },
   {
    "duration": 123,
    "start_time": "2022-05-06T18:01:04.492Z"
   },
   {
    "duration": 169,
    "start_time": "2022-05-06T18:01:04.617Z"
   },
   {
    "duration": 104,
    "start_time": "2022-05-06T18:01:04.788Z"
   },
   {
    "duration": 439,
    "start_time": "2022-05-06T18:01:04.894Z"
   },
   {
    "duration": 20,
    "start_time": "2022-05-06T18:01:05.335Z"
   },
   {
    "duration": 3815,
    "start_time": "2022-05-06T18:01:05.357Z"
   },
   {
    "duration": 0,
    "start_time": "2022-05-06T18:01:09.173Z"
   },
   {
    "duration": 0,
    "start_time": "2022-05-06T18:01:09.174Z"
   },
   {
    "duration": 0,
    "start_time": "2022-05-06T18:01:09.175Z"
   },
   {
    "duration": 0,
    "start_time": "2022-05-06T18:01:09.176Z"
   },
   {
    "duration": 0,
    "start_time": "2022-05-06T18:01:09.177Z"
   },
   {
    "duration": 0,
    "start_time": "2022-05-06T18:01:09.178Z"
   },
   {
    "duration": 0,
    "start_time": "2022-05-06T18:01:09.179Z"
   },
   {
    "duration": 0,
    "start_time": "2022-05-06T18:01:09.180Z"
   },
   {
    "duration": 0,
    "start_time": "2022-05-06T18:01:09.180Z"
   },
   {
    "duration": 9,
    "start_time": "2022-05-06T18:01:41.689Z"
   },
   {
    "duration": 1887,
    "start_time": "2022-05-06T18:02:08.638Z"
   },
   {
    "duration": 405,
    "start_time": "2022-05-06T18:02:55.256Z"
   },
   {
    "duration": 810,
    "start_time": "2022-05-06T18:02:55.664Z"
   },
   {
    "duration": 142,
    "start_time": "2022-05-06T18:02:56.476Z"
   },
   {
    "duration": 274,
    "start_time": "2022-05-06T18:02:56.621Z"
   },
   {
    "duration": 101,
    "start_time": "2022-05-06T18:02:56.897Z"
   },
   {
    "duration": 387,
    "start_time": "2022-05-06T18:02:57.000Z"
   },
   {
    "duration": 13,
    "start_time": "2022-05-06T18:02:57.389Z"
   },
   {
    "duration": 133,
    "start_time": "2022-05-06T18:02:57.404Z"
   },
   {
    "duration": 40423,
    "start_time": "2022-05-06T18:02:57.539Z"
   },
   {
    "duration": 0,
    "start_time": "2022-05-06T18:03:37.964Z"
   },
   {
    "duration": 0,
    "start_time": "2022-05-06T18:03:37.966Z"
   },
   {
    "duration": 0,
    "start_time": "2022-05-06T18:03:37.967Z"
   },
   {
    "duration": 0,
    "start_time": "2022-05-06T18:03:37.969Z"
   },
   {
    "duration": 0,
    "start_time": "2022-05-06T18:03:37.970Z"
   },
   {
    "duration": 0,
    "start_time": "2022-05-06T18:03:37.971Z"
   },
   {
    "duration": 0,
    "start_time": "2022-05-06T18:03:37.973Z"
   },
   {
    "duration": 0,
    "start_time": "2022-05-06T18:03:37.974Z"
   },
   {
    "duration": 13,
    "start_time": "2022-05-06T18:03:52.775Z"
   },
   {
    "duration": 266,
    "start_time": "2022-05-06T18:04:02.301Z"
   },
   {
    "duration": 7,
    "start_time": "2022-05-06T18:15:23.318Z"
   },
   {
    "duration": 26,
    "start_time": "2022-05-06T18:15:27.645Z"
   },
   {
    "duration": 0,
    "start_time": "2022-05-06T18:16:02.031Z"
   },
   {
    "duration": 349,
    "start_time": "2022-05-06T18:16:05.398Z"
   },
   {
    "duration": 843,
    "start_time": "2022-05-06T18:16:05.749Z"
   },
   {
    "duration": 139,
    "start_time": "2022-05-06T18:16:06.593Z"
   },
   {
    "duration": 269,
    "start_time": "2022-05-06T18:16:06.734Z"
   },
   {
    "duration": 99,
    "start_time": "2022-05-06T18:16:07.005Z"
   },
   {
    "duration": 389,
    "start_time": "2022-05-06T18:16:07.105Z"
   },
   {
    "duration": 13,
    "start_time": "2022-05-06T18:16:07.496Z"
   },
   {
    "duration": 40,
    "start_time": "2022-05-06T18:16:07.511Z"
   },
   {
    "duration": 95,
    "start_time": "2022-05-06T18:16:07.553Z"
   },
   {
    "duration": 2,
    "start_time": "2022-05-06T18:16:07.651Z"
   },
   {
    "duration": 4,
    "start_time": "2022-05-06T18:16:07.655Z"
   },
   {
    "duration": 14,
    "start_time": "2022-05-06T18:16:07.661Z"
   },
   {
    "duration": 88,
    "start_time": "2022-05-06T18:16:07.677Z"
   },
   {
    "duration": 3,
    "start_time": "2022-05-06T18:16:07.766Z"
   },
   {
    "duration": 81,
    "start_time": "2022-05-06T18:16:07.771Z"
   },
   {
    "duration": 79,
    "start_time": "2022-05-06T18:16:07.853Z"
   },
   {
    "duration": 40,
    "start_time": "2022-05-06T18:16:07.933Z"
   },
   {
    "duration": 30,
    "start_time": "2022-05-06T18:16:07.974Z"
   },
   {
    "duration": 9,
    "start_time": "2022-05-06T18:16:08.006Z"
   },
   {
    "duration": 257,
    "start_time": "2022-05-06T18:16:08.017Z"
   },
   {
    "duration": 78,
    "start_time": "2022-05-06T18:16:18.599Z"
   },
   {
    "duration": 7,
    "start_time": "2022-05-06T18:16:22.379Z"
   },
   {
    "duration": 2,
    "start_time": "2022-05-06T18:17:44.361Z"
   },
   {
    "duration": 8,
    "start_time": "2022-05-06T18:18:22.926Z"
   },
   {
    "duration": 371,
    "start_time": "2022-05-06T18:18:27.609Z"
   },
   {
    "duration": 768,
    "start_time": "2022-05-06T18:18:27.982Z"
   },
   {
    "duration": 132,
    "start_time": "2022-05-06T18:18:28.754Z"
   },
   {
    "duration": 267,
    "start_time": "2022-05-06T18:18:28.888Z"
   },
   {
    "duration": 94,
    "start_time": "2022-05-06T18:18:29.157Z"
   },
   {
    "duration": 372,
    "start_time": "2022-05-06T18:18:29.253Z"
   },
   {
    "duration": 13,
    "start_time": "2022-05-06T18:18:29.626Z"
   },
   {
    "duration": 67,
    "start_time": "2022-05-06T18:18:29.648Z"
   },
   {
    "duration": 0,
    "start_time": "2022-05-06T18:18:29.717Z"
   },
   {
    "duration": 0,
    "start_time": "2022-05-06T18:18:29.718Z"
   },
   {
    "duration": 0,
    "start_time": "2022-05-06T18:18:29.719Z"
   },
   {
    "duration": 0,
    "start_time": "2022-05-06T18:18:29.720Z"
   },
   {
    "duration": 0,
    "start_time": "2022-05-06T18:18:29.721Z"
   },
   {
    "duration": 0,
    "start_time": "2022-05-06T18:18:29.723Z"
   },
   {
    "duration": 0,
    "start_time": "2022-05-06T18:18:29.723Z"
   },
   {
    "duration": 0,
    "start_time": "2022-05-06T18:18:29.724Z"
   },
   {
    "duration": 0,
    "start_time": "2022-05-06T18:18:29.725Z"
   },
   {
    "duration": 0,
    "start_time": "2022-05-06T18:18:29.747Z"
   },
   {
    "duration": 0,
    "start_time": "2022-05-06T18:18:29.748Z"
   },
   {
    "duration": 0,
    "start_time": "2022-05-06T18:18:29.749Z"
   },
   {
    "duration": 192,
    "start_time": "2022-05-06T18:18:41.531Z"
   },
   {
    "duration": 88,
    "start_time": "2022-05-06T18:18:44.635Z"
   },
   {
    "duration": 20777,
    "start_time": "2022-05-06T18:18:50.259Z"
   },
   {
    "duration": 14,
    "start_time": "2022-05-06T18:19:22.077Z"
   },
   {
    "duration": 87,
    "start_time": "2022-05-06T18:19:48.932Z"
   },
   {
    "duration": 26,
    "start_time": "2022-05-06T18:19:55.500Z"
   },
   {
    "duration": 10,
    "start_time": "2022-05-06T18:20:01.319Z"
   },
   {
    "duration": 39,
    "start_time": "2022-05-06T18:20:07.612Z"
   },
   {
    "duration": 3005,
    "start_time": "2022-05-06T18:20:17.434Z"
   },
   {
    "duration": 389,
    "start_time": "2022-05-06T18:21:10.674Z"
   },
   {
    "duration": 804,
    "start_time": "2022-05-06T18:21:11.065Z"
   },
   {
    "duration": 128,
    "start_time": "2022-05-06T18:21:11.870Z"
   },
   {
    "duration": 281,
    "start_time": "2022-05-06T18:21:12.001Z"
   },
   {
    "duration": 96,
    "start_time": "2022-05-06T18:21:12.283Z"
   },
   {
    "duration": 416,
    "start_time": "2022-05-06T18:21:12.381Z"
   },
   {
    "duration": 15,
    "start_time": "2022-05-06T18:21:12.798Z"
   },
   {
    "duration": 26,
    "start_time": "2022-05-06T18:21:12.815Z"
   },
   {
    "duration": 94,
    "start_time": "2022-05-06T18:21:12.842Z"
   },
   {
    "duration": 3,
    "start_time": "2022-05-06T18:21:12.951Z"
   },
   {
    "duration": 12,
    "start_time": "2022-05-06T18:21:12.956Z"
   },
   {
    "duration": 15,
    "start_time": "2022-05-06T18:21:12.969Z"
   },
   {
    "duration": 14,
    "start_time": "2022-05-06T18:21:12.985Z"
   },
   {
    "duration": 3,
    "start_time": "2022-05-06T18:21:13.000Z"
   },
   {
    "duration": 100,
    "start_time": "2022-05-06T18:21:13.004Z"
   },
   {
    "duration": 93,
    "start_time": "2022-05-06T18:21:13.106Z"
   },
   {
    "duration": 31,
    "start_time": "2022-05-06T18:21:13.200Z"
   },
   {
    "duration": 43,
    "start_time": "2022-05-06T18:21:13.233Z"
   },
   {
    "duration": 8,
    "start_time": "2022-05-06T18:21:13.278Z"
   },
   {
    "duration": 271,
    "start_time": "2022-05-06T18:21:13.288Z"
   },
   {
    "duration": 10,
    "start_time": "2022-05-06T18:21:28.062Z"
   },
   {
    "duration": 188,
    "start_time": "2022-05-06T18:21:37.301Z"
   },
   {
    "duration": 64,
    "start_time": "2022-05-06T18:21:47.146Z"
   },
   {
    "duration": 9,
    "start_time": "2022-05-06T18:22:13.363Z"
   },
   {
    "duration": 22,
    "start_time": "2022-05-06T18:22:18.416Z"
   },
   {
    "duration": 2641,
    "start_time": "2022-05-06T18:22:32.255Z"
   },
   {
    "duration": 15,
    "start_time": "2022-05-06T18:22:49.473Z"
   },
   {
    "duration": 77,
    "start_time": "2022-05-06T18:23:49.523Z"
   },
   {
    "duration": 10,
    "start_time": "2022-05-06T18:24:03.409Z"
   },
   {
    "duration": 366,
    "start_time": "2022-05-06T18:24:16.693Z"
   },
   {
    "duration": 817,
    "start_time": "2022-05-06T18:24:17.061Z"
   },
   {
    "duration": 134,
    "start_time": "2022-05-06T18:24:17.879Z"
   },
   {
    "duration": 300,
    "start_time": "2022-05-06T18:24:18.015Z"
   },
   {
    "duration": 99,
    "start_time": "2022-05-06T18:24:18.317Z"
   },
   {
    "duration": 415,
    "start_time": "2022-05-06T18:24:18.418Z"
   },
   {
    "duration": 25,
    "start_time": "2022-05-06T18:24:18.834Z"
   },
   {
    "duration": 23,
    "start_time": "2022-05-06T18:24:18.861Z"
   },
   {
    "duration": 87,
    "start_time": "2022-05-06T18:24:18.886Z"
   },
   {
    "duration": 0,
    "start_time": "2022-05-06T18:24:18.975Z"
   },
   {
    "duration": 0,
    "start_time": "2022-05-06T18:24:18.977Z"
   },
   {
    "duration": 1,
    "start_time": "2022-05-06T18:24:18.978Z"
   },
   {
    "duration": 0,
    "start_time": "2022-05-06T18:24:18.980Z"
   },
   {
    "duration": 0,
    "start_time": "2022-05-06T18:24:18.981Z"
   },
   {
    "duration": 0,
    "start_time": "2022-05-06T18:24:18.983Z"
   },
   {
    "duration": 0,
    "start_time": "2022-05-06T18:24:18.984Z"
   },
   {
    "duration": 0,
    "start_time": "2022-05-06T18:24:18.985Z"
   },
   {
    "duration": 0,
    "start_time": "2022-05-06T18:24:18.986Z"
   },
   {
    "duration": 0,
    "start_time": "2022-05-06T18:24:18.988Z"
   },
   {
    "duration": 120,
    "start_time": "2022-05-06T18:25:57.107Z"
   },
   {
    "duration": 407,
    "start_time": "2022-05-06T18:26:15.669Z"
   },
   {
    "duration": 887,
    "start_time": "2022-05-06T18:26:16.078Z"
   },
   {
    "duration": 149,
    "start_time": "2022-05-06T18:26:16.967Z"
   },
   {
    "duration": 303,
    "start_time": "2022-05-06T18:26:17.119Z"
   },
   {
    "duration": 99,
    "start_time": "2022-05-06T18:26:17.424Z"
   },
   {
    "duration": 56,
    "start_time": "2022-05-06T18:26:17.525Z"
   },
   {
    "duration": 41,
    "start_time": "2022-05-06T18:26:17.583Z"
   },
   {
    "duration": 32,
    "start_time": "2022-05-06T18:26:17.627Z"
   },
   {
    "duration": 340,
    "start_time": "2022-05-06T18:26:17.661Z"
   },
   {
    "duration": 47,
    "start_time": "2022-05-07T07:37:44.927Z"
   },
   {
    "duration": 375,
    "start_time": "2022-05-07T07:37:48.683Z"
   },
   {
    "duration": 773,
    "start_time": "2022-05-07T07:37:49.060Z"
   },
   {
    "duration": 139,
    "start_time": "2022-05-07T07:37:49.834Z"
   },
   {
    "duration": 283,
    "start_time": "2022-05-07T07:37:49.976Z"
   },
   {
    "duration": 96,
    "start_time": "2022-05-07T07:37:50.260Z"
   },
   {
    "duration": 4,
    "start_time": "2022-05-07T07:37:50.357Z"
   },
   {
    "duration": 36,
    "start_time": "2022-05-07T07:37:50.363Z"
   },
   {
    "duration": 59,
    "start_time": "2022-05-07T07:37:50.401Z"
   },
   {
    "duration": 11,
    "start_time": "2022-05-07T07:37:50.462Z"
   },
   {
    "duration": 293,
    "start_time": "2022-05-07T07:37:50.475Z"
   },
   {
    "duration": 4,
    "start_time": "2022-05-07T07:38:03.713Z"
   },
   {
    "duration": 1033,
    "start_time": "2022-05-07T07:38:10.422Z"
   },
   {
    "duration": 6,
    "start_time": "2022-05-07T07:38:28.477Z"
   },
   {
    "duration": 74,
    "start_time": "2022-05-08T13:04:08.646Z"
   },
   {
    "duration": 537,
    "start_time": "2022-05-08T13:06:08.754Z"
   },
   {
    "duration": 1165,
    "start_time": "2022-05-08T13:06:09.294Z"
   },
   {
    "duration": 188,
    "start_time": "2022-05-08T13:06:10.461Z"
   },
   {
    "duration": 396,
    "start_time": "2022-05-08T13:06:10.652Z"
   },
   {
    "duration": 113,
    "start_time": "2022-05-08T13:06:11.050Z"
   },
   {
    "duration": 19,
    "start_time": "2022-05-08T13:06:11.165Z"
   },
   {
    "duration": 51,
    "start_time": "2022-05-08T13:06:11.187Z"
   },
   {
    "duration": 84,
    "start_time": "2022-05-08T13:06:11.240Z"
   },
   {
    "duration": 15,
    "start_time": "2022-05-08T13:06:11.327Z"
   },
   {
    "duration": 524,
    "start_time": "2022-05-08T13:06:11.347Z"
   },
   {
    "duration": 0,
    "start_time": "2022-05-08T13:06:43.886Z"
   },
   {
    "duration": 22,
    "start_time": "2022-05-08T13:06:50.297Z"
   },
   {
    "duration": 88,
    "start_time": "2022-05-08T13:06:56.638Z"
   },
   {
    "duration": 7,
    "start_time": "2022-05-08T13:07:00.490Z"
   },
   {
    "duration": 6,
    "start_time": "2022-05-08T13:07:41.457Z"
   },
   {
    "duration": 6,
    "start_time": "2022-05-08T13:08:10.467Z"
   },
   {
    "duration": 128,
    "start_time": "2022-05-08T13:50:14.812Z"
   },
   {
    "duration": 600,
    "start_time": "2022-05-08T13:50:49.634Z"
   },
   {
    "duration": 254,
    "start_time": "2022-05-08T13:54:52.881Z"
   },
   {
    "duration": 208,
    "start_time": "2022-05-08T13:54:56.230Z"
   },
   {
    "duration": 10,
    "start_time": "2022-05-08T13:54:58.664Z"
   },
   {
    "duration": 22,
    "start_time": "2022-05-08T13:55:13.184Z"
   },
   {
    "duration": 0,
    "start_time": "2022-05-08T13:56:02.836Z"
   },
   {
    "duration": 51,
    "start_time": "2022-05-08T13:56:05.145Z"
   },
   {
    "duration": 4,
    "start_time": "2022-05-08T15:10:10.329Z"
   },
   {
    "duration": 29,
    "start_time": "2022-05-08T15:20:03.845Z"
   },
   {
    "duration": 10,
    "start_time": "2022-05-08T15:25:33.420Z"
   },
   {
    "duration": 11,
    "start_time": "2022-05-08T15:25:44.985Z"
   },
   {
    "duration": 87,
    "start_time": "2022-05-08T15:25:48.267Z"
   },
   {
    "duration": 107,
    "start_time": "2022-05-08T15:25:53.451Z"
   },
   {
    "duration": 44,
    "start_time": "2022-05-08T15:26:15.294Z"
   },
   {
    "duration": 48,
    "start_time": "2022-05-08T15:26:31.613Z"
   },
   {
    "duration": 44,
    "start_time": "2022-05-08T15:26:40.996Z"
   },
   {
    "duration": 97,
    "start_time": "2022-05-08T15:26:57.195Z"
   },
   {
    "duration": 95,
    "start_time": "2022-05-08T15:27:15.399Z"
   },
   {
    "duration": 50,
    "start_time": "2022-05-08T15:27:17.162Z"
   },
   {
    "duration": 1450,
    "start_time": "2022-05-08T15:28:06.316Z"
   },
   {
    "duration": 1107,
    "start_time": "2022-05-08T15:28:18.155Z"
   },
   {
    "duration": 78,
    "start_time": "2022-05-08T15:28:52.656Z"
   },
   {
    "duration": 70,
    "start_time": "2022-05-08T15:28:59.500Z"
   },
   {
    "duration": 0,
    "start_time": "2022-05-08T15:30:04.123Z"
   },
   {
    "duration": 111,
    "start_time": "2022-05-08T15:30:07.797Z"
   },
   {
    "duration": 134,
    "start_time": "2022-05-08T15:32:40.615Z"
   },
   {
    "duration": 202,
    "start_time": "2022-05-08T15:34:29.596Z"
   },
   {
    "duration": 213,
    "start_time": "2022-05-08T15:34:33.910Z"
   },
   {
    "duration": 115,
    "start_time": "2022-05-08T15:34:44.479Z"
   },
   {
    "duration": 4093,
    "start_time": "2022-05-08T15:34:48.419Z"
   },
   {
    "duration": 51,
    "start_time": "2022-05-08T15:35:09.245Z"
   },
   {
    "duration": 158,
    "start_time": "2022-05-08T15:35:23.441Z"
   },
   {
    "duration": 163,
    "start_time": "2022-05-08T15:35:25.901Z"
   },
   {
    "duration": 1106,
    "start_time": "2022-05-08T15:35:33.630Z"
   },
   {
    "duration": 160,
    "start_time": "2022-05-08T15:35:40.287Z"
   },
   {
    "duration": 511,
    "start_time": "2022-05-08T15:35:47.082Z"
   },
   {
    "duration": 1144,
    "start_time": "2022-05-08T15:35:47.596Z"
   },
   {
    "duration": 180,
    "start_time": "2022-05-08T15:35:48.742Z"
   },
   {
    "duration": 418,
    "start_time": "2022-05-08T15:35:48.925Z"
   },
   {
    "duration": 117,
    "start_time": "2022-05-08T15:35:49.346Z"
   },
   {
    "duration": 41,
    "start_time": "2022-05-08T15:35:49.465Z"
   },
   {
    "duration": 74,
    "start_time": "2022-05-08T15:35:49.509Z"
   },
   {
    "duration": 124,
    "start_time": "2022-05-08T15:35:49.586Z"
   },
   {
    "duration": 42,
    "start_time": "2022-05-08T15:35:49.713Z"
   },
   {
    "duration": 126,
    "start_time": "2022-05-08T15:35:49.760Z"
   },
   {
    "duration": 0,
    "start_time": "2022-05-08T15:35:49.888Z"
   },
   {
    "duration": 0,
    "start_time": "2022-05-08T15:35:49.891Z"
   },
   {
    "duration": 0,
    "start_time": "2022-05-08T15:35:49.892Z"
   },
   {
    "duration": 0,
    "start_time": "2022-05-08T15:35:49.894Z"
   },
   {
    "duration": 0,
    "start_time": "2022-05-08T15:35:49.895Z"
   },
   {
    "duration": 0,
    "start_time": "2022-05-08T15:35:49.897Z"
   },
   {
    "duration": 0,
    "start_time": "2022-05-08T15:35:49.898Z"
   },
   {
    "duration": 95,
    "start_time": "2022-05-08T15:36:30.240Z"
   },
   {
    "duration": 100,
    "start_time": "2022-05-08T15:36:37.942Z"
   },
   {
    "duration": 44,
    "start_time": "2022-05-08T15:36:40.986Z"
   },
   {
    "duration": 111,
    "start_time": "2022-05-08T15:36:55.513Z"
   },
   {
    "duration": 22,
    "start_time": "2022-05-08T15:37:42.806Z"
   },
   {
    "duration": 3,
    "start_time": "2022-05-08T15:38:13.563Z"
   },
   {
    "duration": 106,
    "start_time": "2022-05-08T15:39:16.570Z"
   },
   {
    "duration": 61,
    "start_time": "2022-05-08T15:39:34.061Z"
   },
   {
    "duration": 1134,
    "start_time": "2022-05-08T15:40:16.011Z"
   },
   {
    "duration": 102,
    "start_time": "2022-05-08T15:41:32.685Z"
   },
   {
    "duration": 24,
    "start_time": "2022-05-08T15:41:49.627Z"
   },
   {
    "duration": 103,
    "start_time": "2022-05-08T15:43:29.731Z"
   },
   {
    "duration": 23,
    "start_time": "2022-05-08T15:43:35.991Z"
   },
   {
    "duration": 46,
    "start_time": "2022-05-09T18:30:57.184Z"
   },
   {
    "duration": 383,
    "start_time": "2022-05-09T18:31:10.013Z"
   },
   {
    "duration": 917,
    "start_time": "2022-05-09T18:31:10.398Z"
   },
   {
    "duration": 143,
    "start_time": "2022-05-09T18:31:11.317Z"
   },
   {
    "duration": 276,
    "start_time": "2022-05-09T18:31:11.462Z"
   },
   {
    "duration": 88,
    "start_time": "2022-05-09T18:31:11.739Z"
   },
   {
    "duration": 54,
    "start_time": "2022-05-09T18:31:11.828Z"
   },
   {
    "duration": 88,
    "start_time": "2022-05-09T18:31:11.884Z"
   },
   {
    "duration": 18,
    "start_time": "2022-05-09T18:32:09.269Z"
   },
   {
    "duration": 17,
    "start_time": "2022-05-09T18:32:28.319Z"
   },
   {
    "duration": 34,
    "start_time": "2022-05-09T18:33:29.564Z"
   },
   {
    "duration": 466,
    "start_time": "2022-05-09T19:27:59.731Z"
   },
   {
    "duration": 1296,
    "start_time": "2022-05-09T19:28:00.200Z"
   },
   {
    "duration": 146,
    "start_time": "2022-05-09T19:28:01.497Z"
   },
   {
    "duration": 295,
    "start_time": "2022-05-09T19:28:01.645Z"
   },
   {
    "duration": 112,
    "start_time": "2022-05-09T19:28:01.942Z"
   },
   {
    "duration": 79,
    "start_time": "2022-05-09T19:28:06.906Z"
   },
   {
    "duration": 83,
    "start_time": "2022-05-09T19:28:14.648Z"
   },
   {
    "duration": 39,
    "start_time": "2022-05-09T19:29:44.906Z"
   },
   {
    "duration": 396,
    "start_time": "2022-05-09T19:29:53.381Z"
   },
   {
    "duration": 846,
    "start_time": "2022-05-09T19:29:53.779Z"
   },
   {
    "duration": 145,
    "start_time": "2022-05-09T19:29:54.626Z"
   },
   {
    "duration": 282,
    "start_time": "2022-05-09T19:29:54.774Z"
   },
   {
    "duration": 98,
    "start_time": "2022-05-09T19:29:55.058Z"
   },
   {
    "duration": 59,
    "start_time": "2022-05-09T19:29:58.504Z"
   },
   {
    "duration": 437,
    "start_time": "2022-05-09T19:30:10.541Z"
   },
   {
    "duration": 890,
    "start_time": "2022-05-09T19:30:10.980Z"
   },
   {
    "duration": 151,
    "start_time": "2022-05-09T19:30:11.872Z"
   },
   {
    "duration": 285,
    "start_time": "2022-05-09T19:30:12.026Z"
   },
   {
    "duration": 92,
    "start_time": "2022-05-09T19:30:12.313Z"
   },
   {
    "duration": 63,
    "start_time": "2022-05-09T19:30:18.341Z"
   },
   {
    "duration": 47,
    "start_time": "2022-05-09T19:30:25.137Z"
   },
   {
    "duration": 2251,
    "start_time": "2022-05-09T19:30:39.760Z"
   },
   {
    "duration": 38,
    "start_time": "2022-05-09T19:30:57.074Z"
   },
   {
    "duration": 129,
    "start_time": "2022-05-09T19:37:33.530Z"
   },
   {
    "duration": 86,
    "start_time": "2022-05-09T19:37:36.854Z"
   },
   {
    "duration": 18,
    "start_time": "2022-05-09T19:40:06.277Z"
   },
   {
    "duration": 17,
    "start_time": "2022-05-09T19:40:54.331Z"
   },
   {
    "duration": 112,
    "start_time": "2022-05-09T19:44:12.587Z"
   },
   {
    "duration": 101,
    "start_time": "2022-05-09T19:44:25.256Z"
   },
   {
    "duration": 17,
    "start_time": "2022-05-09T19:44:28.746Z"
   },
   {
    "duration": 34,
    "start_time": "2022-05-09T19:44:35.691Z"
   },
   {
    "duration": 76,
    "start_time": "2022-05-09T19:45:46.038Z"
   },
   {
    "duration": 17,
    "start_time": "2022-05-09T19:45:47.574Z"
   },
   {
    "duration": 31,
    "start_time": "2022-05-09T19:45:51.874Z"
   },
   {
    "duration": 3341,
    "start_time": "2022-05-09T19:49:20.865Z"
   },
   {
    "duration": 104,
    "start_time": "2022-05-09T19:51:54.387Z"
   },
   {
    "duration": 84,
    "start_time": "2022-05-09T19:53:44.596Z"
   },
   {
    "duration": 83,
    "start_time": "2022-05-09T19:54:03.006Z"
   },
   {
    "duration": 19,
    "start_time": "2022-05-09T19:59:52.778Z"
   },
   {
    "duration": 92,
    "start_time": "2022-05-09T20:00:01.218Z"
   },
   {
    "duration": 24,
    "start_time": "2022-05-09T20:01:01.885Z"
   },
   {
    "duration": 54,
    "start_time": "2022-05-09T20:01:13.274Z"
   },
   {
    "duration": 86,
    "start_time": "2022-05-09T20:01:15.399Z"
   },
   {
    "duration": 32,
    "start_time": "2022-05-09T20:01:37.290Z"
   },
   {
    "duration": 83,
    "start_time": "2022-05-09T20:06:15.891Z"
   },
   {
    "duration": 84,
    "start_time": "2022-05-09T20:06:23.914Z"
   },
   {
    "duration": 418,
    "start_time": "2022-05-09T20:06:54.071Z"
   },
   {
    "duration": 923,
    "start_time": "2022-05-09T20:06:54.491Z"
   },
   {
    "duration": 143,
    "start_time": "2022-05-09T20:06:55.416Z"
   },
   {
    "duration": 274,
    "start_time": "2022-05-09T20:06:55.561Z"
   },
   {
    "duration": 108,
    "start_time": "2022-05-09T20:06:55.836Z"
   },
   {
    "duration": 67,
    "start_time": "2022-05-09T20:06:55.946Z"
   },
   {
    "duration": 94,
    "start_time": "2022-05-09T20:06:56.014Z"
   },
   {
    "duration": 87,
    "start_time": "2022-05-09T20:06:56.109Z"
   },
   {
    "duration": 81,
    "start_time": "2022-05-09T20:08:40.022Z"
   },
   {
    "duration": 67,
    "start_time": "2022-05-09T20:10:19.042Z"
   },
   {
    "duration": 16,
    "start_time": "2022-05-09T20:10:20.592Z"
   },
   {
    "duration": 139,
    "start_time": "2022-05-09T20:10:28.199Z"
   },
   {
    "duration": 142,
    "start_time": "2022-05-09T20:10:31.789Z"
   },
   {
    "duration": 68,
    "start_time": "2022-05-09T20:10:42.362Z"
   },
   {
    "duration": 64,
    "start_time": "2022-05-09T20:14:16.580Z"
   },
   {
    "duration": 63,
    "start_time": "2022-05-09T20:17:08.102Z"
   },
   {
    "duration": 17,
    "start_time": "2022-05-09T20:17:10.824Z"
   },
   {
    "duration": 60,
    "start_time": "2022-05-09T20:17:13.520Z"
   },
   {
    "duration": 89,
    "start_time": "2022-05-09T20:21:04.461Z"
   },
   {
    "duration": 16,
    "start_time": "2022-05-09T20:21:07.281Z"
   },
   {
    "duration": 62,
    "start_time": "2022-05-09T20:21:18.516Z"
   },
   {
    "duration": 15,
    "start_time": "2022-05-09T20:21:19.908Z"
   },
   {
    "duration": 106,
    "start_time": "2022-05-09T20:21:55.026Z"
   },
   {
    "duration": 17,
    "start_time": "2022-05-09T20:21:56.656Z"
   },
   {
    "duration": 432,
    "start_time": "2022-05-09T20:22:02.279Z"
   },
   {
    "duration": 1110,
    "start_time": "2022-05-09T20:22:02.712Z"
   },
   {
    "duration": 276,
    "start_time": "2022-05-09T20:22:03.824Z"
   },
   {
    "duration": 398,
    "start_time": "2022-05-09T20:22:04.103Z"
   },
   {
    "duration": 181,
    "start_time": "2022-05-09T20:22:04.503Z"
   },
   {
    "duration": 98,
    "start_time": "2022-05-09T20:22:04.686Z"
   },
   {
    "duration": 122,
    "start_time": "2022-05-09T20:22:04.786Z"
   },
   {
    "duration": 155,
    "start_time": "2022-05-09T20:22:04.911Z"
   },
   {
    "duration": 127,
    "start_time": "2022-05-09T20:22:05.068Z"
   },
   {
    "duration": 28,
    "start_time": "2022-05-09T20:22:05.199Z"
   },
   {
    "duration": 195,
    "start_time": "2022-05-09T20:22:10.435Z"
   },
   {
    "duration": 30,
    "start_time": "2022-05-09T20:22:12.527Z"
   },
   {
    "duration": 30,
    "start_time": "2022-05-09T20:22:48.262Z"
   },
   {
    "duration": 17,
    "start_time": "2022-05-09T20:23:16.806Z"
   },
   {
    "duration": 44,
    "start_time": "2022-05-09T20:23:35.428Z"
   },
   {
    "duration": 17,
    "start_time": "2022-05-09T20:23:37.129Z"
   },
   {
    "duration": 103,
    "start_time": "2022-05-09T20:23:39.658Z"
   },
   {
    "duration": 17,
    "start_time": "2022-05-09T20:23:41.330Z"
   },
   {
    "duration": 144,
    "start_time": "2022-05-09T20:24:31.071Z"
   },
   {
    "duration": 16,
    "start_time": "2022-05-09T20:24:33.715Z"
   },
   {
    "duration": 441,
    "start_time": "2022-05-09T20:25:47.651Z"
   },
   {
    "duration": 917,
    "start_time": "2022-05-09T20:25:48.094Z"
   },
   {
    "duration": 157,
    "start_time": "2022-05-09T20:25:49.014Z"
   },
   {
    "duration": 280,
    "start_time": "2022-05-09T20:25:49.174Z"
   },
   {
    "duration": 107,
    "start_time": "2022-05-09T20:25:49.457Z"
   },
   {
    "duration": 61,
    "start_time": "2022-05-09T20:25:49.565Z"
   },
   {
    "duration": 85,
    "start_time": "2022-05-09T20:25:49.628Z"
   },
   {
    "duration": 84,
    "start_time": "2022-05-09T20:25:49.715Z"
   },
   {
    "duration": 72,
    "start_time": "2022-05-09T20:25:49.801Z"
   },
   {
    "duration": 16,
    "start_time": "2022-05-09T20:25:49.876Z"
   },
   {
    "duration": 41,
    "start_time": "2022-05-09T20:25:49.893Z"
   },
   {
    "duration": 17,
    "start_time": "2022-05-09T20:25:52.248Z"
   },
   {
    "duration": 125,
    "start_time": "2022-05-09T20:25:53.986Z"
   },
   {
    "duration": 19,
    "start_time": "2022-05-09T20:25:55.516Z"
   },
   {
    "duration": 101,
    "start_time": "2022-05-09T20:26:13.877Z"
   },
   {
    "duration": 17,
    "start_time": "2022-05-09T20:26:15.790Z"
   },
   {
    "duration": 85,
    "start_time": "2022-05-09T20:26:21.419Z"
   },
   {
    "duration": 17,
    "start_time": "2022-05-09T20:26:23.104Z"
   },
   {
    "duration": 85,
    "start_time": "2022-05-09T20:26:40.090Z"
   },
   {
    "duration": 16,
    "start_time": "2022-05-09T20:26:42.019Z"
   },
   {
    "duration": 64,
    "start_time": "2022-05-09T20:26:47.541Z"
   },
   {
    "duration": 17,
    "start_time": "2022-05-09T20:26:49.122Z"
   },
   {
    "duration": 64,
    "start_time": "2022-05-09T20:26:54.487Z"
   },
   {
    "duration": 17,
    "start_time": "2022-05-09T20:26:57.314Z"
   },
   {
    "duration": 541,
    "start_time": "2022-05-09T20:27:27.228Z"
   },
   {
    "duration": 1258,
    "start_time": "2022-05-09T20:27:27.771Z"
   },
   {
    "duration": 262,
    "start_time": "2022-05-09T20:27:29.031Z"
   },
   {
    "duration": 465,
    "start_time": "2022-05-09T20:27:29.296Z"
   },
   {
    "duration": 180,
    "start_time": "2022-05-09T20:27:29.763Z"
   },
   {
    "duration": 75,
    "start_time": "2022-05-09T20:27:29.945Z"
   },
   {
    "duration": 105,
    "start_time": "2022-05-09T20:27:30.022Z"
   },
   {
    "duration": 118,
    "start_time": "2022-05-09T20:27:30.129Z"
   },
   {
    "duration": 118,
    "start_time": "2022-05-09T20:27:30.249Z"
   },
   {
    "duration": 31,
    "start_time": "2022-05-09T20:27:30.370Z"
   },
   {
    "duration": 88,
    "start_time": "2022-05-09T20:27:30.402Z"
   },
   {
    "duration": 29,
    "start_time": "2022-05-09T20:27:30.492Z"
   },
   {
    "duration": 30,
    "start_time": "2022-05-09T20:27:42.883Z"
   },
   {
    "duration": 232,
    "start_time": "2022-05-09T20:27:44.410Z"
   },
   {
    "duration": 29,
    "start_time": "2022-05-09T20:27:46.253Z"
   },
   {
    "duration": 437,
    "start_time": "2022-05-09T20:29:03.939Z"
   },
   {
    "duration": 886,
    "start_time": "2022-05-09T20:29:04.378Z"
   },
   {
    "duration": 145,
    "start_time": "2022-05-09T20:29:05.266Z"
   },
   {
    "duration": 290,
    "start_time": "2022-05-09T20:29:05.413Z"
   },
   {
    "duration": 94,
    "start_time": "2022-05-09T20:29:09.056Z"
   },
   {
    "duration": 112,
    "start_time": "2022-05-09T20:29:31.910Z"
   },
   {
    "duration": 87,
    "start_time": "2022-05-09T20:29:34.705Z"
   },
   {
    "duration": 77,
    "start_time": "2022-05-09T20:30:47.939Z"
   },
   {
    "duration": 19,
    "start_time": "2022-05-09T20:30:58.642Z"
   },
   {
    "duration": 51,
    "start_time": "2022-05-09T20:32:48.230Z"
   },
   {
    "duration": 66,
    "start_time": "2022-05-09T20:32:58.728Z"
   },
   {
    "duration": 17,
    "start_time": "2022-05-09T20:33:00.399Z"
   },
   {
    "duration": 515,
    "start_time": "2022-05-09T20:33:13.012Z"
   },
   {
    "duration": 870,
    "start_time": "2022-05-09T20:33:13.529Z"
   },
   {
    "duration": 145,
    "start_time": "2022-05-09T20:33:14.401Z"
   },
   {
    "duration": 288,
    "start_time": "2022-05-09T20:33:14.555Z"
   },
   {
    "duration": 99,
    "start_time": "2022-05-09T20:33:14.845Z"
   },
   {
    "duration": 134,
    "start_time": "2022-05-09T20:33:14.946Z"
   },
   {
    "duration": 95,
    "start_time": "2022-05-09T20:33:15.082Z"
   },
   {
    "duration": 83,
    "start_time": "2022-05-09T20:33:15.179Z"
   },
   {
    "duration": 18,
    "start_time": "2022-05-09T20:33:15.264Z"
   },
   {
    "duration": 58,
    "start_time": "2022-05-09T20:33:15.284Z"
   },
   {
    "duration": 47,
    "start_time": "2022-05-09T20:33:21.007Z"
   },
   {
    "duration": 435,
    "start_time": "2022-05-09T20:33:28.519Z"
   },
   {
    "duration": 863,
    "start_time": "2022-05-09T20:33:28.956Z"
   },
   {
    "duration": 156,
    "start_time": "2022-05-09T20:33:29.821Z"
   },
   {
    "duration": 312,
    "start_time": "2022-05-09T20:33:29.980Z"
   },
   {
    "duration": 103,
    "start_time": "2022-05-09T20:33:30.294Z"
   },
   {
    "duration": 121,
    "start_time": "2022-05-09T20:33:30.398Z"
   },
   {
    "duration": 95,
    "start_time": "2022-05-09T20:33:30.521Z"
   },
   {
    "duration": 90,
    "start_time": "2022-05-09T20:33:30.617Z"
   },
   {
    "duration": 19,
    "start_time": "2022-05-09T20:33:30.709Z"
   },
   {
    "duration": 67,
    "start_time": "2022-05-09T20:33:30.730Z"
   },
   {
    "duration": 46,
    "start_time": "2022-05-09T20:33:36.289Z"
   },
   {
    "duration": 74,
    "start_time": "2022-05-09T20:33:38.794Z"
   },
   {
    "duration": 18,
    "start_time": "2022-05-09T20:33:40.612Z"
   },
   {
    "duration": 46,
    "start_time": "2022-05-09T20:33:56.040Z"
   },
   {
    "duration": 17,
    "start_time": "2022-05-09T20:33:58.639Z"
   },
   {
    "duration": 235,
    "start_time": "2022-05-09T20:34:03.170Z"
   },
   {
    "duration": 19,
    "start_time": "2022-05-09T20:34:04.691Z"
   },
   {
    "duration": 143,
    "start_time": "2022-05-09T20:34:31.704Z"
   },
   {
    "duration": 45,
    "start_time": "2022-05-09T20:34:45.148Z"
   },
   {
    "duration": 263,
    "start_time": "2022-05-09T20:34:54.539Z"
   },
   {
    "duration": 33,
    "start_time": "2022-05-09T20:34:56.357Z"
   },
   {
    "duration": 119,
    "start_time": "2022-05-09T20:35:14.225Z"
   },
   {
    "duration": 34,
    "start_time": "2022-05-09T20:35:15.923Z"
   },
   {
    "duration": 423,
    "start_time": "2022-05-09T20:35:50.451Z"
   },
   {
    "duration": 904,
    "start_time": "2022-05-09T20:35:50.877Z"
   },
   {
    "duration": 149,
    "start_time": "2022-05-09T20:35:51.783Z"
   },
   {
    "duration": 447,
    "start_time": "2022-05-09T20:35:51.934Z"
   },
   {
    "duration": 184,
    "start_time": "2022-05-09T20:35:52.383Z"
   },
   {
    "duration": 128,
    "start_time": "2022-05-09T20:35:52.569Z"
   },
   {
    "duration": 101,
    "start_time": "2022-05-09T20:35:52.699Z"
   },
   {
    "duration": 88,
    "start_time": "2022-05-09T20:35:52.802Z"
   },
   {
    "duration": 19,
    "start_time": "2022-05-09T20:35:52.892Z"
   },
   {
    "duration": 91,
    "start_time": "2022-05-09T20:35:52.914Z"
   },
   {
    "duration": 99,
    "start_time": "2022-05-09T20:35:53.008Z"
   },
   {
    "duration": 18,
    "start_time": "2022-05-09T20:35:53.109Z"
   },
   {
    "duration": 85,
    "start_time": "2022-05-09T20:35:53.128Z"
   },
   {
    "duration": 30,
    "start_time": "2022-05-09T20:35:53.216Z"
   },
   {
    "duration": 172,
    "start_time": "2022-05-09T20:35:55.291Z"
   },
   {
    "duration": 31,
    "start_time": "2022-05-09T20:35:57.084Z"
   },
   {
    "duration": 162,
    "start_time": "2022-05-09T20:37:46.960Z"
   },
   {
    "duration": 18,
    "start_time": "2022-05-09T20:37:48.718Z"
   },
   {
    "duration": 68,
    "start_time": "2022-05-09T20:37:58.426Z"
   },
   {
    "duration": 18,
    "start_time": "2022-05-09T20:38:00.078Z"
   },
   {
    "duration": 95,
    "start_time": "2022-05-09T20:47:10.222Z"
   },
   {
    "duration": 79,
    "start_time": "2022-05-09T20:48:39.376Z"
   },
   {
    "duration": 0,
    "start_time": "2022-05-09T20:50:16.832Z"
   },
   {
    "duration": 264,
    "start_time": "2022-05-09T20:50:18.331Z"
   },
   {
    "duration": 136,
    "start_time": "2022-05-09T20:50:52.532Z"
   },
   {
    "duration": 123,
    "start_time": "2022-05-09T20:51:11.664Z"
   },
   {
    "duration": 124,
    "start_time": "2022-05-09T20:52:00.162Z"
   },
   {
    "duration": 85,
    "start_time": "2022-05-09T20:53:18.001Z"
   },
   {
    "duration": 18,
    "start_time": "2022-05-09T20:53:19.534Z"
   },
   {
    "duration": 115,
    "start_time": "2022-05-09T20:53:25.846Z"
   },
   {
    "duration": 192,
    "start_time": "2022-05-09T20:53:47.577Z"
   },
   {
    "duration": 147,
    "start_time": "2022-05-09T20:54:14.980Z"
   },
   {
    "duration": 566,
    "start_time": "2022-05-09T20:54:18.127Z"
   },
   {
    "duration": 735,
    "start_time": "2022-05-09T20:54:44.186Z"
   },
   {
    "duration": 27,
    "start_time": "2022-05-09T20:55:14.692Z"
   },
   {
    "duration": 64,
    "start_time": "2022-05-09T20:55:18.467Z"
   },
   {
    "duration": 31,
    "start_time": "2022-05-09T20:55:25.398Z"
   },
   {
    "duration": 95,
    "start_time": "2022-05-09T20:57:47.925Z"
   },
   {
    "duration": 29,
    "start_time": "2022-05-09T20:58:52.360Z"
   },
   {
    "duration": 31,
    "start_time": "2022-05-09T20:59:10.217Z"
   },
   {
    "duration": 23,
    "start_time": "2022-05-09T21:00:13.077Z"
   },
   {
    "duration": 218,
    "start_time": "2022-05-09T21:00:19.829Z"
   },
   {
    "duration": 116,
    "start_time": "2022-05-09T21:00:53.728Z"
   },
   {
    "duration": 18,
    "start_time": "2022-05-09T21:00:55.179Z"
   },
   {
    "duration": 152,
    "start_time": "2022-05-09T21:03:54.830Z"
   },
   {
    "duration": 147,
    "start_time": "2022-05-09T21:10:41.029Z"
   },
   {
    "duration": 671,
    "start_time": "2022-05-09T21:12:45.318Z"
   },
   {
    "duration": 664,
    "start_time": "2022-05-09T21:13:13.729Z"
   },
   {
    "duration": 78,
    "start_time": "2022-05-09T21:13:37.998Z"
   },
   {
    "duration": 74,
    "start_time": "2022-05-09T21:13:56.056Z"
   },
   {
    "duration": 71,
    "start_time": "2022-05-09T21:14:00.886Z"
   },
   {
    "duration": 72,
    "start_time": "2022-05-09T21:14:09.707Z"
   },
   {
    "duration": 13,
    "start_time": "2022-05-09T21:14:19.134Z"
   },
   {
    "duration": 80,
    "start_time": "2022-05-09T21:14:24.415Z"
   },
   {
    "duration": 76,
    "start_time": "2022-05-09T21:14:32.062Z"
   },
   {
    "duration": 211,
    "start_time": "2022-05-09T21:14:41.468Z"
   },
   {
    "duration": 264,
    "start_time": "2022-05-09T21:14:53.614Z"
   },
   {
    "duration": 75,
    "start_time": "2022-05-09T21:16:31.724Z"
   },
   {
    "duration": 42,
    "start_time": "2022-05-09T21:16:53.133Z"
   },
   {
    "duration": 77,
    "start_time": "2022-05-09T21:17:04.442Z"
   },
   {
    "duration": 173,
    "start_time": "2022-05-09T21:17:53.780Z"
   },
   {
    "duration": 20,
    "start_time": "2022-05-09T21:18:15.093Z"
   },
   {
    "duration": 21,
    "start_time": "2022-05-09T21:18:22.734Z"
   },
   {
    "duration": 133,
    "start_time": "2022-05-09T21:18:38.775Z"
   },
   {
    "duration": 37,
    "start_time": "2022-05-09T21:19:07.253Z"
   },
   {
    "duration": 126,
    "start_time": "2022-05-09T21:19:26.175Z"
   },
   {
    "duration": 30,
    "start_time": "2022-05-09T21:20:02.540Z"
   },
   {
    "duration": 654,
    "start_time": "2022-05-09T21:20:08.939Z"
   },
   {
    "duration": 658,
    "start_time": "2022-05-09T21:20:30.944Z"
   },
   {
    "duration": 31,
    "start_time": "2022-05-09T21:21:47.905Z"
   },
   {
    "duration": 34,
    "start_time": "2022-05-09T21:24:51.894Z"
   },
   {
    "duration": 39,
    "start_time": "2022-05-09T21:25:18.587Z"
   },
   {
    "duration": 33,
    "start_time": "2022-05-09T21:25:21.645Z"
   },
   {
    "duration": 164,
    "start_time": "2022-05-09T21:25:42.040Z"
   },
   {
    "duration": 31,
    "start_time": "2022-05-09T21:25:51.398Z"
   },
   {
    "duration": 71,
    "start_time": "2022-05-09T21:25:57.295Z"
   },
   {
    "duration": 18,
    "start_time": "2022-05-09T21:25:59.550Z"
   },
   {
    "duration": 19,
    "start_time": "2022-05-09T21:26:47.255Z"
   },
   {
    "duration": 55,
    "start_time": "2022-05-09T21:27:00.304Z"
   },
   {
    "duration": 19,
    "start_time": "2022-05-09T21:28:15.796Z"
   },
   {
    "duration": 77,
    "start_time": "2022-05-09T21:28:20.056Z"
   },
   {
    "duration": 20,
    "start_time": "2022-05-09T21:28:21.914Z"
   },
   {
    "duration": 18,
    "start_time": "2022-05-09T21:28:41.182Z"
   },
   {
    "duration": 19,
    "start_time": "2022-05-09T21:29:21.561Z"
   },
   {
    "duration": 3224,
    "start_time": "2022-05-09T21:29:29.920Z"
   },
   {
    "duration": 9,
    "start_time": "2022-05-09T21:30:24.571Z"
   },
   {
    "duration": 60,
    "start_time": "2022-05-09T21:30:27.632Z"
   },
   {
    "duration": 21,
    "start_time": "2022-05-09T21:32:12.596Z"
   },
   {
    "duration": 45,
    "start_time": "2022-05-09T21:32:31.631Z"
   },
   {
    "duration": 61,
    "start_time": "2022-05-09T21:32:45.908Z"
   },
   {
    "duration": 74,
    "start_time": "2022-05-10T08:20:21.581Z"
   },
   {
    "duration": 493,
    "start_time": "2022-05-10T08:20:24.748Z"
   },
   {
    "duration": 1051,
    "start_time": "2022-05-10T08:20:26.536Z"
   },
   {
    "duration": 410,
    "start_time": "2022-05-10T08:30:30.839Z"
   },
   {
    "duration": 485,
    "start_time": "2022-05-10T08:30:39.399Z"
   },
   {
    "duration": 5,
    "start_time": "2022-05-10T08:32:04.314Z"
   },
   {
    "duration": 5,
    "start_time": "2022-05-10T08:32:14.613Z"
   },
   {
    "duration": 5,
    "start_time": "2022-05-10T08:32:15.185Z"
   },
   {
    "duration": 6,
    "start_time": "2022-05-10T08:32:15.510Z"
   },
   {
    "duration": 6,
    "start_time": "2022-05-10T08:32:15.730Z"
   },
   {
    "duration": 6,
    "start_time": "2022-05-10T08:32:15.963Z"
   },
   {
    "duration": 7,
    "start_time": "2022-05-10T08:32:16.362Z"
   },
   {
    "duration": 7,
    "start_time": "2022-05-10T08:32:16.683Z"
   },
   {
    "duration": 6,
    "start_time": "2022-05-10T08:32:17.017Z"
   },
   {
    "duration": 6,
    "start_time": "2022-05-10T08:32:17.322Z"
   },
   {
    "duration": 6,
    "start_time": "2022-05-10T08:32:17.782Z"
   },
   {
    "duration": 26,
    "start_time": "2022-05-10T08:32:53.896Z"
   },
   {
    "duration": 35,
    "start_time": "2022-05-10T08:33:05.661Z"
   },
   {
    "duration": 24,
    "start_time": "2022-05-10T08:33:15.816Z"
   },
   {
    "duration": 23,
    "start_time": "2022-05-10T08:33:23.546Z"
   },
   {
    "duration": 22,
    "start_time": "2022-05-10T08:33:29.457Z"
   },
   {
    "duration": 19,
    "start_time": "2022-05-10T08:33:36.448Z"
   },
   {
    "duration": 101,
    "start_time": "2022-05-10T08:36:43.849Z"
   },
   {
    "duration": 97,
    "start_time": "2022-05-10T08:37:00.726Z"
   },
   {
    "duration": 1528,
    "start_time": "2022-05-10T08:37:19.173Z"
   },
   {
    "duration": 917,
    "start_time": "2022-05-10T08:37:36.193Z"
   },
   {
    "duration": 63,
    "start_time": "2022-05-10T08:37:57.967Z"
   },
   {
    "duration": 102,
    "start_time": "2022-05-10T08:38:02.818Z"
   },
   {
    "duration": 9,
    "start_time": "2022-05-10T08:38:04.725Z"
   },
   {
    "duration": 600,
    "start_time": "2022-05-10T08:38:10.258Z"
   },
   {
    "duration": 68,
    "start_time": "2022-05-10T08:38:21.191Z"
   },
   {
    "duration": 55,
    "start_time": "2022-05-10T08:38:29.795Z"
   },
   {
    "duration": 488,
    "start_time": "2022-05-10T08:38:43.300Z"
   },
   {
    "duration": 1037,
    "start_time": "2022-05-10T08:38:43.791Z"
   },
   {
    "duration": 184,
    "start_time": "2022-05-10T08:38:44.830Z"
   },
   {
    "duration": 389,
    "start_time": "2022-05-10T08:38:45.017Z"
   },
   {
    "duration": 118,
    "start_time": "2022-05-10T08:38:45.408Z"
   },
   {
    "duration": 165,
    "start_time": "2022-05-10T08:38:45.528Z"
   },
   {
    "duration": 118,
    "start_time": "2022-05-10T08:38:45.695Z"
   },
   {
    "duration": 105,
    "start_time": "2022-05-10T08:38:45.815Z"
   },
   {
    "duration": 21,
    "start_time": "2022-05-10T08:38:45.923Z"
   },
   {
    "duration": 79,
    "start_time": "2022-05-10T08:38:45.953Z"
   },
   {
    "duration": 118,
    "start_time": "2022-05-10T08:38:46.034Z"
   },
   {
    "duration": 21,
    "start_time": "2022-05-10T08:38:46.154Z"
   },
   {
    "duration": 84,
    "start_time": "2022-05-10T08:38:46.177Z"
   },
   {
    "duration": 142,
    "start_time": "2022-05-10T08:38:46.263Z"
   },
   {
    "duration": 21,
    "start_time": "2022-05-10T08:38:46.407Z"
   },
   {
    "duration": 84,
    "start_time": "2022-05-10T08:38:46.430Z"
   },
   {
    "duration": 104,
    "start_time": "2022-05-10T08:38:46.516Z"
   },
   {
    "duration": 20,
    "start_time": "2022-05-10T08:38:46.622Z"
   },
   {
    "duration": 45,
    "start_time": "2022-05-10T08:38:56.274Z"
   },
   {
    "duration": 49,
    "start_time": "2022-05-10T08:41:03.686Z"
   },
   {
    "duration": 14152,
    "start_time": "2022-05-10T08:41:20.640Z"
   },
   {
    "duration": 10,
    "start_time": "2022-05-10T08:41:51.363Z"
   },
   {
    "duration": 10,
    "start_time": "2022-05-10T08:41:56.713Z"
   },
   {
    "duration": 72,
    "start_time": "2022-05-10T08:42:09.530Z"
   },
   {
    "duration": 10,
    "start_time": "2022-05-10T08:55:02.610Z"
   },
   {
    "duration": 39,
    "start_time": "2022-05-10T08:55:08.320Z"
   },
   {
    "duration": 671,
    "start_time": "2022-05-10T08:55:38.100Z"
   },
   {
    "duration": 256,
    "start_time": "2022-05-10T08:57:13.950Z"
   },
   {
    "duration": 362,
    "start_time": "2022-05-10T08:57:27.023Z"
   },
   {
    "duration": 23,
    "start_time": "2022-05-10T08:58:17.877Z"
   },
   {
    "duration": 6,
    "start_time": "2022-05-10T08:58:25.362Z"
   },
   {
    "duration": 24,
    "start_time": "2022-05-10T08:58:27.616Z"
   },
   {
    "duration": 24,
    "start_time": "2022-05-10T08:58:35.174Z"
   },
   {
    "duration": 24,
    "start_time": "2022-05-10T08:58:39.907Z"
   },
   {
    "duration": 29,
    "start_time": "2022-05-10T08:59:01.254Z"
   },
   {
    "duration": 110,
    "start_time": "2022-05-10T08:59:49.181Z"
   },
   {
    "duration": 88,
    "start_time": "2022-05-10T09:01:29.469Z"
   },
   {
    "duration": 505,
    "start_time": "2022-05-10T09:02:45.365Z"
   },
   {
    "duration": 1160,
    "start_time": "2022-05-10T09:02:45.873Z"
   },
   {
    "duration": 184,
    "start_time": "2022-05-10T09:02:47.035Z"
   },
   {
    "duration": 388,
    "start_time": "2022-05-10T09:02:47.222Z"
   },
   {
    "duration": 116,
    "start_time": "2022-05-10T09:02:47.614Z"
   },
   {
    "duration": 170,
    "start_time": "2022-05-10T09:02:47.732Z"
   },
   {
    "duration": 112,
    "start_time": "2022-05-10T09:02:47.904Z"
   },
   {
    "duration": 110,
    "start_time": "2022-05-10T09:02:48.019Z"
   },
   {
    "duration": 27,
    "start_time": "2022-05-10T09:02:48.131Z"
   },
   {
    "duration": 78,
    "start_time": "2022-05-10T09:02:48.160Z"
   },
   {
    "duration": 100,
    "start_time": "2022-05-10T09:02:48.253Z"
   },
   {
    "duration": 20,
    "start_time": "2022-05-10T09:02:48.355Z"
   },
   {
    "duration": 91,
    "start_time": "2022-05-10T09:02:48.377Z"
   },
   {
    "duration": 134,
    "start_time": "2022-05-10T09:02:48.471Z"
   },
   {
    "duration": 21,
    "start_time": "2022-05-10T09:02:48.607Z"
   },
   {
    "duration": 85,
    "start_time": "2022-05-10T09:02:48.630Z"
   },
   {
    "duration": 104,
    "start_time": "2022-05-10T09:02:48.717Z"
   },
   {
    "duration": 32,
    "start_time": "2022-05-10T09:02:48.824Z"
   },
   {
    "duration": 23,
    "start_time": "2022-05-10T09:02:48.858Z"
   },
   {
    "duration": 122,
    "start_time": "2022-05-10T09:02:48.884Z"
   },
   {
    "duration": 479,
    "start_time": "2022-05-10T09:06:35.176Z"
   },
   {
    "duration": 1162,
    "start_time": "2022-05-10T09:06:35.657Z"
   },
   {
    "duration": 167,
    "start_time": "2022-05-10T09:06:36.821Z"
   },
   {
    "duration": 379,
    "start_time": "2022-05-10T09:06:36.990Z"
   },
   {
    "duration": 120,
    "start_time": "2022-05-10T09:06:37.372Z"
   },
   {
    "duration": 168,
    "start_time": "2022-05-10T09:06:37.494Z"
   },
   {
    "duration": 121,
    "start_time": "2022-05-10T09:06:37.664Z"
   },
   {
    "duration": 118,
    "start_time": "2022-05-10T09:06:37.787Z"
   },
   {
    "duration": 25,
    "start_time": "2022-05-10T09:06:37.907Z"
   },
   {
    "duration": 91,
    "start_time": "2022-05-10T09:06:37.935Z"
   },
   {
    "duration": 104,
    "start_time": "2022-05-10T09:06:38.028Z"
   },
   {
    "duration": 33,
    "start_time": "2022-05-10T09:06:38.135Z"
   },
   {
    "duration": 90,
    "start_time": "2022-05-10T09:06:38.170Z"
   },
   {
    "duration": 145,
    "start_time": "2022-05-10T09:06:38.263Z"
   },
   {
    "duration": 21,
    "start_time": "2022-05-10T09:06:38.410Z"
   },
   {
    "duration": 88,
    "start_time": "2022-05-10T09:06:38.433Z"
   },
   {
    "duration": 98,
    "start_time": "2022-05-10T09:06:38.523Z"
   },
   {
    "duration": 45,
    "start_time": "2022-05-10T09:06:38.624Z"
   },
   {
    "duration": 32,
    "start_time": "2022-05-10T09:06:38.671Z"
   },
   {
    "duration": 118,
    "start_time": "2022-05-10T09:06:38.705Z"
   },
   {
    "duration": 308,
    "start_time": "2022-05-10T09:06:38.825Z"
   },
   {
    "duration": 729,
    "start_time": "2022-05-10T09:06:54.667Z"
   },
   {
    "duration": 38,
    "start_time": "2022-05-10T09:08:00.132Z"
   },
   {
    "duration": 5,
    "start_time": "2022-05-10T09:12:14.664Z"
   },
   {
    "duration": 513,
    "start_time": "2022-05-10T09:12:31.623Z"
   },
   {
    "duration": 1038,
    "start_time": "2022-05-10T09:12:32.139Z"
   },
   {
    "duration": 177,
    "start_time": "2022-05-10T09:12:33.179Z"
   },
   {
    "duration": 383,
    "start_time": "2022-05-10T09:12:33.360Z"
   },
   {
    "duration": 123,
    "start_time": "2022-05-10T09:12:33.745Z"
   },
   {
    "duration": 163,
    "start_time": "2022-05-10T09:12:33.870Z"
   },
   {
    "duration": 106,
    "start_time": "2022-05-10T09:12:34.036Z"
   },
   {
    "duration": 113,
    "start_time": "2022-05-10T09:12:34.144Z"
   },
   {
    "duration": 22,
    "start_time": "2022-05-10T09:12:34.259Z"
   },
   {
    "duration": 112,
    "start_time": "2022-05-10T09:12:34.284Z"
   },
   {
    "duration": 102,
    "start_time": "2022-05-10T09:12:34.399Z"
   },
   {
    "duration": 20,
    "start_time": "2022-05-10T09:12:34.503Z"
   },
   {
    "duration": 87,
    "start_time": "2022-05-10T09:12:34.526Z"
   },
   {
    "duration": 138,
    "start_time": "2022-05-10T09:12:34.615Z"
   },
   {
    "duration": 20,
    "start_time": "2022-05-10T09:12:34.756Z"
   },
   {
    "duration": 87,
    "start_time": "2022-05-10T09:12:34.778Z"
   },
   {
    "duration": 107,
    "start_time": "2022-05-10T09:12:34.867Z"
   },
   {
    "duration": 20,
    "start_time": "2022-05-10T09:12:34.976Z"
   },
   {
    "duration": 24,
    "start_time": "2022-05-10T09:13:04.024Z"
   },
   {
    "duration": 109,
    "start_time": "2022-05-10T09:13:04.051Z"
   },
   {
    "duration": 39,
    "start_time": "2022-05-10T09:13:04.162Z"
   },
   {
    "duration": 5,
    "start_time": "2022-05-10T09:13:04.203Z"
   },
   {
    "duration": 480,
    "start_time": "2022-05-10T09:15:07.297Z"
   },
   {
    "duration": 1064,
    "start_time": "2022-05-10T09:15:07.780Z"
   },
   {
    "duration": 174,
    "start_time": "2022-05-10T09:15:08.846Z"
   },
   {
    "duration": 377,
    "start_time": "2022-05-10T09:15:09.022Z"
   },
   {
    "duration": 114,
    "start_time": "2022-05-10T09:15:09.402Z"
   },
   {
    "duration": 169,
    "start_time": "2022-05-10T09:15:09.518Z"
   },
   {
    "duration": 111,
    "start_time": "2022-05-10T09:15:09.689Z"
   },
   {
    "duration": 110,
    "start_time": "2022-05-10T09:15:09.803Z"
   },
   {
    "duration": 38,
    "start_time": "2022-05-10T09:15:09.915Z"
   },
   {
    "duration": 91,
    "start_time": "2022-05-10T09:15:09.955Z"
   },
   {
    "duration": 101,
    "start_time": "2022-05-10T09:15:10.051Z"
   },
   {
    "duration": 21,
    "start_time": "2022-05-10T09:15:10.154Z"
   },
   {
    "duration": 99,
    "start_time": "2022-05-10T09:15:10.177Z"
   },
   {
    "duration": 141,
    "start_time": "2022-05-10T09:15:10.280Z"
   },
   {
    "duration": 21,
    "start_time": "2022-05-10T09:15:10.423Z"
   },
   {
    "duration": 76,
    "start_time": "2022-05-10T09:15:10.452Z"
   },
   {
    "duration": 101,
    "start_time": "2022-05-10T09:15:10.530Z"
   },
   {
    "duration": 28,
    "start_time": "2022-05-10T09:15:10.634Z"
   },
   {
    "duration": 29,
    "start_time": "2022-05-10T09:15:10.664Z"
   },
   {
    "duration": 121,
    "start_time": "2022-05-10T09:15:10.695Z"
   },
   {
    "duration": 46,
    "start_time": "2022-05-10T09:15:10.818Z"
   },
   {
    "duration": 4,
    "start_time": "2022-05-10T09:15:10.867Z"
   },
   {
    "duration": 15,
    "start_time": "2022-05-10T09:15:31.674Z"
   },
   {
    "duration": 15,
    "start_time": "2022-05-10T09:15:35.671Z"
   },
   {
    "duration": 97,
    "start_time": "2022-05-10T09:15:42.819Z"
   },
   {
    "duration": 14,
    "start_time": "2022-05-10T09:15:46.178Z"
   },
   {
    "duration": 116,
    "start_time": "2022-05-10T09:15:57.952Z"
   },
   {
    "duration": 5,
    "start_time": "2022-05-10T09:18:18.348Z"
   },
   {
    "duration": 11,
    "start_time": "2022-05-10T09:18:21.393Z"
   },
   {
    "duration": 571,
    "start_time": "2022-05-10T09:19:10.103Z"
   },
   {
    "duration": 507,
    "start_time": "2022-05-10T09:26:46.972Z"
   },
   {
    "duration": 1116,
    "start_time": "2022-05-10T09:26:47.482Z"
   },
   {
    "duration": 175,
    "start_time": "2022-05-10T09:26:48.601Z"
   },
   {
    "duration": 418,
    "start_time": "2022-05-10T09:26:48.779Z"
   },
   {
    "duration": 117,
    "start_time": "2022-05-10T09:26:49.199Z"
   },
   {
    "duration": 191,
    "start_time": "2022-05-10T09:26:49.319Z"
   },
   {
    "duration": 118,
    "start_time": "2022-05-10T09:26:49.512Z"
   },
   {
    "duration": 129,
    "start_time": "2022-05-10T09:26:49.634Z"
   },
   {
    "duration": 22,
    "start_time": "2022-05-10T09:26:49.765Z"
   },
   {
    "duration": 99,
    "start_time": "2022-05-10T09:26:49.789Z"
   },
   {
    "duration": 151,
    "start_time": "2022-05-10T09:26:49.891Z"
   },
   {
    "duration": 28,
    "start_time": "2022-05-10T09:26:50.044Z"
   },
   {
    "duration": 106,
    "start_time": "2022-05-10T09:26:50.074Z"
   },
   {
    "duration": 171,
    "start_time": "2022-05-10T09:26:50.183Z"
   },
   {
    "duration": 28,
    "start_time": "2022-05-10T09:26:50.364Z"
   },
   {
    "duration": 92,
    "start_time": "2022-05-10T09:26:50.395Z"
   },
   {
    "duration": 117,
    "start_time": "2022-05-10T09:26:50.489Z"
   },
   {
    "duration": 43,
    "start_time": "2022-05-10T09:26:50.609Z"
   },
   {
    "duration": 26,
    "start_time": "2022-05-10T09:26:50.655Z"
   },
   {
    "duration": 168,
    "start_time": "2022-05-10T09:26:50.684Z"
   },
   {
    "duration": 591,
    "start_time": "2022-05-10T09:26:50.854Z"
   },
   {
    "duration": 6,
    "start_time": "2022-05-10T09:26:51.447Z"
   },
   {
    "duration": 15,
    "start_time": "2022-05-10T09:26:51.455Z"
   },
   {
    "duration": 297,
    "start_time": "2022-05-10T09:27:19.876Z"
   },
   {
    "duration": 36,
    "start_time": "2022-05-10T09:27:54.286Z"
   },
   {
    "duration": 203,
    "start_time": "2022-05-10T09:28:19.811Z"
   },
   {
    "duration": 45,
    "start_time": "2022-05-10T09:28:35.235Z"
   },
   {
    "duration": 42,
    "start_time": "2022-05-10T09:29:21.843Z"
   },
   {
    "duration": 50,
    "start_time": "2022-05-10T09:29:29.433Z"
   },
   {
    "duration": 85,
    "start_time": "2022-05-10T09:29:35.664Z"
   },
   {
    "duration": 39,
    "start_time": "2022-05-10T09:29:43.493Z"
   },
   {
    "duration": 35,
    "start_time": "2022-05-10T09:30:38.666Z"
   },
   {
    "duration": 40,
    "start_time": "2022-05-10T09:31:03.593Z"
   },
   {
    "duration": 41,
    "start_time": "2022-05-10T09:31:08.289Z"
   },
   {
    "duration": 58,
    "start_time": "2022-05-10T09:31:12.473Z"
   },
   {
    "duration": 40,
    "start_time": "2022-05-10T09:31:16.507Z"
   },
   {
    "duration": 56,
    "start_time": "2022-05-10T09:31:20.336Z"
   },
   {
    "duration": 43,
    "start_time": "2022-05-10T09:31:27.864Z"
   },
   {
    "duration": 29,
    "start_time": "2022-05-10T09:31:53.411Z"
   },
   {
    "duration": 43,
    "start_time": "2022-05-10T09:32:41.760Z"
   },
   {
    "duration": 52,
    "start_time": "2022-05-10T09:35:27.469Z"
   },
   {
    "duration": 100,
    "start_time": "2022-05-10T09:35:34.770Z"
   },
   {
    "duration": 555,
    "start_time": "2022-05-10T19:11:35.749Z"
   },
   {
    "duration": 1421,
    "start_time": "2022-05-10T19:11:36.306Z"
   },
   {
    "duration": 219,
    "start_time": "2022-05-10T19:11:37.730Z"
   },
   {
    "duration": 493,
    "start_time": "2022-05-10T19:11:37.954Z"
   },
   {
    "duration": 145,
    "start_time": "2022-05-10T19:11:38.451Z"
   },
   {
    "duration": 192,
    "start_time": "2022-05-10T19:11:38.598Z"
   },
   {
    "duration": 202,
    "start_time": "2022-05-10T19:11:38.793Z"
   },
   {
    "duration": 192,
    "start_time": "2022-05-10T19:11:38.997Z"
   },
   {
    "duration": 41,
    "start_time": "2022-05-10T19:11:39.191Z"
   },
   {
    "duration": 121,
    "start_time": "2022-05-10T19:11:39.238Z"
   },
   {
    "duration": 120,
    "start_time": "2022-05-10T19:11:39.362Z"
   },
   {
    "duration": 22,
    "start_time": "2022-05-10T19:11:39.485Z"
   },
   {
    "duration": 106,
    "start_time": "2022-05-10T19:11:39.510Z"
   },
   {
    "duration": 204,
    "start_time": "2022-05-10T19:11:39.624Z"
   },
   {
    "duration": 36,
    "start_time": "2022-05-10T19:11:39.830Z"
   },
   {
    "duration": 126,
    "start_time": "2022-05-10T19:11:39.868Z"
   },
   {
    "duration": 170,
    "start_time": "2022-05-10T19:11:39.997Z"
   },
   {
    "duration": 37,
    "start_time": "2022-05-10T19:11:40.170Z"
   },
   {
    "duration": 53,
    "start_time": "2022-05-10T19:11:40.209Z"
   },
   {
    "duration": 179,
    "start_time": "2022-05-10T19:11:40.265Z"
   },
   {
    "duration": 49,
    "start_time": "2022-05-10T19:11:40.449Z"
   },
   {
    "duration": 77,
    "start_time": "2022-05-10T19:11:40.501Z"
   },
   {
    "duration": 14,
    "start_time": "2022-05-10T19:11:47.516Z"
   },
   {
    "duration": 221,
    "start_time": "2022-05-10T19:12:23.381Z"
   },
   {
    "duration": 188,
    "start_time": "2022-05-10T19:12:29.093Z"
   },
   {
    "duration": 22,
    "start_time": "2022-05-10T19:14:25.690Z"
   },
   {
    "duration": 178,
    "start_time": "2022-05-10T19:14:44.821Z"
   },
   {
    "duration": 17,
    "start_time": "2022-05-10T19:14:51.962Z"
   },
   {
    "duration": 18,
    "start_time": "2022-05-10T19:16:55.900Z"
   },
   {
    "duration": 25,
    "start_time": "2022-05-10T19:17:01.390Z"
   },
   {
    "duration": 25,
    "start_time": "2022-05-10T19:18:05.832Z"
   },
   {
    "duration": 18,
    "start_time": "2022-05-10T19:18:22.165Z"
   },
   {
    "duration": 18,
    "start_time": "2022-05-10T19:18:40.366Z"
   },
   {
    "duration": 1326,
    "start_time": "2022-05-10T19:18:54.227Z"
   },
   {
    "duration": 374,
    "start_time": "2022-05-10T19:19:06.250Z"
   },
   {
    "duration": 320,
    "start_time": "2022-05-10T19:19:12.582Z"
   },
   {
    "duration": 20,
    "start_time": "2022-05-10T19:19:19.105Z"
   },
   {
    "duration": 300,
    "start_time": "2022-05-10T19:19:34.240Z"
   },
   {
    "duration": 79,
    "start_time": "2022-05-10T19:21:40.272Z"
   },
   {
    "duration": 435,
    "start_time": "2022-05-10T19:21:42.640Z"
   },
   {
    "duration": 114,
    "start_time": "2022-05-10T19:22:06.168Z"
   },
   {
    "duration": 269,
    "start_time": "2022-05-10T19:22:18.982Z"
   },
   {
    "duration": 334,
    "start_time": "2022-05-10T19:22:35.519Z"
   },
   {
    "duration": 214,
    "start_time": "2022-05-10T19:23:01.140Z"
   },
   {
    "duration": 230,
    "start_time": "2022-05-10T19:23:48.629Z"
   },
   {
    "duration": 365,
    "start_time": "2022-05-10T19:23:55.340Z"
   },
   {
    "duration": 30,
    "start_time": "2022-05-10T19:24:35.457Z"
   },
   {
    "duration": 951,
    "start_time": "2022-05-10T19:24:59.492Z"
   },
   {
    "duration": 53,
    "start_time": "2022-05-10T19:25:37.195Z"
   },
   {
    "duration": 4,
    "start_time": "2022-05-10T19:25:44.262Z"
   },
   {
    "duration": 205,
    "start_time": "2022-05-10T19:25:51.342Z"
   },
   {
    "duration": 100,
    "start_time": "2022-05-10T19:27:28.316Z"
   },
   {
    "duration": 19,
    "start_time": "2022-05-10T19:28:00.261Z"
   },
   {
    "duration": 52,
    "start_time": "2022-05-10T19:28:37.720Z"
   },
   {
    "duration": 108,
    "start_time": "2022-05-10T19:28:59.595Z"
   },
   {
    "duration": 217,
    "start_time": "2022-05-10T19:30:03.554Z"
   },
   {
    "duration": 91,
    "start_time": "2022-05-10T19:30:39.674Z"
   },
   {
    "duration": 94,
    "start_time": "2022-05-10T19:31:00.604Z"
   },
   {
    "duration": 27,
    "start_time": "2022-05-10T19:32:26.438Z"
   },
   {
    "duration": 7,
    "start_time": "2022-05-10T19:32:44.176Z"
   },
   {
    "duration": 22,
    "start_time": "2022-05-10T19:33:01.738Z"
   },
   {
    "duration": 196,
    "start_time": "2022-05-10T19:33:14.151Z"
   },
   {
    "duration": 15,
    "start_time": "2022-05-10T19:33:37.194Z"
   },
   {
    "duration": 48,
    "start_time": "2022-05-10T19:34:39.952Z"
   },
   {
    "duration": 193,
    "start_time": "2022-05-10T19:34:43.471Z"
   },
   {
    "duration": 7,
    "start_time": "2022-05-10T19:34:55.253Z"
   },
   {
    "duration": 1524,
    "start_time": "2022-05-10T19:35:12.982Z"
   },
   {
    "duration": 1201,
    "start_time": "2022-05-10T19:35:14.509Z"
   },
   {
    "duration": 184,
    "start_time": "2022-05-10T19:35:15.713Z"
   },
   {
    "duration": 410,
    "start_time": "2022-05-10T19:35:15.900Z"
   },
   {
    "duration": 132,
    "start_time": "2022-05-10T19:35:16.313Z"
   },
   {
    "duration": 173,
    "start_time": "2022-05-10T19:35:16.447Z"
   },
   {
    "duration": 123,
    "start_time": "2022-05-10T19:35:16.624Z"
   },
   {
    "duration": 121,
    "start_time": "2022-05-10T19:35:16.750Z"
   },
   {
    "duration": 23,
    "start_time": "2022-05-10T19:35:16.873Z"
   },
   {
    "duration": 107,
    "start_time": "2022-05-10T19:35:16.899Z"
   },
   {
    "duration": 122,
    "start_time": "2022-05-10T19:35:17.009Z"
   },
   {
    "duration": 23,
    "start_time": "2022-05-10T19:35:17.134Z"
   },
   {
    "duration": 85,
    "start_time": "2022-05-10T19:35:17.160Z"
   },
   {
    "duration": 155,
    "start_time": "2022-05-10T19:35:17.247Z"
   },
   {
    "duration": 32,
    "start_time": "2022-05-10T19:35:17.404Z"
   },
   {
    "duration": 84,
    "start_time": "2022-05-10T19:35:17.440Z"
   },
   {
    "duration": 117,
    "start_time": "2022-05-10T19:35:17.529Z"
   },
   {
    "duration": 22,
    "start_time": "2022-05-10T19:35:17.649Z"
   },
   {
    "duration": 26,
    "start_time": "2022-05-10T19:35:17.673Z"
   },
   {
    "duration": 149,
    "start_time": "2022-05-10T19:35:17.701Z"
   },
   {
    "duration": 243,
    "start_time": "2022-05-10T19:35:17.852Z"
   },
   {
    "duration": 67,
    "start_time": "2022-05-10T19:35:18.098Z"
   },
   {
    "duration": 49,
    "start_time": "2022-05-10T19:35:18.167Z"
   },
   {
    "duration": 220,
    "start_time": "2022-05-10T19:35:18.219Z"
   },
   {
    "duration": 18,
    "start_time": "2022-05-10T19:35:18.441Z"
   },
   {
    "duration": 17,
    "start_time": "2022-05-10T19:35:18.461Z"
   },
   {
    "duration": 129,
    "start_time": "2022-05-10T19:35:18.480Z"
   },
   {
    "duration": 203,
    "start_time": "2022-05-10T19:35:18.613Z"
   },
   {
    "duration": 24,
    "start_time": "2022-05-10T19:35:18.818Z"
   },
   {
    "duration": 57,
    "start_time": "2022-05-10T19:35:18.844Z"
   },
   {
    "duration": 245,
    "start_time": "2022-05-10T19:35:18.903Z"
   },
   {
    "duration": 99,
    "start_time": "2022-05-10T19:35:19.150Z"
   },
   {
    "duration": 85,
    "start_time": "2022-05-10T19:35:19.251Z"
   },
   {
    "duration": 7,
    "start_time": "2022-05-10T19:35:23.444Z"
   },
   {
    "duration": 16,
    "start_time": "2022-05-10T19:35:55.260Z"
   },
   {
    "duration": 1592,
    "start_time": "2022-05-10T19:36:07.501Z"
   },
   {
    "duration": 1208,
    "start_time": "2022-05-10T19:36:09.096Z"
   },
   {
    "duration": 193,
    "start_time": "2022-05-10T19:36:10.306Z"
   },
   {
    "duration": 451,
    "start_time": "2022-05-10T19:36:10.504Z"
   },
   {
    "duration": 134,
    "start_time": "2022-05-10T19:36:10.957Z"
   },
   {
    "duration": 186,
    "start_time": "2022-05-10T19:36:11.093Z"
   },
   {
    "duration": 123,
    "start_time": "2022-05-10T19:36:11.281Z"
   },
   {
    "duration": 117,
    "start_time": "2022-05-10T19:36:11.407Z"
   },
   {
    "duration": 25,
    "start_time": "2022-05-10T19:36:11.529Z"
   },
   {
    "duration": 101,
    "start_time": "2022-05-10T19:36:11.558Z"
   },
   {
    "duration": 113,
    "start_time": "2022-05-10T19:36:11.661Z"
   },
   {
    "duration": 24,
    "start_time": "2022-05-10T19:36:11.777Z"
   },
   {
    "duration": 100,
    "start_time": "2022-05-10T19:36:11.803Z"
   },
   {
    "duration": 166,
    "start_time": "2022-05-10T19:36:11.905Z"
   },
   {
    "duration": 23,
    "start_time": "2022-05-10T19:36:12.073Z"
   },
   {
    "duration": 102,
    "start_time": "2022-05-10T19:36:12.099Z"
   },
   {
    "duration": 107,
    "start_time": "2022-05-10T19:36:12.204Z"
   },
   {
    "duration": 32,
    "start_time": "2022-05-10T19:36:12.314Z"
   },
   {
    "duration": 27,
    "start_time": "2022-05-10T19:36:12.348Z"
   },
   {
    "duration": 143,
    "start_time": "2022-05-10T19:36:12.377Z"
   },
   {
    "duration": 252,
    "start_time": "2022-05-10T19:36:12.522Z"
   },
   {
    "duration": 56,
    "start_time": "2022-05-10T19:36:12.776Z"
   },
   {
    "duration": 51,
    "start_time": "2022-05-10T19:36:12.834Z"
   },
   {
    "duration": 234,
    "start_time": "2022-05-10T19:36:12.887Z"
   },
   {
    "duration": 23,
    "start_time": "2022-05-10T19:36:13.123Z"
   },
   {
    "duration": 20,
    "start_time": "2022-05-10T19:36:13.149Z"
   },
   {
    "duration": 125,
    "start_time": "2022-05-10T19:36:13.171Z"
   },
   {
    "duration": 210,
    "start_time": "2022-05-10T19:36:13.301Z"
   },
   {
    "duration": 27,
    "start_time": "2022-05-10T19:36:13.513Z"
   },
   {
    "duration": 54,
    "start_time": "2022-05-10T19:36:13.542Z"
   },
   {
    "duration": 243,
    "start_time": "2022-05-10T19:36:13.599Z"
   },
   {
    "duration": 371,
    "start_time": "2022-05-10T19:36:13.844Z"
   },
   {
    "duration": 76,
    "start_time": "2022-05-10T19:36:14.218Z"
   },
   {
    "duration": 6,
    "start_time": "2022-05-10T19:36:14.297Z"
   },
   {
    "duration": 245,
    "start_time": "2022-05-10T19:40:26.224Z"
   },
   {
    "duration": 17,
    "start_time": "2022-05-10T19:40:31.362Z"
   },
   {
    "duration": 1693,
    "start_time": "2022-05-10T19:40:40.716Z"
   },
   {
    "duration": 1294,
    "start_time": "2022-05-10T19:40:42.411Z"
   },
   {
    "duration": 208,
    "start_time": "2022-05-10T19:40:43.707Z"
   },
   {
    "duration": 490,
    "start_time": "2022-05-10T19:40:43.926Z"
   },
   {
    "duration": 143,
    "start_time": "2022-05-10T19:40:44.418Z"
   },
   {
    "duration": 201,
    "start_time": "2022-05-10T19:40:44.564Z"
   },
   {
    "duration": 138,
    "start_time": "2022-05-10T19:40:44.768Z"
   },
   {
    "duration": 139,
    "start_time": "2022-05-10T19:40:44.908Z"
   },
   {
    "duration": 25,
    "start_time": "2022-05-10T19:40:45.050Z"
   },
   {
    "duration": 108,
    "start_time": "2022-05-10T19:40:45.081Z"
   },
   {
    "duration": 124,
    "start_time": "2022-05-10T19:40:45.191Z"
   },
   {
    "duration": 42,
    "start_time": "2022-05-10T19:40:45.317Z"
   },
   {
    "duration": 108,
    "start_time": "2022-05-10T19:40:45.361Z"
   },
   {
    "duration": 168,
    "start_time": "2022-05-10T19:40:45.472Z"
   },
   {
    "duration": 25,
    "start_time": "2022-05-10T19:40:45.643Z"
   },
   {
    "duration": 94,
    "start_time": "2022-05-10T19:40:45.670Z"
   },
   {
    "duration": 122,
    "start_time": "2022-05-10T19:40:45.766Z"
   },
   {
    "duration": 24,
    "start_time": "2022-05-10T19:40:45.890Z"
   },
   {
    "duration": 34,
    "start_time": "2022-05-10T19:40:45.927Z"
   },
   {
    "duration": 139,
    "start_time": "2022-05-10T19:40:45.964Z"
   },
   {
    "duration": 262,
    "start_time": "2022-05-10T19:40:46.105Z"
   },
   {
    "duration": 61,
    "start_time": "2022-05-10T19:40:46.370Z"
   },
   {
    "duration": 58,
    "start_time": "2022-05-10T19:40:46.434Z"
   },
   {
    "duration": 248,
    "start_time": "2022-05-10T19:40:46.495Z"
   },
   {
    "duration": 21,
    "start_time": "2022-05-10T19:40:46.750Z"
   },
   {
    "duration": 19,
    "start_time": "2022-05-10T19:40:46.774Z"
   },
   {
    "duration": 144,
    "start_time": "2022-05-10T19:40:46.795Z"
   },
   {
    "duration": 226,
    "start_time": "2022-05-10T19:40:46.947Z"
   },
   {
    "duration": 19,
    "start_time": "2022-05-10T19:40:47.176Z"
   },
   {
    "duration": 81,
    "start_time": "2022-05-10T19:40:47.197Z"
   },
   {
    "duration": 289,
    "start_time": "2022-05-10T19:40:47.280Z"
   },
   {
    "duration": 109,
    "start_time": "2022-05-10T19:40:47.571Z"
   },
   {
    "duration": 58,
    "start_time": "2022-05-10T19:40:47.682Z"
   },
   {
    "duration": 9,
    "start_time": "2022-05-10T19:40:47.744Z"
   },
   {
    "duration": 10,
    "start_time": "2022-05-10T19:41:29.122Z"
   },
   {
    "duration": 228,
    "start_time": "2022-05-10T19:41:41.241Z"
   },
   {
    "duration": 116,
    "start_time": "2022-05-10T19:43:25.319Z"
   },
   {
    "duration": 7,
    "start_time": "2022-05-10T19:43:42.617Z"
   },
   {
    "duration": 11,
    "start_time": "2022-05-10T19:43:50.319Z"
   },
   {
    "duration": 8,
    "start_time": "2022-05-10T19:43:57.872Z"
   },
   {
    "duration": 6,
    "start_time": "2022-05-10T19:44:14.986Z"
   },
   {
    "duration": 6,
    "start_time": "2022-05-10T19:44:17.547Z"
   },
   {
    "duration": 8,
    "start_time": "2022-05-10T19:44:19.262Z"
   },
   {
    "duration": 10,
    "start_time": "2022-05-10T19:44:22.088Z"
   },
   {
    "duration": 33,
    "start_time": "2022-05-10T19:44:35.974Z"
   },
   {
    "duration": 63,
    "start_time": "2022-05-10T19:45:09.662Z"
   },
   {
    "duration": 20,
    "start_time": "2022-05-10T19:45:12.442Z"
   },
   {
    "duration": 63,
    "start_time": "2022-05-10T19:45:14.742Z"
   },
   {
    "duration": 313,
    "start_time": "2022-05-10T19:45:51.192Z"
   },
   {
    "duration": 144,
    "start_time": "2022-05-10T19:47:08.183Z"
   },
   {
    "duration": 6,
    "start_time": "2022-05-10T19:47:15.487Z"
   },
   {
    "duration": 262,
    "start_time": "2022-05-10T19:47:18.500Z"
   },
   {
    "duration": 21,
    "start_time": "2022-05-10T19:47:59.310Z"
   },
   {
    "duration": 24,
    "start_time": "2022-05-10T19:48:07.393Z"
   },
   {
    "duration": 2728,
    "start_time": "2022-05-10T19:49:28.569Z"
   },
   {
    "duration": 8005,
    "start_time": "2022-05-10T19:50:45.408Z"
   },
   {
    "duration": 939,
    "start_time": "2022-05-10T19:51:15.042Z"
   },
   {
    "duration": 0,
    "start_time": "2022-05-10T19:52:24.769Z"
   },
   {
    "duration": 932,
    "start_time": "2022-05-10T19:52:27.226Z"
   },
   {
    "duration": 9,
    "start_time": "2022-05-10T19:52:30.121Z"
   },
   {
    "duration": 1884,
    "start_time": "2022-05-10T19:52:45.294Z"
   },
   {
    "duration": 3110,
    "start_time": "2022-05-10T19:52:47.182Z"
   },
   {
    "duration": 254,
    "start_time": "2022-05-10T19:52:50.296Z"
   },
   {
    "duration": 490,
    "start_time": "2022-05-10T19:52:50.554Z"
   },
   {
    "duration": 160,
    "start_time": "2022-05-10T19:52:51.047Z"
   },
   {
    "duration": 192,
    "start_time": "2022-05-10T19:52:51.210Z"
   },
   {
    "duration": 165,
    "start_time": "2022-05-10T19:52:51.405Z"
   },
   {
    "duration": 183,
    "start_time": "2022-05-10T19:52:51.573Z"
   },
   {
    "duration": 34,
    "start_time": "2022-05-10T19:52:51.759Z"
   },
   {
    "duration": 108,
    "start_time": "2022-05-10T19:52:51.798Z"
   },
   {
    "duration": 137,
    "start_time": "2022-05-10T19:52:51.908Z"
   },
   {
    "duration": 35,
    "start_time": "2022-05-10T19:52:52.048Z"
   },
   {
    "duration": 96,
    "start_time": "2022-05-10T19:52:52.086Z"
   },
   {
    "duration": 168,
    "start_time": "2022-05-10T19:52:52.184Z"
   },
   {
    "duration": 30,
    "start_time": "2022-05-10T19:52:52.355Z"
   },
   {
    "duration": 101,
    "start_time": "2022-05-10T19:52:52.387Z"
   },
   {
    "duration": 117,
    "start_time": "2022-05-10T19:52:52.490Z"
   },
   {
    "duration": 34,
    "start_time": "2022-05-10T19:52:52.610Z"
   },
   {
    "duration": 52,
    "start_time": "2022-05-10T19:52:52.647Z"
   },
   {
    "duration": 145,
    "start_time": "2022-05-10T19:52:52.701Z"
   },
   {
    "duration": 285,
    "start_time": "2022-05-10T19:52:52.849Z"
   },
   {
    "duration": 52,
    "start_time": "2022-05-10T19:52:53.137Z"
   },
   {
    "duration": 66,
    "start_time": "2022-05-10T19:52:53.191Z"
   },
   {
    "duration": 253,
    "start_time": "2022-05-10T19:52:53.260Z"
   },
   {
    "duration": 25,
    "start_time": "2022-05-10T19:52:53.516Z"
   },
   {
    "duration": 49,
    "start_time": "2022-05-10T19:52:53.544Z"
   },
   {
    "duration": 103,
    "start_time": "2022-05-10T19:52:53.595Z"
   },
   {
    "duration": 240,
    "start_time": "2022-05-10T19:52:53.703Z"
   },
   {
    "duration": 26,
    "start_time": "2022-05-10T19:52:53.949Z"
   },
   {
    "duration": 74,
    "start_time": "2022-05-10T19:52:53.977Z"
   },
   {
    "duration": 260,
    "start_time": "2022-05-10T19:52:54.058Z"
   },
   {
    "duration": 122,
    "start_time": "2022-05-10T19:52:54.320Z"
   },
   {
    "duration": 121,
    "start_time": "2022-05-10T19:52:54.445Z"
   },
   {
    "duration": 24,
    "start_time": "2022-05-10T19:52:54.573Z"
   },
   {
    "duration": 94,
    "start_time": "2022-05-10T19:52:54.600Z"
   },
   {
    "duration": 259,
    "start_time": "2022-05-10T19:52:54.696Z"
   },
   {
    "duration": 133,
    "start_time": "2022-05-10T19:52:54.957Z"
   },
   {
    "duration": 541,
    "start_time": "2022-05-10T19:52:55.093Z"
   },
   {
    "duration": 624,
    "start_time": "2022-05-10T19:52:55.638Z"
   },
   {
    "duration": 11,
    "start_time": "2022-05-10T19:52:56.267Z"
   },
   {
    "duration": 7,
    "start_time": "2022-05-10T19:54:15.916Z"
   },
   {
    "duration": 28,
    "start_time": "2022-05-10T20:00:13.038Z"
   },
   {
    "duration": 8,
    "start_time": "2022-05-10T20:00:31.952Z"
   },
   {
    "duration": 24,
    "start_time": "2022-05-10T20:00:56.546Z"
   },
   {
    "duration": 47,
    "start_time": "2022-05-11T09:15:48.242Z"
   },
   {
    "duration": 1308,
    "start_time": "2022-05-11T09:15:51.802Z"
   },
   {
    "duration": 2378,
    "start_time": "2022-05-11T09:15:53.111Z"
   },
   {
    "duration": 146,
    "start_time": "2022-05-11T09:15:55.491Z"
   },
   {
    "duration": 291,
    "start_time": "2022-05-11T09:15:55.648Z"
   },
   {
    "duration": 108,
    "start_time": "2022-05-11T09:15:55.940Z"
   },
   {
    "duration": 165,
    "start_time": "2022-05-11T09:15:56.050Z"
   },
   {
    "duration": 154,
    "start_time": "2022-05-11T09:15:56.218Z"
   },
   {
    "duration": 143,
    "start_time": "2022-05-11T09:15:56.374Z"
   },
   {
    "duration": 31,
    "start_time": "2022-05-11T09:15:56.519Z"
   },
   {
    "duration": 55,
    "start_time": "2022-05-11T09:15:56.554Z"
   },
   {
    "duration": 120,
    "start_time": "2022-05-11T09:15:56.610Z"
   },
   {
    "duration": 34,
    "start_time": "2022-05-11T09:15:56.732Z"
   },
   {
    "duration": 51,
    "start_time": "2022-05-11T09:15:56.770Z"
   },
   {
    "duration": 108,
    "start_time": "2022-05-11T09:15:56.823Z"
   },
   {
    "duration": 22,
    "start_time": "2022-05-11T09:15:56.933Z"
   },
   {
    "duration": 49,
    "start_time": "2022-05-11T09:15:56.957Z"
   },
   {
    "duration": 95,
    "start_time": "2022-05-11T09:15:57.008Z"
   },
   {
    "duration": 16,
    "start_time": "2022-05-11T09:15:57.104Z"
   },
   {
    "duration": 178,
    "start_time": "2022-05-11T09:15:59.659Z"
   },
   {
    "duration": 16200,
    "start_time": "2022-05-11T09:16:18.679Z"
   },
   {
    "duration": 1280,
    "start_time": "2022-05-11T09:17:05.368Z"
   },
   {
    "duration": 107,
    "start_time": "2022-05-11T09:17:38.657Z"
   },
   {
    "duration": 45,
    "start_time": "2022-05-11T09:17:56.853Z"
   },
   {
    "duration": 44,
    "start_time": "2022-05-11T09:18:03.013Z"
   },
   {
    "duration": 153,
    "start_time": "2022-05-11T09:19:11.452Z"
   },
   {
    "duration": 331,
    "start_time": "2022-05-11T09:19:31.410Z"
   },
   {
    "duration": 498,
    "start_time": "2022-05-11T09:19:37.009Z"
   },
   {
    "duration": 3,
    "start_time": "2022-05-11T09:20:39.446Z"
   },
   {
    "duration": 512,
    "start_time": "2022-05-11T09:26:15.236Z"
   },
   {
    "duration": 246,
    "start_time": "2022-05-11T09:26:32.298Z"
   },
   {
    "duration": 258,
    "start_time": "2022-05-11T09:27:39.064Z"
   },
   {
    "duration": 287,
    "start_time": "2022-05-11T09:28:00.705Z"
   },
   {
    "duration": 263,
    "start_time": "2022-05-11T09:28:06.400Z"
   },
   {
    "duration": 44,
    "start_time": "2022-05-11T09:30:28.639Z"
   },
   {
    "duration": 235,
    "start_time": "2022-05-11T09:31:24.881Z"
   },
   {
    "duration": 488,
    "start_time": "2022-05-11T09:32:56.316Z"
   },
   {
    "duration": 846,
    "start_time": "2022-05-11T09:34:07.993Z"
   },
   {
    "duration": 326,
    "start_time": "2022-05-11T09:34:40.964Z"
   },
   {
    "duration": 727,
    "start_time": "2022-05-11T09:35:19.768Z"
   },
   {
    "duration": 949,
    "start_time": "2022-05-11T09:37:13.946Z"
   },
   {
    "duration": 3195,
    "start_time": "2022-05-11T09:38:03.918Z"
   },
   {
    "duration": 411,
    "start_time": "2022-05-11T09:38:16.490Z"
   },
   {
    "duration": 10,
    "start_time": "2022-05-11T09:38:32.299Z"
   },
   {
    "duration": 67,
    "start_time": "2022-05-11T09:38:42.668Z"
   },
   {
    "duration": 342,
    "start_time": "2022-05-11T09:38:57.299Z"
   },
   {
    "duration": 419,
    "start_time": "2022-05-11T09:39:04.438Z"
   },
   {
    "duration": 370,
    "start_time": "2022-05-11T09:40:32.972Z"
   },
   {
    "duration": 412,
    "start_time": "2022-05-11T09:40:52.195Z"
   },
   {
    "duration": 368,
    "start_time": "2022-05-11T09:41:52.904Z"
   },
   {
    "duration": 361,
    "start_time": "2022-05-11T09:42:06.306Z"
   },
   {
    "duration": 594,
    "start_time": "2022-05-11T09:42:17.145Z"
   },
   {
    "duration": 571,
    "start_time": "2022-05-11T09:42:23.546Z"
   },
   {
    "duration": 70,
    "start_time": "2022-05-11T09:44:01.984Z"
   },
   {
    "duration": 129,
    "start_time": "2022-05-11T09:44:17.424Z"
   },
   {
    "duration": 64,
    "start_time": "2022-05-11T09:44:20.961Z"
   },
   {
    "duration": 60,
    "start_time": "2022-05-11T09:44:34.475Z"
   },
   {
    "duration": 144,
    "start_time": "2022-05-11T09:44:48.804Z"
   },
   {
    "duration": 70,
    "start_time": "2022-05-11T09:44:51.867Z"
   },
   {
    "duration": 76,
    "start_time": "2022-05-11T09:44:56.908Z"
   },
   {
    "duration": 79,
    "start_time": "2022-05-11T09:45:09.696Z"
   },
   {
    "duration": 67,
    "start_time": "2022-05-11T09:45:17.760Z"
   },
   {
    "duration": 169,
    "start_time": "2022-05-11T09:45:24.223Z"
   },
   {
    "duration": 77,
    "start_time": "2022-05-11T09:45:41.147Z"
   },
   {
    "duration": 484,
    "start_time": "2022-05-11T09:45:49.875Z"
   },
   {
    "duration": 429,
    "start_time": "2022-05-11T09:46:04.585Z"
   },
   {
    "duration": 497,
    "start_time": "2022-05-11T09:47:24.724Z"
   },
   {
    "duration": 470,
    "start_time": "2022-05-11T09:47:31.575Z"
   },
   {
    "duration": 477,
    "start_time": "2022-05-11T09:47:37.096Z"
   },
   {
    "duration": 17,
    "start_time": "2022-05-11T09:49:34.997Z"
   },
   {
    "duration": 1176,
    "start_time": "2022-05-11T09:49:49.638Z"
   },
   {
    "duration": 503,
    "start_time": "2022-05-11T09:50:05.127Z"
   },
   {
    "duration": 521,
    "start_time": "2022-05-11T09:50:17.726Z"
   },
   {
    "duration": 789,
    "start_time": "2022-05-11T09:55:44.632Z"
   },
   {
    "duration": 618,
    "start_time": "2022-05-11T09:55:51.413Z"
   },
   {
    "duration": 449,
    "start_time": "2022-05-11T09:56:04.832Z"
   },
   {
    "duration": 409,
    "start_time": "2022-05-11T09:56:54.494Z"
   },
   {
    "duration": 406,
    "start_time": "2022-05-11T09:57:16.844Z"
   },
   {
    "duration": 551,
    "start_time": "2022-05-11T09:57:34.967Z"
   },
   {
    "duration": 1229,
    "start_time": "2022-05-11T09:59:11.356Z"
   },
   {
    "duration": 1637,
    "start_time": "2022-05-11T09:59:12.587Z"
   },
   {
    "duration": 158,
    "start_time": "2022-05-11T09:59:14.225Z"
   },
   {
    "duration": 273,
    "start_time": "2022-05-11T09:59:14.388Z"
   },
   {
    "duration": 101,
    "start_time": "2022-05-11T09:59:14.664Z"
   },
   {
    "duration": 110,
    "start_time": "2022-05-11T09:59:14.767Z"
   },
   {
    "duration": 101,
    "start_time": "2022-05-11T09:59:14.883Z"
   },
   {
    "duration": 92,
    "start_time": "2022-05-11T09:59:14.986Z"
   },
   {
    "duration": 19,
    "start_time": "2022-05-11T09:59:15.080Z"
   },
   {
    "duration": 53,
    "start_time": "2022-05-11T09:59:15.101Z"
   },
   {
    "duration": 80,
    "start_time": "2022-05-11T09:59:15.159Z"
   },
   {
    "duration": 25,
    "start_time": "2022-05-11T09:59:15.241Z"
   },
   {
    "duration": 51,
    "start_time": "2022-05-11T09:59:15.269Z"
   },
   {
    "duration": 106,
    "start_time": "2022-05-11T09:59:15.322Z"
   },
   {
    "duration": 29,
    "start_time": "2022-05-11T09:59:15.430Z"
   },
   {
    "duration": 62,
    "start_time": "2022-05-11T09:59:15.460Z"
   },
   {
    "duration": 87,
    "start_time": "2022-05-11T09:59:15.523Z"
   },
   {
    "duration": 16,
    "start_time": "2022-05-11T09:59:15.612Z"
   },
   {
    "duration": 528,
    "start_time": "2022-05-11T09:59:19.969Z"
   },
   {
    "duration": 23,
    "start_time": "2022-05-11T09:59:31.331Z"
   },
   {
    "duration": 703,
    "start_time": "2022-05-11T09:59:32.673Z"
   },
   {
    "duration": 1395,
    "start_time": "2022-05-11T17:17:13.974Z"
   },
   {
    "duration": 1795,
    "start_time": "2022-05-11T17:17:15.371Z"
   },
   {
    "duration": 140,
    "start_time": "2022-05-11T17:17:17.167Z"
   },
   {
    "duration": 303,
    "start_time": "2022-05-11T17:17:17.309Z"
   },
   {
    "duration": 104,
    "start_time": "2022-05-11T17:17:17.614Z"
   },
   {
    "duration": 133,
    "start_time": "2022-05-11T17:17:17.720Z"
   },
   {
    "duration": 104,
    "start_time": "2022-05-11T17:17:17.855Z"
   },
   {
    "duration": 93,
    "start_time": "2022-05-11T17:17:17.960Z"
   },
   {
    "duration": 19,
    "start_time": "2022-05-11T17:17:18.055Z"
   },
   {
    "duration": 68,
    "start_time": "2022-05-11T17:17:18.076Z"
   },
   {
    "duration": 76,
    "start_time": "2022-05-11T17:17:18.146Z"
   },
   {
    "duration": 30,
    "start_time": "2022-05-11T17:17:18.224Z"
   },
   {
    "duration": 44,
    "start_time": "2022-05-11T17:17:18.256Z"
   },
   {
    "duration": 122,
    "start_time": "2022-05-11T17:17:18.302Z"
   },
   {
    "duration": 30,
    "start_time": "2022-05-11T17:17:18.426Z"
   },
   {
    "duration": 44,
    "start_time": "2022-05-11T17:17:18.457Z"
   },
   {
    "duration": 97,
    "start_time": "2022-05-11T17:17:18.503Z"
   },
   {
    "duration": 17,
    "start_time": "2022-05-11T17:17:18.602Z"
   },
   {
    "duration": 633,
    "start_time": "2022-05-11T17:17:18.621Z"
   },
   {
    "duration": 1943,
    "start_time": "2022-05-11T17:17:21.730Z"
   },
   {
    "duration": 13,
    "start_time": "2022-05-11T17:17:37.546Z"
   },
   {
    "duration": 13,
    "start_time": "2022-05-11T17:17:58.567Z"
   },
   {
    "duration": 154,
    "start_time": "2022-05-11T17:18:23.094Z"
   },
   {
    "duration": 13,
    "start_time": "2022-05-11T17:18:36.618Z"
   },
   {
    "duration": 582,
    "start_time": "2022-05-11T17:19:44.534Z"
   },
   {
    "duration": 641,
    "start_time": "2022-05-11T17:19:58.961Z"
   },
   {
    "duration": 636,
    "start_time": "2022-05-11T17:20:34.711Z"
   },
   {
    "duration": 587,
    "start_time": "2022-05-11T17:20:50.264Z"
   },
   {
    "duration": 651,
    "start_time": "2022-05-11T17:21:03.902Z"
   },
   {
    "duration": 579,
    "start_time": "2022-05-11T17:22:23.600Z"
   },
   {
    "duration": 581,
    "start_time": "2022-05-11T17:22:33.224Z"
   },
   {
    "duration": 20,
    "start_time": "2022-05-11T17:23:02.602Z"
   },
   {
    "duration": 590,
    "start_time": "2022-05-11T17:23:05.458Z"
   },
   {
    "duration": 694,
    "start_time": "2022-05-11T17:23:23.497Z"
   },
   {
    "duration": 603,
    "start_time": "2022-05-11T17:24:10.158Z"
   },
   {
    "duration": 590,
    "start_time": "2022-05-11T17:24:37.194Z"
   },
   {
    "duration": 528,
    "start_time": "2022-05-11T17:26:54.027Z"
   },
   {
    "duration": 658,
    "start_time": "2022-05-11T17:27:03.458Z"
   },
   {
    "duration": 539,
    "start_time": "2022-05-11T17:27:13.898Z"
   },
   {
    "duration": 1159,
    "start_time": "2022-05-11T17:29:30.887Z"
   },
   {
    "duration": 1695,
    "start_time": "2022-05-11T17:29:32.048Z"
   },
   {
    "duration": 142,
    "start_time": "2022-05-11T17:29:33.745Z"
   },
   {
    "duration": 290,
    "start_time": "2022-05-11T17:29:33.889Z"
   },
   {
    "duration": 98,
    "start_time": "2022-05-11T17:29:34.180Z"
   },
   {
    "duration": 118,
    "start_time": "2022-05-11T17:29:34.280Z"
   },
   {
    "duration": 96,
    "start_time": "2022-05-11T17:29:34.400Z"
   },
   {
    "duration": 89,
    "start_time": "2022-05-11T17:29:34.498Z"
   },
   {
    "duration": 19,
    "start_time": "2022-05-11T17:29:34.589Z"
   },
   {
    "duration": 67,
    "start_time": "2022-05-11T17:29:34.610Z"
   },
   {
    "duration": 84,
    "start_time": "2022-05-11T17:29:34.679Z"
   },
   {
    "duration": 19,
    "start_time": "2022-05-11T17:29:34.765Z"
   },
   {
    "duration": 58,
    "start_time": "2022-05-11T17:29:34.785Z"
   },
   {
    "duration": 104,
    "start_time": "2022-05-11T17:29:34.845Z"
   },
   {
    "duration": 18,
    "start_time": "2022-05-11T17:29:34.951Z"
   },
   {
    "duration": 55,
    "start_time": "2022-05-11T17:29:34.970Z"
   },
   {
    "duration": 79,
    "start_time": "2022-05-11T17:29:35.026Z"
   },
   {
    "duration": 30,
    "start_time": "2022-05-11T17:29:35.107Z"
   },
   {
    "duration": 538,
    "start_time": "2022-05-11T17:29:35.138Z"
   },
   {
    "duration": 20,
    "start_time": "2022-05-11T17:29:35.678Z"
   },
   {
    "duration": 569,
    "start_time": "2022-05-11T17:29:35.700Z"
   },
   {
    "duration": 115,
    "start_time": "2022-05-11T17:32:32.877Z"
   },
   {
    "duration": 11,
    "start_time": "2022-05-11T17:32:44.421Z"
   },
   {
    "duration": 20,
    "start_time": "2022-05-11T17:32:48.231Z"
   },
   {
    "duration": 7535,
    "start_time": "2022-05-11T17:35:14.523Z"
   },
   {
    "duration": 729,
    "start_time": "2022-05-11T17:35:31.964Z"
   },
   {
    "duration": 12,
    "start_time": "2022-05-11T17:35:38.990Z"
   },
   {
    "duration": 1282,
    "start_time": "2022-05-11T17:36:00.566Z"
   },
   {
    "duration": 1784,
    "start_time": "2022-05-11T17:36:01.851Z"
   },
   {
    "duration": 144,
    "start_time": "2022-05-11T17:36:03.637Z"
   },
   {
    "duration": 304,
    "start_time": "2022-05-11T17:36:03.783Z"
   },
   {
    "duration": 103,
    "start_time": "2022-05-11T17:36:04.089Z"
   },
   {
    "duration": 128,
    "start_time": "2022-05-11T17:36:04.194Z"
   },
   {
    "duration": 98,
    "start_time": "2022-05-11T17:36:04.324Z"
   },
   {
    "duration": 89,
    "start_time": "2022-05-11T17:36:04.424Z"
   },
   {
    "duration": 27,
    "start_time": "2022-05-11T17:36:04.515Z"
   },
   {
    "duration": 52,
    "start_time": "2022-05-11T17:36:04.544Z"
   },
   {
    "duration": 99,
    "start_time": "2022-05-11T17:36:04.598Z"
   },
   {
    "duration": 19,
    "start_time": "2022-05-11T17:36:04.699Z"
   },
   {
    "duration": 45,
    "start_time": "2022-05-11T17:36:04.733Z"
   },
   {
    "duration": 123,
    "start_time": "2022-05-11T17:36:04.780Z"
   },
   {
    "duration": 20,
    "start_time": "2022-05-11T17:36:04.904Z"
   },
   {
    "duration": 44,
    "start_time": "2022-05-11T17:36:04.934Z"
   },
   {
    "duration": 97,
    "start_time": "2022-05-11T17:36:04.980Z"
   },
   {
    "duration": 20,
    "start_time": "2022-05-11T17:36:05.079Z"
   },
   {
    "duration": 618,
    "start_time": "2022-05-11T17:36:05.101Z"
   },
   {
    "duration": 111,
    "start_time": "2022-05-11T17:36:11.852Z"
   },
   {
    "duration": 12,
    "start_time": "2022-05-11T17:36:26.488Z"
   },
   {
    "duration": 12,
    "start_time": "2022-05-11T17:36:34.041Z"
   },
   {
    "duration": 21,
    "start_time": "2022-05-11T17:36:38.524Z"
   },
   {
    "duration": 571,
    "start_time": "2022-05-11T17:36:40.266Z"
   },
   {
    "duration": 742,
    "start_time": "2022-05-11T17:36:59.540Z"
   },
   {
    "duration": 35,
    "start_time": "2022-05-11T17:37:20.273Z"
   },
   {
    "duration": 39,
    "start_time": "2022-05-11T17:38:33.525Z"
   },
   {
    "duration": 96,
    "start_time": "2022-05-11T17:41:06.472Z"
   },
   {
    "duration": 149,
    "start_time": "2022-05-11T17:41:09.821Z"
   },
   {
    "duration": 7,
    "start_time": "2022-05-11T17:41:15.291Z"
   },
   {
    "duration": 161,
    "start_time": "2022-05-11T17:41:17.527Z"
   },
   {
    "duration": 2426,
    "start_time": "2022-05-11T17:41:53.320Z"
   },
   {
    "duration": 1855,
    "start_time": "2022-05-11T17:41:55.748Z"
   },
   {
    "duration": 297,
    "start_time": "2022-05-11T17:41:57.606Z"
   },
   {
    "duration": 347,
    "start_time": "2022-05-11T17:41:57.906Z"
   },
   {
    "duration": 124,
    "start_time": "2022-05-11T17:41:58.257Z"
   },
   {
    "duration": 220,
    "start_time": "2022-05-11T17:41:58.383Z"
   },
   {
    "duration": 203,
    "start_time": "2022-05-11T17:41:58.606Z"
   },
   {
    "duration": 104,
    "start_time": "2022-05-11T17:41:58.811Z"
   },
   {
    "duration": 22,
    "start_time": "2022-05-11T17:41:58.918Z"
   },
   {
    "duration": 92,
    "start_time": "2022-05-11T17:41:58.943Z"
   },
   {
    "duration": 164,
    "start_time": "2022-05-11T17:41:59.038Z"
   },
   {
    "duration": 42,
    "start_time": "2022-05-11T17:41:59.205Z"
   },
   {
    "duration": 88,
    "start_time": "2022-05-11T17:41:59.250Z"
   },
   {
    "duration": 206,
    "start_time": "2022-05-11T17:41:59.344Z"
   },
   {
    "duration": 37,
    "start_time": "2022-05-11T17:41:59.556Z"
   },
   {
    "duration": 78,
    "start_time": "2022-05-11T17:41:59.596Z"
   },
   {
    "duration": 145,
    "start_time": "2022-05-11T17:41:59.676Z"
   },
   {
    "duration": 40,
    "start_time": "2022-05-11T17:41:59.823Z"
   },
   {
    "duration": 708,
    "start_time": "2022-05-11T17:41:59.865Z"
   },
   {
    "duration": 22,
    "start_time": "2022-05-11T17:42:00.575Z"
   },
   {
    "duration": 671,
    "start_time": "2022-05-11T17:42:00.599Z"
   },
   {
    "duration": 113,
    "start_time": "2022-05-11T17:42:01.273Z"
   },
   {
    "duration": 184,
    "start_time": "2022-05-11T17:42:01.389Z"
   },
   {
    "duration": 35,
    "start_time": "2022-05-11T17:42:01.576Z"
   },
   {
    "duration": 44,
    "start_time": "2022-05-11T17:42:01.635Z"
   },
   {
    "duration": 270,
    "start_time": "2022-05-11T17:42:01.682Z"
   },
   {
    "duration": 22,
    "start_time": "2022-05-11T17:42:01.955Z"
   },
   {
    "duration": 44,
    "start_time": "2022-05-11T17:42:01.980Z"
   },
   {
    "duration": 84,
    "start_time": "2022-05-11T17:42:02.027Z"
   },
   {
    "duration": 302,
    "start_time": "2022-05-11T17:42:02.114Z"
   },
   {
    "duration": 22,
    "start_time": "2022-05-11T17:42:02.418Z"
   },
   {
    "duration": 28,
    "start_time": "2022-05-11T17:42:02.442Z"
   },
   {
    "duration": 182,
    "start_time": "2022-05-11T17:42:02.472Z"
   },
   {
    "duration": 96,
    "start_time": "2022-05-11T17:42:02.656Z"
   },
   {
    "duration": 66,
    "start_time": "2022-05-11T17:42:02.754Z"
   },
   {
    "duration": 26,
    "start_time": "2022-05-11T17:42:02.821Z"
   },
   {
    "duration": 49,
    "start_time": "2022-05-11T17:42:02.849Z"
   },
   {
    "duration": 167,
    "start_time": "2022-05-11T17:42:02.900Z"
   },
   {
    "duration": 71,
    "start_time": "2022-05-11T17:42:05.118Z"
   },
   {
    "duration": 198,
    "start_time": "2022-05-11T17:42:09.232Z"
   },
   {
    "duration": 143,
    "start_time": "2022-05-11T17:42:25.459Z"
   },
   {
    "duration": 195,
    "start_time": "2022-05-11T17:42:31.633Z"
   },
   {
    "duration": 148,
    "start_time": "2022-05-11T17:42:37.419Z"
   },
   {
    "duration": 163,
    "start_time": "2022-05-11T17:42:46.433Z"
   },
   {
    "duration": 158,
    "start_time": "2022-05-11T17:42:53.710Z"
   },
   {
    "duration": 158,
    "start_time": "2022-05-11T17:43:05.324Z"
   },
   {
    "duration": 166,
    "start_time": "2022-05-11T17:43:14.034Z"
   },
   {
    "duration": 237,
    "start_time": "2022-05-11T17:43:19.804Z"
   },
   {
    "duration": 165,
    "start_time": "2022-05-11T17:43:32.280Z"
   },
   {
    "duration": 150,
    "start_time": "2022-05-11T17:43:41.778Z"
   },
   {
    "duration": 94,
    "start_time": "2022-05-11T17:47:37.013Z"
   },
   {
    "duration": 1649,
    "start_time": "2022-05-11T17:50:55.279Z"
   },
   {
    "duration": 18,
    "start_time": "2022-05-11T17:52:32.378Z"
   },
   {
    "duration": 11,
    "start_time": "2022-05-11T17:55:36.983Z"
   },
   {
    "duration": 1359,
    "start_time": "2022-05-11T17:56:29.706Z"
   },
   {
    "duration": 1807,
    "start_time": "2022-05-11T17:56:31.068Z"
   },
   {
    "duration": 139,
    "start_time": "2022-05-11T17:56:32.877Z"
   },
   {
    "duration": 295,
    "start_time": "2022-05-11T17:56:33.019Z"
   },
   {
    "duration": 96,
    "start_time": "2022-05-11T17:56:33.316Z"
   },
   {
    "duration": 127,
    "start_time": "2022-05-11T17:56:33.413Z"
   },
   {
    "duration": 103,
    "start_time": "2022-05-11T17:56:33.541Z"
   },
   {
    "duration": 90,
    "start_time": "2022-05-11T17:56:33.646Z"
   },
   {
    "duration": 19,
    "start_time": "2022-05-11T17:56:33.737Z"
   },
   {
    "duration": 50,
    "start_time": "2022-05-11T17:56:33.759Z"
   },
   {
    "duration": 94,
    "start_time": "2022-05-11T17:56:33.811Z"
   },
   {
    "duration": 29,
    "start_time": "2022-05-11T17:56:33.907Z"
   },
   {
    "duration": 44,
    "start_time": "2022-05-11T17:56:33.938Z"
   },
   {
    "duration": 120,
    "start_time": "2022-05-11T17:56:33.984Z"
   },
   {
    "duration": 28,
    "start_time": "2022-05-11T17:56:34.105Z"
   },
   {
    "duration": 46,
    "start_time": "2022-05-11T17:56:34.135Z"
   },
   {
    "duration": 100,
    "start_time": "2022-05-11T17:56:34.183Z"
   },
   {
    "duration": 19,
    "start_time": "2022-05-11T17:56:34.285Z"
   },
   {
    "duration": 571,
    "start_time": "2022-05-11T17:56:34.306Z"
   },
   {
    "duration": 22,
    "start_time": "2022-05-11T17:56:34.879Z"
   },
   {
    "duration": 594,
    "start_time": "2022-05-11T17:56:34.902Z"
   },
   {
    "duration": 99,
    "start_time": "2022-05-11T17:56:35.497Z"
   },
   {
    "duration": 160,
    "start_time": "2022-05-11T17:56:35.598Z"
   },
   {
    "duration": 30,
    "start_time": "2022-05-11T17:56:35.759Z"
   },
   {
    "duration": 48,
    "start_time": "2022-05-11T17:56:35.791Z"
   },
   {
    "duration": 145,
    "start_time": "2022-05-11T17:56:35.841Z"
   },
   {
    "duration": 12,
    "start_time": "2022-05-11T17:56:35.988Z"
   },
   {
    "duration": 30,
    "start_time": "2022-05-11T17:56:36.005Z"
   },
   {
    "duration": 49,
    "start_time": "2022-05-11T17:56:36.037Z"
   },
   {
    "duration": 235,
    "start_time": "2022-05-11T17:56:36.087Z"
   },
   {
    "duration": 19,
    "start_time": "2022-05-11T17:56:36.323Z"
   },
   {
    "duration": 25,
    "start_time": "2022-05-11T17:56:36.344Z"
   },
   {
    "duration": 173,
    "start_time": "2022-05-11T17:56:36.371Z"
   },
   {
    "duration": 65,
    "start_time": "2022-05-11T17:56:36.546Z"
   },
   {
    "duration": 80,
    "start_time": "2022-05-11T17:56:36.612Z"
   },
   {
    "duration": 16,
    "start_time": "2022-05-11T17:56:36.694Z"
   },
   {
    "duration": 53,
    "start_time": "2022-05-11T17:56:36.711Z"
   },
   {
    "duration": 168,
    "start_time": "2022-05-11T17:56:36.767Z"
   },
   {
    "duration": 70,
    "start_time": "2022-05-11T17:56:36.938Z"
   },
   {
    "duration": 263,
    "start_time": "2022-05-11T17:56:37.010Z"
   },
   {
    "duration": 309,
    "start_time": "2022-05-11T17:56:37.275Z"
   },
   {
    "duration": 6,
    "start_time": "2022-05-11T17:56:37.586Z"
   },
   {
    "duration": 102,
    "start_time": "2022-05-11T17:56:37.594Z"
   },
   {
    "duration": 36,
    "start_time": "2022-05-11T17:56:37.698Z"
   },
   {
    "duration": 14,
    "start_time": "2022-05-11T17:56:37.736Z"
   },
   {
    "duration": 122,
    "start_time": "2022-05-11T17:56:37.752Z"
   },
   {
    "duration": 22,
    "start_time": "2022-05-11T17:57:35.985Z"
   },
   {
    "duration": 16,
    "start_time": "2022-05-11T18:01:26.440Z"
   },
   {
    "duration": 109,
    "start_time": "2022-05-11T18:01:34.248Z"
   },
   {
    "duration": 19,
    "start_time": "2022-05-11T18:01:41.547Z"
   },
   {
    "duration": 1223,
    "start_time": "2022-05-11T18:01:55.473Z"
   },
   {
    "duration": 1757,
    "start_time": "2022-05-11T18:01:56.698Z"
   },
   {
    "duration": 139,
    "start_time": "2022-05-11T18:01:58.457Z"
   },
   {
    "duration": 292,
    "start_time": "2022-05-11T18:01:58.599Z"
   },
   {
    "duration": 99,
    "start_time": "2022-05-11T18:01:58.893Z"
   },
   {
    "duration": 124,
    "start_time": "2022-05-11T18:01:58.994Z"
   },
   {
    "duration": 100,
    "start_time": "2022-05-11T18:01:59.120Z"
   },
   {
    "duration": 84,
    "start_time": "2022-05-11T18:01:59.221Z"
   },
   {
    "duration": 28,
    "start_time": "2022-05-11T18:01:59.306Z"
   },
   {
    "duration": 50,
    "start_time": "2022-05-11T18:01:59.337Z"
   },
   {
    "duration": 94,
    "start_time": "2022-05-11T18:01:59.388Z"
   },
   {
    "duration": 19,
    "start_time": "2022-05-11T18:01:59.484Z"
   },
   {
    "duration": 58,
    "start_time": "2022-05-11T18:01:59.505Z"
   },
   {
    "duration": 109,
    "start_time": "2022-05-11T18:01:59.565Z"
   },
   {
    "duration": 18,
    "start_time": "2022-05-11T18:01:59.676Z"
   },
   {
    "duration": 53,
    "start_time": "2022-05-11T18:01:59.696Z"
   },
   {
    "duration": 87,
    "start_time": "2022-05-11T18:01:59.751Z"
   },
   {
    "duration": 18,
    "start_time": "2022-05-11T18:01:59.840Z"
   },
   {
    "duration": 581,
    "start_time": "2022-05-11T18:01:59.859Z"
   },
   {
    "duration": 21,
    "start_time": "2022-05-11T18:02:00.441Z"
   },
   {
    "duration": 610,
    "start_time": "2022-05-11T18:02:00.464Z"
   },
   {
    "duration": 107,
    "start_time": "2022-05-11T18:02:01.076Z"
   },
   {
    "duration": 165,
    "start_time": "2022-05-11T18:02:01.185Z"
   },
   {
    "duration": 31,
    "start_time": "2022-05-11T18:02:01.352Z"
   },
   {
    "duration": 56,
    "start_time": "2022-05-11T18:02:01.384Z"
   },
   {
    "duration": 161,
    "start_time": "2022-05-11T18:02:01.442Z"
   },
   {
    "duration": 29,
    "start_time": "2022-05-11T18:02:01.605Z"
   },
   {
    "duration": 12,
    "start_time": "2022-05-11T18:02:01.638Z"
   },
   {
    "duration": 50,
    "start_time": "2022-05-11T18:02:01.652Z"
   },
   {
    "duration": 264,
    "start_time": "2022-05-11T18:02:01.704Z"
   },
   {
    "duration": 14,
    "start_time": "2022-05-11T18:02:01.970Z"
   },
   {
    "duration": 51,
    "start_time": "2022-05-11T18:02:01.986Z"
   },
   {
    "duration": 169,
    "start_time": "2022-05-11T18:02:02.039Z"
   },
   {
    "duration": 78,
    "start_time": "2022-05-11T18:02:02.209Z"
   },
   {
    "duration": 75,
    "start_time": "2022-05-11T18:02:02.289Z"
   },
   {
    "duration": 17,
    "start_time": "2022-05-11T18:02:02.366Z"
   },
   {
    "duration": 41,
    "start_time": "2022-05-11T18:02:02.384Z"
   },
   {
    "duration": 163,
    "start_time": "2022-05-11T18:02:02.434Z"
   },
   {
    "duration": 75,
    "start_time": "2022-05-11T18:02:02.599Z"
   },
   {
    "duration": 265,
    "start_time": "2022-05-11T18:02:02.676Z"
   },
   {
    "duration": 305,
    "start_time": "2022-05-11T18:02:02.944Z"
   },
   {
    "duration": 4,
    "start_time": "2022-05-11T18:02:03.251Z"
   },
   {
    "duration": 23,
    "start_time": "2022-05-11T18:02:03.257Z"
   },
   {
    "duration": 99,
    "start_time": "2022-05-11T18:02:03.282Z"
   },
   {
    "duration": 19,
    "start_time": "2022-05-11T18:02:03.382Z"
   },
   {
    "duration": 32,
    "start_time": "2022-05-11T18:02:03.403Z"
   },
   {
    "duration": 115,
    "start_time": "2022-05-11T18:02:03.437Z"
   },
   {
    "duration": 17,
    "start_time": "2022-05-11T18:02:23.540Z"
   },
   {
    "duration": 13,
    "start_time": "2022-05-11T18:02:26.338Z"
   },
   {
    "duration": 1022,
    "start_time": "2022-05-11T18:03:16.081Z"
   },
   {
    "duration": 290,
    "start_time": "2022-05-11T18:05:51.249Z"
   },
   {
    "duration": 211,
    "start_time": "2022-05-11T18:06:46.543Z"
   },
   {
    "duration": 138,
    "start_time": "2022-05-11T18:06:50.249Z"
   },
   {
    "duration": 354,
    "start_time": "2022-05-11T18:07:34.887Z"
   },
   {
    "duration": 151,
    "start_time": "2022-05-11T18:08:04.278Z"
   },
   {
    "duration": 145,
    "start_time": "2022-05-11T18:12:10.813Z"
   },
   {
    "duration": 172,
    "start_time": "2022-05-11T18:12:24.169Z"
   },
   {
    "duration": 184,
    "start_time": "2022-05-11T18:12:32.338Z"
   },
   {
    "duration": 167,
    "start_time": "2022-05-11T18:18:16.424Z"
   },
   {
    "duration": 8,
    "start_time": "2022-05-11T18:18:43.680Z"
   },
   {
    "duration": 247,
    "start_time": "2022-05-11T18:18:47.455Z"
   },
   {
    "duration": 105,
    "start_time": "2022-05-11T18:19:10.449Z"
   },
   {
    "duration": 1628,
    "start_time": "2022-05-11T18:20:53.227Z"
   },
   {
    "duration": 1789,
    "start_time": "2022-05-11T18:20:54.858Z"
   },
   {
    "duration": 144,
    "start_time": "2022-05-11T18:20:56.649Z"
   },
   {
    "duration": 299,
    "start_time": "2022-05-11T18:20:56.796Z"
   },
   {
    "duration": 102,
    "start_time": "2022-05-11T18:20:57.097Z"
   },
   {
    "duration": 132,
    "start_time": "2022-05-11T18:20:57.201Z"
   },
   {
    "duration": 103,
    "start_time": "2022-05-11T18:20:57.335Z"
   },
   {
    "duration": 94,
    "start_time": "2022-05-11T18:20:57.440Z"
   },
   {
    "duration": 20,
    "start_time": "2022-05-11T18:20:57.536Z"
   },
   {
    "duration": 60,
    "start_time": "2022-05-11T18:20:57.560Z"
   },
   {
    "duration": 115,
    "start_time": "2022-05-11T18:20:57.623Z"
   },
   {
    "duration": 21,
    "start_time": "2022-05-11T18:20:57.740Z"
   },
   {
    "duration": 58,
    "start_time": "2022-05-11T18:20:57.763Z"
   },
   {
    "duration": 116,
    "start_time": "2022-05-11T18:20:57.822Z"
   },
   {
    "duration": 20,
    "start_time": "2022-05-11T18:20:57.940Z"
   },
   {
    "duration": 65,
    "start_time": "2022-05-11T18:20:57.961Z"
   },
   {
    "duration": 76,
    "start_time": "2022-05-11T18:20:58.028Z"
   },
   {
    "duration": 27,
    "start_time": "2022-05-11T18:20:58.106Z"
   },
   {
    "duration": 590,
    "start_time": "2022-05-11T18:20:58.135Z"
   },
   {
    "duration": 25,
    "start_time": "2022-05-11T18:20:58.726Z"
   },
   {
    "duration": 695,
    "start_time": "2022-05-11T18:20:58.753Z"
   },
   {
    "duration": 108,
    "start_time": "2022-05-11T18:20:59.449Z"
   },
   {
    "duration": 162,
    "start_time": "2022-05-11T18:20:59.559Z"
   },
   {
    "duration": 40,
    "start_time": "2022-05-11T18:20:59.723Z"
   },
   {
    "duration": 32,
    "start_time": "2022-05-11T18:20:59.765Z"
   },
   {
    "duration": 165,
    "start_time": "2022-05-11T18:20:59.799Z"
   },
   {
    "duration": 13,
    "start_time": "2022-05-11T18:20:59.967Z"
   },
   {
    "duration": 13,
    "start_time": "2022-05-11T18:20:59.984Z"
   },
   {
    "duration": 81,
    "start_time": "2022-05-11T18:20:59.999Z"
   },
   {
    "duration": 155,
    "start_time": "2022-05-11T18:21:00.083Z"
   },
   {
    "duration": 19,
    "start_time": "2022-05-11T18:21:00.241Z"
   },
   {
    "duration": 26,
    "start_time": "2022-05-11T18:21:00.263Z"
   },
   {
    "duration": 190,
    "start_time": "2022-05-11T18:21:00.291Z"
   },
   {
    "duration": 77,
    "start_time": "2022-05-11T18:21:00.483Z"
   },
   {
    "duration": 87,
    "start_time": "2022-05-11T18:21:00.562Z"
   },
   {
    "duration": 26,
    "start_time": "2022-05-11T18:21:00.651Z"
   },
   {
    "duration": 54,
    "start_time": "2022-05-11T18:21:00.680Z"
   },
   {
    "duration": 171,
    "start_time": "2022-05-11T18:21:00.736Z"
   },
   {
    "duration": 86,
    "start_time": "2022-05-11T18:21:00.909Z"
   },
   {
    "duration": 272,
    "start_time": "2022-05-11T18:21:00.997Z"
   },
   {
    "duration": 348,
    "start_time": "2022-05-11T18:21:01.271Z"
   },
   {
    "duration": 5,
    "start_time": "2022-05-11T18:21:01.621Z"
   },
   {
    "duration": 40,
    "start_time": "2022-05-11T18:21:01.635Z"
   },
   {
    "duration": 118,
    "start_time": "2022-05-11T18:21:01.677Z"
   },
   {
    "duration": 19,
    "start_time": "2022-05-11T18:21:01.797Z"
   },
   {
    "duration": 26,
    "start_time": "2022-05-11T18:21:01.817Z"
   },
   {
    "duration": 1053,
    "start_time": "2022-05-11T18:21:01.846Z"
   },
   {
    "duration": 100,
    "start_time": "2022-05-11T18:21:14.107Z"
   },
   {
    "duration": 153,
    "start_time": "2022-05-11T18:21:29.601Z"
   },
   {
    "duration": 153,
    "start_time": "2022-05-11T18:21:41.748Z"
   },
   {
    "duration": 163,
    "start_time": "2022-05-11T18:21:48.867Z"
   },
   {
    "duration": 150,
    "start_time": "2022-05-11T18:21:55.799Z"
   },
   {
    "duration": 33,
    "start_time": "2022-05-11T18:22:08.365Z"
   },
   {
    "duration": 1649,
    "start_time": "2022-05-11T18:23:02.683Z"
   },
   {
    "duration": 1867,
    "start_time": "2022-05-11T18:23:04.336Z"
   },
   {
    "duration": 156,
    "start_time": "2022-05-11T18:23:06.205Z"
   },
   {
    "duration": 407,
    "start_time": "2022-05-11T18:23:06.364Z"
   },
   {
    "duration": 106,
    "start_time": "2022-05-11T18:23:06.773Z"
   },
   {
    "duration": 136,
    "start_time": "2022-05-11T18:23:06.882Z"
   },
   {
    "duration": 108,
    "start_time": "2022-05-11T18:23:07.020Z"
   },
   {
    "duration": 151,
    "start_time": "2022-05-11T18:23:07.129Z"
   },
   {
    "duration": 35,
    "start_time": "2022-05-11T18:23:07.283Z"
   },
   {
    "duration": 80,
    "start_time": "2022-05-11T18:23:07.334Z"
   },
   {
    "duration": 102,
    "start_time": "2022-05-11T18:23:07.417Z"
   },
   {
    "duration": 29,
    "start_time": "2022-05-11T18:23:07.521Z"
   },
   {
    "duration": 90,
    "start_time": "2022-05-11T18:23:07.553Z"
   },
   {
    "duration": 165,
    "start_time": "2022-05-11T18:23:07.645Z"
   },
   {
    "duration": 25,
    "start_time": "2022-05-11T18:23:07.812Z"
   },
   {
    "duration": 47,
    "start_time": "2022-05-11T18:23:07.839Z"
   },
   {
    "duration": 101,
    "start_time": "2022-05-11T18:23:07.888Z"
   },
   {
    "duration": 20,
    "start_time": "2022-05-11T18:23:07.991Z"
   },
   {
    "duration": 594,
    "start_time": "2022-05-11T18:23:08.013Z"
   },
   {
    "duration": 26,
    "start_time": "2022-05-11T18:23:08.609Z"
   },
   {
    "duration": 716,
    "start_time": "2022-05-11T18:23:08.637Z"
   },
   {
    "duration": 122,
    "start_time": "2022-05-11T18:23:09.356Z"
   },
   {
    "duration": 202,
    "start_time": "2022-05-11T18:23:09.480Z"
   },
   {
    "duration": 59,
    "start_time": "2022-05-11T18:23:09.684Z"
   },
   {
    "duration": 43,
    "start_time": "2022-05-11T18:23:09.745Z"
   },
   {
    "duration": 177,
    "start_time": "2022-05-11T18:23:09.790Z"
   },
   {
    "duration": 15,
    "start_time": "2022-05-11T18:23:09.969Z"
   },
   {
    "duration": 30,
    "start_time": "2022-05-11T18:23:09.988Z"
   },
   {
    "duration": 64,
    "start_time": "2022-05-11T18:23:10.021Z"
   },
   {
    "duration": 157,
    "start_time": "2022-05-11T18:23:10.087Z"
   },
   {
    "duration": 13,
    "start_time": "2022-05-11T18:23:10.246Z"
   },
   {
    "duration": 32,
    "start_time": "2022-05-11T18:23:10.261Z"
   },
   {
    "duration": 179,
    "start_time": "2022-05-11T18:23:10.295Z"
   },
   {
    "duration": 75,
    "start_time": "2022-05-11T18:23:10.475Z"
   },
   {
    "duration": 67,
    "start_time": "2022-05-11T18:23:10.552Z"
   },
   {
    "duration": 30,
    "start_time": "2022-05-11T18:23:10.620Z"
   },
   {
    "duration": 52,
    "start_time": "2022-05-11T18:23:10.653Z"
   },
   {
    "duration": 167,
    "start_time": "2022-05-11T18:23:10.707Z"
   },
   {
    "duration": 79,
    "start_time": "2022-05-11T18:23:10.876Z"
   },
   {
    "duration": 252,
    "start_time": "2022-05-11T18:23:10.957Z"
   },
   {
    "duration": 314,
    "start_time": "2022-05-11T18:23:11.211Z"
   },
   {
    "duration": 7,
    "start_time": "2022-05-11T18:23:11.527Z"
   },
   {
    "duration": 41,
    "start_time": "2022-05-11T18:23:11.536Z"
   },
   {
    "duration": 96,
    "start_time": "2022-05-11T18:23:11.578Z"
   },
   {
    "duration": 20,
    "start_time": "2022-05-11T18:23:11.676Z"
   },
   {
    "duration": 14,
    "start_time": "2022-05-11T18:23:11.698Z"
   },
   {
    "duration": 983,
    "start_time": "2022-05-11T18:23:11.714Z"
   },
   {
    "duration": 457,
    "start_time": "2022-05-11T18:23:12.699Z"
   },
   {
    "duration": 30,
    "start_time": "2022-05-11T18:26:35.086Z"
   },
   {
    "duration": 259,
    "start_time": "2022-05-11T18:27:00.448Z"
   },
   {
    "duration": 340,
    "start_time": "2022-05-11T18:27:06.303Z"
   },
   {
    "duration": 152,
    "start_time": "2022-05-11T18:27:17.568Z"
   },
   {
    "duration": 1658,
    "start_time": "2022-05-11T18:29:08.824Z"
   },
   {
    "duration": 1853,
    "start_time": "2022-05-11T18:29:10.485Z"
   },
   {
    "duration": 177,
    "start_time": "2022-05-11T18:29:12.340Z"
   },
   {
    "duration": 331,
    "start_time": "2022-05-11T18:29:12.519Z"
   },
   {
    "duration": 110,
    "start_time": "2022-05-11T18:29:12.852Z"
   },
   {
    "duration": 133,
    "start_time": "2022-05-11T18:29:12.964Z"
   },
   {
    "duration": 100,
    "start_time": "2022-05-11T18:29:13.099Z"
   },
   {
    "duration": 95,
    "start_time": "2022-05-11T18:29:13.200Z"
   },
   {
    "duration": 20,
    "start_time": "2022-05-11T18:29:13.296Z"
   },
   {
    "duration": 63,
    "start_time": "2022-05-11T18:29:13.319Z"
   },
   {
    "duration": 115,
    "start_time": "2022-05-11T18:29:13.384Z"
   },
   {
    "duration": 19,
    "start_time": "2022-05-11T18:29:13.501Z"
   },
   {
    "duration": 45,
    "start_time": "2022-05-11T18:29:13.534Z"
   },
   {
    "duration": 116,
    "start_time": "2022-05-11T18:29:13.581Z"
   },
   {
    "duration": 19,
    "start_time": "2022-05-11T18:29:13.699Z"
   },
   {
    "duration": 54,
    "start_time": "2022-05-11T18:29:13.719Z"
   },
   {
    "duration": 92,
    "start_time": "2022-05-11T18:29:13.775Z"
   },
   {
    "duration": 18,
    "start_time": "2022-05-11T18:29:13.869Z"
   },
   {
    "duration": 587,
    "start_time": "2022-05-11T18:29:13.890Z"
   },
   {
    "duration": 19,
    "start_time": "2022-05-11T18:29:14.479Z"
   },
   {
    "duration": 701,
    "start_time": "2022-05-11T18:29:14.500Z"
   },
   {
    "duration": 104,
    "start_time": "2022-05-11T18:29:15.203Z"
   },
   {
    "duration": 170,
    "start_time": "2022-05-11T18:29:15.309Z"
   },
   {
    "duration": 33,
    "start_time": "2022-05-11T18:29:15.481Z"
   },
   {
    "duration": 55,
    "start_time": "2022-05-11T18:29:15.516Z"
   },
   {
    "duration": 160,
    "start_time": "2022-05-11T18:29:15.573Z"
   },
   {
    "duration": 16,
    "start_time": "2022-05-11T18:29:15.735Z"
   },
   {
    "duration": 13,
    "start_time": "2022-05-11T18:29:15.757Z"
   },
   {
    "duration": 83,
    "start_time": "2022-05-11T18:29:15.772Z"
   },
   {
    "duration": 153,
    "start_time": "2022-05-11T18:29:15.857Z"
   },
   {
    "duration": 23,
    "start_time": "2022-05-11T18:29:16.012Z"
   },
   {
    "duration": 28,
    "start_time": "2022-05-11T18:29:16.037Z"
   },
   {
    "duration": 180,
    "start_time": "2022-05-11T18:29:16.067Z"
   },
   {
    "duration": 65,
    "start_time": "2022-05-11T18:29:16.249Z"
   },
   {
    "duration": 82,
    "start_time": "2022-05-11T18:29:16.316Z"
   },
   {
    "duration": 35,
    "start_time": "2022-05-11T18:29:16.400Z"
   },
   {
    "duration": 41,
    "start_time": "2022-05-11T18:29:16.438Z"
   },
   {
    "duration": 176,
    "start_time": "2022-05-11T18:29:16.482Z"
   },
   {
    "duration": 80,
    "start_time": "2022-05-11T18:29:16.660Z"
   },
   {
    "duration": 257,
    "start_time": "2022-05-11T18:29:16.742Z"
   },
   {
    "duration": 310,
    "start_time": "2022-05-11T18:29:17.001Z"
   },
   {
    "duration": 4,
    "start_time": "2022-05-11T18:29:17.313Z"
   },
   {
    "duration": 30,
    "start_time": "2022-05-11T18:29:17.319Z"
   },
   {
    "duration": 165,
    "start_time": "2022-05-11T18:29:17.351Z"
   },
   {
    "duration": 0,
    "start_time": "2022-05-11T18:29:17.517Z"
   },
   {
    "duration": 0,
    "start_time": "2022-05-11T18:29:17.519Z"
   },
   {
    "duration": 0,
    "start_time": "2022-05-11T18:29:17.520Z"
   },
   {
    "duration": 0,
    "start_time": "2022-05-11T18:29:17.532Z"
   },
   {
    "duration": 82,
    "start_time": "2022-05-11T18:31:03.939Z"
   },
   {
    "duration": 24,
    "start_time": "2022-05-11T18:31:07.536Z"
   },
   {
    "duration": 999,
    "start_time": "2022-05-11T18:31:09.360Z"
   },
   {
    "duration": 424,
    "start_time": "2022-05-11T18:31:16.201Z"
   },
   {
    "duration": 331,
    "start_time": "2022-05-11T18:31:25.201Z"
   },
   {
    "duration": 23,
    "start_time": "2022-05-11T18:32:07.299Z"
   },
   {
    "duration": 97,
    "start_time": "2022-05-11T18:32:11.330Z"
   },
   {
    "duration": 9,
    "start_time": "2022-05-11T18:32:27.005Z"
   },
   {
    "duration": 4,
    "start_time": "2022-05-11T18:32:32.720Z"
   },
   {
    "duration": 5,
    "start_time": "2022-05-11T18:33:01.949Z"
   },
   {
    "duration": 58,
    "start_time": "2022-05-11T19:11:24.958Z"
   },
   {
    "duration": 3,
    "start_time": "2022-05-11T19:12:35.533Z"
   },
   {
    "duration": 23,
    "start_time": "2022-05-11T19:23:06.682Z"
   },
   {
    "duration": 5,
    "start_time": "2022-05-11T19:23:42.873Z"
   },
   {
    "duration": 3,
    "start_time": "2022-05-11T19:23:50.989Z"
   },
   {
    "duration": 158268,
    "start_time": "2022-05-11T19:24:06.837Z"
   },
   {
    "duration": 4,
    "start_time": "2022-05-11T19:28:09.925Z"
   },
   {
    "duration": 60494,
    "start_time": "2022-05-11T19:28:12.971Z"
   },
   {
    "duration": 159,
    "start_time": "2022-05-11T19:29:23.336Z"
   },
   {
    "duration": 159024,
    "start_time": "2022-05-11T19:29:35.360Z"
   },
   {
    "duration": 157545,
    "start_time": "2022-05-11T19:38:40.207Z"
   },
   {
    "duration": 608903,
    "start_time": "2022-05-11T19:44:39.172Z"
   },
   {
    "duration": 180,
    "start_time": "2022-05-11T19:54:51.141Z"
   },
   {
    "duration": 187,
    "start_time": "2022-05-11T19:56:06.566Z"
   },
   {
    "duration": 109235,
    "start_time": "2022-05-11T19:56:11.514Z"
   },
   {
    "duration": 6,
    "start_time": "2022-05-11T20:09:56.325Z"
   },
   {
    "duration": 2329,
    "start_time": "2022-05-11T20:14:22.176Z"
   },
   {
    "duration": 2568,
    "start_time": "2022-05-11T20:14:24.509Z"
   },
   {
    "duration": 269,
    "start_time": "2022-05-11T20:14:27.080Z"
   },
   {
    "duration": 499,
    "start_time": "2022-05-11T20:14:27.352Z"
   },
   {
    "duration": 185,
    "start_time": "2022-05-11T20:14:27.854Z"
   },
   {
    "duration": 160,
    "start_time": "2022-05-11T20:14:28.041Z"
   },
   {
    "duration": 137,
    "start_time": "2022-05-11T20:14:28.204Z"
   },
   {
    "duration": 115,
    "start_time": "2022-05-11T20:14:28.344Z"
   },
   {
    "duration": 33,
    "start_time": "2022-05-11T20:14:28.462Z"
   },
   {
    "duration": 88,
    "start_time": "2022-05-11T20:14:28.499Z"
   },
   {
    "duration": 118,
    "start_time": "2022-05-11T20:14:28.589Z"
   },
   {
    "duration": 21,
    "start_time": "2022-05-11T20:14:28.709Z"
   },
   {
    "duration": 91,
    "start_time": "2022-05-11T20:14:28.736Z"
   },
   {
    "duration": 160,
    "start_time": "2022-05-11T20:14:28.829Z"
   },
   {
    "duration": 21,
    "start_time": "2022-05-11T20:14:28.991Z"
   },
   {
    "duration": 77,
    "start_time": "2022-05-11T20:14:29.015Z"
   },
   {
    "duration": 103,
    "start_time": "2022-05-11T20:14:29.095Z"
   },
   {
    "duration": 21,
    "start_time": "2022-05-11T20:14:29.200Z"
   },
   {
    "duration": 791,
    "start_time": "2022-05-11T20:14:29.223Z"
   },
   {
    "duration": 30,
    "start_time": "2022-05-11T20:14:30.017Z"
   },
   {
    "duration": 840,
    "start_time": "2022-05-11T20:14:30.050Z"
   },
   {
    "duration": 125,
    "start_time": "2022-05-11T20:14:30.892Z"
   },
   {
    "duration": 197,
    "start_time": "2022-05-11T20:14:31.019Z"
   },
   {
    "duration": 55,
    "start_time": "2022-05-11T20:14:31.218Z"
   },
   {
    "duration": 34,
    "start_time": "2022-05-11T20:14:31.274Z"
   },
   {
    "duration": 185,
    "start_time": "2022-05-11T20:14:31.310Z"
   },
   {
    "duration": 18,
    "start_time": "2022-05-11T20:14:31.498Z"
   },
   {
    "duration": 28,
    "start_time": "2022-05-11T20:14:31.534Z"
   },
   {
    "duration": 93,
    "start_time": "2022-05-11T20:14:31.564Z"
   },
   {
    "duration": 177,
    "start_time": "2022-05-11T20:14:31.660Z"
   },
   {
    "duration": 26,
    "start_time": "2022-05-11T20:14:31.840Z"
   },
   {
    "duration": 37,
    "start_time": "2022-05-11T20:14:31.869Z"
   },
   {
    "duration": 218,
    "start_time": "2022-05-11T20:14:31.908Z"
   },
   {
    "duration": 86,
    "start_time": "2022-05-11T20:14:32.128Z"
   },
   {
    "duration": 94,
    "start_time": "2022-05-11T20:14:32.216Z"
   },
   {
    "duration": 32,
    "start_time": "2022-05-11T20:14:32.313Z"
   },
   {
    "duration": 54,
    "start_time": "2022-05-11T20:14:32.348Z"
   },
   {
    "duration": 202,
    "start_time": "2022-05-11T20:14:32.404Z"
   },
   {
    "duration": 101,
    "start_time": "2022-05-11T20:14:32.608Z"
   },
   {
    "duration": 320,
    "start_time": "2022-05-11T20:14:32.711Z"
   },
   {
    "duration": 384,
    "start_time": "2022-05-11T20:14:33.035Z"
   },
   {
    "duration": 8,
    "start_time": "2022-05-11T20:14:33.421Z"
   },
   {
    "duration": 44,
    "start_time": "2022-05-11T20:14:33.431Z"
   },
   {
    "duration": 20,
    "start_time": "2022-05-11T20:14:33.477Z"
   },
   {
    "duration": 1535,
    "start_time": "2022-05-11T20:14:36.426Z"
   },
   {
    "duration": 1241,
    "start_time": "2022-05-11T20:14:42.913Z"
   },
   {
    "duration": 1491,
    "start_time": "2022-05-11T20:15:26.706Z"
   },
   {
    "duration": 153,
    "start_time": "2022-05-11T20:15:55.452Z"
   },
   {
    "duration": 1794,
    "start_time": "2022-05-11T20:16:04.194Z"
   },
   {
    "duration": 2066,
    "start_time": "2022-05-11T20:16:05.990Z"
   },
   {
    "duration": 167,
    "start_time": "2022-05-11T20:16:08.059Z"
   },
   {
    "duration": 337,
    "start_time": "2022-05-11T20:16:08.234Z"
   },
   {
    "duration": 162,
    "start_time": "2022-05-11T20:16:08.573Z"
   },
   {
    "duration": 141,
    "start_time": "2022-05-11T20:16:08.737Z"
   },
   {
    "duration": 125,
    "start_time": "2022-05-11T20:16:08.881Z"
   },
   {
    "duration": 114,
    "start_time": "2022-05-11T20:16:09.008Z"
   },
   {
    "duration": 37,
    "start_time": "2022-05-11T20:16:09.124Z"
   },
   {
    "duration": 94,
    "start_time": "2022-05-11T20:16:09.165Z"
   },
   {
    "duration": 109,
    "start_time": "2022-05-11T20:16:09.263Z"
   },
   {
    "duration": 19,
    "start_time": "2022-05-11T20:16:09.374Z"
   },
   {
    "duration": 81,
    "start_time": "2022-05-11T20:16:09.395Z"
   },
   {
    "duration": 130,
    "start_time": "2022-05-11T20:16:09.479Z"
   },
   {
    "duration": 41,
    "start_time": "2022-05-11T20:16:09.611Z"
   },
   {
    "duration": 85,
    "start_time": "2022-05-11T20:16:09.654Z"
   },
   {
    "duration": 91,
    "start_time": "2022-05-11T20:16:09.742Z"
   },
   {
    "duration": 30,
    "start_time": "2022-05-11T20:16:09.836Z"
   },
   {
    "duration": 659,
    "start_time": "2022-05-11T20:16:09.868Z"
   },
   {
    "duration": 35,
    "start_time": "2022-05-11T20:16:10.533Z"
   },
   {
    "duration": 766,
    "start_time": "2022-05-11T20:16:10.570Z"
   },
   {
    "duration": 120,
    "start_time": "2022-05-11T20:16:11.338Z"
   },
   {
    "duration": 192,
    "start_time": "2022-05-11T20:16:11.460Z"
   },
   {
    "duration": 41,
    "start_time": "2022-05-11T20:16:11.654Z"
   },
   {
    "duration": 58,
    "start_time": "2022-05-11T20:16:11.698Z"
   },
   {
    "duration": 211,
    "start_time": "2022-05-11T20:16:11.759Z"
   },
   {
    "duration": 15,
    "start_time": "2022-05-11T20:16:11.972Z"
   },
   {
    "duration": 16,
    "start_time": "2022-05-11T20:16:11.991Z"
   },
   {
    "duration": 95,
    "start_time": "2022-05-11T20:16:12.009Z"
   },
   {
    "duration": 177,
    "start_time": "2022-05-11T20:16:12.107Z"
   },
   {
    "duration": 20,
    "start_time": "2022-05-11T20:16:12.286Z"
   },
   {
    "duration": 58,
    "start_time": "2022-05-11T20:16:12.308Z"
   },
   {
    "duration": 193,
    "start_time": "2022-05-11T20:16:12.368Z"
   },
   {
    "duration": 71,
    "start_time": "2022-05-11T20:16:12.564Z"
   },
   {
    "duration": 72,
    "start_time": "2022-05-11T20:16:12.637Z"
   },
   {
    "duration": 35,
    "start_time": "2022-05-11T20:16:12.711Z"
   },
   {
    "duration": 46,
    "start_time": "2022-05-11T20:16:12.748Z"
   },
   {
    "duration": 192,
    "start_time": "2022-05-11T20:16:12.796Z"
   },
   {
    "duration": 107,
    "start_time": "2022-05-11T20:16:12.990Z"
   },
   {
    "duration": 298,
    "start_time": "2022-05-11T20:16:13.100Z"
   },
   {
    "duration": 354,
    "start_time": "2022-05-11T20:16:13.400Z"
   },
   {
    "duration": 6,
    "start_time": "2022-05-11T20:16:13.757Z"
   },
   {
    "duration": 25,
    "start_time": "2022-05-11T20:16:13.765Z"
   },
   {
    "duration": 23,
    "start_time": "2022-05-11T20:16:35.696Z"
   },
   {
    "duration": 1522,
    "start_time": "2022-05-11T20:16:41.394Z"
   },
   {
    "duration": 2505,
    "start_time": "2022-05-11T20:17:15.732Z"
   },
   {
    "duration": 1778,
    "start_time": "2022-05-11T20:19:47.589Z"
   },
   {
    "duration": 2013,
    "start_time": "2022-05-11T20:19:49.370Z"
   },
   {
    "duration": 171,
    "start_time": "2022-05-11T20:19:51.385Z"
   },
   {
    "duration": 320,
    "start_time": "2022-05-11T20:19:51.559Z"
   },
   {
    "duration": 117,
    "start_time": "2022-05-11T20:19:51.882Z"
   },
   {
    "duration": 161,
    "start_time": "2022-05-11T20:19:52.001Z"
   },
   {
    "duration": 120,
    "start_time": "2022-05-11T20:19:52.165Z"
   },
   {
    "duration": 123,
    "start_time": "2022-05-11T20:19:52.287Z"
   },
   {
    "duration": 24,
    "start_time": "2022-05-11T20:19:52.412Z"
   },
   {
    "duration": 69,
    "start_time": "2022-05-11T20:19:52.442Z"
   },
   {
    "duration": 104,
    "start_time": "2022-05-11T20:19:52.513Z"
   },
   {
    "duration": 33,
    "start_time": "2022-05-11T20:19:52.618Z"
   },
   {
    "duration": 97,
    "start_time": "2022-05-11T20:19:52.654Z"
   },
   {
    "duration": 127,
    "start_time": "2022-05-11T20:19:52.754Z"
   },
   {
    "duration": 19,
    "start_time": "2022-05-11T20:19:52.883Z"
   },
   {
    "duration": 71,
    "start_time": "2022-05-11T20:19:52.906Z"
   },
   {
    "duration": 103,
    "start_time": "2022-05-11T20:19:52.979Z"
   },
   {
    "duration": 22,
    "start_time": "2022-05-11T20:19:53.084Z"
   },
   {
    "duration": 692,
    "start_time": "2022-05-11T20:19:53.108Z"
   },
   {
    "duration": 22,
    "start_time": "2022-05-11T20:19:53.802Z"
   },
   {
    "duration": 840,
    "start_time": "2022-05-11T20:19:53.834Z"
   },
   {
    "duration": 143,
    "start_time": "2022-05-11T20:19:54.676Z"
   },
   {
    "duration": 200,
    "start_time": "2022-05-11T20:19:54.822Z"
   },
   {
    "duration": 51,
    "start_time": "2022-05-11T20:19:55.024Z"
   },
   {
    "duration": 38,
    "start_time": "2022-05-11T20:19:55.078Z"
   },
   {
    "duration": 205,
    "start_time": "2022-05-11T20:19:55.119Z"
   },
   {
    "duration": 24,
    "start_time": "2022-05-11T20:19:55.327Z"
   },
   {
    "duration": 28,
    "start_time": "2022-05-11T20:19:55.356Z"
   },
   {
    "duration": 86,
    "start_time": "2022-05-11T20:19:55.386Z"
   },
   {
    "duration": 198,
    "start_time": "2022-05-11T20:19:55.475Z"
   },
   {
    "duration": 18,
    "start_time": "2022-05-11T20:19:55.676Z"
   },
   {
    "duration": 52,
    "start_time": "2022-05-11T20:19:55.697Z"
   },
   {
    "duration": 266,
    "start_time": "2022-05-11T20:19:55.752Z"
   },
   {
    "duration": 90,
    "start_time": "2022-05-11T20:19:56.020Z"
   },
   {
    "duration": 99,
    "start_time": "2022-05-11T20:19:56.113Z"
   },
   {
    "duration": 21,
    "start_time": "2022-05-11T20:19:56.214Z"
   },
   {
    "duration": 51,
    "start_time": "2022-05-11T20:19:56.237Z"
   },
   {
    "duration": 188,
    "start_time": "2022-05-11T20:19:56.290Z"
   },
   {
    "duration": 98,
    "start_time": "2022-05-11T20:19:56.480Z"
   },
   {
    "duration": 313,
    "start_time": "2022-05-11T20:19:56.580Z"
   },
   {
    "duration": 355,
    "start_time": "2022-05-11T20:19:56.895Z"
   },
   {
    "duration": 7,
    "start_time": "2022-05-11T20:19:57.252Z"
   },
   {
    "duration": 36,
    "start_time": "2022-05-11T20:19:57.261Z"
   },
   {
    "duration": 35,
    "start_time": "2022-05-11T20:19:57.299Z"
   },
   {
    "duration": 1513,
    "start_time": "2022-05-11T20:19:57.337Z"
   },
   {
    "duration": 142,
    "start_time": "2022-05-11T20:20:16.190Z"
   },
   {
    "duration": 66,
    "start_time": "2022-05-11T20:20:23.277Z"
   },
   {
    "duration": 21,
    "start_time": "2022-05-11T20:20:25.370Z"
   },
   {
    "duration": 5,
    "start_time": "2022-05-11T20:20:27.219Z"
   },
   {
    "duration": 4,
    "start_time": "2022-05-11T20:20:29.655Z"
   },
   {
    "duration": 4,
    "start_time": "2022-05-11T20:20:31.219Z"
   },
   {
    "duration": 3,
    "start_time": "2022-05-11T20:32:07.204Z"
   },
   {
    "duration": 18820,
    "start_time": "2022-05-11T20:32:23.537Z"
   },
   {
    "duration": 1222734,
    "start_time": "2022-05-11T20:32:59.093Z"
   },
   {
    "duration": 1305,
    "start_time": "2022-05-11T20:53:21.830Z"
   },
   {
    "duration": 2535,
    "start_time": "2022-05-12T04:57:07.017Z"
   },
   {
    "duration": 1707,
    "start_time": "2022-05-12T04:57:09.554Z"
   },
   {
    "duration": 137,
    "start_time": "2022-05-12T04:57:11.263Z"
   },
   {
    "duration": 288,
    "start_time": "2022-05-12T04:57:11.402Z"
   },
   {
    "duration": 178,
    "start_time": "2022-05-12T04:57:11.692Z"
   },
   {
    "duration": 109,
    "start_time": "2022-05-12T04:57:11.871Z"
   },
   {
    "duration": 96,
    "start_time": "2022-05-12T04:57:11.982Z"
   },
   {
    "duration": 73,
    "start_time": "2022-05-12T04:57:12.080Z"
   },
   {
    "duration": 26,
    "start_time": "2022-05-12T04:57:12.155Z"
   },
   {
    "duration": 49,
    "start_time": "2022-05-12T04:57:12.184Z"
   },
   {
    "duration": 105,
    "start_time": "2022-05-12T04:57:12.235Z"
   },
   {
    "duration": 27,
    "start_time": "2022-05-12T04:57:12.342Z"
   },
   {
    "duration": 44,
    "start_time": "2022-05-12T04:57:12.371Z"
   },
   {
    "duration": 127,
    "start_time": "2022-05-12T04:57:12.417Z"
   },
   {
    "duration": 22,
    "start_time": "2022-05-12T04:57:12.546Z"
   },
   {
    "duration": 42,
    "start_time": "2022-05-12T04:57:12.570Z"
   },
   {
    "duration": 82,
    "start_time": "2022-05-12T04:57:12.614Z"
   },
   {
    "duration": 17,
    "start_time": "2022-05-12T04:57:12.697Z"
   },
   {
    "duration": 491,
    "start_time": "2022-05-12T04:57:12.715Z"
   },
   {
    "duration": 18,
    "start_time": "2022-05-12T04:57:13.208Z"
   },
   {
    "duration": 561,
    "start_time": "2022-05-12T04:57:13.228Z"
   },
   {
    "duration": 106,
    "start_time": "2022-05-12T04:57:13.791Z"
   },
   {
    "duration": 136,
    "start_time": "2022-05-12T04:57:13.898Z"
   },
   {
    "duration": 44,
    "start_time": "2022-05-12T04:57:14.036Z"
   },
   {
    "duration": 31,
    "start_time": "2022-05-12T04:57:14.081Z"
   },
   {
    "duration": 140,
    "start_time": "2022-05-12T04:57:14.114Z"
   },
   {
    "duration": 16,
    "start_time": "2022-05-12T04:57:14.255Z"
   },
   {
    "duration": 10,
    "start_time": "2022-05-12T04:57:14.274Z"
   },
   {
    "duration": 62,
    "start_time": "2022-05-12T04:57:14.286Z"
   },
   {
    "duration": 160,
    "start_time": "2022-05-12T04:57:14.351Z"
   },
   {
    "duration": 12,
    "start_time": "2022-05-12T04:57:14.513Z"
   },
   {
    "duration": 40,
    "start_time": "2022-05-12T04:57:14.527Z"
   },
   {
    "duration": 157,
    "start_time": "2022-05-12T04:57:14.569Z"
   },
   {
    "duration": 82,
    "start_time": "2022-05-12T04:57:14.728Z"
   },
   {
    "duration": 70,
    "start_time": "2022-05-12T04:57:14.812Z"
   },
   {
    "duration": 13,
    "start_time": "2022-05-12T04:57:14.884Z"
   },
   {
    "duration": 33,
    "start_time": "2022-05-12T04:57:14.899Z"
   },
   {
    "duration": 153,
    "start_time": "2022-05-12T04:57:14.933Z"
   },
   {
    "duration": 64,
    "start_time": "2022-05-12T04:57:15.087Z"
   },
   {
    "duration": 289,
    "start_time": "2022-05-12T04:57:15.153Z"
   },
   {
    "duration": 288,
    "start_time": "2022-05-12T04:57:15.444Z"
   },
   {
    "duration": 5,
    "start_time": "2022-05-12T04:57:15.733Z"
   },
   {
    "duration": 32,
    "start_time": "2022-05-12T04:57:15.739Z"
   },
   {
    "duration": 18,
    "start_time": "2022-05-12T04:57:15.773Z"
   },
   {
    "duration": 1384,
    "start_time": "2022-05-12T04:57:15.793Z"
   },
   {
    "duration": 137,
    "start_time": "2022-05-12T04:57:17.178Z"
   },
   {
    "duration": 75,
    "start_time": "2022-05-12T04:57:17.317Z"
   },
   {
    "duration": 25,
    "start_time": "2022-05-12T04:57:17.394Z"
   },
   {
    "duration": 4,
    "start_time": "2022-05-12T04:57:17.421Z"
   },
   {
    "duration": 5,
    "start_time": "2022-05-12T04:57:17.427Z"
   },
   {
    "duration": 4,
    "start_time": "2022-05-12T04:57:17.434Z"
   },
   {
    "duration": 16760,
    "start_time": "2022-05-12T04:57:20.224Z"
   },
   {
    "duration": 247,
    "start_time": "2022-05-12T05:18:07.984Z"
   },
   {
    "duration": 10,
    "start_time": "2022-05-12T05:18:14.932Z"
   },
   {
    "duration": 3,
    "start_time": "2022-05-12T05:18:28.369Z"
   },
   {
    "duration": 15775,
    "start_time": "2022-05-12T05:18:31.592Z"
   },
   {
    "duration": 137,
    "start_time": "2022-05-12T05:34:35.610Z"
   },
   {
    "duration": 949,
    "start_time": "2022-05-12T05:34:41.122Z"
   },
   {
    "duration": 156,
    "start_time": "2022-05-12T05:34:49.804Z"
   },
   {
    "duration": 141,
    "start_time": "2022-05-12T05:35:07.167Z"
   },
   {
    "duration": 151,
    "start_time": "2022-05-12T05:35:15.469Z"
   },
   {
    "duration": 151,
    "start_time": "2022-05-12T05:35:22.769Z"
   },
   {
    "duration": 924,
    "start_time": "2022-05-12T05:35:26.647Z"
   },
   {
    "duration": 1984,
    "start_time": "2022-05-12T05:35:34.883Z"
   },
   {
    "duration": 3,
    "start_time": "2022-05-12T05:35:46.949Z"
   },
   {
    "duration": 3,
    "start_time": "2022-05-12T05:35:49.161Z"
   },
   {
    "duration": 2626,
    "start_time": "2022-05-12T05:36:01.841Z"
   },
   {
    "duration": 195,
    "start_time": "2022-05-12T05:36:09.655Z"
   },
   {
    "duration": 142,
    "start_time": "2022-05-12T05:36:18.995Z"
   },
   {
    "duration": 3,
    "start_time": "2022-05-12T05:36:27.041Z"
   },
   {
    "duration": 3,
    "start_time": "2022-05-12T05:36:28.584Z"
   },
   {
    "duration": 954,
    "start_time": "2022-05-12T05:36:31.530Z"
   },
   {
    "duration": 30,
    "start_time": "2022-05-12T16:48:53.603Z"
   },
   {
    "duration": 4,
    "start_time": "2022-05-12T16:49:54.259Z"
   },
   {
    "duration": 14,
    "start_time": "2022-05-12T16:50:04.410Z"
   },
   {
    "duration": 8,
    "start_time": "2022-05-12T16:50:14.026Z"
   },
   {
    "duration": 6,
    "start_time": "2022-05-12T16:50:18.645Z"
   },
   {
    "duration": 8,
    "start_time": "2022-05-12T16:53:41.839Z"
   },
   {
    "duration": 314,
    "start_time": "2022-05-12T17:13:40.810Z"
   },
   {
    "duration": 27,
    "start_time": "2022-05-12T17:17:53.156Z"
   },
   {
    "duration": 32,
    "start_time": "2022-05-12T17:26:55.630Z"
   },
   {
    "duration": 166,
    "start_time": "2022-05-12T17:27:02.674Z"
   },
   {
    "duration": 31,
    "start_time": "2022-05-12T17:29:23.647Z"
   },
   {
    "duration": 1719,
    "start_time": "2022-05-12T17:29:55.590Z"
   },
   {
    "duration": 1687,
    "start_time": "2022-05-12T17:29:57.311Z"
   },
   {
    "duration": 150,
    "start_time": "2022-05-12T17:29:59.000Z"
   },
   {
    "duration": 293,
    "start_time": "2022-05-12T17:29:59.153Z"
   },
   {
    "duration": 108,
    "start_time": "2022-05-12T17:29:59.448Z"
   },
   {
    "duration": 147,
    "start_time": "2022-05-12T17:29:59.557Z"
   },
   {
    "duration": 100,
    "start_time": "2022-05-12T17:29:59.705Z"
   },
   {
    "duration": 97,
    "start_time": "2022-05-12T17:29:59.807Z"
   },
   {
    "duration": 17,
    "start_time": "2022-05-12T17:29:59.906Z"
   },
   {
    "duration": 64,
    "start_time": "2022-05-12T17:29:59.926Z"
   },
   {
    "duration": 86,
    "start_time": "2022-05-12T17:29:59.992Z"
   },
   {
    "duration": 22,
    "start_time": "2022-05-12T17:30:00.080Z"
   },
   {
    "duration": 45,
    "start_time": "2022-05-12T17:30:00.104Z"
   },
   {
    "duration": 107,
    "start_time": "2022-05-12T17:30:00.166Z"
   },
   {
    "duration": 27,
    "start_time": "2022-05-12T17:30:00.275Z"
   },
   {
    "duration": 64,
    "start_time": "2022-05-12T17:30:00.304Z"
   },
   {
    "duration": 76,
    "start_time": "2022-05-12T17:30:00.371Z"
   },
   {
    "duration": 29,
    "start_time": "2022-05-12T17:30:00.449Z"
   },
   {
    "duration": 514,
    "start_time": "2022-05-12T17:30:00.480Z"
   },
   {
    "duration": 20,
    "start_time": "2022-05-12T17:30:00.995Z"
   },
   {
    "duration": 605,
    "start_time": "2022-05-12T17:30:01.016Z"
   },
   {
    "duration": 96,
    "start_time": "2022-05-12T17:30:01.623Z"
   },
   {
    "duration": 176,
    "start_time": "2022-05-12T17:30:01.720Z"
   },
   {
    "duration": 30,
    "start_time": "2022-05-12T17:30:01.898Z"
   },
   {
    "duration": 45,
    "start_time": "2022-05-12T17:30:01.930Z"
   },
   {
    "duration": 136,
    "start_time": "2022-05-12T17:30:01.977Z"
   },
   {
    "duration": 11,
    "start_time": "2022-05-12T17:30:02.115Z"
   },
   {
    "duration": 55,
    "start_time": "2022-05-12T17:30:02.131Z"
   },
   {
    "duration": 77,
    "start_time": "2022-05-12T17:30:02.188Z"
   },
   {
    "duration": 198,
    "start_time": "2022-05-12T17:30:02.267Z"
   },
   {
    "duration": 20,
    "start_time": "2022-05-12T17:30:02.467Z"
   },
   {
    "duration": 55,
    "start_time": "2022-05-12T17:30:02.489Z"
   },
   {
    "duration": 154,
    "start_time": "2022-05-12T17:30:02.546Z"
   },
   {
    "duration": 69,
    "start_time": "2022-05-12T17:30:02.702Z"
   },
   {
    "duration": 65,
    "start_time": "2022-05-12T17:30:02.773Z"
   },
   {
    "duration": 38,
    "start_time": "2022-05-12T17:30:02.840Z"
   },
   {
    "duration": 59,
    "start_time": "2022-05-12T17:30:02.880Z"
   },
   {
    "duration": 130,
    "start_time": "2022-05-12T17:30:02.941Z"
   },
   {
    "duration": 73,
    "start_time": "2022-05-12T17:30:03.073Z"
   },
   {
    "duration": 258,
    "start_time": "2022-05-12T17:30:03.148Z"
   },
   {
    "duration": 318,
    "start_time": "2022-05-12T17:30:03.407Z"
   },
   {
    "duration": 4,
    "start_time": "2022-05-12T17:30:03.727Z"
   },
   {
    "duration": 20,
    "start_time": "2022-05-12T17:30:03.733Z"
   },
   {
    "duration": 31,
    "start_time": "2022-05-12T17:30:03.755Z"
   },
   {
    "duration": 1153,
    "start_time": "2022-05-12T17:30:03.788Z"
   },
   {
    "duration": 183,
    "start_time": "2022-05-12T17:30:04.943Z"
   },
   {
    "duration": 73,
    "start_time": "2022-05-12T17:30:05.128Z"
   },
   {
    "duration": 20,
    "start_time": "2022-05-12T17:30:05.202Z"
   },
   {
    "duration": 4,
    "start_time": "2022-05-12T17:30:05.224Z"
   },
   {
    "duration": 5,
    "start_time": "2022-05-12T17:30:05.230Z"
   },
   {
    "duration": 4,
    "start_time": "2022-05-12T17:30:05.237Z"
   },
   {
    "duration": 18964,
    "start_time": "2022-05-12T17:30:05.268Z"
   },
   {
    "duration": 2,
    "start_time": "2022-05-12T17:30:24.234Z"
   },
   {
    "duration": 1030,
    "start_time": "2022-05-12T17:30:24.237Z"
   },
   {
    "duration": 108,
    "start_time": "2022-05-12T17:30:25.269Z"
   },
   {
    "duration": 90,
    "start_time": "2022-05-12T17:31:42.206Z"
   },
   {
    "duration": 7,
    "start_time": "2022-05-12T17:32:14.624Z"
   },
   {
    "duration": 124,
    "start_time": "2022-05-12T17:33:14.727Z"
   },
   {
    "duration": 87,
    "start_time": "2022-05-12T17:33:25.644Z"
   },
   {
    "duration": 14,
    "start_time": "2022-05-12T17:33:33.285Z"
   },
   {
    "duration": 25,
    "start_time": "2022-05-12T17:34:25.073Z"
   },
   {
    "duration": 16,
    "start_time": "2022-05-12T17:34:29.386Z"
   },
   {
    "duration": 23,
    "start_time": "2022-05-12T17:34:42.564Z"
   },
   {
    "duration": 69,
    "start_time": "2022-05-12T17:34:44.244Z"
   },
   {
    "duration": 11,
    "start_time": "2022-05-12T17:34:45.795Z"
   },
   {
    "duration": 1634,
    "start_time": "2022-05-12T17:40:31.842Z"
   },
   {
    "duration": 1672,
    "start_time": "2022-05-12T17:40:33.478Z"
   },
   {
    "duration": 149,
    "start_time": "2022-05-12T17:40:35.152Z"
   },
   {
    "duration": 280,
    "start_time": "2022-05-12T17:40:35.303Z"
   },
   {
    "duration": 97,
    "start_time": "2022-05-12T17:40:35.584Z"
   },
   {
    "duration": 119,
    "start_time": "2022-05-12T17:40:35.683Z"
   },
   {
    "duration": 98,
    "start_time": "2022-05-12T17:40:35.805Z"
   },
   {
    "duration": 82,
    "start_time": "2022-05-12T17:40:35.905Z"
   },
   {
    "duration": 19,
    "start_time": "2022-05-12T17:40:35.989Z"
   },
   {
    "duration": 64,
    "start_time": "2022-05-12T17:40:36.011Z"
   },
   {
    "duration": 75,
    "start_time": "2022-05-12T17:40:36.077Z"
   },
   {
    "duration": 19,
    "start_time": "2022-05-12T17:40:36.167Z"
   },
   {
    "duration": 50,
    "start_time": "2022-05-12T17:40:36.188Z"
   },
   {
    "duration": 148,
    "start_time": "2022-05-12T17:40:36.240Z"
   },
   {
    "duration": 24,
    "start_time": "2022-05-12T17:40:36.391Z"
   },
   {
    "duration": 71,
    "start_time": "2022-05-12T17:40:36.418Z"
   },
   {
    "duration": 129,
    "start_time": "2022-05-12T17:40:36.492Z"
   },
   {
    "duration": 31,
    "start_time": "2022-05-12T17:40:36.624Z"
   },
   {
    "duration": 756,
    "start_time": "2022-05-12T17:40:36.657Z"
   },
   {
    "duration": 20,
    "start_time": "2022-05-12T17:40:37.415Z"
   },
   {
    "duration": 562,
    "start_time": "2022-05-12T17:40:37.437Z"
   },
   {
    "duration": 96,
    "start_time": "2022-05-12T17:40:38.000Z"
   },
   {
    "duration": 133,
    "start_time": "2022-05-12T17:40:38.098Z"
   },
   {
    "duration": 37,
    "start_time": "2022-05-12T17:40:38.233Z"
   },
   {
    "duration": 32,
    "start_time": "2022-05-12T17:40:38.272Z"
   },
   {
    "duration": 143,
    "start_time": "2022-05-12T17:40:38.305Z"
   },
   {
    "duration": 18,
    "start_time": "2022-05-12T17:40:38.450Z"
   },
   {
    "duration": 23,
    "start_time": "2022-05-12T17:40:38.472Z"
   },
   {
    "duration": 71,
    "start_time": "2022-05-12T17:40:38.496Z"
   },
   {
    "duration": 128,
    "start_time": "2022-05-12T17:40:38.568Z"
   },
   {
    "duration": 13,
    "start_time": "2022-05-12T17:40:38.698Z"
   },
   {
    "duration": 36,
    "start_time": "2022-05-12T17:40:38.712Z"
   },
   {
    "duration": 157,
    "start_time": "2022-05-12T17:40:38.750Z"
   },
   {
    "duration": 71,
    "start_time": "2022-05-12T17:40:38.909Z"
   },
   {
    "duration": 67,
    "start_time": "2022-05-12T17:40:38.982Z"
   },
   {
    "duration": 32,
    "start_time": "2022-05-12T17:40:39.050Z"
   },
   {
    "duration": 50,
    "start_time": "2022-05-12T17:40:39.084Z"
   },
   {
    "duration": 147,
    "start_time": "2022-05-12T17:40:39.136Z"
   },
   {
    "duration": 68,
    "start_time": "2022-05-12T17:40:39.285Z"
   },
   {
    "duration": 254,
    "start_time": "2022-05-12T17:40:39.354Z"
   },
   {
    "duration": 312,
    "start_time": "2022-05-12T17:40:39.610Z"
   },
   {
    "duration": 4,
    "start_time": "2022-05-12T17:40:39.924Z"
   },
   {
    "duration": 33,
    "start_time": "2022-05-12T17:40:39.930Z"
   },
   {
    "duration": 16,
    "start_time": "2022-05-12T17:40:39.966Z"
   },
   {
    "duration": 1198,
    "start_time": "2022-05-12T17:40:39.984Z"
   },
   {
    "duration": 177,
    "start_time": "2022-05-12T17:40:41.183Z"
   },
   {
    "duration": 69,
    "start_time": "2022-05-12T17:40:41.361Z"
   },
   {
    "duration": 18,
    "start_time": "2022-05-12T17:40:41.432Z"
   },
   {
    "duration": 16,
    "start_time": "2022-05-12T17:40:41.452Z"
   },
   {
    "duration": 4,
    "start_time": "2022-05-12T17:40:41.469Z"
   },
   {
    "duration": 3,
    "start_time": "2022-05-12T17:40:41.475Z"
   },
   {
    "duration": 16998,
    "start_time": "2022-05-12T17:40:41.480Z"
   },
   {
    "duration": 3,
    "start_time": "2022-05-12T17:40:58.480Z"
   },
   {
    "duration": 1185,
    "start_time": "2022-05-12T17:40:58.484Z"
   },
   {
    "duration": 101,
    "start_time": "2022-05-12T17:40:59.671Z"
   },
   {
    "duration": 69,
    "start_time": "2022-05-12T17:40:59.774Z"
   },
   {
    "duration": 27,
    "start_time": "2022-05-12T17:40:59.845Z"
   },
   {
    "duration": 0,
    "start_time": "2022-05-12T17:41:45.118Z"
   },
   {
    "duration": 0,
    "start_time": "2022-05-12T17:42:12.119Z"
   },
   {
    "duration": 51672,
    "start_time": "2022-05-12T17:42:13.356Z"
   },
   {
    "duration": 22686,
    "start_time": "2022-05-12T17:43:43.745Z"
   },
   {
    "duration": 20493,
    "start_time": "2022-05-12T17:44:35.833Z"
   },
   {
    "duration": 47,
    "start_time": "2022-05-12T17:45:49.425Z"
   },
   {
    "duration": 38295,
    "start_time": "2022-05-12T17:46:10.428Z"
   },
   {
    "duration": 66371,
    "start_time": "2022-05-12T17:48:23.134Z"
   },
   {
    "duration": 35344,
    "start_time": "2022-05-12T17:49:42.867Z"
   },
   {
    "duration": 52613,
    "start_time": "2022-05-12T17:50:32.540Z"
   },
   {
    "duration": 32,
    "start_time": "2022-05-12T17:51:46.041Z"
   },
   {
    "duration": 29,
    "start_time": "2022-05-12T17:52:07.668Z"
   },
   {
    "duration": 31,
    "start_time": "2022-05-12T17:52:19.383Z"
   },
   {
    "duration": 31,
    "start_time": "2022-05-12T17:52:42.306Z"
   },
   {
    "duration": 19410,
    "start_time": "2022-05-12T17:52:50.329Z"
   },
   {
    "duration": 31,
    "start_time": "2022-05-12T17:56:39.943Z"
   },
   {
    "duration": 52930,
    "start_time": "2022-05-12T17:56:46.875Z"
   },
   {
    "duration": 16,
    "start_time": "2022-05-12T18:10:50.419Z"
   },
   {
    "duration": 5,
    "start_time": "2022-05-12T18:11:22.811Z"
   },
   {
    "duration": 10,
    "start_time": "2022-05-12T18:11:27.035Z"
   },
   {
    "duration": 339,
    "start_time": "2022-05-12T18:11:38.331Z"
   },
   {
    "duration": 45,
    "start_time": "2022-05-12T20:23:51.431Z"
   },
   {
    "duration": 1778,
    "start_time": "2022-05-12T20:24:14.247Z"
   },
   {
    "duration": 1561,
    "start_time": "2022-05-12T20:24:16.027Z"
   },
   {
    "duration": 148,
    "start_time": "2022-05-12T20:24:17.590Z"
   },
   {
    "duration": 267,
    "start_time": "2022-05-12T20:24:17.739Z"
   },
   {
    "duration": 96,
    "start_time": "2022-05-12T20:24:18.008Z"
   },
   {
    "duration": 109,
    "start_time": "2022-05-12T20:24:18.106Z"
   },
   {
    "duration": 84,
    "start_time": "2022-05-12T20:24:18.216Z"
   },
   {
    "duration": 73,
    "start_time": "2022-05-12T20:24:18.301Z"
   },
   {
    "duration": 16,
    "start_time": "2022-05-12T20:24:18.375Z"
   },
   {
    "duration": 52,
    "start_time": "2022-05-12T20:24:18.400Z"
   },
   {
    "duration": 83,
    "start_time": "2022-05-12T20:24:18.453Z"
   },
   {
    "duration": 17,
    "start_time": "2022-05-12T20:24:18.538Z"
   },
   {
    "duration": 54,
    "start_time": "2022-05-12T20:24:18.556Z"
   },
   {
    "duration": 149,
    "start_time": "2022-05-12T20:24:18.613Z"
   },
   {
    "duration": 27,
    "start_time": "2022-05-12T20:24:18.764Z"
   },
   {
    "duration": 56,
    "start_time": "2022-05-12T20:24:18.792Z"
   },
   {
    "duration": 83,
    "start_time": "2022-05-12T20:24:18.850Z"
   },
   {
    "duration": 15,
    "start_time": "2022-05-12T20:24:18.934Z"
   },
   {
    "duration": 450,
    "start_time": "2022-05-12T20:24:18.950Z"
   },
   {
    "duration": 26,
    "start_time": "2022-05-12T20:24:19.401Z"
   },
   {
    "duration": 513,
    "start_time": "2022-05-12T20:24:19.429Z"
   },
   {
    "duration": 90,
    "start_time": "2022-05-12T20:24:19.943Z"
   },
   {
    "duration": 125,
    "start_time": "2022-05-12T20:24:20.035Z"
   },
   {
    "duration": 28,
    "start_time": "2022-05-12T20:24:20.161Z"
   },
   {
    "duration": 28,
    "start_time": "2022-05-12T20:24:20.201Z"
   },
   {
    "duration": 121,
    "start_time": "2022-05-12T20:24:20.231Z"
   },
   {
    "duration": 13,
    "start_time": "2022-05-12T20:24:20.354Z"
   },
   {
    "duration": 14,
    "start_time": "2022-05-12T20:24:20.369Z"
   },
   {
    "duration": 47,
    "start_time": "2022-05-12T20:24:20.399Z"
   },
   {
    "duration": 117,
    "start_time": "2022-05-12T20:24:20.448Z"
   },
   {
    "duration": 12,
    "start_time": "2022-05-12T20:24:20.566Z"
   },
   {
    "duration": 41,
    "start_time": "2022-05-12T20:24:20.579Z"
   },
   {
    "duration": 130,
    "start_time": "2022-05-12T20:24:20.622Z"
   },
   {
    "duration": 69,
    "start_time": "2022-05-12T20:24:20.753Z"
   },
   {
    "duration": 56,
    "start_time": "2022-05-12T20:24:20.823Z"
   },
   {
    "duration": 35,
    "start_time": "2022-05-12T20:24:20.881Z"
   },
   {
    "duration": 30,
    "start_time": "2022-05-12T20:24:20.919Z"
   },
   {
    "duration": 126,
    "start_time": "2022-05-12T20:24:20.951Z"
   },
   {
    "duration": 79,
    "start_time": "2022-05-12T20:24:21.079Z"
   },
   {
    "duration": 225,
    "start_time": "2022-05-12T20:24:21.159Z"
   },
   {
    "duration": 263,
    "start_time": "2022-05-12T20:24:21.388Z"
   },
   {
    "duration": 5,
    "start_time": "2022-05-12T20:24:21.652Z"
   },
   {
    "duration": 22,
    "start_time": "2022-05-12T20:24:21.659Z"
   },
   {
    "duration": 32,
    "start_time": "2022-05-12T20:24:21.683Z"
   },
   {
    "duration": 1092,
    "start_time": "2022-05-12T20:24:21.717Z"
   },
   {
    "duration": 175,
    "start_time": "2022-05-12T20:24:22.811Z"
   },
   {
    "duration": 80,
    "start_time": "2022-05-12T20:24:22.987Z"
   },
   {
    "duration": 18,
    "start_time": "2022-05-12T20:24:23.069Z"
   },
   {
    "duration": 3,
    "start_time": "2022-05-12T20:24:23.100Z"
   },
   {
    "duration": 16,
    "start_time": "2022-05-12T20:24:23.111Z"
   },
   {
    "duration": 5,
    "start_time": "2022-05-12T20:24:23.128Z"
   },
   {
    "duration": 15904,
    "start_time": "2022-05-12T20:24:23.135Z"
   },
   {
    "duration": 2,
    "start_time": "2022-05-12T20:24:39.041Z"
   },
   {
    "duration": 963,
    "start_time": "2022-05-12T20:24:39.045Z"
   },
   {
    "duration": 205,
    "start_time": "2022-05-12T20:24:40.010Z"
   },
   {
    "duration": 64,
    "start_time": "2022-05-12T20:24:40.217Z"
   },
   {
    "duration": 10,
    "start_time": "2022-05-12T20:24:40.282Z"
   },
   {
    "duration": 60099,
    "start_time": "2022-05-12T20:24:40.293Z"
   },
   {
    "duration": 170,
    "start_time": "2022-05-12T20:25:40.393Z"
   },
   {
    "duration": 21643,
    "start_time": "2022-05-12T20:25:40.565Z"
   },
   {
    "duration": 12,
    "start_time": "2022-05-12T20:32:07.773Z"
   },
   {
    "duration": 13,
    "start_time": "2022-05-12T20:32:16.850Z"
   },
   {
    "duration": 13,
    "start_time": "2022-05-12T20:33:17.028Z"
   },
   {
    "duration": 12,
    "start_time": "2022-05-12T20:34:05.118Z"
   },
   {
    "duration": 18,
    "start_time": "2022-05-12T20:34:33.813Z"
   },
   {
    "duration": 19,
    "start_time": "2022-05-12T20:35:23.223Z"
   },
   {
    "duration": 19,
    "start_time": "2022-05-12T20:35:48.013Z"
   },
   {
    "duration": 23,
    "start_time": "2022-05-12T20:36:02.365Z"
   },
   {
    "duration": 27,
    "start_time": "2022-05-12T20:37:03.989Z"
   },
   {
    "duration": 14,
    "start_time": "2022-05-12T20:37:24.425Z"
   },
   {
    "duration": 2114,
    "start_time": "2022-05-12T20:37:33.478Z"
   },
   {
    "duration": 10241,
    "start_time": "2022-05-12T20:37:35.594Z"
   },
   {
    "duration": 134,
    "start_time": "2022-05-12T20:37:45.836Z"
   },
   {
    "duration": 276,
    "start_time": "2022-05-12T20:37:45.972Z"
   },
   {
    "duration": 93,
    "start_time": "2022-05-12T20:37:46.250Z"
   },
   {
    "duration": 502,
    "start_time": "2022-05-12T20:37:46.345Z"
   },
   {
    "duration": 89,
    "start_time": "2022-05-12T20:37:46.849Z"
   },
   {
    "duration": 87,
    "start_time": "2022-05-12T20:37:46.940Z"
   },
   {
    "duration": 16,
    "start_time": "2022-05-12T20:37:47.029Z"
   },
   {
    "duration": 61,
    "start_time": "2022-05-12T20:37:47.047Z"
   },
   {
    "duration": 66,
    "start_time": "2022-05-12T20:37:47.110Z"
   },
   {
    "duration": 32,
    "start_time": "2022-05-12T20:37:47.177Z"
   },
   {
    "duration": 43,
    "start_time": "2022-05-12T20:37:47.211Z"
   },
   {
    "duration": 103,
    "start_time": "2022-05-12T20:37:47.256Z"
   },
   {
    "duration": 15,
    "start_time": "2022-05-12T20:37:47.361Z"
   },
   {
    "duration": 50,
    "start_time": "2022-05-12T20:37:47.378Z"
   },
   {
    "duration": 70,
    "start_time": "2022-05-12T20:37:47.430Z"
   },
   {
    "duration": 20,
    "start_time": "2022-05-12T20:37:47.503Z"
   },
   {
    "duration": 470,
    "start_time": "2022-05-12T20:37:47.525Z"
   },
   {
    "duration": 26,
    "start_time": "2022-05-12T20:37:47.996Z"
   },
   {
    "duration": 514,
    "start_time": "2022-05-12T20:37:48.023Z"
   },
   {
    "duration": 97,
    "start_time": "2022-05-12T20:37:48.539Z"
   },
   {
    "duration": 124,
    "start_time": "2022-05-12T20:37:48.637Z"
   },
   {
    "duration": 38,
    "start_time": "2022-05-12T20:37:48.763Z"
   },
   {
    "duration": 30,
    "start_time": "2022-05-12T20:37:48.803Z"
   },
   {
    "duration": 123,
    "start_time": "2022-05-12T20:37:48.835Z"
   },
   {
    "duration": 11,
    "start_time": "2022-05-12T20:37:48.959Z"
   },
   {
    "duration": 11,
    "start_time": "2022-05-12T20:37:48.974Z"
   },
   {
    "duration": 49,
    "start_time": "2022-05-12T20:37:49.000Z"
   },
   {
    "duration": 118,
    "start_time": "2022-05-12T20:37:49.051Z"
   },
   {
    "duration": 11,
    "start_time": "2022-05-12T20:37:49.171Z"
   },
   {
    "duration": 37,
    "start_time": "2022-05-12T20:37:49.184Z"
   },
   {
    "duration": 129,
    "start_time": "2022-05-12T20:37:49.223Z"
   },
   {
    "duration": 69,
    "start_time": "2022-05-12T20:37:49.354Z"
   },
   {
    "duration": 55,
    "start_time": "2022-05-12T20:37:49.425Z"
   },
   {
    "duration": 29,
    "start_time": "2022-05-12T20:37:49.481Z"
   },
   {
    "duration": 28,
    "start_time": "2022-05-12T20:37:49.512Z"
   },
   {
    "duration": 126,
    "start_time": "2022-05-12T20:37:49.541Z"
   },
   {
    "duration": 67,
    "start_time": "2022-05-12T20:37:49.669Z"
   },
   {
    "duration": 235,
    "start_time": "2022-05-12T20:37:49.738Z"
   },
   {
    "duration": 270,
    "start_time": "2022-05-12T20:37:49.974Z"
   },
   {
    "duration": 4,
    "start_time": "2022-05-12T20:37:50.245Z"
   },
   {
    "duration": 20,
    "start_time": "2022-05-12T20:37:50.250Z"
   },
   {
    "duration": 34,
    "start_time": "2022-05-12T20:37:50.272Z"
   },
   {
    "duration": 1071,
    "start_time": "2022-05-12T20:37:50.308Z"
   },
   {
    "duration": 163,
    "start_time": "2022-05-12T20:37:51.380Z"
   },
   {
    "duration": 64,
    "start_time": "2022-05-12T20:37:51.544Z"
   },
   {
    "duration": 20,
    "start_time": "2022-05-12T20:37:51.612Z"
   },
   {
    "duration": 5,
    "start_time": "2022-05-12T20:37:51.634Z"
   },
   {
    "duration": 7,
    "start_time": "2022-05-12T20:37:51.640Z"
   },
   {
    "duration": 14,
    "start_time": "2022-05-12T20:37:51.648Z"
   },
   {
    "duration": 15386,
    "start_time": "2022-05-12T20:37:51.664Z"
   },
   {
    "duration": 2,
    "start_time": "2022-05-12T20:38:07.052Z"
   },
   {
    "duration": 869,
    "start_time": "2022-05-12T20:38:07.055Z"
   },
   {
    "duration": 186,
    "start_time": "2022-05-12T20:38:07.926Z"
   },
   {
    "duration": 65,
    "start_time": "2022-05-12T20:38:08.114Z"
   },
   {
    "duration": 28,
    "start_time": "2022-05-12T20:38:08.181Z"
   },
   {
    "duration": 55160,
    "start_time": "2022-05-12T20:38:08.210Z"
   },
   {
    "duration": 183,
    "start_time": "2022-05-12T20:39:03.372Z"
   },
   {
    "duration": 124,
    "start_time": "2022-05-12T20:39:03.557Z"
   },
   {
    "duration": 34,
    "start_time": "2022-05-12T20:40:39.013Z"
   },
   {
    "duration": 85,
    "start_time": "2022-05-13T09:15:50.738Z"
   },
   {
    "duration": 2578,
    "start_time": "2022-05-13T09:15:53.826Z"
   },
   {
    "duration": 2834,
    "start_time": "2022-05-13T09:15:56.407Z"
   },
   {
    "duration": 183,
    "start_time": "2022-05-13T09:15:59.251Z"
   },
   {
    "duration": 405,
    "start_time": "2022-05-13T09:15:59.438Z"
   },
   {
    "duration": 132,
    "start_time": "2022-05-13T09:15:59.847Z"
   },
   {
    "duration": 181,
    "start_time": "2022-05-13T09:15:59.981Z"
   },
   {
    "duration": 121,
    "start_time": "2022-05-13T09:16:00.164Z"
   },
   {
    "duration": 116,
    "start_time": "2022-05-13T09:16:00.288Z"
   },
   {
    "duration": 21,
    "start_time": "2022-05-13T09:16:00.406Z"
   },
   {
    "duration": 97,
    "start_time": "2022-05-13T09:16:00.431Z"
   },
   {
    "duration": 104,
    "start_time": "2022-05-13T09:16:00.530Z"
   },
   {
    "duration": 34,
    "start_time": "2022-05-13T09:16:00.636Z"
   },
   {
    "duration": 121,
    "start_time": "2022-05-13T09:16:00.672Z"
   },
   {
    "duration": 148,
    "start_time": "2022-05-13T09:16:00.796Z"
   },
   {
    "duration": 22,
    "start_time": "2022-05-13T09:16:00.946Z"
   },
   {
    "duration": 92,
    "start_time": "2022-05-13T09:16:00.970Z"
   },
   {
    "duration": 107,
    "start_time": "2022-05-13T09:16:01.064Z"
   },
   {
    "duration": 21,
    "start_time": "2022-05-13T09:16:01.174Z"
   },
   {
    "duration": 828,
    "start_time": "2022-05-13T09:16:01.197Z"
   },
   {
    "duration": 31,
    "start_time": "2022-05-13T09:16:02.027Z"
   },
   {
    "duration": 922,
    "start_time": "2022-05-13T09:16:05.418Z"
   },
   {
    "duration": 827,
    "start_time": "2022-05-13T09:16:08.336Z"
   },
   {
    "duration": 24,
    "start_time": "2022-05-13T09:16:13.784Z"
   },
   {
    "duration": 827,
    "start_time": "2022-05-13T09:16:15.185Z"
   },
   {
    "duration": 211,
    "start_time": "2022-05-13T09:18:17.725Z"
   },
   {
    "duration": 2087,
    "start_time": "2022-05-13T09:18:34.258Z"
   },
   {
    "duration": 2251,
    "start_time": "2022-05-13T09:18:36.348Z"
   },
   {
    "duration": 188,
    "start_time": "2022-05-13T09:18:38.605Z"
   },
   {
    "duration": 521,
    "start_time": "2022-05-13T09:18:38.795Z"
   },
   {
    "duration": 122,
    "start_time": "2022-05-13T09:18:39.319Z"
   },
   {
    "duration": 178,
    "start_time": "2022-05-13T09:18:39.443Z"
   },
   {
    "duration": 124,
    "start_time": "2022-05-13T09:18:39.623Z"
   },
   {
    "duration": 127,
    "start_time": "2022-05-13T09:18:39.749Z"
   },
   {
    "duration": 22,
    "start_time": "2022-05-13T09:18:39.880Z"
   },
   {
    "duration": 103,
    "start_time": "2022-05-13T09:18:39.904Z"
   },
   {
    "duration": 113,
    "start_time": "2022-05-13T09:18:40.010Z"
   },
   {
    "duration": 29,
    "start_time": "2022-05-13T09:18:40.125Z"
   },
   {
    "duration": 81,
    "start_time": "2022-05-13T09:18:40.160Z"
   },
   {
    "duration": 156,
    "start_time": "2022-05-13T09:18:40.252Z"
   },
   {
    "duration": 21,
    "start_time": "2022-05-13T09:18:40.410Z"
   },
   {
    "duration": 95,
    "start_time": "2022-05-13T09:18:40.433Z"
   },
   {
    "duration": 122,
    "start_time": "2022-05-13T09:18:40.530Z"
   },
   {
    "duration": 30,
    "start_time": "2022-05-13T09:18:40.655Z"
   },
   {
    "duration": 857,
    "start_time": "2022-05-13T09:18:40.688Z"
   },
   {
    "duration": 30,
    "start_time": "2022-05-13T09:18:41.551Z"
   },
   {
    "duration": 923,
    "start_time": "2022-05-13T09:18:41.583Z"
   },
   {
    "duration": 117,
    "start_time": "2022-05-13T09:18:42.508Z"
   },
   {
    "duration": 233,
    "start_time": "2022-05-13T09:18:42.627Z"
   },
   {
    "duration": 44,
    "start_time": "2022-05-13T09:18:42.863Z"
   },
   {
    "duration": 84,
    "start_time": "2022-05-13T09:18:42.909Z"
   },
   {
    "duration": 221,
    "start_time": "2022-05-13T09:18:42.995Z"
   },
   {
    "duration": 18,
    "start_time": "2022-05-13T09:18:43.221Z"
   },
   {
    "duration": 24,
    "start_time": "2022-05-13T09:18:43.253Z"
   },
   {
    "duration": 126,
    "start_time": "2022-05-13T09:18:43.280Z"
   },
   {
    "duration": 218,
    "start_time": "2022-05-13T09:18:43.408Z"
   },
   {
    "duration": 35,
    "start_time": "2022-05-13T09:18:43.629Z"
   },
   {
    "duration": 49,
    "start_time": "2022-05-13T09:18:43.666Z"
   },
   {
    "duration": 257,
    "start_time": "2022-05-13T09:18:43.717Z"
   },
   {
    "duration": 105,
    "start_time": "2022-05-13T09:18:43.976Z"
   },
   {
    "duration": 99,
    "start_time": "2022-05-13T09:18:44.083Z"
   },
   {
    "duration": 21,
    "start_time": "2022-05-13T09:18:44.184Z"
   },
   {
    "duration": 82,
    "start_time": "2022-05-13T09:18:44.208Z"
   },
   {
    "duration": 223,
    "start_time": "2022-05-13T09:18:44.292Z"
   },
   {
    "duration": 109,
    "start_time": "2022-05-13T09:18:44.517Z"
   },
   {
    "duration": 436,
    "start_time": "2022-05-13T09:18:44.629Z"
   },
   {
    "duration": 628,
    "start_time": "2022-05-13T09:18:45.067Z"
   },
   {
    "duration": 6,
    "start_time": "2022-05-13T09:18:45.697Z"
   },
   {
    "duration": 65,
    "start_time": "2022-05-13T09:18:45.705Z"
   },
   {
    "duration": 34,
    "start_time": "2022-05-13T09:18:45.773Z"
   },
   {
    "duration": 1666,
    "start_time": "2022-05-13T09:18:45.810Z"
   },
   {
    "duration": 358,
    "start_time": "2022-05-13T09:18:47.478Z"
   },
   {
    "duration": 85,
    "start_time": "2022-05-13T09:18:47.838Z"
   },
   {
    "duration": 53,
    "start_time": "2022-05-13T09:18:47.925Z"
   },
   {
    "duration": 6,
    "start_time": "2022-05-13T09:18:47.981Z"
   },
   {
    "duration": 10,
    "start_time": "2022-05-13T09:18:47.990Z"
   },
   {
    "duration": 6,
    "start_time": "2022-05-13T09:18:48.003Z"
   },
   {
    "duration": 21687,
    "start_time": "2022-05-13T09:18:48.012Z"
   },
   {
    "duration": 189079,
    "start_time": "2022-05-13T09:19:09.702Z"
   },
   {
    "duration": 1170,
    "start_time": "2022-05-13T09:22:18.783Z"
   },
   {
    "duration": 115,
    "start_time": "2022-05-13T09:22:19.957Z"
   },
   {
    "duration": 153,
    "start_time": "2022-05-13T09:22:20.075Z"
   },
   {
    "duration": 21,
    "start_time": "2022-05-13T09:22:20.230Z"
   },
   {
    "duration": 117529,
    "start_time": "2022-05-13T09:22:20.255Z"
   },
   {
    "duration": 307,
    "start_time": "2022-05-13T09:24:17.787Z"
   },
   {
    "duration": 36,
    "start_time": "2022-05-13T09:24:18.096Z"
   },
   {
    "duration": 210,
    "start_time": "2022-05-13T09:24:18.151Z"
   },
   {
    "duration": 26,
    "start_time": "2022-05-13T09:52:00.473Z"
   },
   {
    "duration": 19295,
    "start_time": "2022-05-13T09:52:17.674Z"
   },
   {
    "duration": 19787,
    "start_time": "2022-05-13T09:53:20.570Z"
   },
   {
    "duration": 24,
    "start_time": "2022-05-13T09:54:34.995Z"
   },
   {
    "duration": 19052,
    "start_time": "2022-05-13T09:55:30.608Z"
   },
   {
    "duration": 18823,
    "start_time": "2022-05-13T09:56:42.237Z"
   },
   {
    "duration": 19056,
    "start_time": "2022-05-13T09:58:02.214Z"
   },
   {
    "duration": 333513,
    "start_time": "2022-05-13T09:59:26.155Z"
   },
   {
    "duration": 10685,
    "start_time": "2022-05-13T10:05:01.569Z"
   },
   {
    "duration": 9864,
    "start_time": "2022-05-13T10:05:28.693Z"
   },
   {
    "duration": 25398,
    "start_time": "2022-05-13T10:06:00.368Z"
   },
   {
    "duration": 25203,
    "start_time": "2022-05-13T10:28:17.159Z"
   },
   {
    "duration": 24812,
    "start_time": "2022-05-13T10:30:39.149Z"
   },
   {
    "duration": 29986,
    "start_time": "2022-05-13T10:34:35.068Z"
   },
   {
    "duration": 5538,
    "start_time": "2022-05-13T10:36:27.603Z"
   },
   {
    "duration": 17,
    "start_time": "2022-05-13T10:37:27.682Z"
   },
   {
    "duration": 16,
    "start_time": "2022-05-13T10:37:33.513Z"
   },
   {
    "duration": 15,
    "start_time": "2022-05-13T10:38:16.624Z"
   },
   {
    "duration": 17300,
    "start_time": "2022-05-13T10:39:29.096Z"
   },
   {
    "duration": 53,
    "start_time": "2022-05-13T10:40:11.926Z"
   },
   {
    "duration": 47,
    "start_time": "2022-05-13T10:40:33.863Z"
   },
   {
    "duration": 21021,
    "start_time": "2022-05-13T10:40:41.657Z"
   },
   {
    "duration": 98,
    "start_time": "2022-05-13T10:48:26.164Z"
   },
   {
    "duration": 110,
    "start_time": "2022-05-13T10:48:45.351Z"
   },
   {
    "duration": 90,
    "start_time": "2022-05-13T10:49:06.290Z"
   },
   {
    "duration": 109,
    "start_time": "2022-05-13T10:50:18.523Z"
   },
   {
    "duration": 97,
    "start_time": "2022-05-13T10:50:28.477Z"
   },
   {
    "duration": 47,
    "start_time": "2022-05-13T10:50:42.099Z"
   },
   {
    "duration": 21702,
    "start_time": "2022-05-13T10:50:55.054Z"
   },
   {
    "duration": 2359,
    "start_time": "2022-05-13T10:52:11.732Z"
   },
   {
    "duration": 112722,
    "start_time": "2022-05-13T10:53:03.393Z"
   },
   {
    "duration": 68,
    "start_time": "2022-05-13T10:56:45.048Z"
   },
   {
    "duration": 5498,
    "start_time": "2022-05-13T10:57:13.820Z"
   },
   {
    "duration": 6074,
    "start_time": "2022-05-13T10:57:39.287Z"
   },
   {
    "duration": 46,
    "start_time": "2022-05-13T11:00:29.351Z"
   },
   {
    "duration": 69,
    "start_time": "2022-05-13T11:02:00.245Z"
   },
   {
    "duration": 63,
    "start_time": "2022-05-13T11:02:18.392Z"
   },
   {
    "duration": 70,
    "start_time": "2022-05-13T11:02:26.639Z"
   },
   {
    "duration": 48,
    "start_time": "2022-05-13T11:04:33.036Z"
   },
   {
    "duration": 281541,
    "start_time": "2022-05-13T11:05:48.524Z"
   },
   {
    "duration": 7300,
    "start_time": "2022-05-13T11:10:32.807Z"
   },
   {
    "duration": 9820,
    "start_time": "2022-05-13T11:10:45.060Z"
   },
   {
    "duration": 151,
    "start_time": "2022-05-13T11:10:56.327Z"
   },
   {
    "duration": 2144,
    "start_time": "2022-05-13T11:11:56.113Z"
   },
   {
    "duration": 3118,
    "start_time": "2022-05-13T11:11:58.261Z"
   },
   {
    "duration": 177,
    "start_time": "2022-05-13T11:12:01.381Z"
   },
   {
    "duration": 393,
    "start_time": "2022-05-13T11:12:01.561Z"
   },
   {
    "duration": 117,
    "start_time": "2022-05-13T11:12:01.956Z"
   },
   {
    "duration": 171,
    "start_time": "2022-05-13T11:12:02.075Z"
   },
   {
    "duration": 115,
    "start_time": "2022-05-13T11:12:02.248Z"
   },
   {
    "duration": 115,
    "start_time": "2022-05-13T11:12:02.365Z"
   },
   {
    "duration": 21,
    "start_time": "2022-05-13T11:12:02.482Z"
   },
   {
    "duration": 101,
    "start_time": "2022-05-13T11:12:02.506Z"
   },
   {
    "duration": 102,
    "start_time": "2022-05-13T11:12:02.609Z"
   },
   {
    "duration": 22,
    "start_time": "2022-05-13T11:12:02.713Z"
   },
   {
    "duration": 102,
    "start_time": "2022-05-13T11:12:02.737Z"
   },
   {
    "duration": 140,
    "start_time": "2022-05-13T11:12:02.842Z"
   },
   {
    "duration": 24,
    "start_time": "2022-05-13T11:12:02.985Z"
   },
   {
    "duration": 95,
    "start_time": "2022-05-13T11:12:03.011Z"
   },
   {
    "duration": 108,
    "start_time": "2022-05-13T11:12:03.108Z"
   },
   {
    "duration": 35,
    "start_time": "2022-05-13T11:12:03.218Z"
   },
   {
    "duration": 909,
    "start_time": "2022-05-13T11:12:03.256Z"
   },
   {
    "duration": 24,
    "start_time": "2022-05-13T11:12:04.167Z"
   },
   {
    "duration": 916,
    "start_time": "2022-05-13T11:12:04.193Z"
   },
   {
    "duration": 125,
    "start_time": "2022-05-13T11:12:05.111Z"
   },
   {
    "duration": 220,
    "start_time": "2022-05-13T11:12:05.238Z"
   },
   {
    "duration": 47,
    "start_time": "2022-05-13T11:12:05.461Z"
   },
   {
    "duration": 82,
    "start_time": "2022-05-13T11:12:05.510Z"
   },
   {
    "duration": 280,
    "start_time": "2022-05-13T11:12:05.594Z"
   },
   {
    "duration": 18,
    "start_time": "2022-05-13T11:12:05.877Z"
   },
   {
    "duration": 28,
    "start_time": "2022-05-13T11:12:05.902Z"
   },
   {
    "duration": 105,
    "start_time": "2022-05-13T11:12:05.954Z"
   },
   {
    "duration": 230,
    "start_time": "2022-05-13T11:12:06.061Z"
   },
   {
    "duration": 22,
    "start_time": "2022-05-13T11:12:06.294Z"
   },
   {
    "duration": 75,
    "start_time": "2022-05-13T11:12:06.318Z"
   },
   {
    "duration": 328,
    "start_time": "2022-05-13T11:12:06.396Z"
   },
   {
    "duration": 99,
    "start_time": "2022-05-13T11:12:06.726Z"
   },
   {
    "duration": 96,
    "start_time": "2022-05-13T11:12:06.827Z"
   },
   {
    "duration": 28,
    "start_time": "2022-05-13T11:12:06.926Z"
   },
   {
    "duration": 62,
    "start_time": "2022-05-13T11:12:06.956Z"
   },
   {
    "duration": 238,
    "start_time": "2022-05-13T11:12:07.020Z"
   },
   {
    "duration": 109,
    "start_time": "2022-05-13T11:12:07.261Z"
   },
   {
    "duration": 445,
    "start_time": "2022-05-13T11:12:07.373Z"
   },
   {
    "duration": 523,
    "start_time": "2022-05-13T11:12:07.820Z"
   },
   {
    "duration": 10,
    "start_time": "2022-05-13T11:12:08.345Z"
   },
   {
    "duration": 33,
    "start_time": "2022-05-13T11:12:08.357Z"
   },
   {
    "duration": 25,
    "start_time": "2022-05-13T11:12:08.392Z"
   },
   {
    "duration": 1569,
    "start_time": "2022-05-13T11:12:08.419Z"
   },
   {
    "duration": 250,
    "start_time": "2022-05-13T11:12:09.990Z"
   },
   {
    "duration": 83,
    "start_time": "2022-05-13T11:12:10.242Z"
   },
   {
    "duration": 35,
    "start_time": "2022-05-13T11:12:10.327Z"
   },
   {
    "duration": 6,
    "start_time": "2022-05-13T11:12:10.364Z"
   },
   {
    "duration": 5,
    "start_time": "2022-05-13T11:12:10.372Z"
   },
   {
    "duration": 5,
    "start_time": "2022-05-13T11:12:10.380Z"
   },
   {
    "duration": 22627,
    "start_time": "2022-05-13T11:12:10.387Z"
   },
   {
    "duration": 238775,
    "start_time": "2022-05-13T11:12:33.017Z"
   },
   {
    "duration": 1277,
    "start_time": "2022-05-13T11:16:31.794Z"
   },
   {
    "duration": 32,
    "start_time": "2022-05-13T11:16:33.154Z"
   },
   {
    "duration": 197,
    "start_time": "2022-05-13T11:16:33.189Z"
   },
   {
    "duration": 72823,
    "start_time": "2022-05-13T11:16:33.388Z"
   },
   {
    "duration": 406646,
    "start_time": "2022-05-13T11:17:46.214Z"
   },
   {
    "duration": 519,
    "start_time": "2022-05-13T11:30:00.358Z"
   },
   {
    "duration": 0,
    "start_time": "2022-05-13T11:33:26.771Z"
   },
   {
    "duration": 17,
    "start_time": "2022-05-13T11:33:30.289Z"
   },
   {
    "duration": 6,
    "start_time": "2022-05-13T11:34:19.625Z"
   },
   {
    "duration": 21,
    "start_time": "2022-05-13T11:34:23.839Z"
   },
   {
    "duration": 522,
    "start_time": "2022-05-13T11:34:48.957Z"
   },
   {
    "duration": 4469,
    "start_time": "2022-05-13T11:35:39.907Z"
   },
   {
    "duration": 50,
    "start_time": "2022-05-13T11:38:04.316Z"
   },
   {
    "duration": 72649,
    "start_time": "2022-05-13T11:38:20.487Z"
   },
   {
    "duration": 47,
    "start_time": "2022-05-13T11:44:30.178Z"
   },
   {
    "duration": 160,
    "start_time": "2022-05-13T11:45:09.201Z"
   },
   {
    "duration": 46,
    "start_time": "2022-05-13T11:45:21.445Z"
   },
   {
    "duration": 7,
    "start_time": "2022-05-13T11:51:47.711Z"
   },
   {
    "duration": 115,
    "start_time": "2022-05-13T11:52:27.808Z"
   },
   {
    "duration": 113,
    "start_time": "2022-05-13T11:53:05.172Z"
   },
   {
    "duration": 161,
    "start_time": "2022-05-13T11:55:24.262Z"
   },
   {
    "duration": 26,
    "start_time": "2022-05-13T11:55:42.841Z"
   },
   {
    "duration": 1637,
    "start_time": "2022-05-13T11:55:45.785Z"
   },
   {
    "duration": 243,
    "start_time": "2022-05-13T11:55:49.622Z"
   },
   {
    "duration": 72,
    "start_time": "2022-05-13T11:55:51.683Z"
   },
   {
    "duration": 29,
    "start_time": "2022-05-13T11:55:53.362Z"
   },
   {
    "duration": 111,
    "start_time": "2022-05-13T11:55:57.256Z"
   },
   {
    "duration": 18381,
    "start_time": "2022-05-13T11:56:58.973Z"
   },
   {
    "duration": 2200,
    "start_time": "2022-05-13T11:58:13.559Z"
   },
   {
    "duration": 3064,
    "start_time": "2022-05-13T11:58:15.762Z"
   },
   {
    "duration": 302,
    "start_time": "2022-05-13T11:58:18.828Z"
   },
   {
    "duration": 485,
    "start_time": "2022-05-13T11:58:19.134Z"
   },
   {
    "duration": 120,
    "start_time": "2022-05-13T11:58:19.621Z"
   },
   {
    "duration": 171,
    "start_time": "2022-05-13T11:58:19.752Z"
   },
   {
    "duration": 122,
    "start_time": "2022-05-13T11:58:19.925Z"
   },
   {
    "duration": 121,
    "start_time": "2022-05-13T11:58:20.052Z"
   },
   {
    "duration": 27,
    "start_time": "2022-05-13T11:58:20.176Z"
   },
   {
    "duration": 102,
    "start_time": "2022-05-13T11:58:20.207Z"
   },
   {
    "duration": 110,
    "start_time": "2022-05-13T11:58:20.311Z"
   },
   {
    "duration": 32,
    "start_time": "2022-05-13T11:58:20.423Z"
   },
   {
    "duration": 95,
    "start_time": "2022-05-13T11:58:20.457Z"
   },
   {
    "duration": 157,
    "start_time": "2022-05-13T11:58:20.554Z"
   },
   {
    "duration": 22,
    "start_time": "2022-05-13T11:58:20.713Z"
   },
   {
    "duration": 73,
    "start_time": "2022-05-13T11:58:20.751Z"
   },
   {
    "duration": 112,
    "start_time": "2022-05-13T11:58:20.826Z"
   },
   {
    "duration": 30,
    "start_time": "2022-05-13T11:58:20.940Z"
   },
   {
    "duration": 914,
    "start_time": "2022-05-13T11:58:20.972Z"
   },
   {
    "duration": 23,
    "start_time": "2022-05-13T11:58:21.889Z"
   },
   {
    "duration": 821,
    "start_time": "2022-05-13T11:58:21.914Z"
   },
   {
    "duration": 153,
    "start_time": "2022-05-13T11:58:22.738Z"
   },
   {
    "duration": 218,
    "start_time": "2022-05-13T11:58:22.893Z"
   },
   {
    "duration": 61,
    "start_time": "2022-05-13T11:58:23.114Z"
   },
   {
    "duration": 58,
    "start_time": "2022-05-13T11:58:23.177Z"
   },
   {
    "duration": 226,
    "start_time": "2022-05-13T11:58:23.238Z"
   },
   {
    "duration": 17,
    "start_time": "2022-05-13T11:58:23.467Z"
   },
   {
    "duration": 19,
    "start_time": "2022-05-13T11:58:23.490Z"
   },
   {
    "duration": 127,
    "start_time": "2022-05-13T11:58:23.512Z"
   },
   {
    "duration": 201,
    "start_time": "2022-05-13T11:58:23.642Z"
   },
   {
    "duration": 19,
    "start_time": "2022-05-13T11:58:23.851Z"
   },
   {
    "duration": 51,
    "start_time": "2022-05-13T11:58:23.873Z"
   },
   {
    "duration": 259,
    "start_time": "2022-05-13T11:58:23.926Z"
   },
   {
    "duration": 101,
    "start_time": "2022-05-13T11:58:24.188Z"
   },
   {
    "duration": 100,
    "start_time": "2022-05-13T11:58:24.292Z"
   },
   {
    "duration": 23,
    "start_time": "2022-05-13T11:58:24.394Z"
   },
   {
    "duration": 77,
    "start_time": "2022-05-13T11:58:24.419Z"
   },
   {
    "duration": 227,
    "start_time": "2022-05-13T11:58:24.498Z"
   },
   {
    "duration": 116,
    "start_time": "2022-05-13T11:58:24.727Z"
   },
   {
    "duration": 416,
    "start_time": "2022-05-13T11:58:24.845Z"
   },
   {
    "duration": 489,
    "start_time": "2022-05-13T11:58:25.263Z"
   },
   {
    "duration": 7,
    "start_time": "2022-05-13T11:58:25.754Z"
   },
   {
    "duration": 34,
    "start_time": "2022-05-13T11:58:25.764Z"
   },
   {
    "duration": 55,
    "start_time": "2022-05-13T11:58:25.801Z"
   },
   {
    "duration": 2585,
    "start_time": "2022-05-13T11:58:25.859Z"
   },
   {
    "duration": 372,
    "start_time": "2022-05-13T11:58:28.451Z"
   },
   {
    "duration": 93,
    "start_time": "2022-05-13T11:58:28.826Z"
   },
   {
    "duration": 36,
    "start_time": "2022-05-13T11:58:28.922Z"
   },
   {
    "duration": 6,
    "start_time": "2022-05-13T11:58:28.961Z"
   },
   {
    "duration": 5,
    "start_time": "2022-05-13T11:58:28.969Z"
   },
   {
    "duration": 6,
    "start_time": "2022-05-13T11:58:28.977Z"
   },
   {
    "duration": 30418,
    "start_time": "2022-05-13T11:58:28.985Z"
   },
   {
    "duration": 179418,
    "start_time": "2022-05-13T11:58:59.405Z"
   },
   {
    "duration": 868,
    "start_time": "2022-05-13T12:01:58.825Z"
   },
   {
    "duration": 108,
    "start_time": "2022-05-13T12:01:59.754Z"
   },
   {
    "duration": 174,
    "start_time": "2022-05-13T12:01:59.865Z"
   },
   {
    "duration": 334,
    "start_time": "2022-05-13T12:02:00.042Z"
   },
   {
    "duration": 0,
    "start_time": "2022-05-13T12:02:00.379Z"
   },
   {
    "duration": 0,
    "start_time": "2022-05-13T12:02:00.381Z"
   },
   {
    "duration": 2337,
    "start_time": "2022-05-13T12:03:54.172Z"
   },
   {
    "duration": 2231,
    "start_time": "2022-05-13T12:03:56.512Z"
   },
   {
    "duration": 176,
    "start_time": "2022-05-13T12:03:58.752Z"
   },
   {
    "duration": 398,
    "start_time": "2022-05-13T12:03:58.930Z"
   },
   {
    "duration": 122,
    "start_time": "2022-05-13T12:03:59.332Z"
   },
   {
    "duration": 168,
    "start_time": "2022-05-13T12:03:59.457Z"
   },
   {
    "duration": 119,
    "start_time": "2022-05-13T12:03:59.627Z"
   },
   {
    "duration": 118,
    "start_time": "2022-05-13T12:03:59.748Z"
   },
   {
    "duration": 24,
    "start_time": "2022-05-13T12:03:59.868Z"
   },
   {
    "duration": 104,
    "start_time": "2022-05-13T12:03:59.895Z"
   },
   {
    "duration": 114,
    "start_time": "2022-05-13T12:04:00.002Z"
   },
   {
    "duration": 22,
    "start_time": "2022-05-13T12:04:00.119Z"
   },
   {
    "duration": 76,
    "start_time": "2022-05-13T12:04:00.152Z"
   },
   {
    "duration": 152,
    "start_time": "2022-05-13T12:04:00.251Z"
   },
   {
    "duration": 24,
    "start_time": "2022-05-13T12:04:00.405Z"
   },
   {
    "duration": 90,
    "start_time": "2022-05-13T12:04:00.431Z"
   },
   {
    "duration": 113,
    "start_time": "2022-05-13T12:04:00.523Z"
   },
   {
    "duration": 24,
    "start_time": "2022-05-13T12:04:00.639Z"
   },
   {
    "duration": 1306,
    "start_time": "2022-05-13T12:04:00.666Z"
   },
   {
    "duration": 25,
    "start_time": "2022-05-13T12:04:01.974Z"
   },
   {
    "duration": 844,
    "start_time": "2022-05-13T12:04:02.001Z"
   },
   {
    "duration": 122,
    "start_time": "2022-05-13T12:04:02.851Z"
   },
   {
    "duration": 226,
    "start_time": "2022-05-13T12:04:02.975Z"
   },
   {
    "duration": 59,
    "start_time": "2022-05-13T12:04:03.203Z"
   },
   {
    "duration": 56,
    "start_time": "2022-05-13T12:04:03.264Z"
   },
   {
    "duration": 231,
    "start_time": "2022-05-13T12:04:03.323Z"
   },
   {
    "duration": 17,
    "start_time": "2022-05-13T12:04:03.556Z"
   },
   {
    "duration": 16,
    "start_time": "2022-05-13T12:04:03.575Z"
   },
   {
    "duration": 128,
    "start_time": "2022-05-13T12:04:03.593Z"
   },
   {
    "duration": 198,
    "start_time": "2022-05-13T12:04:03.724Z"
   },
   {
    "duration": 31,
    "start_time": "2022-05-13T12:04:03.925Z"
   },
   {
    "duration": 49,
    "start_time": "2022-05-13T12:04:03.958Z"
   },
   {
    "duration": 246,
    "start_time": "2022-05-13T12:04:04.010Z"
   },
   {
    "duration": 110,
    "start_time": "2022-05-13T12:04:04.259Z"
   },
   {
    "duration": 100,
    "start_time": "2022-05-13T12:04:04.372Z"
   },
   {
    "duration": 22,
    "start_time": "2022-05-13T12:04:04.475Z"
   },
   {
    "duration": 82,
    "start_time": "2022-05-13T12:04:04.500Z"
   },
   {
    "duration": 229,
    "start_time": "2022-05-13T12:04:04.585Z"
   },
   {
    "duration": 102,
    "start_time": "2022-05-13T12:04:04.817Z"
   },
   {
    "duration": 432,
    "start_time": "2022-05-13T12:04:04.922Z"
   },
   {
    "duration": 547,
    "start_time": "2022-05-13T12:04:05.359Z"
   },
   {
    "duration": 6,
    "start_time": "2022-05-13T12:04:05.908Z"
   },
   {
    "duration": 51,
    "start_time": "2022-05-13T12:04:05.916Z"
   },
   {
    "duration": 25,
    "start_time": "2022-05-13T12:04:05.970Z"
   },
   {
    "duration": 1715,
    "start_time": "2022-05-13T12:04:05.997Z"
   },
   {
    "duration": 251,
    "start_time": "2022-05-13T12:04:07.714Z"
   },
   {
    "duration": 89,
    "start_time": "2022-05-13T12:04:07.967Z"
   },
   {
    "duration": 24,
    "start_time": "2022-05-13T12:04:08.058Z"
   },
   {
    "duration": 6,
    "start_time": "2022-05-13T12:04:08.085Z"
   },
   {
    "duration": 6,
    "start_time": "2022-05-13T12:04:08.094Z"
   },
   {
    "duration": 5,
    "start_time": "2022-05-13T12:04:08.103Z"
   },
   {
    "duration": 6967,
    "start_time": "2022-05-13T12:04:43.124Z"
   },
   {
    "duration": 6846,
    "start_time": "2022-05-13T12:04:51.156Z"
   },
   {
    "duration": 6164,
    "start_time": "2022-05-13T12:05:03.199Z"
   },
   {
    "duration": 6065,
    "start_time": "2022-05-13T12:05:19.487Z"
   },
   {
    "duration": 4,
    "start_time": "2022-05-13T12:09:13.001Z"
   },
   {
    "duration": 6159,
    "start_time": "2022-05-13T12:09:15.912Z"
   },
   {
    "duration": 1193,
    "start_time": "2022-05-13T12:09:31.059Z"
   },
   {
    "duration": 4,
    "start_time": "2022-05-13T12:11:07.468Z"
   },
   {
    "duration": 184,
    "start_time": "2022-05-13T12:12:34.563Z"
   },
   {
    "duration": 2246,
    "start_time": "2022-05-13T12:13:03.114Z"
   },
   {
    "duration": 2243,
    "start_time": "2022-05-13T12:13:05.363Z"
   },
   {
    "duration": 181,
    "start_time": "2022-05-13T12:13:07.609Z"
   },
   {
    "duration": 416,
    "start_time": "2022-05-13T12:13:07.793Z"
   },
   {
    "duration": 123,
    "start_time": "2022-05-13T12:13:08.212Z"
   },
   {
    "duration": 168,
    "start_time": "2022-05-13T12:13:08.338Z"
   },
   {
    "duration": 121,
    "start_time": "2022-05-13T12:13:08.509Z"
   },
   {
    "duration": 119,
    "start_time": "2022-05-13T12:13:08.633Z"
   },
   {
    "duration": 23,
    "start_time": "2022-05-13T12:13:08.754Z"
   },
   {
    "duration": 107,
    "start_time": "2022-05-13T12:13:08.779Z"
   },
   {
    "duration": 173,
    "start_time": "2022-05-13T12:13:08.889Z"
   },
   {
    "duration": 36,
    "start_time": "2022-05-13T12:13:09.065Z"
   },
   {
    "duration": 91,
    "start_time": "2022-05-13T12:13:09.103Z"
   },
   {
    "duration": 148,
    "start_time": "2022-05-13T12:13:09.198Z"
   },
   {
    "duration": 21,
    "start_time": "2022-05-13T12:13:09.349Z"
   },
   {
    "duration": 92,
    "start_time": "2022-05-13T12:13:09.372Z"
   },
   {
    "duration": 106,
    "start_time": "2022-05-13T12:13:09.466Z"
   },
   {
    "duration": 21,
    "start_time": "2022-05-13T12:13:09.574Z"
   },
   {
    "duration": 907,
    "start_time": "2022-05-13T12:13:09.597Z"
   },
   {
    "duration": 23,
    "start_time": "2022-05-13T12:13:10.506Z"
   },
   {
    "duration": 861,
    "start_time": "2022-05-13T12:13:10.532Z"
   },
   {
    "duration": 125,
    "start_time": "2022-05-13T12:13:11.395Z"
   },
   {
    "duration": 334,
    "start_time": "2022-05-13T12:13:11.523Z"
   },
   {
    "duration": 47,
    "start_time": "2022-05-13T12:13:11.860Z"
   },
   {
    "duration": 81,
    "start_time": "2022-05-13T12:13:11.909Z"
   },
   {
    "duration": 217,
    "start_time": "2022-05-13T12:13:11.993Z"
   },
   {
    "duration": 19,
    "start_time": "2022-05-13T12:13:12.213Z"
   },
   {
    "duration": 17,
    "start_time": "2022-05-13T12:13:12.252Z"
   },
   {
    "duration": 122,
    "start_time": "2022-05-13T12:13:12.272Z"
   },
   {
    "duration": 202,
    "start_time": "2022-05-13T12:13:12.396Z"
   },
   {
    "duration": 18,
    "start_time": "2022-05-13T12:13:12.600Z"
   },
   {
    "duration": 70,
    "start_time": "2022-05-13T12:13:12.620Z"
   },
   {
    "duration": 234,
    "start_time": "2022-05-13T12:13:12.692Z"
   },
   {
    "duration": 105,
    "start_time": "2022-05-13T12:13:12.929Z"
   },
   {
    "duration": 92,
    "start_time": "2022-05-13T12:13:13.036Z"
   },
   {
    "duration": 30,
    "start_time": "2022-05-13T12:13:13.130Z"
   },
   {
    "duration": 54,
    "start_time": "2022-05-13T12:13:13.163Z"
   },
   {
    "duration": 240,
    "start_time": "2022-05-13T12:13:13.220Z"
   },
   {
    "duration": 110,
    "start_time": "2022-05-13T12:13:13.463Z"
   },
   {
    "duration": 429,
    "start_time": "2022-05-13T12:13:13.576Z"
   },
   {
    "duration": 498,
    "start_time": "2022-05-13T12:13:14.011Z"
   },
   {
    "duration": 5,
    "start_time": "2022-05-13T12:13:14.512Z"
   },
   {
    "duration": 51,
    "start_time": "2022-05-13T12:13:14.519Z"
   },
   {
    "duration": 24,
    "start_time": "2022-05-13T12:13:14.572Z"
   },
   {
    "duration": 1680,
    "start_time": "2022-05-13T12:13:14.598Z"
   },
   {
    "duration": 252,
    "start_time": "2022-05-13T12:13:16.281Z"
   },
   {
    "duration": 85,
    "start_time": "2022-05-13T12:13:16.536Z"
   },
   {
    "duration": 36,
    "start_time": "2022-05-13T12:13:16.623Z"
   },
   {
    "duration": 6,
    "start_time": "2022-05-13T12:13:16.661Z"
   },
   {
    "duration": 8,
    "start_time": "2022-05-13T12:13:16.669Z"
   },
   {
    "duration": 5,
    "start_time": "2022-05-13T12:13:16.680Z"
   },
   {
    "duration": 10,
    "start_time": "2022-05-13T12:13:16.687Z"
   },
   {
    "duration": 7172,
    "start_time": "2022-05-13T12:13:27.176Z"
   },
   {
    "duration": 6267,
    "start_time": "2022-05-13T12:13:40.914Z"
   },
   {
    "duration": 6165,
    "start_time": "2022-05-13T12:14:35.810Z"
   },
   {
    "duration": 4,
    "start_time": "2022-05-13T12:14:50.077Z"
   },
   {
    "duration": 4,
    "start_time": "2022-05-13T12:14:58.054Z"
   },
   {
    "duration": 6713,
    "start_time": "2022-05-13T12:15:32.031Z"
   },
   {
    "duration": 3,
    "start_time": "2022-05-13T12:15:57.209Z"
   },
   {
    "duration": 6395,
    "start_time": "2022-05-13T12:15:58.974Z"
   },
   {
    "duration": 5,
    "start_time": "2022-05-13T12:16:08.453Z"
   },
   {
    "duration": 2366,
    "start_time": "2022-05-13T12:21:59.938Z"
   },
   {
    "duration": 2465,
    "start_time": "2022-05-13T12:22:02.307Z"
   },
   {
    "duration": 316,
    "start_time": "2022-05-13T12:22:04.775Z"
   },
   {
    "duration": 680,
    "start_time": "2022-05-13T12:22:05.096Z"
   },
   {
    "duration": 225,
    "start_time": "2022-05-13T12:22:05.779Z"
   },
   {
    "duration": 257,
    "start_time": "2022-05-13T12:22:06.007Z"
   },
   {
    "duration": 221,
    "start_time": "2022-05-13T12:22:06.267Z"
   },
   {
    "duration": 167,
    "start_time": "2022-05-13T12:22:06.491Z"
   },
   {
    "duration": 27,
    "start_time": "2022-05-13T12:22:06.662Z"
   },
   {
    "duration": 116,
    "start_time": "2022-05-13T12:22:06.693Z"
   },
   {
    "duration": 164,
    "start_time": "2022-05-13T12:22:06.812Z"
   },
   {
    "duration": 36,
    "start_time": "2022-05-13T12:22:06.979Z"
   },
   {
    "duration": 121,
    "start_time": "2022-05-13T12:22:07.018Z"
   },
   {
    "duration": 218,
    "start_time": "2022-05-13T12:22:07.143Z"
   },
   {
    "duration": 22,
    "start_time": "2022-05-13T12:22:07.364Z"
   },
   {
    "duration": 99,
    "start_time": "2022-05-13T12:22:07.389Z"
   },
   {
    "duration": 119,
    "start_time": "2022-05-13T12:22:07.490Z"
   },
   {
    "duration": 22,
    "start_time": "2022-05-13T12:22:07.611Z"
   },
   {
    "duration": 964,
    "start_time": "2022-05-13T12:22:07.635Z"
   },
   {
    "duration": 25,
    "start_time": "2022-05-13T12:22:08.601Z"
   },
   {
    "duration": 909,
    "start_time": "2022-05-13T12:22:08.628Z"
   },
   {
    "duration": 166,
    "start_time": "2022-05-13T12:22:09.539Z"
   },
   {
    "duration": 352,
    "start_time": "2022-05-13T12:22:09.709Z"
   },
   {
    "duration": 52,
    "start_time": "2022-05-13T12:22:10.065Z"
   },
   {
    "duration": 88,
    "start_time": "2022-05-13T12:22:10.120Z"
   },
   {
    "duration": 336,
    "start_time": "2022-05-13T12:22:10.211Z"
   },
   {
    "duration": 19,
    "start_time": "2022-05-13T12:22:10.553Z"
   },
   {
    "duration": 26,
    "start_time": "2022-05-13T12:22:10.579Z"
   },
   {
    "duration": 122,
    "start_time": "2022-05-13T12:22:10.609Z"
   },
   {
    "duration": 332,
    "start_time": "2022-05-13T12:22:10.733Z"
   },
   {
    "duration": 23,
    "start_time": "2022-05-13T12:22:11.068Z"
   },
   {
    "duration": 68,
    "start_time": "2022-05-13T12:22:11.093Z"
   },
   {
    "duration": 277,
    "start_time": "2022-05-13T12:22:11.164Z"
   },
   {
    "duration": 93,
    "start_time": "2022-05-13T12:22:11.443Z"
   },
   {
    "duration": 92,
    "start_time": "2022-05-13T12:22:11.539Z"
   },
   {
    "duration": 28,
    "start_time": "2022-05-13T12:22:11.634Z"
   },
   {
    "duration": 120,
    "start_time": "2022-05-13T12:22:11.665Z"
   },
   {
    "duration": 414,
    "start_time": "2022-05-13T12:22:11.788Z"
   },
   {
    "duration": 141,
    "start_time": "2022-05-13T12:22:12.252Z"
   },
   {
    "duration": 479,
    "start_time": "2022-05-13T12:22:12.395Z"
   },
   {
    "duration": 583,
    "start_time": "2022-05-13T12:22:12.877Z"
   },
   {
    "duration": 7,
    "start_time": "2022-05-13T12:22:13.462Z"
   },
   {
    "duration": 36,
    "start_time": "2022-05-13T12:22:13.472Z"
   },
   {
    "duration": 53,
    "start_time": "2022-05-13T12:22:13.511Z"
   },
   {
    "duration": 1634,
    "start_time": "2022-05-13T12:22:13.567Z"
   },
   {
    "duration": 253,
    "start_time": "2022-05-13T12:22:15.203Z"
   },
   {
    "duration": 69,
    "start_time": "2022-05-13T12:22:15.458Z"
   },
   {
    "duration": 38,
    "start_time": "2022-05-13T12:22:15.530Z"
   },
   {
    "duration": 6,
    "start_time": "2022-05-13T12:22:15.570Z"
   },
   {
    "duration": 5,
    "start_time": "2022-05-13T12:22:15.578Z"
   },
   {
    "duration": 13,
    "start_time": "2022-05-13T12:22:15.586Z"
   },
   {
    "duration": 13,
    "start_time": "2022-05-13T12:22:15.601Z"
   },
   {
    "duration": 6321,
    "start_time": "2022-05-13T12:22:15.617Z"
   },
   {
    "duration": 177536,
    "start_time": "2022-05-13T12:22:21.941Z"
   },
   {
    "duration": 974,
    "start_time": "2022-05-13T12:25:19.480Z"
   },
   {
    "duration": 111,
    "start_time": "2022-05-13T12:25:20.457Z"
   },
   {
    "duration": 155,
    "start_time": "2022-05-13T12:25:20.571Z"
   },
   {
    "duration": 58982,
    "start_time": "2022-05-13T12:25:20.728Z"
   },
   {
    "duration": 25052,
    "start_time": "2022-05-13T12:26:19.712Z"
   },
   {
    "duration": 201,
    "start_time": "2022-05-13T12:26:44.853Z"
   },
   {
    "duration": 8,
    "start_time": "2022-05-13T12:27:37.453Z"
   },
   {
    "duration": 12,
    "start_time": "2022-05-13T12:29:20.510Z"
   },
   {
    "duration": 17,
    "start_time": "2022-05-13T12:29:28.117Z"
   },
   {
    "duration": 2503,
    "start_time": "2022-05-13T12:29:43.600Z"
   },
   {
    "duration": 2221,
    "start_time": "2022-05-13T12:29:46.106Z"
   },
   {
    "duration": 182,
    "start_time": "2022-05-13T12:29:48.330Z"
   },
   {
    "duration": 401,
    "start_time": "2022-05-13T12:29:48.515Z"
   },
   {
    "duration": 126,
    "start_time": "2022-05-13T12:29:48.918Z"
   },
   {
    "duration": 169,
    "start_time": "2022-05-13T12:29:49.051Z"
   },
   {
    "duration": 122,
    "start_time": "2022-05-13T12:29:49.222Z"
   },
   {
    "duration": 110,
    "start_time": "2022-05-13T12:29:49.351Z"
   },
   {
    "duration": 22,
    "start_time": "2022-05-13T12:29:49.463Z"
   },
   {
    "duration": 100,
    "start_time": "2022-05-13T12:29:49.489Z"
   },
   {
    "duration": 104,
    "start_time": "2022-05-13T12:29:49.592Z"
   },
   {
    "duration": 21,
    "start_time": "2022-05-13T12:29:49.698Z"
   },
   {
    "duration": 89,
    "start_time": "2022-05-13T12:29:49.722Z"
   },
   {
    "duration": 148,
    "start_time": "2022-05-13T12:29:49.813Z"
   },
   {
    "duration": 23,
    "start_time": "2022-05-13T12:29:49.963Z"
   },
   {
    "duration": 89,
    "start_time": "2022-05-13T12:29:49.988Z"
   },
   {
    "duration": 109,
    "start_time": "2022-05-13T12:29:50.079Z"
   },
   {
    "duration": 22,
    "start_time": "2022-05-13T12:29:50.190Z"
   },
   {
    "duration": 927,
    "start_time": "2022-05-13T12:29:50.214Z"
   },
   {
    "duration": 28,
    "start_time": "2022-05-13T12:29:51.143Z"
   },
   {
    "duration": 838,
    "start_time": "2022-05-13T12:29:51.174Z"
   },
   {
    "duration": 116,
    "start_time": "2022-05-13T12:29:52.014Z"
   },
   {
    "duration": 228,
    "start_time": "2022-05-13T12:29:52.132Z"
   },
   {
    "duration": 46,
    "start_time": "2022-05-13T12:29:52.362Z"
   },
   {
    "duration": 79,
    "start_time": "2022-05-13T12:29:52.411Z"
   },
   {
    "duration": 226,
    "start_time": "2022-05-13T12:29:52.492Z"
   },
   {
    "duration": 32,
    "start_time": "2022-05-13T12:29:52.721Z"
   },
   {
    "duration": 20,
    "start_time": "2022-05-13T12:29:52.760Z"
   },
   {
    "duration": 122,
    "start_time": "2022-05-13T12:29:52.782Z"
   },
   {
    "duration": 200,
    "start_time": "2022-05-13T12:29:52.906Z"
   },
   {
    "duration": 18,
    "start_time": "2022-05-13T12:29:53.108Z"
   },
   {
    "duration": 68,
    "start_time": "2022-05-13T12:29:53.129Z"
   },
   {
    "duration": 238,
    "start_time": "2022-05-13T12:29:53.199Z"
   },
   {
    "duration": 92,
    "start_time": "2022-05-13T12:29:53.439Z"
   },
   {
    "duration": 98,
    "start_time": "2022-05-13T12:29:53.533Z"
   },
   {
    "duration": 36,
    "start_time": "2022-05-13T12:29:53.634Z"
   },
   {
    "duration": 61,
    "start_time": "2022-05-13T12:29:53.672Z"
   },
   {
    "duration": 241,
    "start_time": "2022-05-13T12:29:53.736Z"
   },
   {
    "duration": 105,
    "start_time": "2022-05-13T12:29:53.979Z"
   },
   {
    "duration": 536,
    "start_time": "2022-05-13T12:29:54.087Z"
   },
   {
    "duration": 502,
    "start_time": "2022-05-13T12:29:54.626Z"
   },
   {
    "duration": 6,
    "start_time": "2022-05-13T12:29:55.130Z"
   },
   {
    "duration": 32,
    "start_time": "2022-05-13T12:29:55.151Z"
   },
   {
    "duration": 26,
    "start_time": "2022-05-13T12:29:55.185Z"
   },
   {
    "duration": 1599,
    "start_time": "2022-05-13T12:29:55.213Z"
   },
   {
    "duration": 251,
    "start_time": "2022-05-13T12:29:56.815Z"
   },
   {
    "duration": 66,
    "start_time": "2022-05-13T12:29:57.068Z"
   },
   {
    "duration": 35,
    "start_time": "2022-05-13T12:29:57.136Z"
   },
   {
    "duration": 7,
    "start_time": "2022-05-13T12:29:57.174Z"
   },
   {
    "duration": 4,
    "start_time": "2022-05-13T12:29:57.184Z"
   },
   {
    "duration": 18,
    "start_time": "2022-05-13T12:29:57.191Z"
   },
   {
    "duration": 10,
    "start_time": "2022-05-13T12:29:57.211Z"
   },
   {
    "duration": 6231,
    "start_time": "2022-05-13T12:29:57.223Z"
   },
   {
    "duration": 178941,
    "start_time": "2022-05-13T12:30:03.457Z"
   },
   {
    "duration": 1169,
    "start_time": "2022-05-13T12:33:02.400Z"
   },
   {
    "duration": 24,
    "start_time": "2022-05-13T12:33:03.652Z"
   },
   {
    "duration": 195,
    "start_time": "2022-05-13T12:33:03.678Z"
   },
   {
    "duration": 61129,
    "start_time": "2022-05-13T12:33:03.876Z"
   },
   {
    "duration": 794361,
    "start_time": "2022-05-13T12:34:05.007Z"
   },
   {
    "duration": 254,
    "start_time": "2022-05-13T12:47:19.371Z"
   },
   {
    "duration": 0,
    "start_time": "2022-05-13T12:47:19.628Z"
   },
   {
    "duration": 18,
    "start_time": "2022-05-13T12:47:36.375Z"
   },
   {
    "duration": 14,
    "start_time": "2022-05-13T12:48:07.018Z"
   },
   {
    "duration": 16,
    "start_time": "2022-05-13T12:48:16.138Z"
   },
   {
    "duration": 19,
    "start_time": "2022-05-13T12:48:27.729Z"
   },
   {
    "duration": 17,
    "start_time": "2022-05-13T12:48:39.735Z"
   },
   {
    "duration": 20,
    "start_time": "2022-05-13T12:52:51.472Z"
   },
   {
    "duration": 10408,
    "start_time": "2022-05-13T12:55:57.607Z"
   },
   {
    "duration": 2387,
    "start_time": "2022-05-13T12:57:38.090Z"
   },
   {
    "duration": 2242,
    "start_time": "2022-05-13T12:57:40.481Z"
   },
   {
    "duration": 180,
    "start_time": "2022-05-13T12:57:42.727Z"
   },
   {
    "duration": 396,
    "start_time": "2022-05-13T12:57:42.910Z"
   },
   {
    "duration": 125,
    "start_time": "2022-05-13T12:57:43.309Z"
   },
   {
    "duration": 171,
    "start_time": "2022-05-13T12:57:43.436Z"
   },
   {
    "duration": 114,
    "start_time": "2022-05-13T12:57:43.609Z"
   },
   {
    "duration": 105,
    "start_time": "2022-05-13T12:57:43.725Z"
   },
   {
    "duration": 31,
    "start_time": "2022-05-13T12:57:43.833Z"
   },
   {
    "duration": 99,
    "start_time": "2022-05-13T12:57:43.870Z"
   },
   {
    "duration": 103,
    "start_time": "2022-05-13T12:57:43.972Z"
   },
   {
    "duration": 22,
    "start_time": "2022-05-13T12:57:44.077Z"
   },
   {
    "duration": 92,
    "start_time": "2022-05-13T12:57:44.101Z"
   },
   {
    "duration": 143,
    "start_time": "2022-05-13T12:57:44.196Z"
   },
   {
    "duration": 27,
    "start_time": "2022-05-13T12:57:44.341Z"
   },
   {
    "duration": 90,
    "start_time": "2022-05-13T12:57:44.370Z"
   },
   {
    "duration": 109,
    "start_time": "2022-05-13T12:57:44.462Z"
   },
   {
    "duration": 23,
    "start_time": "2022-05-13T12:57:44.573Z"
   },
   {
    "duration": 929,
    "start_time": "2022-05-13T12:57:44.599Z"
   },
   {
    "duration": 37,
    "start_time": "2022-05-13T12:57:45.531Z"
   },
   {
    "duration": 951,
    "start_time": "2022-05-13T12:57:45.571Z"
   },
   {
    "duration": 128,
    "start_time": "2022-05-13T12:57:46.525Z"
   },
   {
    "duration": 227,
    "start_time": "2022-05-13T12:57:46.655Z"
   },
   {
    "duration": 47,
    "start_time": "2022-05-13T12:57:46.884Z"
   },
   {
    "duration": 64,
    "start_time": "2022-05-13T12:57:46.953Z"
   },
   {
    "duration": 355,
    "start_time": "2022-05-13T12:57:47.021Z"
   },
   {
    "duration": 18,
    "start_time": "2022-05-13T12:57:47.379Z"
   },
   {
    "duration": 18,
    "start_time": "2022-05-13T12:57:47.403Z"
   },
   {
    "duration": 107,
    "start_time": "2022-05-13T12:57:47.453Z"
   },
   {
    "duration": 203,
    "start_time": "2022-05-13T12:57:47.563Z"
   },
   {
    "duration": 20,
    "start_time": "2022-05-13T12:57:47.769Z"
   },
   {
    "duration": 83,
    "start_time": "2022-05-13T12:57:47.791Z"
   },
   {
    "duration": 230,
    "start_time": "2022-05-13T12:57:47.877Z"
   },
   {
    "duration": 104,
    "start_time": "2022-05-13T12:57:48.109Z"
   },
   {
    "duration": 95,
    "start_time": "2022-05-13T12:57:48.215Z"
   },
   {
    "duration": 21,
    "start_time": "2022-05-13T12:57:48.312Z"
   },
   {
    "duration": 75,
    "start_time": "2022-05-13T12:57:48.335Z"
   },
   {
    "duration": 240,
    "start_time": "2022-05-13T12:57:48.412Z"
   },
   {
    "duration": 101,
    "start_time": "2022-05-13T12:57:48.654Z"
   },
   {
    "duration": 585,
    "start_time": "2022-05-13T12:57:48.758Z"
   },
   {
    "duration": 661,
    "start_time": "2022-05-13T12:57:49.353Z"
   },
   {
    "duration": 8,
    "start_time": "2022-05-13T12:57:50.018Z"
   },
   {
    "duration": 59,
    "start_time": "2022-05-13T12:57:50.028Z"
   },
   {
    "duration": 26,
    "start_time": "2022-05-13T12:57:50.089Z"
   },
   {
    "duration": 1614,
    "start_time": "2022-05-13T12:57:50.117Z"
   },
   {
    "duration": 406,
    "start_time": "2022-05-13T12:57:51.733Z"
   },
   {
    "duration": 77,
    "start_time": "2022-05-13T12:57:52.151Z"
   },
   {
    "duration": 36,
    "start_time": "2022-05-13T12:57:52.231Z"
   },
   {
    "duration": 6,
    "start_time": "2022-05-13T12:57:52.269Z"
   },
   {
    "duration": 10,
    "start_time": "2022-05-13T12:57:52.278Z"
   },
   {
    "duration": 7,
    "start_time": "2022-05-13T12:57:52.290Z"
   },
   {
    "duration": 12,
    "start_time": "2022-05-13T12:57:52.299Z"
   },
   {
    "duration": 6250,
    "start_time": "2022-05-13T12:57:52.313Z"
   },
   {
    "duration": 186971,
    "start_time": "2022-05-13T12:57:58.566Z"
   },
   {
    "duration": 1415,
    "start_time": "2022-05-13T13:01:05.540Z"
   },
   {
    "duration": 104,
    "start_time": "2022-05-13T13:01:06.960Z"
   },
   {
    "duration": 146,
    "start_time": "2022-05-13T13:01:07.066Z"
   },
   {
    "duration": 85579,
    "start_time": "2022-05-13T13:01:07.214Z"
   },
   {
    "duration": 0,
    "start_time": "2022-05-13T13:02:32.797Z"
   },
   {
    "duration": 0,
    "start_time": "2022-05-13T13:02:32.799Z"
   },
   {
    "duration": 54171,
    "start_time": "2022-05-13T13:02:41.527Z"
   },
   {
    "duration": 2663,
    "start_time": "2022-05-13T13:04:05.757Z"
   },
   {
    "duration": 3571,
    "start_time": "2022-05-13T13:04:08.424Z"
   },
   {
    "duration": 194,
    "start_time": "2022-05-13T13:04:11.997Z"
   },
   {
    "duration": 594,
    "start_time": "2022-05-13T13:04:12.196Z"
   },
   {
    "duration": 226,
    "start_time": "2022-05-13T13:04:12.793Z"
   },
   {
    "duration": 394,
    "start_time": "2022-05-13T13:04:13.022Z"
   },
   {
    "duration": 294,
    "start_time": "2022-05-13T13:04:13.419Z"
   },
   {
    "duration": 143,
    "start_time": "2022-05-13T13:04:13.716Z"
   },
   {
    "duration": 26,
    "start_time": "2022-05-13T13:04:13.862Z"
   },
   {
    "duration": 99,
    "start_time": "2022-05-13T13:04:13.893Z"
   },
   {
    "duration": 109,
    "start_time": "2022-05-13T13:04:13.994Z"
   },
   {
    "duration": 21,
    "start_time": "2022-05-13T13:04:14.105Z"
   },
   {
    "duration": 99,
    "start_time": "2022-05-13T13:04:14.128Z"
   },
   {
    "duration": 155,
    "start_time": "2022-05-13T13:04:14.230Z"
   },
   {
    "duration": 22,
    "start_time": "2022-05-13T13:04:14.388Z"
   },
   {
    "duration": 91,
    "start_time": "2022-05-13T13:04:14.412Z"
   },
   {
    "duration": 110,
    "start_time": "2022-05-13T13:04:14.504Z"
   },
   {
    "duration": 20,
    "start_time": "2022-05-13T13:04:14.616Z"
   },
   {
    "duration": 1043,
    "start_time": "2022-05-13T13:04:14.638Z"
   },
   {
    "duration": 25,
    "start_time": "2022-05-13T13:04:15.683Z"
   },
   {
    "duration": 865,
    "start_time": "2022-05-13T13:04:15.711Z"
   },
   {
    "duration": 124,
    "start_time": "2022-05-13T13:04:16.578Z"
   },
   {
    "duration": 227,
    "start_time": "2022-05-13T13:04:16.704Z"
   },
   {
    "duration": 61,
    "start_time": "2022-05-13T13:04:16.933Z"
   },
   {
    "duration": 72,
    "start_time": "2022-05-13T13:04:16.996Z"
   },
   {
    "duration": 211,
    "start_time": "2022-05-13T13:04:17.071Z"
   },
   {
    "duration": 26,
    "start_time": "2022-05-13T13:04:17.285Z"
   },
   {
    "duration": 53,
    "start_time": "2022-05-13T13:04:17.320Z"
   },
   {
    "duration": 125,
    "start_time": "2022-05-13T13:04:17.376Z"
   },
   {
    "duration": 213,
    "start_time": "2022-05-13T13:04:17.505Z"
   },
   {
    "duration": 18,
    "start_time": "2022-05-13T13:04:17.720Z"
   },
   {
    "duration": 50,
    "start_time": "2022-05-13T13:04:17.752Z"
   },
   {
    "duration": 245,
    "start_time": "2022-05-13T13:04:17.804Z"
   },
   {
    "duration": 102,
    "start_time": "2022-05-13T13:04:18.052Z"
   },
   {
    "duration": 88,
    "start_time": "2022-05-13T13:04:18.157Z"
   },
   {
    "duration": 26,
    "start_time": "2022-05-13T13:04:18.253Z"
   },
   {
    "duration": 75,
    "start_time": "2022-05-13T13:04:18.282Z"
   },
   {
    "duration": 225,
    "start_time": "2022-05-13T13:04:18.360Z"
   },
   {
    "duration": 113,
    "start_time": "2022-05-13T13:04:18.587Z"
   },
   {
    "duration": 435,
    "start_time": "2022-05-13T13:04:18.703Z"
   },
   {
    "duration": 514,
    "start_time": "2022-05-13T13:04:19.140Z"
   },
   {
    "duration": 8,
    "start_time": "2022-05-13T13:04:19.656Z"
   },
   {
    "duration": 43,
    "start_time": "2022-05-13T13:04:19.667Z"
   },
   {
    "duration": 44,
    "start_time": "2022-05-13T13:04:19.712Z"
   },
   {
    "duration": 1622,
    "start_time": "2022-05-13T13:04:19.760Z"
   },
   {
    "duration": 269,
    "start_time": "2022-05-13T13:04:21.384Z"
   },
   {
    "duration": 76,
    "start_time": "2022-05-13T13:04:21.657Z"
   },
   {
    "duration": 35,
    "start_time": "2022-05-13T13:04:21.736Z"
   },
   {
    "duration": 7,
    "start_time": "2022-05-13T13:04:21.774Z"
   },
   {
    "duration": 9,
    "start_time": "2022-05-13T13:04:21.784Z"
   },
   {
    "duration": 7,
    "start_time": "2022-05-13T13:04:21.796Z"
   },
   {
    "duration": 15,
    "start_time": "2022-05-13T13:04:21.805Z"
   },
   {
    "duration": 6742,
    "start_time": "2022-05-13T13:04:21.823Z"
   },
   {
    "duration": 181571,
    "start_time": "2022-05-13T13:04:28.572Z"
   },
   {
    "duration": 1122,
    "start_time": "2022-05-13T13:07:30.146Z"
   },
   {
    "duration": 96,
    "start_time": "2022-05-13T13:07:31.271Z"
   },
   {
    "duration": 195,
    "start_time": "2022-05-13T13:07:31.375Z"
   },
   {
    "duration": 12469,
    "start_time": "2022-05-13T13:07:31.573Z"
   },
   {
    "duration": 0,
    "start_time": "2022-05-13T13:07:44.045Z"
   },
   {
    "duration": 0,
    "start_time": "2022-05-13T13:07:44.046Z"
   },
   {
    "duration": 26670,
    "start_time": "2022-05-13T13:08:43.908Z"
   },
   {
    "duration": 20744,
    "start_time": "2022-05-13T13:10:25.910Z"
   },
   {
    "duration": 17,
    "start_time": "2022-05-13T13:15:16.684Z"
   },
   {
    "duration": 621,
    "start_time": "2022-05-13T13:24:22.275Z"
   },
   {
    "duration": 5015,
    "start_time": "2022-05-13T13:24:52.549Z"
   },
   {
    "duration": 30,
    "start_time": "2022-05-13T13:26:07.652Z"
   },
   {
    "duration": 411,
    "start_time": "2022-05-13T13:26:34.641Z"
   },
   {
    "duration": 1356,
    "start_time": "2022-05-13T13:26:38.576Z"
   },
   {
    "duration": 310,
    "start_time": "2022-05-13T13:27:01.423Z"
   },
   {
    "duration": 4649,
    "start_time": "2022-05-13T13:27:05.328Z"
   },
   {
    "duration": 340,
    "start_time": "2022-05-13T13:28:49.848Z"
   },
   {
    "duration": 310,
    "start_time": "2022-05-13T13:28:58.082Z"
   },
   {
    "duration": 38,
    "start_time": "2022-05-13T13:29:09.642Z"
   },
   {
    "duration": 136,
    "start_time": "2022-05-13T13:29:16.655Z"
   },
   {
    "duration": 1181,
    "start_time": "2022-05-13T13:29:29.631Z"
   },
   {
    "duration": 4624,
    "start_time": "2022-05-13T13:29:32.561Z"
   },
   {
    "duration": 32,
    "start_time": "2022-05-13T13:31:26.640Z"
   },
   {
    "duration": 136,
    "start_time": "2022-05-13T13:31:28.835Z"
   },
   {
    "duration": 774,
    "start_time": "2022-05-13T13:31:38.482Z"
   },
   {
    "duration": 197,
    "start_time": "2022-05-13T13:31:51.818Z"
   },
   {
    "duration": 4652,
    "start_time": "2022-05-13T13:31:53.400Z"
   },
   {
    "duration": 1251,
    "start_time": "2022-05-13T13:33:03.640Z"
   },
   {
    "duration": 4798,
    "start_time": "2022-05-13T13:33:23.782Z"
   },
   {
    "duration": 4870,
    "start_time": "2022-05-13T13:34:03.193Z"
   },
   {
    "duration": 4904,
    "start_time": "2022-05-13T13:36:59.291Z"
   },
   {
    "duration": 4946,
    "start_time": "2022-05-13T13:37:28.544Z"
   },
   {
    "duration": 32,
    "start_time": "2022-05-13T13:39:54.803Z"
   },
   {
    "duration": 1,
    "start_time": "2022-05-13T13:42:01.985Z"
   },
   {
    "duration": 5053,
    "start_time": "2022-05-13T13:42:38.227Z"
   },
   {
    "duration": 5789,
    "start_time": "2022-05-13T13:43:33.475Z"
   },
   {
    "duration": 4873,
    "start_time": "2022-05-13T13:44:20.084Z"
   },
   {
    "duration": 3258,
    "start_time": "2022-05-13T13:45:31.740Z"
   },
   {
    "duration": 38,
    "start_time": "2022-05-13T13:45:46.966Z"
   },
   {
    "duration": 469550,
    "start_time": "2022-05-13T13:46:14.239Z"
   },
   {
    "duration": 0,
    "start_time": "2022-05-13T13:54:36.451Z"
   },
   {
    "duration": 1456,
    "start_time": "2022-05-13T13:54:38.739Z"
   },
   {
    "duration": 405001,
    "start_time": "2022-05-13T13:54:50.235Z"
   },
   {
    "duration": 9270,
    "start_time": "2022-05-13T14:01:49.340Z"
   },
   {
    "duration": 40475,
    "start_time": "2022-05-13T14:02:13.222Z"
   },
   {
    "duration": 1491,
    "start_time": "2022-05-13T14:02:55.494Z"
   },
   {
    "duration": 17836,
    "start_time": "2022-05-13T14:02:59.571Z"
   },
   {
    "duration": 457704,
    "start_time": "2022-05-13T14:03:18.466Z"
   },
   {
    "duration": 2277,
    "start_time": "2022-05-13T14:14:36.759Z"
   },
   {
    "duration": 2422,
    "start_time": "2022-05-13T14:14:39.040Z"
   },
   {
    "duration": 309,
    "start_time": "2022-05-13T14:14:41.466Z"
   },
   {
    "duration": 436,
    "start_time": "2022-05-13T14:14:41.781Z"
   },
   {
    "duration": 138,
    "start_time": "2022-05-13T14:14:42.220Z"
   },
   {
    "duration": 175,
    "start_time": "2022-05-13T14:14:42.363Z"
   },
   {
    "duration": 139,
    "start_time": "2022-05-13T14:14:42.540Z"
   },
   {
    "duration": 125,
    "start_time": "2022-05-13T14:14:42.682Z"
   },
   {
    "duration": 24,
    "start_time": "2022-05-13T14:14:42.809Z"
   },
   {
    "duration": 101,
    "start_time": "2022-05-13T14:14:42.853Z"
   },
   {
    "duration": 128,
    "start_time": "2022-05-13T14:14:42.956Z"
   },
   {
    "duration": 24,
    "start_time": "2022-05-13T14:14:43.086Z"
   },
   {
    "duration": 100,
    "start_time": "2022-05-13T14:14:43.112Z"
   },
   {
    "duration": 167,
    "start_time": "2022-05-13T14:14:43.214Z"
   },
   {
    "duration": 23,
    "start_time": "2022-05-13T14:14:43.384Z"
   },
   {
    "duration": 98,
    "start_time": "2022-05-13T14:14:43.409Z"
   },
   {
    "duration": 115,
    "start_time": "2022-05-13T14:14:43.509Z"
   },
   {
    "duration": 28,
    "start_time": "2022-05-13T14:14:43.627Z"
   },
   {
    "duration": 21,
    "start_time": "2022-05-13T14:14:49.402Z"
   },
   {
    "duration": 35,
    "start_time": "2022-05-13T14:14:57.966Z"
   },
   {
    "duration": 1075,
    "start_time": "2022-05-13T14:15:02.635Z"
   },
   {
    "duration": 150,
    "start_time": "2022-05-13T14:16:16.753Z"
   },
   {
    "duration": 308,
    "start_time": "2022-05-13T14:16:26.232Z"
   },
   {
    "duration": 149,
    "start_time": "2022-05-13T14:16:33.851Z"
   },
   {
    "duration": 194,
    "start_time": "2022-05-13T14:16:39.695Z"
   },
   {
    "duration": 51,
    "start_time": "2022-05-13T14:16:53.715Z"
   },
   {
    "duration": 5,
    "start_time": "2022-05-13T14:17:56.466Z"
   },
   {
    "duration": 87,
    "start_time": "2022-05-13T14:18:00.899Z"
   },
   {
    "duration": 201,
    "start_time": "2022-05-13T14:18:15.199Z"
   },
   {
    "duration": 89,
    "start_time": "2022-05-13T14:18:58.102Z"
   },
   {
    "duration": 23,
    "start_time": "2022-05-13T14:19:21.619Z"
   },
   {
    "duration": 792,
    "start_time": "2022-05-13T14:19:22.863Z"
   },
   {
    "duration": 57,
    "start_time": "2022-05-13T14:19:25.111Z"
   },
   {
    "duration": 2176,
    "start_time": "2022-05-13T14:19:47.229Z"
   },
   {
    "duration": 2307,
    "start_time": "2022-05-13T14:19:49.407Z"
   },
   {
    "duration": 314,
    "start_time": "2022-05-13T14:19:51.716Z"
   },
   {
    "duration": 653,
    "start_time": "2022-05-13T14:19:52.035Z"
   },
   {
    "duration": 205,
    "start_time": "2022-05-13T14:19:52.691Z"
   },
   {
    "duration": 248,
    "start_time": "2022-05-13T14:19:52.900Z"
   },
   {
    "duration": 200,
    "start_time": "2022-05-13T14:19:53.153Z"
   },
   {
    "duration": 111,
    "start_time": "2022-05-13T14:19:53.356Z"
   },
   {
    "duration": 22,
    "start_time": "2022-05-13T14:19:53.469Z"
   },
   {
    "duration": 100,
    "start_time": "2022-05-13T14:19:53.495Z"
   },
   {
    "duration": 109,
    "start_time": "2022-05-13T14:19:53.598Z"
   },
   {
    "duration": 22,
    "start_time": "2022-05-13T14:19:53.709Z"
   },
   {
    "duration": 91,
    "start_time": "2022-05-13T14:19:53.733Z"
   },
   {
    "duration": 153,
    "start_time": "2022-05-13T14:19:53.827Z"
   },
   {
    "duration": 22,
    "start_time": "2022-05-13T14:19:53.982Z"
   },
   {
    "duration": 95,
    "start_time": "2022-05-13T14:19:54.006Z"
   },
   {
    "duration": 107,
    "start_time": "2022-05-13T14:19:54.103Z"
   },
   {
    "duration": 21,
    "start_time": "2022-05-13T14:19:54.213Z"
   },
   {
    "duration": 35,
    "start_time": "2022-05-13T14:19:54.236Z"
   },
   {
    "duration": 897,
    "start_time": "2022-05-13T14:19:54.274Z"
   },
   {
    "duration": 55,
    "start_time": "2022-05-13T14:19:58.727Z"
   },
   {
    "duration": 571,
    "start_time": "2022-05-13T14:23:15.706Z"
   },
   {
    "duration": 5,
    "start_time": "2022-05-13T14:24:36.778Z"
   },
   {
    "duration": 187,
    "start_time": "2022-05-13T14:25:52.572Z"
   },
   {
    "duration": 124,
    "start_time": "2022-05-13T14:26:18.103Z"
   },
   {
    "duration": 787,
    "start_time": "2022-05-13T14:27:11.291Z"
   },
   {
    "duration": 111,
    "start_time": "2022-05-13T14:27:33.405Z"
   },
   {
    "duration": 3216,
    "start_time": "2022-05-13T14:27:50.253Z"
   },
   {
    "duration": 5,
    "start_time": "2022-05-13T14:28:28.213Z"
   },
   {
    "duration": 7,
    "start_time": "2022-05-13T14:28:51.001Z"
   },
   {
    "duration": 5,
    "start_time": "2022-05-13T14:28:58.345Z"
   },
   {
    "duration": 91,
    "start_time": "2022-05-13T14:29:02.923Z"
   },
   {
    "duration": 5,
    "start_time": "2022-05-13T14:29:06.207Z"
   },
   {
    "duration": 39,
    "start_time": "2022-05-13T14:29:13.478Z"
   },
   {
    "duration": 795,
    "start_time": "2022-05-13T14:29:17.385Z"
   },
   {
    "duration": 58,
    "start_time": "2022-05-13T14:29:27.662Z"
   },
   {
    "duration": 2388,
    "start_time": "2022-05-13T14:31:42.463Z"
   },
   {
    "duration": 2549,
    "start_time": "2022-05-13T14:31:44.854Z"
   },
   {
    "duration": 186,
    "start_time": "2022-05-13T14:31:47.406Z"
   },
   {
    "duration": 405,
    "start_time": "2022-05-13T14:31:47.596Z"
   },
   {
    "duration": 118,
    "start_time": "2022-05-13T14:31:48.004Z"
   },
   {
    "duration": 174,
    "start_time": "2022-05-13T14:31:48.124Z"
   },
   {
    "duration": 118,
    "start_time": "2022-05-13T14:31:48.300Z"
   },
   {
    "duration": 110,
    "start_time": "2022-05-13T14:31:48.421Z"
   },
   {
    "duration": 30,
    "start_time": "2022-05-13T14:31:48.533Z"
   },
   {
    "duration": 117,
    "start_time": "2022-05-13T14:31:48.567Z"
   },
   {
    "duration": 178,
    "start_time": "2022-05-13T14:31:48.687Z"
   },
   {
    "duration": 34,
    "start_time": "2022-05-13T14:31:48.868Z"
   },
   {
    "duration": 94,
    "start_time": "2022-05-13T14:31:48.904Z"
   },
   {
    "duration": 145,
    "start_time": "2022-05-13T14:31:49.000Z"
   },
   {
    "duration": 21,
    "start_time": "2022-05-13T14:31:49.147Z"
   },
   {
    "duration": 94,
    "start_time": "2022-05-13T14:31:49.171Z"
   },
   {
    "duration": 137,
    "start_time": "2022-05-13T14:31:49.267Z"
   },
   {
    "duration": 31,
    "start_time": "2022-05-13T14:31:49.407Z"
   },
   {
    "duration": 23,
    "start_time": "2022-05-13T14:31:49.452Z"
   },
   {
    "duration": 919,
    "start_time": "2022-05-13T14:31:49.478Z"
   },
   {
    "duration": 63,
    "start_time": "2022-05-13T14:31:50.400Z"
   },
   {
    "duration": 7,
    "start_time": "2022-05-13T14:31:50.465Z"
   },
   {
    "duration": 7,
    "start_time": "2022-05-13T14:31:50.474Z"
   },
   {
    "duration": 175,
    "start_time": "2022-05-13T14:31:52.524Z"
   },
   {
    "duration": 288,
    "start_time": "2022-05-13T14:31:56.463Z"
   },
   {
    "duration": 19,
    "start_time": "2022-05-13T14:32:12.343Z"
   },
   {
    "duration": 12,
    "start_time": "2022-05-13T14:32:41.107Z"
   },
   {
    "duration": 15,
    "start_time": "2022-05-13T14:33:22.437Z"
   },
   {
    "duration": 14,
    "start_time": "2022-05-13T14:33:28.441Z"
   },
   {
    "duration": 22,
    "start_time": "2022-05-13T14:33:41.896Z"
   },
   {
    "duration": 6,
    "start_time": "2022-05-13T14:34:33.126Z"
   },
   {
    "duration": 27,
    "start_time": "2022-05-13T14:35:24.435Z"
   },
   {
    "duration": 26,
    "start_time": "2022-05-13T14:36:16.402Z"
   },
   {
    "duration": 37,
    "start_time": "2022-05-13T14:37:40.466Z"
   },
   {
    "duration": 35,
    "start_time": "2022-05-13T14:37:44.695Z"
   },
   {
    "duration": 79,
    "start_time": "2022-05-13T14:37:49.456Z"
   },
   {
    "duration": 2361,
    "start_time": "2022-05-13T14:38:22.599Z"
   },
   {
    "duration": 2132,
    "start_time": "2022-05-13T14:38:24.964Z"
   },
   {
    "duration": 172,
    "start_time": "2022-05-13T14:38:27.098Z"
   },
   {
    "duration": 390,
    "start_time": "2022-05-13T14:38:27.273Z"
   },
   {
    "duration": 119,
    "start_time": "2022-05-13T14:38:27.666Z"
   },
   {
    "duration": 170,
    "start_time": "2022-05-13T14:38:27.788Z"
   },
   {
    "duration": 125,
    "start_time": "2022-05-13T14:38:27.961Z"
   },
   {
    "duration": 147,
    "start_time": "2022-05-13T14:38:28.088Z"
   },
   {
    "duration": 23,
    "start_time": "2022-05-13T14:38:28.238Z"
   },
   {
    "duration": 100,
    "start_time": "2022-05-13T14:38:28.265Z"
   },
   {
    "duration": 163,
    "start_time": "2022-05-13T14:38:28.368Z"
   },
   {
    "duration": 42,
    "start_time": "2022-05-13T14:38:28.534Z"
   },
   {
    "duration": 105,
    "start_time": "2022-05-13T14:38:28.579Z"
   },
   {
    "duration": 151,
    "start_time": "2022-05-13T14:38:28.688Z"
   },
   {
    "duration": 33,
    "start_time": "2022-05-13T14:38:28.843Z"
   },
   {
    "duration": 92,
    "start_time": "2022-05-13T14:38:28.879Z"
   },
   {
    "duration": 156,
    "start_time": "2022-05-13T14:38:28.974Z"
   },
   {
    "duration": 38,
    "start_time": "2022-05-13T14:38:29.133Z"
   },
   {
    "duration": 36,
    "start_time": "2022-05-13T14:38:29.173Z"
   },
   {
    "duration": 954,
    "start_time": "2022-05-13T14:38:29.212Z"
   },
   {
    "duration": 96,
    "start_time": "2022-05-13T14:38:30.168Z"
   },
   {
    "duration": 6,
    "start_time": "2022-05-13T14:38:30.267Z"
   },
   {
    "duration": 13,
    "start_time": "2022-05-13T14:38:30.275Z"
   },
   {
    "duration": 193,
    "start_time": "2022-05-13T14:38:30.290Z"
   },
   {
    "duration": 0,
    "start_time": "2022-05-13T14:38:30.486Z"
   },
   {
    "duration": 26,
    "start_time": "2022-05-13T14:38:36.470Z"
   },
   {
    "duration": 64,
    "start_time": "2022-05-13T14:38:38.221Z"
   },
   {
    "duration": 2261,
    "start_time": "2022-05-13T14:39:09.581Z"
   },
   {
    "duration": 2478,
    "start_time": "2022-05-13T14:39:11.845Z"
   },
   {
    "duration": 169,
    "start_time": "2022-05-13T14:39:14.326Z"
   },
   {
    "duration": 399,
    "start_time": "2022-05-13T14:39:14.499Z"
   },
   {
    "duration": 120,
    "start_time": "2022-05-13T14:39:14.901Z"
   },
   {
    "duration": 214,
    "start_time": "2022-05-13T14:39:15.024Z"
   },
   {
    "duration": 182,
    "start_time": "2022-05-13T14:39:15.241Z"
   },
   {
    "duration": 173,
    "start_time": "2022-05-13T14:39:15.426Z"
   },
   {
    "duration": 33,
    "start_time": "2022-05-13T14:39:15.601Z"
   },
   {
    "duration": 103,
    "start_time": "2022-05-13T14:39:15.653Z"
   },
   {
    "duration": 150,
    "start_time": "2022-05-13T14:39:15.759Z"
   },
   {
    "duration": 41,
    "start_time": "2022-05-13T14:39:15.912Z"
   },
   {
    "duration": 100,
    "start_time": "2022-05-13T14:39:15.956Z"
   },
   {
    "duration": 194,
    "start_time": "2022-05-13T14:39:16.058Z"
   },
   {
    "duration": 31,
    "start_time": "2022-05-13T14:39:16.255Z"
   },
   {
    "duration": 95,
    "start_time": "2022-05-13T14:39:16.288Z"
   },
   {
    "duration": 107,
    "start_time": "2022-05-13T14:39:16.385Z"
   },
   {
    "duration": 21,
    "start_time": "2022-05-13T14:39:16.495Z"
   },
   {
    "duration": 55,
    "start_time": "2022-05-13T14:39:16.518Z"
   },
   {
    "duration": 1161,
    "start_time": "2022-05-13T14:39:16.576Z"
   },
   {
    "duration": 87,
    "start_time": "2022-05-13T14:39:17.740Z"
   },
   {
    "duration": 5,
    "start_time": "2022-05-13T14:39:17.830Z"
   },
   {
    "duration": 4,
    "start_time": "2022-05-13T14:39:17.852Z"
   },
   {
    "duration": 179,
    "start_time": "2022-05-13T14:39:17.858Z"
   },
   {
    "duration": 24,
    "start_time": "2022-05-13T14:39:34.466Z"
   },
   {
    "duration": 48,
    "start_time": "2022-05-13T14:39:36.645Z"
   },
   {
    "duration": 136,
    "start_time": "2022-05-13T14:39:49.577Z"
   },
   {
    "duration": 27,
    "start_time": "2022-05-13T14:39:53.510Z"
   },
   {
    "duration": 404,
    "start_time": "2022-05-13T14:42:17.183Z"
   },
   {
    "duration": 425,
    "start_time": "2022-05-13T14:42:36.430Z"
   },
   {
    "duration": 410,
    "start_time": "2022-05-13T14:42:51.577Z"
   },
   {
    "duration": 23,
    "start_time": "2022-05-13T14:42:56.322Z"
   },
   {
    "duration": 2196,
    "start_time": "2022-05-13T14:43:05.166Z"
   },
   {
    "duration": 2283,
    "start_time": "2022-05-13T14:43:07.365Z"
   },
   {
    "duration": 195,
    "start_time": "2022-05-13T14:43:09.653Z"
   },
   {
    "duration": 602,
    "start_time": "2022-05-13T14:43:09.854Z"
   },
   {
    "duration": 219,
    "start_time": "2022-05-13T14:43:10.459Z"
   },
   {
    "duration": 227,
    "start_time": "2022-05-13T14:43:10.681Z"
   },
   {
    "duration": 161,
    "start_time": "2022-05-13T14:43:10.910Z"
   },
   {
    "duration": 204,
    "start_time": "2022-05-13T14:43:11.074Z"
   },
   {
    "duration": 39,
    "start_time": "2022-05-13T14:43:11.281Z"
   },
   {
    "duration": 116,
    "start_time": "2022-05-13T14:43:11.326Z"
   },
   {
    "duration": 152,
    "start_time": "2022-05-13T14:43:11.452Z"
   },
   {
    "duration": 45,
    "start_time": "2022-05-13T14:43:11.606Z"
   },
   {
    "duration": 107,
    "start_time": "2022-05-13T14:43:11.656Z"
   },
   {
    "duration": 229,
    "start_time": "2022-05-13T14:43:11.767Z"
   },
   {
    "duration": 36,
    "start_time": "2022-05-13T14:43:11.999Z"
   },
   {
    "duration": 88,
    "start_time": "2022-05-13T14:43:12.052Z"
   },
   {
    "duration": 116,
    "start_time": "2022-05-13T14:43:12.142Z"
   },
   {
    "duration": 37,
    "start_time": "2022-05-13T14:43:12.261Z"
   },
   {
    "duration": 22,
    "start_time": "2022-05-13T14:43:12.300Z"
   },
   {
    "duration": 1436,
    "start_time": "2022-05-13T14:43:12.324Z"
   },
   {
    "duration": 55,
    "start_time": "2022-05-13T14:43:13.763Z"
   },
   {
    "duration": 5,
    "start_time": "2022-05-13T14:43:13.821Z"
   },
   {
    "duration": 7,
    "start_time": "2022-05-13T14:43:13.853Z"
   },
   {
    "duration": 32,
    "start_time": "2022-05-13T14:43:16.849Z"
   },
   {
    "duration": 55,
    "start_time": "2022-05-13T14:43:18.779Z"
   },
   {
    "duration": 603,
    "start_time": "2022-05-13T14:43:25.353Z"
   },
   {
    "duration": 23,
    "start_time": "2022-05-13T14:43:29.113Z"
   },
   {
    "duration": 20,
    "start_time": "2022-05-13T14:43:54.743Z"
   },
   {
    "duration": 2186,
    "start_time": "2022-05-13T14:44:01.509Z"
   },
   {
    "duration": 2343,
    "start_time": "2022-05-13T14:44:03.698Z"
   },
   {
    "duration": 173,
    "start_time": "2022-05-13T14:44:06.043Z"
   },
   {
    "duration": 480,
    "start_time": "2022-05-13T14:44:06.219Z"
   },
   {
    "duration": 113,
    "start_time": "2022-05-13T14:44:06.701Z"
   },
   {
    "duration": 165,
    "start_time": "2022-05-13T14:44:06.816Z"
   },
   {
    "duration": 114,
    "start_time": "2022-05-13T14:44:06.984Z"
   },
   {
    "duration": 120,
    "start_time": "2022-05-13T14:44:07.100Z"
   },
   {
    "duration": 30,
    "start_time": "2022-05-13T14:44:07.222Z"
   },
   {
    "duration": 79,
    "start_time": "2022-05-13T14:44:07.256Z"
   },
   {
    "duration": 102,
    "start_time": "2022-05-13T14:44:07.337Z"
   },
   {
    "duration": 31,
    "start_time": "2022-05-13T14:44:07.441Z"
   },
   {
    "duration": 95,
    "start_time": "2022-05-13T14:44:07.475Z"
   },
   {
    "duration": 137,
    "start_time": "2022-05-13T14:44:07.572Z"
   },
   {
    "duration": 22,
    "start_time": "2022-05-13T14:44:07.711Z"
   },
   {
    "duration": 80,
    "start_time": "2022-05-13T14:44:07.735Z"
   },
   {
    "duration": 110,
    "start_time": "2022-05-13T14:44:07.817Z"
   },
   {
    "duration": 35,
    "start_time": "2022-05-13T14:44:07.929Z"
   },
   {
    "duration": 28,
    "start_time": "2022-05-13T14:44:07.966Z"
   },
   {
    "duration": 914,
    "start_time": "2022-05-13T14:44:07.996Z"
   },
   {
    "duration": 61,
    "start_time": "2022-05-13T14:44:08.913Z"
   },
   {
    "duration": 6,
    "start_time": "2022-05-13T14:44:08.977Z"
   },
   {
    "duration": 10,
    "start_time": "2022-05-13T14:44:08.986Z"
   },
   {
    "duration": 184,
    "start_time": "2022-05-13T14:44:10.545Z"
   },
   {
    "duration": 18,
    "start_time": "2022-05-13T14:44:16.773Z"
   },
   {
    "duration": 16,
    "start_time": "2022-05-13T14:44:21.155Z"
   },
   {
    "duration": 15,
    "start_time": "2022-05-13T14:44:26.873Z"
   },
   {
    "duration": 16,
    "start_time": "2022-05-13T14:44:29.834Z"
   },
   {
    "duration": 16,
    "start_time": "2022-05-13T14:45:11.033Z"
   },
   {
    "duration": 657,
    "start_time": "2022-05-13T14:45:21.832Z"
   },
   {
    "duration": 35,
    "start_time": "2022-05-13T14:48:39.907Z"
   },
   {
    "duration": 48,
    "start_time": "2022-05-13T14:48:43.235Z"
   },
   {
    "duration": 94,
    "start_time": "2022-05-13T14:49:19.890Z"
   },
   {
    "duration": 168,
    "start_time": "2022-05-13T14:49:27.253Z"
   },
   {
    "duration": 1685,
    "start_time": "2022-05-13T14:49:41.802Z"
   },
   {
    "duration": 22,
    "start_time": "2022-05-13T14:50:54.802Z"
   },
   {
    "duration": 48,
    "start_time": "2022-05-13T14:50:56.453Z"
   },
   {
    "duration": 2923,
    "start_time": "2022-05-13T14:51:05.449Z"
   },
   {
    "duration": 2894,
    "start_time": "2022-05-13T14:51:08.375Z"
   },
   {
    "duration": 275,
    "start_time": "2022-05-13T14:51:11.272Z"
   },
   {
    "duration": 537,
    "start_time": "2022-05-13T14:51:11.553Z"
   },
   {
    "duration": 188,
    "start_time": "2022-05-13T14:51:12.093Z"
   },
   {
    "duration": 220,
    "start_time": "2022-05-13T14:51:12.283Z"
   },
   {
    "duration": 178,
    "start_time": "2022-05-13T14:51:12.506Z"
   },
   {
    "duration": 167,
    "start_time": "2022-05-13T14:51:12.686Z"
   },
   {
    "duration": 32,
    "start_time": "2022-05-13T14:51:12.856Z"
   },
   {
    "duration": 120,
    "start_time": "2022-05-13T14:51:12.892Z"
   },
   {
    "duration": 155,
    "start_time": "2022-05-13T14:51:13.015Z"
   },
   {
    "duration": 32,
    "start_time": "2022-05-13T14:51:13.173Z"
   },
   {
    "duration": 105,
    "start_time": "2022-05-13T14:51:13.208Z"
   },
   {
    "duration": 196,
    "start_time": "2022-05-13T14:51:13.316Z"
   },
   {
    "duration": 39,
    "start_time": "2022-05-13T14:51:13.514Z"
   },
   {
    "duration": 73,
    "start_time": "2022-05-13T14:51:13.555Z"
   },
   {
    "duration": 163,
    "start_time": "2022-05-13T14:51:13.631Z"
   },
   {
    "duration": 35,
    "start_time": "2022-05-13T14:51:13.796Z"
   },
   {
    "duration": 40,
    "start_time": "2022-05-13T14:51:13.833Z"
   },
   {
    "duration": 1238,
    "start_time": "2022-05-13T14:51:13.876Z"
   },
   {
    "duration": 87,
    "start_time": "2022-05-13T14:51:15.116Z"
   },
   {
    "duration": 5,
    "start_time": "2022-05-13T14:51:15.205Z"
   },
   {
    "duration": 7,
    "start_time": "2022-05-13T14:51:15.212Z"
   },
   {
    "duration": 25,
    "start_time": "2022-05-13T14:51:42.126Z"
   },
   {
    "duration": 56,
    "start_time": "2022-05-13T14:51:43.834Z"
   },
   {
    "duration": 1271,
    "start_time": "2022-05-13T14:51:46.911Z"
   },
   {
    "duration": 86,
    "start_time": "2022-05-13T14:52:11.824Z"
   },
   {
    "duration": 24,
    "start_time": "2022-05-13T14:52:14.628Z"
   },
   {
    "duration": 168,
    "start_time": "2022-05-13T14:54:43.795Z"
   },
   {
    "duration": 2745,
    "start_time": "2022-05-13T15:00:39.595Z"
   },
   {
    "duration": 2316,
    "start_time": "2022-05-13T15:00:42.345Z"
   },
   {
    "duration": 200,
    "start_time": "2022-05-13T15:00:44.664Z"
   },
   {
    "duration": 432,
    "start_time": "2022-05-13T15:00:44.868Z"
   },
   {
    "duration": 127,
    "start_time": "2022-05-13T15:00:45.303Z"
   },
   {
    "duration": 173,
    "start_time": "2022-05-13T15:00:45.432Z"
   },
   {
    "duration": 183,
    "start_time": "2022-05-13T15:00:45.607Z"
   },
   {
    "duration": 134,
    "start_time": "2022-05-13T15:00:45.792Z"
   },
   {
    "duration": 29,
    "start_time": "2022-05-13T15:00:45.928Z"
   },
   {
    "duration": 120,
    "start_time": "2022-05-13T15:00:45.963Z"
   },
   {
    "duration": 175,
    "start_time": "2022-05-13T15:00:46.086Z"
   },
   {
    "duration": 32,
    "start_time": "2022-05-13T15:00:46.264Z"
   },
   {
    "duration": 90,
    "start_time": "2022-05-13T15:00:46.298Z"
   },
   {
    "duration": 146,
    "start_time": "2022-05-13T15:00:46.390Z"
   },
   {
    "duration": 33,
    "start_time": "2022-05-13T15:00:46.538Z"
   },
   {
    "duration": 89,
    "start_time": "2022-05-13T15:00:46.573Z"
   },
   {
    "duration": 133,
    "start_time": "2022-05-13T15:00:46.667Z"
   },
   {
    "duration": 32,
    "start_time": "2022-05-13T15:00:46.802Z"
   },
   {
    "duration": 45,
    "start_time": "2022-05-13T15:00:46.836Z"
   },
   {
    "duration": 898,
    "start_time": "2022-05-13T15:00:46.883Z"
   },
   {
    "duration": 53,
    "start_time": "2022-05-13T15:00:47.784Z"
   },
   {
    "duration": 5,
    "start_time": "2022-05-13T15:00:47.852Z"
   },
   {
    "duration": 21,
    "start_time": "2022-05-13T15:00:47.862Z"
   },
   {
    "duration": 33,
    "start_time": "2022-05-13T15:00:47.885Z"
   },
   {
    "duration": 74,
    "start_time": "2022-05-13T15:00:47.921Z"
   },
   {
    "duration": 986,
    "start_time": "2022-05-13T15:00:47.998Z"
   },
   {
    "duration": 151,
    "start_time": "2022-05-13T15:00:48.987Z"
   },
   {
    "duration": 272,
    "start_time": "2022-05-13T15:00:49.151Z"
   },
   {
    "duration": 74,
    "start_time": "2022-05-13T15:00:49.426Z"
   },
   {
    "duration": 71,
    "start_time": "2022-05-13T15:00:49.503Z"
   },
   {
    "duration": 321,
    "start_time": "2022-05-13T15:00:49.577Z"
   },
   {
    "duration": 26,
    "start_time": "2022-05-13T15:00:49.901Z"
   },
   {
    "duration": 44,
    "start_time": "2022-05-13T15:00:49.930Z"
   },
   {
    "duration": 109,
    "start_time": "2022-05-13T15:00:49.976Z"
   },
   {
    "duration": 208,
    "start_time": "2022-05-13T15:00:50.087Z"
   },
   {
    "duration": 19,
    "start_time": "2022-05-13T15:00:50.297Z"
   },
   {
    "duration": 73,
    "start_time": "2022-05-13T15:00:50.319Z"
   },
   {
    "duration": 237,
    "start_time": "2022-05-13T15:00:50.395Z"
   },
   {
    "duration": 123,
    "start_time": "2022-05-13T15:00:50.635Z"
   },
   {
    "duration": 94,
    "start_time": "2022-05-13T15:00:50.763Z"
   },
   {
    "duration": 24,
    "start_time": "2022-05-13T15:00:50.860Z"
   },
   {
    "duration": 78,
    "start_time": "2022-05-13T15:00:50.887Z"
   },
   {
    "duration": 331,
    "start_time": "2022-05-13T15:00:50.969Z"
   },
   {
    "duration": 213,
    "start_time": "2022-05-13T15:00:51.303Z"
   },
   {
    "duration": 565,
    "start_time": "2022-05-13T15:00:51.519Z"
   },
   {
    "duration": 671,
    "start_time": "2022-05-13T15:00:52.087Z"
   },
   {
    "duration": 7,
    "start_time": "2022-05-13T15:00:52.761Z"
   },
   {
    "duration": 59,
    "start_time": "2022-05-13T15:00:52.770Z"
   },
   {
    "duration": 31,
    "start_time": "2022-05-13T15:00:52.832Z"
   },
   {
    "duration": 2424,
    "start_time": "2022-05-13T15:00:52.868Z"
   },
   {
    "duration": 267,
    "start_time": "2022-05-13T15:00:55.295Z"
   },
   {
    "duration": 72,
    "start_time": "2022-05-13T15:00:55.565Z"
   },
   {
    "duration": 24,
    "start_time": "2022-05-13T15:00:55.651Z"
   },
   {
    "duration": 9,
    "start_time": "2022-05-13T15:00:55.678Z"
   },
   {
    "duration": 21,
    "start_time": "2022-05-13T15:00:55.689Z"
   },
   {
    "duration": 9,
    "start_time": "2022-05-13T15:00:55.712Z"
   },
   {
    "duration": 11,
    "start_time": "2022-05-13T15:00:55.723Z"
   },
   {
    "duration": 6941,
    "start_time": "2022-05-13T15:00:55.737Z"
   },
   {
    "duration": 192735,
    "start_time": "2022-05-13T15:01:02.681Z"
   },
   {
    "duration": 191,
    "start_time": "2022-05-13T15:04:15.418Z"
   },
   {
    "duration": 0,
    "start_time": "2022-05-13T15:04:15.611Z"
   },
   {
    "duration": 0,
    "start_time": "2022-05-13T15:04:15.613Z"
   },
   {
    "duration": 0,
    "start_time": "2022-05-13T15:04:15.614Z"
   },
   {
    "duration": 0,
    "start_time": "2022-05-13T15:04:15.616Z"
   },
   {
    "duration": 0,
    "start_time": "2022-05-13T15:04:15.618Z"
   },
   {
    "duration": 0,
    "start_time": "2022-05-13T15:04:15.620Z"
   },
   {
    "duration": 1834,
    "start_time": "2022-05-13T15:09:41.329Z"
   },
   {
    "duration": 7,
    "start_time": "2022-05-13T15:10:07.651Z"
   },
   {
    "duration": 3065,
    "start_time": "2022-05-13T15:10:19.595Z"
   },
   {
    "duration": 2312,
    "start_time": "2022-05-13T15:10:22.664Z"
   },
   {
    "duration": 193,
    "start_time": "2022-05-13T15:10:24.979Z"
   },
   {
    "duration": 400,
    "start_time": "2022-05-13T15:10:25.176Z"
   },
   {
    "duration": 130,
    "start_time": "2022-05-13T15:10:25.580Z"
   },
   {
    "duration": 253,
    "start_time": "2022-05-13T15:10:25.713Z"
   },
   {
    "duration": 208,
    "start_time": "2022-05-13T15:10:25.969Z"
   },
   {
    "duration": 134,
    "start_time": "2022-05-13T15:10:26.180Z"
   },
   {
    "duration": 22,
    "start_time": "2022-05-13T15:10:26.317Z"
   },
   {
    "duration": 109,
    "start_time": "2022-05-13T15:10:26.355Z"
   },
   {
    "duration": 163,
    "start_time": "2022-05-13T15:10:26.467Z"
   },
   {
    "duration": 37,
    "start_time": "2022-05-13T15:10:26.633Z"
   },
   {
    "duration": 95,
    "start_time": "2022-05-13T15:10:26.673Z"
   },
   {
    "duration": 151,
    "start_time": "2022-05-13T15:10:26.770Z"
   },
   {
    "duration": 31,
    "start_time": "2022-05-13T15:10:26.923Z"
   },
   {
    "duration": 102,
    "start_time": "2022-05-13T15:10:26.957Z"
   },
   {
    "duration": 165,
    "start_time": "2022-05-13T15:10:27.061Z"
   },
   {
    "duration": 39,
    "start_time": "2022-05-13T15:10:27.229Z"
   },
   {
    "duration": 23,
    "start_time": "2022-05-13T15:10:27.270Z"
   },
   {
    "duration": 894,
    "start_time": "2022-05-13T15:10:27.295Z"
   },
   {
    "duration": 88,
    "start_time": "2022-05-13T15:10:28.192Z"
   },
   {
    "duration": 7,
    "start_time": "2022-05-13T15:10:28.283Z"
   },
   {
    "duration": 8,
    "start_time": "2022-05-13T15:10:28.293Z"
   },
   {
    "duration": 70,
    "start_time": "2022-05-13T15:10:28.304Z"
   },
   {
    "duration": 76,
    "start_time": "2022-05-13T15:10:28.377Z"
   },
   {
    "duration": 816,
    "start_time": "2022-05-13T15:10:28.456Z"
   },
   {
    "duration": 122,
    "start_time": "2022-05-13T15:10:29.275Z"
   },
   {
    "duration": 351,
    "start_time": "2022-05-13T15:10:29.405Z"
   },
   {
    "duration": 45,
    "start_time": "2022-05-13T15:10:29.759Z"
   },
   {
    "duration": 86,
    "start_time": "2022-05-13T15:10:29.806Z"
   },
   {
    "duration": 266,
    "start_time": "2022-05-13T15:10:29.894Z"
   },
   {
    "duration": 22,
    "start_time": "2022-05-13T15:10:30.163Z"
   },
   {
    "duration": 28,
    "start_time": "2022-05-13T15:10:30.188Z"
   },
   {
    "duration": 138,
    "start_time": "2022-05-13T15:10:30.220Z"
   },
   {
    "duration": 202,
    "start_time": "2022-05-13T15:10:30.360Z"
   },
   {
    "duration": 24,
    "start_time": "2022-05-13T15:10:30.564Z"
   },
   {
    "duration": 76,
    "start_time": "2022-05-13T15:10:30.590Z"
   },
   {
    "duration": 242,
    "start_time": "2022-05-13T15:10:30.669Z"
   },
   {
    "duration": 125,
    "start_time": "2022-05-13T15:10:30.913Z"
   },
   {
    "duration": 119,
    "start_time": "2022-05-13T15:10:31.041Z"
   },
   {
    "duration": 27,
    "start_time": "2022-05-13T15:10:31.162Z"
   },
   {
    "duration": 97,
    "start_time": "2022-05-13T15:10:31.192Z"
   },
   {
    "duration": 231,
    "start_time": "2022-05-13T15:10:31.292Z"
   },
   {
    "duration": 106,
    "start_time": "2022-05-13T15:10:31.526Z"
   },
   {
    "duration": 423,
    "start_time": "2022-05-13T15:10:31.634Z"
   },
   {
    "duration": 570,
    "start_time": "2022-05-13T15:10:32.065Z"
   },
   {
    "duration": 5,
    "start_time": "2022-05-13T15:10:32.637Z"
   },
   {
    "duration": 40,
    "start_time": "2022-05-13T15:10:32.652Z"
   },
   {
    "duration": 26,
    "start_time": "2022-05-13T15:10:32.695Z"
   },
   {
    "duration": 1971,
    "start_time": "2022-05-13T15:10:32.723Z"
   },
   {
    "duration": 407,
    "start_time": "2022-05-13T15:10:34.698Z"
   },
   {
    "duration": 112,
    "start_time": "2022-05-13T15:10:35.109Z"
   },
   {
    "duration": 41,
    "start_time": "2022-05-13T15:10:35.224Z"
   },
   {
    "duration": 7,
    "start_time": "2022-05-13T15:10:35.268Z"
   },
   {
    "duration": 10,
    "start_time": "2022-05-13T15:10:35.278Z"
   },
   {
    "duration": 9,
    "start_time": "2022-05-13T15:10:35.291Z"
   },
   {
    "duration": 7,
    "start_time": "2022-05-13T15:10:35.303Z"
   },
   {
    "duration": 6272,
    "start_time": "2022-05-13T15:10:35.312Z"
   },
   {
    "duration": 176852,
    "start_time": "2022-05-13T15:10:41.586Z"
   },
   {
    "duration": 1326,
    "start_time": "2022-05-13T15:13:38.441Z"
   },
   {
    "duration": 105,
    "start_time": "2022-05-13T15:13:39.773Z"
   },
   {
    "duration": 218,
    "start_time": "2022-05-13T15:13:39.881Z"
   },
   {
    "duration": 29165,
    "start_time": "2022-05-13T15:13:40.102Z"
   },
   {
    "duration": 186190,
    "start_time": "2022-05-13T15:14:09.270Z"
   },
   {
    "duration": 443210,
    "start_time": "2022-05-13T15:17:15.462Z"
   },
   {
    "duration": 21,
    "start_time": "2022-05-13T15:24:38.675Z"
   },
   {
    "duration": 17,
    "start_time": "2022-05-13T15:24:57.185Z"
   },
   {
    "duration": 251,
    "start_time": "2022-05-13T15:25:18.825Z"
   },
   {
    "duration": 27,
    "start_time": "2022-05-13T15:26:31.833Z"
   },
   {
    "duration": 24,
    "start_time": "2022-05-13T15:29:28.833Z"
   },
   {
    "duration": 1529,
    "start_time": "2022-05-13T15:29:30.623Z"
   },
   {
    "duration": 232,
    "start_time": "2022-05-13T15:29:33.933Z"
   },
   {
    "duration": 82,
    "start_time": "2022-05-13T15:29:35.946Z"
   },
   {
    "duration": 22,
    "start_time": "2022-05-13T15:29:37.249Z"
   },
   {
    "duration": 4,
    "start_time": "2022-05-13T15:29:39.898Z"
   },
   {
    "duration": 4,
    "start_time": "2022-05-13T15:29:41.402Z"
   },
   {
    "duration": 4,
    "start_time": "2022-05-13T15:29:45.462Z"
   },
   {
    "duration": 1514,
    "start_time": "2022-05-13T15:29:48.437Z"
   },
   {
    "duration": 4162,
    "start_time": "2022-05-14T11:51:04.917Z"
   },
   {
    "duration": 4571,
    "start_time": "2022-05-14T11:51:09.082Z"
   },
   {
    "duration": 407,
    "start_time": "2022-05-14T11:51:13.657Z"
   },
   {
    "duration": 828,
    "start_time": "2022-05-14T11:51:14.068Z"
   },
   {
    "duration": 283,
    "start_time": "2022-05-14T11:51:14.898Z"
   },
   {
    "duration": 393,
    "start_time": "2022-05-14T11:51:15.184Z"
   },
   {
    "duration": 284,
    "start_time": "2022-05-14T11:51:15.579Z"
   },
   {
    "duration": 297,
    "start_time": "2022-05-14T11:51:15.866Z"
   },
   {
    "duration": 23,
    "start_time": "2022-05-14T11:51:16.168Z"
   },
   {
    "duration": 202,
    "start_time": "2022-05-14T11:51:16.195Z"
   },
   {
    "duration": 235,
    "start_time": "2022-05-14T11:51:16.452Z"
   },
   {
    "duration": 81,
    "start_time": "2022-05-14T11:51:16.689Z"
   },
   {
    "duration": 190,
    "start_time": "2022-05-14T11:51:16.773Z"
   },
   {
    "duration": 318,
    "start_time": "2022-05-14T11:51:16.966Z"
   },
   {
    "duration": 72,
    "start_time": "2022-05-14T11:51:17.286Z"
   },
   {
    "duration": 206,
    "start_time": "2022-05-14T11:51:17.361Z"
   },
   {
    "duration": 211,
    "start_time": "2022-05-14T11:51:17.570Z"
   },
   {
    "duration": 71,
    "start_time": "2022-05-14T11:51:17.783Z"
   },
   {
    "duration": 28,
    "start_time": "2022-05-14T11:51:17.857Z"
   },
   {
    "duration": 2077,
    "start_time": "2022-05-14T11:51:17.887Z"
   },
   {
    "duration": 191,
    "start_time": "2022-05-14T11:51:19.967Z"
   },
   {
    "duration": 6,
    "start_time": "2022-05-14T11:51:20.161Z"
   },
   {
    "duration": 8,
    "start_time": "2022-05-14T11:51:20.170Z"
   },
   {
    "duration": 98,
    "start_time": "2022-05-14T11:51:20.181Z"
   },
   {
    "duration": 175,
    "start_time": "2022-05-14T11:51:20.282Z"
   },
   {
    "duration": 1900,
    "start_time": "2022-05-14T11:51:20.461Z"
   },
   {
    "duration": 230,
    "start_time": "2022-05-14T11:51:22.365Z"
   },
   {
    "duration": 500,
    "start_time": "2022-05-14T11:51:22.656Z"
   },
   {
    "duration": 115,
    "start_time": "2022-05-14T11:51:23.160Z"
   },
   {
    "duration": 175,
    "start_time": "2022-05-14T11:51:23.278Z"
   },
   {
    "duration": 442,
    "start_time": "2022-05-14T11:51:23.456Z"
   },
   {
    "duration": 26,
    "start_time": "2022-05-14T11:51:23.953Z"
   },
   {
    "duration": 90,
    "start_time": "2022-05-14T11:51:23.982Z"
   },
   {
    "duration": 219,
    "start_time": "2022-05-14T11:51:24.074Z"
   },
   {
    "duration": 482,
    "start_time": "2022-05-14T11:51:24.295Z"
   },
   {
    "duration": 74,
    "start_time": "2022-05-14T11:51:24.780Z"
   },
   {
    "duration": 109,
    "start_time": "2022-05-14T11:51:24.857Z"
   },
   {
    "duration": 582,
    "start_time": "2022-05-14T11:51:24.970Z"
   },
   {
    "duration": 217,
    "start_time": "2022-05-14T11:51:25.557Z"
   },
   {
    "duration": 206,
    "start_time": "2022-05-14T11:51:25.777Z"
   },
   {
    "duration": 79,
    "start_time": "2022-05-14T11:51:25.986Z"
   },
   {
    "duration": 115,
    "start_time": "2022-05-14T11:51:26.067Z"
   },
   {
    "duration": 494,
    "start_time": "2022-05-14T11:51:26.185Z"
   },
   {
    "duration": 272,
    "start_time": "2022-05-14T11:51:26.682Z"
   },
   {
    "duration": 929,
    "start_time": "2022-05-14T11:51:26.956Z"
   },
   {
    "duration": 1093,
    "start_time": "2022-05-14T11:51:27.888Z"
   },
   {
    "duration": 6,
    "start_time": "2022-05-14T11:51:28.983Z"
   },
   {
    "duration": 91,
    "start_time": "2022-05-14T11:51:28.992Z"
   },
   {
    "duration": 86,
    "start_time": "2022-05-14T11:51:29.086Z"
   },
   {
    "duration": 4679,
    "start_time": "2022-05-14T11:51:29.176Z"
   },
   {
    "duration": 521,
    "start_time": "2022-05-14T11:51:33.859Z"
   },
   {
    "duration": 182,
    "start_time": "2022-05-14T11:51:34.383Z"
   },
   {
    "duration": 27,
    "start_time": "2022-05-14T11:51:34.568Z"
   },
   {
    "duration": 60,
    "start_time": "2022-05-14T11:51:34.597Z"
   },
   {
    "duration": 17,
    "start_time": "2022-05-14T11:51:34.660Z"
   },
   {
    "duration": 12,
    "start_time": "2022-05-14T11:51:34.679Z"
   },
   {
    "duration": 86,
    "start_time": "2022-05-14T11:51:34.693Z"
   },
   {
    "duration": 15398,
    "start_time": "2022-05-14T11:51:34.782Z"
   },
   {
    "duration": 392170,
    "start_time": "2022-05-14T11:51:50.183Z"
   },
   {
    "duration": 1510,
    "start_time": "2022-05-14T11:58:22.355Z"
   },
   {
    "duration": 100,
    "start_time": "2022-05-14T11:58:23.954Z"
   },
   {
    "duration": 295,
    "start_time": "2022-05-14T11:58:24.057Z"
   },
   {
    "duration": 48574,
    "start_time": "2022-05-14T11:58:24.355Z"
   },
   {
    "duration": 440928,
    "start_time": "2022-05-14T11:59:12.932Z"
   },
   {
    "duration": 950099,
    "start_time": "2022-05-14T12:06:33.862Z"
   },
   {
    "duration": 198,
    "start_time": "2022-05-14T12:22:23.963Z"
   },
   {
    "duration": 139,
    "start_time": "2022-05-14T13:26:07.493Z"
   },
   {
    "duration": 105,
    "start_time": "2022-05-15T17:24:31.500Z"
   },
   {
    "duration": 3780,
    "start_time": "2022-05-15T17:24:49.355Z"
   },
   {
    "duration": 2410,
    "start_time": "2022-05-15T17:24:53.138Z"
   },
   {
    "duration": 229,
    "start_time": "2022-05-15T17:24:55.551Z"
   },
   {
    "duration": 457,
    "start_time": "2022-05-15T17:24:55.783Z"
   },
   {
    "duration": 137,
    "start_time": "2022-05-15T17:24:56.242Z"
   },
   {
    "duration": 5013,
    "start_time": "2022-05-15T17:25:01.388Z"
   },
   {
    "duration": 44,
    "start_time": "2022-05-15T17:27:47.704Z"
   },
   {
    "duration": 97,
    "start_time": "2022-05-15T17:28:02.359Z"
   },
   {
    "duration": 112,
    "start_time": "2022-05-15T17:28:08.688Z"
   },
   {
    "duration": 6,
    "start_time": "2022-05-15T17:29:27.637Z"
   },
   {
    "duration": 97,
    "start_time": "2022-05-15T17:29:34.428Z"
   },
   {
    "duration": 163,
    "start_time": "2022-05-15T17:32:38.319Z"
   },
   {
    "duration": 86,
    "start_time": "2022-05-15T17:33:36.507Z"
   },
   {
    "duration": 1921,
    "start_time": "2022-05-16T17:25:35.650Z"
   },
   {
    "duration": 1743,
    "start_time": "2022-05-16T17:25:37.574Z"
   },
   {
    "duration": 147,
    "start_time": "2022-05-16T17:25:39.318Z"
   },
   {
    "duration": 293,
    "start_time": "2022-05-16T17:25:39.471Z"
   },
   {
    "duration": 105,
    "start_time": "2022-05-16T17:25:39.766Z"
   },
   {
    "duration": 71,
    "start_time": "2022-05-16T17:25:39.873Z"
   },
   {
    "duration": 111,
    "start_time": "2022-05-16T17:25:39.964Z"
   },
   {
    "duration": 114,
    "start_time": "2022-05-16T17:25:40.077Z"
   },
   {
    "duration": 102,
    "start_time": "2022-05-16T17:25:40.193Z"
   },
   {
    "duration": 21,
    "start_time": "2022-05-16T17:25:40.298Z"
   },
   {
    "duration": 70,
    "start_time": "2022-05-16T17:25:40.321Z"
   },
   {
    "duration": 96,
    "start_time": "2022-05-16T17:25:40.392Z"
   },
   {
    "duration": 19,
    "start_time": "2022-05-16T17:25:40.490Z"
   },
   {
    "duration": 59,
    "start_time": "2022-05-16T17:25:40.511Z"
   },
   {
    "duration": 113,
    "start_time": "2022-05-16T17:25:40.571Z"
   },
   {
    "duration": 18,
    "start_time": "2022-05-16T17:25:40.686Z"
   },
   {
    "duration": 58,
    "start_time": "2022-05-16T17:25:40.706Z"
   },
   {
    "duration": 75,
    "start_time": "2022-05-16T17:25:40.766Z"
   },
   {
    "duration": 35,
    "start_time": "2022-05-16T17:25:40.843Z"
   },
   {
    "duration": 19,
    "start_time": "2022-05-16T17:25:40.880Z"
   },
   {
    "duration": 658,
    "start_time": "2022-05-16T17:25:40.901Z"
   },
   {
    "duration": 49,
    "start_time": "2022-05-16T17:25:41.561Z"
   },
   {
    "duration": 4,
    "start_time": "2022-05-16T17:25:41.611Z"
   },
   {
    "duration": 7,
    "start_time": "2022-05-16T17:25:41.617Z"
   },
   {
    "duration": 50,
    "start_time": "2022-05-16T17:25:41.626Z"
   },
   {
    "duration": 41,
    "start_time": "2022-05-16T17:25:41.678Z"
   },
   {
    "duration": 587,
    "start_time": "2022-05-16T17:25:41.721Z"
   },
   {
    "duration": 102,
    "start_time": "2022-05-16T17:25:42.311Z"
   },
   {
    "duration": 166,
    "start_time": "2022-05-16T17:25:42.414Z"
   },
   {
    "duration": 29,
    "start_time": "2022-05-16T17:25:42.582Z"
   },
   {
    "duration": 29,
    "start_time": "2022-05-16T17:25:42.613Z"
   },
   {
    "duration": 141,
    "start_time": "2022-05-16T17:25:42.663Z"
   },
   {
    "duration": 231,
    "start_time": "2022-05-16T17:26:31.078Z"
   },
   {
    "duration": 113,
    "start_time": "2022-05-16T17:26:38.909Z"
   },
   {
    "duration": 119,
    "start_time": "2022-05-16T17:27:29.993Z"
   },
   {
    "duration": 109,
    "start_time": "2022-05-16T17:28:26.952Z"
   },
   {
    "duration": 98,
    "start_time": "2022-05-16T17:28:42.503Z"
   },
   {
    "duration": 273,
    "start_time": "2022-05-16T17:32:24.770Z"
   },
   {
    "duration": 162,
    "start_time": "2022-05-16T17:32:31.191Z"
   },
   {
    "duration": 186,
    "start_time": "2022-05-16T17:32:43.837Z"
   },
   {
    "duration": 207,
    "start_time": "2022-05-16T17:33:05.680Z"
   },
   {
    "duration": 153,
    "start_time": "2022-05-16T17:33:20.731Z"
   },
   {
    "duration": 147,
    "start_time": "2022-05-16T17:33:28.829Z"
   },
   {
    "duration": 154,
    "start_time": "2022-05-16T17:33:38.490Z"
   },
   {
    "duration": 143,
    "start_time": "2022-05-16T17:33:47.834Z"
   },
   {
    "duration": 134,
    "start_time": "2022-05-16T17:33:52.403Z"
   },
   {
    "duration": 134,
    "start_time": "2022-05-16T17:34:05.858Z"
   },
   {
    "duration": 129,
    "start_time": "2022-05-16T17:34:11.023Z"
   },
   {
    "duration": 21,
    "start_time": "2022-05-16T17:34:54.169Z"
   },
   {
    "duration": 20,
    "start_time": "2022-05-16T17:35:06.311Z"
   },
   {
    "duration": 11,
    "start_time": "2022-05-16T17:35:13.311Z"
   },
   {
    "duration": 12,
    "start_time": "2022-05-16T17:35:17.846Z"
   },
   {
    "duration": 20,
    "start_time": "2022-05-16T17:36:41.817Z"
   },
   {
    "duration": 23,
    "start_time": "2022-05-16T17:37:14.663Z"
   },
   {
    "duration": 19,
    "start_time": "2022-05-16T17:37:36.066Z"
   },
   {
    "duration": 34,
    "start_time": "2022-05-16T17:44:23.591Z"
   },
   {
    "duration": 18,
    "start_time": "2022-05-16T17:44:27.503Z"
   },
   {
    "duration": 32,
    "start_time": "2022-05-16T17:45:02.931Z"
   },
   {
    "duration": 18,
    "start_time": "2022-05-16T17:45:05.735Z"
   },
   {
    "duration": 32,
    "start_time": "2022-05-16T17:45:23.675Z"
   },
   {
    "duration": 17,
    "start_time": "2022-05-16T17:45:25.686Z"
   },
   {
    "duration": 173,
    "start_time": "2022-05-16T17:45:45.189Z"
   },
   {
    "duration": 13,
    "start_time": "2022-05-16T17:45:49.972Z"
   },
   {
    "duration": 16,
    "start_time": "2022-05-16T17:46:40.722Z"
   },
   {
    "duration": 1849,
    "start_time": "2022-05-16T17:49:15.304Z"
   },
   {
    "duration": 1896,
    "start_time": "2022-05-16T17:49:17.155Z"
   },
   {
    "duration": 157,
    "start_time": "2022-05-16T17:49:19.053Z"
   },
   {
    "duration": 332,
    "start_time": "2022-05-16T17:49:19.212Z"
   },
   {
    "duration": 123,
    "start_time": "2022-05-16T17:49:19.546Z"
   },
   {
    "duration": 71,
    "start_time": "2022-05-16T17:49:19.671Z"
   },
   {
    "duration": 130,
    "start_time": "2022-05-16T17:49:19.744Z"
   },
   {
    "duration": 96,
    "start_time": "2022-05-16T17:49:19.876Z"
   },
   {
    "duration": 100,
    "start_time": "2022-05-16T17:49:19.973Z"
   },
   {
    "duration": 20,
    "start_time": "2022-05-16T17:49:20.077Z"
   },
   {
    "duration": 70,
    "start_time": "2022-05-16T17:49:20.099Z"
   },
   {
    "duration": 92,
    "start_time": "2022-05-16T17:49:20.171Z"
   },
   {
    "duration": 20,
    "start_time": "2022-05-16T17:49:20.265Z"
   },
   {
    "duration": 49,
    "start_time": "2022-05-16T17:49:20.286Z"
   },
   {
    "duration": 111,
    "start_time": "2022-05-16T17:49:20.337Z"
   },
   {
    "duration": 32,
    "start_time": "2022-05-16T17:49:20.449Z"
   },
   {
    "duration": 48,
    "start_time": "2022-05-16T17:49:20.482Z"
   },
   {
    "duration": 94,
    "start_time": "2022-05-16T17:49:20.532Z"
   },
   {
    "duration": 18,
    "start_time": "2022-05-16T17:49:20.628Z"
   },
   {
    "duration": 26,
    "start_time": "2022-05-16T17:49:20.656Z"
   },
   {
    "duration": 659,
    "start_time": "2022-05-16T17:49:20.684Z"
   },
   {
    "duration": 54,
    "start_time": "2022-05-16T17:49:21.345Z"
   },
   {
    "duration": 3,
    "start_time": "2022-05-16T17:49:21.401Z"
   },
   {
    "duration": 8,
    "start_time": "2022-05-16T17:49:21.406Z"
   },
   {
    "duration": 41,
    "start_time": "2022-05-16T17:49:21.416Z"
   },
   {
    "duration": 50,
    "start_time": "2022-05-16T17:49:21.460Z"
   },
   {
    "duration": 585,
    "start_time": "2022-05-16T17:49:21.512Z"
   },
   {
    "duration": 102,
    "start_time": "2022-05-16T17:49:22.100Z"
   },
   {
    "duration": 167,
    "start_time": "2022-05-16T17:49:22.204Z"
   },
   {
    "duration": 32,
    "start_time": "2022-05-16T17:49:22.373Z"
   },
   {
    "duration": 33,
    "start_time": "2022-05-16T17:49:22.406Z"
   },
   {
    "duration": 161,
    "start_time": "2022-05-16T17:49:22.440Z"
   },
   {
    "duration": 145,
    "start_time": "2022-05-16T17:49:22.603Z"
   },
   {
    "duration": 29,
    "start_time": "2022-05-16T17:49:22.750Z"
   },
   {
    "duration": 11,
    "start_time": "2022-05-16T17:49:22.780Z"
   },
   {
    "duration": 32,
    "start_time": "2022-05-16T17:49:45.575Z"
   },
   {
    "duration": 12,
    "start_time": "2022-05-16T17:49:48.796Z"
   },
   {
    "duration": 27,
    "start_time": "2022-05-16T17:49:59.021Z"
   },
   {
    "duration": 15,
    "start_time": "2022-05-16T17:50:00.553Z"
   },
   {
    "duration": 16,
    "start_time": "2022-05-16T17:50:09.739Z"
   },
   {
    "duration": 10,
    "start_time": "2022-05-16T17:50:24.076Z"
   },
   {
    "duration": 77,
    "start_time": "2022-05-16T17:51:36.807Z"
   },
   {
    "duration": 12,
    "start_time": "2022-05-16T17:51:40.694Z"
   },
   {
    "duration": 16,
    "start_time": "2022-05-16T17:58:01.226Z"
   },
   {
    "duration": 134,
    "start_time": "2022-05-16T18:01:27.593Z"
   },
   {
    "duration": 135,
    "start_time": "2022-05-16T18:01:34.501Z"
   },
   {
    "duration": 424,
    "start_time": "2022-05-16T18:02:23.916Z"
   },
   {
    "duration": 11,
    "start_time": "2022-05-16T18:02:28.251Z"
   },
   {
    "duration": 318,
    "start_time": "2022-05-16T18:02:30.942Z"
   },
   {
    "duration": 470,
    "start_time": "2022-05-16T18:02:54.002Z"
   },
   {
    "duration": 133,
    "start_time": "2022-05-16T18:03:27.299Z"
   },
   {
    "duration": 101,
    "start_time": "2022-05-16T18:04:21.065Z"
   },
   {
    "duration": 103,
    "start_time": "2022-05-16T18:04:34.973Z"
   },
   {
    "duration": 25,
    "start_time": "2022-05-16T18:05:49.827Z"
   },
   {
    "duration": 73,
    "start_time": "2022-05-16T18:07:54.015Z"
   },
   {
    "duration": 13,
    "start_time": "2022-05-16T18:07:55.665Z"
   },
   {
    "duration": 152,
    "start_time": "2022-05-16T18:08:00.683Z"
   },
   {
    "duration": 101,
    "start_time": "2022-05-16T18:08:28.574Z"
   },
   {
    "duration": 5,
    "start_time": "2022-05-16T18:14:30.462Z"
   },
   {
    "duration": 1688,
    "start_time": "2022-05-16T18:14:30.521Z"
   },
   {
    "duration": 137,
    "start_time": "2022-05-16T18:14:32.211Z"
   },
   {
    "duration": 231,
    "start_time": "2022-05-16T18:14:32.350Z"
   },
   {
    "duration": 98,
    "start_time": "2022-05-16T18:14:32.583Z"
   },
   {
    "duration": 82,
    "start_time": "2022-05-16T18:14:32.683Z"
   },
   {
    "duration": 107,
    "start_time": "2022-05-16T18:14:32.767Z"
   },
   {
    "duration": 109,
    "start_time": "2022-05-16T18:14:32.876Z"
   },
   {
    "duration": 84,
    "start_time": "2022-05-16T18:14:32.986Z"
   },
   {
    "duration": 18,
    "start_time": "2022-05-16T18:14:33.072Z"
   },
   {
    "duration": 73,
    "start_time": "2022-05-16T18:14:33.092Z"
   },
   {
    "duration": 75,
    "start_time": "2022-05-16T18:14:33.166Z"
   },
   {
    "duration": 23,
    "start_time": "2022-05-16T18:14:33.243Z"
   },
   {
    "duration": 51,
    "start_time": "2022-05-16T18:14:33.267Z"
   },
   {
    "duration": 109,
    "start_time": "2022-05-16T18:14:33.322Z"
   },
   {
    "duration": 24,
    "start_time": "2022-05-16T18:14:33.433Z"
   },
   {
    "duration": 43,
    "start_time": "2022-05-16T18:14:33.459Z"
   },
   {
    "duration": 89,
    "start_time": "2022-05-16T18:14:33.504Z"
   },
   {
    "duration": 18,
    "start_time": "2022-05-16T18:14:33.595Z"
   },
   {
    "duration": 22,
    "start_time": "2022-05-16T18:14:33.615Z"
   },
   {
    "duration": 547,
    "start_time": "2022-05-16T18:14:33.638Z"
   },
   {
    "duration": 45,
    "start_time": "2022-05-16T18:14:34.187Z"
   },
   {
    "duration": 24,
    "start_time": "2022-05-16T18:14:34.234Z"
   },
   {
    "duration": 18,
    "start_time": "2022-05-16T18:14:34.259Z"
   },
   {
    "duration": 22,
    "start_time": "2022-05-16T18:14:34.279Z"
   },
   {
    "duration": 52,
    "start_time": "2022-05-16T18:14:34.302Z"
   },
   {
    "duration": 650,
    "start_time": "2022-05-16T18:14:34.356Z"
   },
   {
    "duration": 102,
    "start_time": "2022-05-16T18:14:35.008Z"
   },
   {
    "duration": 157,
    "start_time": "2022-05-16T18:14:35.111Z"
   },
   {
    "duration": 31,
    "start_time": "2022-05-16T18:14:35.270Z"
   },
   {
    "duration": 27,
    "start_time": "2022-05-16T18:14:35.303Z"
   },
   {
    "duration": 168,
    "start_time": "2022-05-16T18:14:35.331Z"
   },
   {
    "duration": 138,
    "start_time": "2022-05-16T18:14:35.501Z"
   },
   {
    "duration": 32,
    "start_time": "2022-05-16T18:14:35.641Z"
   },
   {
    "duration": 17,
    "start_time": "2022-05-16T18:14:35.674Z"
   },
   {
    "duration": 29,
    "start_time": "2022-05-16T18:14:35.693Z"
   },
   {
    "duration": 98,
    "start_time": "2022-05-16T18:14:35.724Z"
   },
   {
    "duration": 34,
    "start_time": "2022-05-16T18:14:35.824Z"
   },
   {
    "duration": 113,
    "start_time": "2022-05-16T18:14:35.860Z"
   },
   {
    "duration": 26,
    "start_time": "2022-05-16T18:14:35.975Z"
   },
   {
    "duration": 98,
    "start_time": "2022-05-16T18:14:36.003Z"
   },
   {
    "duration": 162,
    "start_time": "2022-05-16T18:14:36.106Z"
   },
   {
    "duration": 67,
    "start_time": "2022-05-16T18:14:36.270Z"
   },
   {
    "duration": 81,
    "start_time": "2022-05-16T18:14:36.339Z"
   },
   {
    "duration": 36,
    "start_time": "2022-05-16T18:14:36.422Z"
   },
   {
    "duration": 30,
    "start_time": "2022-05-16T18:14:36.460Z"
   },
   {
    "duration": 173,
    "start_time": "2022-05-16T18:14:36.492Z"
   },
   {
    "duration": 71,
    "start_time": "2022-05-16T18:14:36.667Z"
   },
   {
    "duration": 255,
    "start_time": "2022-05-16T18:14:36.740Z"
   },
   {
    "duration": 294,
    "start_time": "2022-05-16T18:14:36.996Z"
   },
   {
    "duration": 5,
    "start_time": "2022-05-16T18:14:37.291Z"
   },
   {
    "duration": 21,
    "start_time": "2022-05-16T18:14:37.297Z"
   },
   {
    "duration": 17,
    "start_time": "2022-05-16T18:14:37.320Z"
   },
   {
    "duration": 1187,
    "start_time": "2022-05-16T18:14:37.356Z"
   },
   {
    "duration": 59,
    "start_time": "2022-05-16T18:14:41.915Z"
   },
   {
    "duration": 161,
    "start_time": "2022-05-16T18:15:30.945Z"
   },
   {
    "duration": 14,
    "start_time": "2022-05-16T18:15:45.498Z"
   },
   {
    "duration": 15,
    "start_time": "2022-05-16T18:16:01.872Z"
   },
   {
    "duration": 4,
    "start_time": "2022-05-16T18:17:23.359Z"
   },
   {
    "duration": 5,
    "start_time": "2022-05-16T18:17:37.894Z"
   },
   {
    "duration": 3,
    "start_time": "2022-05-16T18:17:48.641Z"
   },
   {
    "duration": 14,
    "start_time": "2022-05-16T18:18:08.542Z"
   },
   {
    "duration": 14,
    "start_time": "2022-05-16T18:18:15.439Z"
   },
   {
    "duration": 3,
    "start_time": "2022-05-16T18:22:50.913Z"
   },
   {
    "duration": 48,
    "start_time": "2022-05-16T18:37:47.600Z"
   },
   {
    "duration": 36,
    "start_time": "2022-05-16T18:37:55.363Z"
   },
   {
    "duration": 15,
    "start_time": "2022-05-16T18:38:57.767Z"
   },
   {
    "duration": 834,
    "start_time": "2022-05-16T18:38:59.518Z"
   },
   {
    "duration": 2467,
    "start_time": "2022-05-16T18:39:18.194Z"
   },
   {
    "duration": 2442,
    "start_time": "2022-05-16T18:39:20.663Z"
   },
   {
    "duration": 143,
    "start_time": "2022-05-16T18:39:23.106Z"
   },
   {
    "duration": 293,
    "start_time": "2022-05-16T18:39:23.257Z"
   },
   {
    "duration": 106,
    "start_time": "2022-05-16T18:39:23.552Z"
   },
   {
    "duration": 73,
    "start_time": "2022-05-16T18:39:23.660Z"
   },
   {
    "duration": 133,
    "start_time": "2022-05-16T18:39:23.735Z"
   },
   {
    "duration": 93,
    "start_time": "2022-05-16T18:39:23.870Z"
   },
   {
    "duration": 76,
    "start_time": "2022-05-16T18:39:23.965Z"
   },
   {
    "duration": 19,
    "start_time": "2022-05-16T18:39:24.056Z"
   },
   {
    "duration": 57,
    "start_time": "2022-05-16T18:39:24.077Z"
   },
   {
    "duration": 86,
    "start_time": "2022-05-16T18:39:24.136Z"
   },
   {
    "duration": 33,
    "start_time": "2022-05-16T18:39:24.224Z"
   },
   {
    "duration": 78,
    "start_time": "2022-05-16T18:39:24.258Z"
   },
   {
    "duration": 100,
    "start_time": "2022-05-16T18:39:24.338Z"
   },
   {
    "duration": 19,
    "start_time": "2022-05-16T18:39:24.440Z"
   },
   {
    "duration": 65,
    "start_time": "2022-05-16T18:39:24.461Z"
   },
   {
    "duration": 74,
    "start_time": "2022-05-16T18:39:24.527Z"
   },
   {
    "duration": 18,
    "start_time": "2022-05-16T18:39:24.603Z"
   },
   {
    "duration": 24,
    "start_time": "2022-05-16T18:39:24.622Z"
   },
   {
    "duration": 621,
    "start_time": "2022-05-16T18:39:24.656Z"
   },
   {
    "duration": 42,
    "start_time": "2022-05-16T18:39:25.278Z"
   },
   {
    "duration": 4,
    "start_time": "2022-05-16T18:39:25.322Z"
   },
   {
    "duration": 7,
    "start_time": "2022-05-16T18:39:25.327Z"
   },
   {
    "duration": 39,
    "start_time": "2022-05-16T18:39:25.335Z"
   },
   {
    "duration": 43,
    "start_time": "2022-05-16T18:39:25.376Z"
   },
   {
    "duration": 569,
    "start_time": "2022-05-16T18:39:25.420Z"
   },
   {
    "duration": 103,
    "start_time": "2022-05-16T18:39:25.993Z"
   },
   {
    "duration": 155,
    "start_time": "2022-05-16T18:39:26.098Z"
   },
   {
    "duration": 32,
    "start_time": "2022-05-16T18:39:26.256Z"
   },
   {
    "duration": 34,
    "start_time": "2022-05-16T18:39:26.290Z"
   },
   {
    "duration": 157,
    "start_time": "2022-05-16T18:39:26.325Z"
   },
   {
    "duration": 134,
    "start_time": "2022-05-16T18:39:26.484Z"
   },
   {
    "duration": 21,
    "start_time": "2022-05-16T18:39:26.620Z"
   },
   {
    "duration": 26,
    "start_time": "2022-05-16T18:39:26.642Z"
   },
   {
    "duration": 39,
    "start_time": "2022-05-16T18:39:26.669Z"
   },
   {
    "duration": 88,
    "start_time": "2022-05-16T18:39:26.710Z"
   },
   {
    "duration": 15,
    "start_time": "2022-05-16T18:39:26.800Z"
   },
   {
    "duration": 112,
    "start_time": "2022-05-16T18:39:26.817Z"
   },
   {
    "duration": 33,
    "start_time": "2022-05-16T18:39:26.930Z"
   },
   {
    "duration": 73,
    "start_time": "2022-05-16T18:39:26.964Z"
   },
   {
    "duration": 167,
    "start_time": "2022-05-16T18:39:27.038Z"
   },
   {
    "duration": 71,
    "start_time": "2022-05-16T18:39:27.207Z"
   },
   {
    "duration": 60,
    "start_time": "2022-05-16T18:39:27.280Z"
   },
   {
    "duration": 29,
    "start_time": "2022-05-16T18:39:27.342Z"
   },
   {
    "duration": 29,
    "start_time": "2022-05-16T18:39:27.373Z"
   },
   {
    "duration": 171,
    "start_time": "2022-05-16T18:39:27.404Z"
   },
   {
    "duration": 80,
    "start_time": "2022-05-16T18:39:27.577Z"
   },
   {
    "duration": 241,
    "start_time": "2022-05-16T18:39:27.658Z"
   },
   {
    "duration": 298,
    "start_time": "2022-05-16T18:39:27.900Z"
   },
   {
    "duration": 4,
    "start_time": "2022-05-16T18:39:28.200Z"
   },
   {
    "duration": 28,
    "start_time": "2022-05-16T18:39:28.206Z"
   },
   {
    "duration": 26,
    "start_time": "2022-05-16T18:39:28.236Z"
   },
   {
    "duration": 988,
    "start_time": "2022-05-16T18:39:30.396Z"
   },
   {
    "duration": 882,
    "start_time": "2022-05-16T18:40:13.034Z"
   },
   {
    "duration": 12,
    "start_time": "2022-05-16T18:41:18.933Z"
   },
   {
    "duration": 804,
    "start_time": "2022-05-16T18:42:42.935Z"
   },
   {
    "duration": 380,
    "start_time": "2022-05-16T18:43:15.983Z"
   },
   {
    "duration": 5,
    "start_time": "2022-05-16T18:43:18.596Z"
   },
   {
    "duration": 153,
    "start_time": "2022-05-16T18:43:20.847Z"
   },
   {
    "duration": 74,
    "start_time": "2022-05-16T18:43:23.105Z"
   },
   {
    "duration": 77,
    "start_time": "2022-05-16T18:43:28.455Z"
   },
   {
    "duration": 80,
    "start_time": "2022-05-16T18:43:37.776Z"
   },
   {
    "duration": 111,
    "start_time": "2022-05-16T18:44:03.746Z"
   },
   {
    "duration": 3,
    "start_time": "2022-05-16T18:44:17.669Z"
   },
   {
    "duration": 3,
    "start_time": "2022-05-16T18:44:19.201Z"
   },
   {
    "duration": 3,
    "start_time": "2022-05-16T18:44:21.218Z"
   },
   {
    "duration": 10098,
    "start_time": "2022-05-16T18:44:23.110Z"
   },
   {
    "duration": 158,
    "start_time": "2022-05-16T18:45:57.232Z"
   },
   {
    "duration": 76,
    "start_time": "2022-05-16T18:46:06.651Z"
   },
   {
    "duration": 150,
    "start_time": "2022-05-16T18:46:09.120Z"
   },
   {
    "duration": 77,
    "start_time": "2022-05-16T18:46:10.656Z"
   },
   {
    "duration": 325,
    "start_time": "2022-05-16T18:46:15.213Z"
   },
   {
    "duration": 75,
    "start_time": "2022-05-16T18:46:18.043Z"
   },
   {
    "duration": 80,
    "start_time": "2022-05-16T18:46:33.536Z"
   },
   {
    "duration": 149,
    "start_time": "2022-05-16T18:46:41.053Z"
   },
   {
    "duration": 79,
    "start_time": "2022-05-16T18:47:16.019Z"
   },
   {
    "duration": 155,
    "start_time": "2022-05-16T18:47:31.485Z"
   },
   {
    "duration": 182,
    "start_time": "2022-05-16T18:47:34.990Z"
   },
   {
    "duration": 74,
    "start_time": "2022-05-16T18:47:39.708Z"
   },
   {
    "duration": 77,
    "start_time": "2022-05-16T18:47:42.037Z"
   },
   {
    "duration": 7,
    "start_time": "2022-05-16T18:48:24.247Z"
   },
   {
    "duration": 305,
    "start_time": "2022-05-16T18:48:37.034Z"
   },
   {
    "duration": 4,
    "start_time": "2022-05-16T18:48:38.615Z"
   },
   {
    "duration": 72,
    "start_time": "2022-05-16T18:48:40.410Z"
   },
   {
    "duration": 78,
    "start_time": "2022-05-16T18:48:42.135Z"
   },
   {
    "duration": 78,
    "start_time": "2022-05-16T18:48:44.817Z"
   },
   {
    "duration": 9,
    "start_time": "2022-05-16T18:48:46.992Z"
   },
   {
    "duration": 1704,
    "start_time": "2022-05-16T18:48:55.140Z"
   },
   {
    "duration": 1784,
    "start_time": "2022-05-16T18:48:56.846Z"
   },
   {
    "duration": 145,
    "start_time": "2022-05-16T18:48:58.632Z"
   },
   {
    "duration": 310,
    "start_time": "2022-05-16T18:48:58.779Z"
   },
   {
    "duration": 105,
    "start_time": "2022-05-16T18:48:59.092Z"
   },
   {
    "duration": 84,
    "start_time": "2022-05-16T18:48:59.199Z"
   },
   {
    "duration": 114,
    "start_time": "2022-05-16T18:48:59.284Z"
   },
   {
    "duration": 93,
    "start_time": "2022-05-16T18:48:59.400Z"
   },
   {
    "duration": 84,
    "start_time": "2022-05-16T18:48:59.495Z"
   },
   {
    "duration": 17,
    "start_time": "2022-05-16T18:48:59.582Z"
   },
   {
    "duration": 70,
    "start_time": "2022-05-16T18:48:59.601Z"
   },
   {
    "duration": 76,
    "start_time": "2022-05-16T18:48:59.673Z"
   },
   {
    "duration": 19,
    "start_time": "2022-05-16T18:48:59.757Z"
   },
   {
    "duration": 47,
    "start_time": "2022-05-16T18:48:59.778Z"
   },
   {
    "duration": 115,
    "start_time": "2022-05-16T18:48:59.827Z"
   },
   {
    "duration": 27,
    "start_time": "2022-05-16T18:48:59.944Z"
   },
   {
    "duration": 46,
    "start_time": "2022-05-16T18:48:59.973Z"
   },
   {
    "duration": 92,
    "start_time": "2022-05-16T18:49:00.021Z"
   },
   {
    "duration": 18,
    "start_time": "2022-05-16T18:49:00.115Z"
   },
   {
    "duration": 30,
    "start_time": "2022-05-16T18:49:00.134Z"
   },
   {
    "duration": 661,
    "start_time": "2022-05-16T18:49:00.166Z"
   },
   {
    "duration": 45,
    "start_time": "2022-05-16T18:49:00.829Z"
   },
   {
    "duration": 3,
    "start_time": "2022-05-16T18:49:00.876Z"
   },
   {
    "duration": 7,
    "start_time": "2022-05-16T18:49:00.881Z"
   },
   {
    "duration": 23,
    "start_time": "2022-05-16T18:49:00.889Z"
   },
   {
    "duration": 51,
    "start_time": "2022-05-16T18:49:00.914Z"
   },
   {
    "duration": 560,
    "start_time": "2022-05-16T18:49:00.967Z"
   },
   {
    "duration": 131,
    "start_time": "2022-05-16T18:49:01.531Z"
   },
   {
    "duration": 234,
    "start_time": "2022-05-16T18:49:01.664Z"
   },
   {
    "duration": 32,
    "start_time": "2022-05-16T18:49:01.900Z"
   },
   {
    "duration": 46,
    "start_time": "2022-05-16T18:49:01.934Z"
   },
   {
    "duration": 216,
    "start_time": "2022-05-16T18:49:01.981Z"
   },
   {
    "duration": 137,
    "start_time": "2022-05-16T18:49:02.199Z"
   },
   {
    "duration": 30,
    "start_time": "2022-05-16T18:49:02.338Z"
   },
   {
    "duration": 13,
    "start_time": "2022-05-16T18:49:02.370Z"
   },
   {
    "duration": 34,
    "start_time": "2022-05-16T18:49:02.385Z"
   },
   {
    "duration": 98,
    "start_time": "2022-05-16T18:49:02.421Z"
   },
   {
    "duration": 16,
    "start_time": "2022-05-16T18:49:02.521Z"
   },
   {
    "duration": 123,
    "start_time": "2022-05-16T18:49:02.539Z"
   },
   {
    "duration": 27,
    "start_time": "2022-05-16T18:49:02.664Z"
   },
   {
    "duration": 97,
    "start_time": "2022-05-16T18:49:02.692Z"
   },
   {
    "duration": 162,
    "start_time": "2022-05-16T18:49:02.791Z"
   },
   {
    "duration": 70,
    "start_time": "2022-05-16T18:49:02.954Z"
   },
   {
    "duration": 79,
    "start_time": "2022-05-16T18:49:03.026Z"
   },
   {
    "duration": 17,
    "start_time": "2022-05-16T18:49:03.107Z"
   },
   {
    "duration": 42,
    "start_time": "2022-05-16T18:49:03.126Z"
   },
   {
    "duration": 168,
    "start_time": "2022-05-16T18:49:03.170Z"
   },
   {
    "duration": 77,
    "start_time": "2022-05-16T18:49:03.340Z"
   },
   {
    "duration": 266,
    "start_time": "2022-05-16T18:49:03.419Z"
   },
   {
    "duration": 297,
    "start_time": "2022-05-16T18:49:03.687Z"
   },
   {
    "duration": 4,
    "start_time": "2022-05-16T18:49:03.986Z"
   },
   {
    "duration": 26,
    "start_time": "2022-05-16T18:49:03.992Z"
   },
   {
    "duration": 16,
    "start_time": "2022-05-16T18:49:04.020Z"
   },
   {
    "duration": 950,
    "start_time": "2022-05-16T18:49:04.038Z"
   },
   {
    "duration": 394,
    "start_time": "2022-05-16T18:49:04.990Z"
   },
   {
    "duration": 4,
    "start_time": "2022-05-16T18:49:07.622Z"
   },
   {
    "duration": 77,
    "start_time": "2022-05-16T18:49:11.490Z"
   },
   {
    "duration": 156,
    "start_time": "2022-05-16T18:49:46.448Z"
   },
   {
    "duration": 81,
    "start_time": "2022-05-16T18:49:48.162Z"
   },
   {
    "duration": 16,
    "start_time": "2022-05-16T18:50:06.988Z"
   },
   {
    "duration": 120,
    "start_time": "2022-05-16T18:50:15.867Z"
   },
   {
    "duration": 4,
    "start_time": "2022-05-16T18:50:38.094Z"
   },
   {
    "duration": 153,
    "start_time": "2022-05-16T18:52:21.592Z"
   },
   {
    "duration": 954,
    "start_time": "2022-05-16T18:52:26.935Z"
   },
   {
    "duration": 10,
    "start_time": "2022-05-16T18:55:10.659Z"
   },
   {
    "duration": 5,
    "start_time": "2022-05-16T18:55:41.481Z"
   },
   {
    "duration": 15,
    "start_time": "2022-05-16T18:55:45.683Z"
   },
   {
    "duration": 1803,
    "start_time": "2022-05-16T18:56:44.661Z"
   },
   {
    "duration": 1748,
    "start_time": "2022-05-16T18:56:46.466Z"
   },
   {
    "duration": 142,
    "start_time": "2022-05-16T18:56:48.215Z"
   },
   {
    "duration": 291,
    "start_time": "2022-05-16T18:56:48.359Z"
   },
   {
    "duration": 108,
    "start_time": "2022-05-16T18:56:48.653Z"
   },
   {
    "duration": 70,
    "start_time": "2022-05-16T18:56:48.763Z"
   },
   {
    "duration": 122,
    "start_time": "2022-05-16T18:56:48.834Z"
   },
   {
    "duration": 99,
    "start_time": "2022-05-16T18:56:48.958Z"
   },
   {
    "duration": 79,
    "start_time": "2022-05-16T18:56:49.059Z"
   },
   {
    "duration": 27,
    "start_time": "2022-05-16T18:56:49.140Z"
   },
   {
    "duration": 54,
    "start_time": "2022-05-16T18:56:49.169Z"
   },
   {
    "duration": 89,
    "start_time": "2022-05-16T18:56:49.225Z"
   },
   {
    "duration": 19,
    "start_time": "2022-05-16T18:56:49.316Z"
   },
   {
    "duration": 60,
    "start_time": "2022-05-16T18:56:49.340Z"
   },
   {
    "duration": 113,
    "start_time": "2022-05-16T18:56:49.402Z"
   },
   {
    "duration": 19,
    "start_time": "2022-05-16T18:56:49.517Z"
   },
   {
    "duration": 62,
    "start_time": "2022-05-16T18:56:49.538Z"
   },
   {
    "duration": 85,
    "start_time": "2022-05-16T18:56:49.602Z"
   },
   {
    "duration": 18,
    "start_time": "2022-05-16T18:56:49.689Z"
   },
   {
    "duration": 20,
    "start_time": "2022-05-16T18:56:49.709Z"
   },
   {
    "duration": 633,
    "start_time": "2022-05-16T18:56:49.730Z"
   },
   {
    "duration": 42,
    "start_time": "2022-05-16T18:56:50.365Z"
   },
   {
    "duration": 4,
    "start_time": "2022-05-16T18:56:50.409Z"
   },
   {
    "duration": 16,
    "start_time": "2022-05-16T18:56:50.415Z"
   },
   {
    "duration": 36,
    "start_time": "2022-05-16T18:56:50.433Z"
   },
   {
    "duration": 46,
    "start_time": "2022-05-16T18:56:50.470Z"
   },
   {
    "duration": 554,
    "start_time": "2022-05-16T18:56:50.518Z"
   },
   {
    "duration": 106,
    "start_time": "2022-05-16T18:56:51.074Z"
   },
   {
    "duration": 153,
    "start_time": "2022-05-16T18:56:51.183Z"
   },
   {
    "duration": 35,
    "start_time": "2022-05-16T18:56:51.339Z"
   },
   {
    "duration": 30,
    "start_time": "2022-05-16T18:56:51.376Z"
   },
   {
    "duration": 158,
    "start_time": "2022-05-16T18:56:51.408Z"
   },
   {
    "duration": 146,
    "start_time": "2022-05-16T18:56:51.567Z"
   },
   {
    "duration": 21,
    "start_time": "2022-05-16T18:56:51.715Z"
   },
   {
    "duration": 24,
    "start_time": "2022-05-16T18:56:51.738Z"
   },
   {
    "duration": 30,
    "start_time": "2022-05-16T18:56:51.764Z"
   },
   {
    "duration": 102,
    "start_time": "2022-05-16T18:56:51.796Z"
   },
   {
    "duration": 15,
    "start_time": "2022-05-16T18:56:51.900Z"
   },
   {
    "duration": 121,
    "start_time": "2022-05-16T18:56:51.917Z"
   },
   {
    "duration": 35,
    "start_time": "2022-05-16T18:56:52.040Z"
   },
   {
    "duration": 85,
    "start_time": "2022-05-16T18:56:52.079Z"
   },
   {
    "duration": 161,
    "start_time": "2022-05-16T18:56:52.166Z"
   },
   {
    "duration": 71,
    "start_time": "2022-05-16T18:56:52.329Z"
   },
   {
    "duration": 73,
    "start_time": "2022-05-16T18:56:52.402Z"
   },
   {
    "duration": 16,
    "start_time": "2022-05-16T18:56:52.476Z"
   },
   {
    "duration": 34,
    "start_time": "2022-05-16T18:56:52.494Z"
   },
   {
    "duration": 164,
    "start_time": "2022-05-16T18:56:52.530Z"
   },
   {
    "duration": 78,
    "start_time": "2022-05-16T18:56:52.696Z"
   },
   {
    "duration": 249,
    "start_time": "2022-05-16T18:56:52.776Z"
   },
   {
    "duration": 312,
    "start_time": "2022-05-16T18:56:53.026Z"
   },
   {
    "duration": 4,
    "start_time": "2022-05-16T18:56:53.340Z"
   },
   {
    "duration": 29,
    "start_time": "2022-05-16T18:56:53.346Z"
   },
   {
    "duration": 15,
    "start_time": "2022-05-16T18:56:53.377Z"
   },
   {
    "duration": 4,
    "start_time": "2022-05-16T18:56:53.394Z"
   },
   {
    "duration": 122,
    "start_time": "2022-05-16T18:56:56.847Z"
   },
   {
    "duration": 1715,
    "start_time": "2022-05-16T18:57:43.778Z"
   },
   {
    "duration": 1738,
    "start_time": "2022-05-16T18:57:45.495Z"
   },
   {
    "duration": 133,
    "start_time": "2022-05-16T18:57:47.235Z"
   },
   {
    "duration": 290,
    "start_time": "2022-05-16T18:57:47.370Z"
   },
   {
    "duration": 107,
    "start_time": "2022-05-16T18:57:47.661Z"
   },
   {
    "duration": 69,
    "start_time": "2022-05-16T18:57:47.770Z"
   },
   {
    "duration": 127,
    "start_time": "2022-05-16T18:57:47.841Z"
   },
   {
    "duration": 97,
    "start_time": "2022-05-16T18:57:47.970Z"
   },
   {
    "duration": 94,
    "start_time": "2022-05-16T18:57:48.069Z"
   },
   {
    "duration": 18,
    "start_time": "2022-05-16T18:57:48.166Z"
   },
   {
    "duration": 54,
    "start_time": "2022-05-16T18:57:48.185Z"
   },
   {
    "duration": 92,
    "start_time": "2022-05-16T18:57:48.240Z"
   },
   {
    "duration": 28,
    "start_time": "2022-05-16T18:57:48.333Z"
   },
   {
    "duration": 46,
    "start_time": "2022-05-16T18:57:48.363Z"
   },
   {
    "duration": 114,
    "start_time": "2022-05-16T18:57:48.410Z"
   },
   {
    "duration": 18,
    "start_time": "2022-05-16T18:57:48.526Z"
   },
   {
    "duration": 45,
    "start_time": "2022-05-16T18:57:48.556Z"
   },
   {
    "duration": 88,
    "start_time": "2022-05-16T18:57:48.602Z"
   },
   {
    "duration": 18,
    "start_time": "2022-05-16T18:57:48.692Z"
   },
   {
    "duration": 23,
    "start_time": "2022-05-16T18:57:48.711Z"
   },
   {
    "duration": 638,
    "start_time": "2022-05-16T18:57:48.736Z"
   },
   {
    "duration": 43,
    "start_time": "2022-05-16T18:57:49.376Z"
   },
   {
    "duration": 4,
    "start_time": "2022-05-16T18:57:49.421Z"
   },
   {
    "duration": 6,
    "start_time": "2022-05-16T18:57:49.427Z"
   },
   {
    "duration": 37,
    "start_time": "2022-05-16T18:57:49.458Z"
   },
   {
    "duration": 70,
    "start_time": "2022-05-16T18:57:49.497Z"
   },
   {
    "duration": 575,
    "start_time": "2022-05-16T18:57:49.569Z"
   },
   {
    "duration": 92,
    "start_time": "2022-05-16T18:57:50.150Z"
   },
   {
    "duration": 152,
    "start_time": "2022-05-16T18:57:50.256Z"
   },
   {
    "duration": 31,
    "start_time": "2022-05-16T18:57:50.410Z"
   },
   {
    "duration": 43,
    "start_time": "2022-05-16T18:57:50.443Z"
   },
   {
    "duration": 150,
    "start_time": "2022-05-16T18:57:50.487Z"
   },
   {
    "duration": 134,
    "start_time": "2022-05-16T18:57:50.639Z"
   },
   {
    "duration": 21,
    "start_time": "2022-05-16T18:57:50.775Z"
   },
   {
    "duration": 12,
    "start_time": "2022-05-16T18:57:50.797Z"
   },
   {
    "duration": 56,
    "start_time": "2022-05-16T18:57:50.811Z"
   },
   {
    "duration": 74,
    "start_time": "2022-05-16T18:57:50.868Z"
   },
   {
    "duration": 25,
    "start_time": "2022-05-16T18:57:50.943Z"
   },
   {
    "duration": 115,
    "start_time": "2022-05-16T18:57:50.970Z"
   },
   {
    "duration": 26,
    "start_time": "2022-05-16T18:57:51.087Z"
   },
   {
    "duration": 89,
    "start_time": "2022-05-16T18:57:51.115Z"
   },
   {
    "duration": 161,
    "start_time": "2022-05-16T18:57:51.206Z"
   },
   {
    "duration": 64,
    "start_time": "2022-05-16T18:57:51.368Z"
   },
   {
    "duration": 76,
    "start_time": "2022-05-16T18:57:51.434Z"
   },
   {
    "duration": 17,
    "start_time": "2022-05-16T18:57:51.512Z"
   },
   {
    "duration": 43,
    "start_time": "2022-05-16T18:57:51.531Z"
   },
   {
    "duration": 163,
    "start_time": "2022-05-16T18:57:51.576Z"
   },
   {
    "duration": 78,
    "start_time": "2022-05-16T18:57:51.741Z"
   },
   {
    "duration": 254,
    "start_time": "2022-05-16T18:57:51.821Z"
   },
   {
    "duration": 305,
    "start_time": "2022-05-16T18:57:52.077Z"
   },
   {
    "duration": 4,
    "start_time": "2022-05-16T18:57:52.384Z"
   },
   {
    "duration": 25,
    "start_time": "2022-05-16T18:57:52.390Z"
   },
   {
    "duration": 16,
    "start_time": "2022-05-16T18:57:52.416Z"
   },
   {
    "duration": 4,
    "start_time": "2022-05-16T18:57:52.434Z"
   },
   {
    "duration": 93,
    "start_time": "2022-05-16T18:57:52.439Z"
   },
   {
    "duration": 4,
    "start_time": "2022-05-16T18:57:52.534Z"
   },
   {
    "duration": 464,
    "start_time": "2022-05-16T18:57:54.647Z"
   },
   {
    "duration": 3466,
    "start_time": "2022-05-16T18:58:48.133Z"
   },
   {
    "duration": 2475,
    "start_time": "2022-05-16T19:00:02.427Z"
   },
   {
    "duration": 1883,
    "start_time": "2022-05-16T19:00:04.904Z"
   },
   {
    "duration": 137,
    "start_time": "2022-05-16T19:00:06.789Z"
   },
   {
    "duration": 307,
    "start_time": "2022-05-16T19:00:06.929Z"
   },
   {
    "duration": 95,
    "start_time": "2022-05-16T19:00:07.238Z"
   },
   {
    "duration": 81,
    "start_time": "2022-05-16T19:00:07.335Z"
   },
   {
    "duration": 123,
    "start_time": "2022-05-16T19:00:07.418Z"
   },
   {
    "duration": 97,
    "start_time": "2022-05-16T19:00:07.542Z"
   },
   {
    "duration": 93,
    "start_time": "2022-05-16T19:00:07.641Z"
   },
   {
    "duration": 28,
    "start_time": "2022-05-16T19:00:07.737Z"
   },
   {
    "duration": 58,
    "start_time": "2022-05-16T19:00:07.767Z"
   },
   {
    "duration": 85,
    "start_time": "2022-05-16T19:00:07.827Z"
   },
   {
    "duration": 20,
    "start_time": "2022-05-16T19:00:07.914Z"
   },
   {
    "duration": 61,
    "start_time": "2022-05-16T19:00:07.936Z"
   },
   {
    "duration": 122,
    "start_time": "2022-05-16T19:00:07.999Z"
   },
   {
    "duration": 18,
    "start_time": "2022-05-16T19:00:08.123Z"
   },
   {
    "duration": 51,
    "start_time": "2022-05-16T19:00:08.143Z"
   },
   {
    "duration": 89,
    "start_time": "2022-05-16T19:00:08.196Z"
   },
   {
    "duration": 19,
    "start_time": "2022-05-16T19:00:08.287Z"
   },
   {
    "duration": 24,
    "start_time": "2022-05-16T19:00:08.307Z"
   },
   {
    "duration": 694,
    "start_time": "2022-05-16T19:00:08.333Z"
   },
   {
    "duration": 50,
    "start_time": "2022-05-16T19:00:09.029Z"
   },
   {
    "duration": 4,
    "start_time": "2022-05-16T19:00:09.081Z"
   },
   {
    "duration": 7,
    "start_time": "2022-05-16T19:00:09.087Z"
   },
   {
    "duration": 24,
    "start_time": "2022-05-16T19:00:09.095Z"
   },
   {
    "duration": 66,
    "start_time": "2022-05-16T19:00:09.121Z"
   },
   {
    "duration": 568,
    "start_time": "2022-05-16T19:00:09.188Z"
   },
   {
    "duration": 106,
    "start_time": "2022-05-16T19:00:09.760Z"
   },
   {
    "duration": 158,
    "start_time": "2022-05-16T19:00:09.868Z"
   },
   {
    "duration": 46,
    "start_time": "2022-05-16T19:00:10.028Z"
   },
   {
    "duration": 32,
    "start_time": "2022-05-16T19:00:10.076Z"
   },
   {
    "duration": 156,
    "start_time": "2022-05-16T19:00:10.110Z"
   },
   {
    "duration": 140,
    "start_time": "2022-05-16T19:00:10.268Z"
   },
   {
    "duration": 22,
    "start_time": "2022-05-16T19:00:10.409Z"
   },
   {
    "duration": 30,
    "start_time": "2022-05-16T19:00:10.432Z"
   },
   {
    "duration": 27,
    "start_time": "2022-05-16T19:00:10.464Z"
   },
   {
    "duration": 100,
    "start_time": "2022-05-16T19:00:10.493Z"
   },
   {
    "duration": 16,
    "start_time": "2022-05-16T19:00:10.595Z"
   },
   {
    "duration": 120,
    "start_time": "2022-05-16T19:00:10.613Z"
   },
   {
    "duration": 34,
    "start_time": "2022-05-16T19:00:10.734Z"
   },
   {
    "duration": 91,
    "start_time": "2022-05-16T19:00:10.770Z"
   },
   {
    "duration": 168,
    "start_time": "2022-05-16T19:00:10.863Z"
   },
   {
    "duration": 77,
    "start_time": "2022-05-16T19:00:11.033Z"
   },
   {
    "duration": 70,
    "start_time": "2022-05-16T19:00:11.112Z"
   },
   {
    "duration": 17,
    "start_time": "2022-05-16T19:00:11.184Z"
   },
   {
    "duration": 34,
    "start_time": "2022-05-16T19:00:11.202Z"
   },
   {
    "duration": 175,
    "start_time": "2022-05-16T19:00:11.238Z"
   },
   {
    "duration": 73,
    "start_time": "2022-05-16T19:00:11.415Z"
   },
   {
    "duration": 258,
    "start_time": "2022-05-16T19:00:11.490Z"
   },
   {
    "duration": 309,
    "start_time": "2022-05-16T19:00:11.750Z"
   },
   {
    "duration": 4,
    "start_time": "2022-05-16T19:00:12.061Z"
   },
   {
    "duration": 27,
    "start_time": "2022-05-16T19:00:12.067Z"
   },
   {
    "duration": 16,
    "start_time": "2022-05-16T19:00:12.096Z"
   },
   {
    "duration": 5,
    "start_time": "2022-05-16T19:00:12.113Z"
   },
   {
    "duration": 1768,
    "start_time": "2022-05-16T19:07:12.293Z"
   },
   {
    "duration": 1838,
    "start_time": "2022-05-16T19:07:14.062Z"
   },
   {
    "duration": 138,
    "start_time": "2022-05-16T19:07:15.902Z"
   },
   {
    "duration": 306,
    "start_time": "2022-05-16T19:07:16.043Z"
   },
   {
    "duration": 110,
    "start_time": "2022-05-16T19:07:16.351Z"
   },
   {
    "duration": 72,
    "start_time": "2022-05-16T19:07:16.463Z"
   },
   {
    "duration": 133,
    "start_time": "2022-05-16T19:07:16.537Z"
   },
   {
    "duration": 102,
    "start_time": "2022-05-16T19:07:16.672Z"
   },
   {
    "duration": 93,
    "start_time": "2022-05-16T19:07:16.775Z"
   },
   {
    "duration": 19,
    "start_time": "2022-05-16T19:07:16.872Z"
   },
   {
    "duration": 71,
    "start_time": "2022-05-16T19:07:16.893Z"
   },
   {
    "duration": 81,
    "start_time": "2022-05-16T19:07:16.965Z"
   },
   {
    "duration": 20,
    "start_time": "2022-05-16T19:07:17.057Z"
   },
   {
    "duration": 50,
    "start_time": "2022-05-16T19:07:17.078Z"
   },
   {
    "duration": 127,
    "start_time": "2022-05-16T19:07:17.130Z"
   },
   {
    "duration": 19,
    "start_time": "2022-05-16T19:07:17.258Z"
   },
   {
    "duration": 46,
    "start_time": "2022-05-16T19:07:17.278Z"
   },
   {
    "duration": 96,
    "start_time": "2022-05-16T19:07:17.326Z"
   },
   {
    "duration": 18,
    "start_time": "2022-05-16T19:07:17.424Z"
   },
   {
    "duration": 19,
    "start_time": "2022-05-16T19:07:17.457Z"
   },
   {
    "duration": 659,
    "start_time": "2022-05-16T19:07:17.477Z"
   },
   {
    "duration": 49,
    "start_time": "2022-05-16T19:07:18.138Z"
   },
   {
    "duration": 4,
    "start_time": "2022-05-16T19:07:18.189Z"
   },
   {
    "duration": 10,
    "start_time": "2022-05-16T19:07:18.195Z"
   },
   {
    "duration": 44,
    "start_time": "2022-05-16T19:07:18.206Z"
   },
   {
    "duration": 43,
    "start_time": "2022-05-16T19:07:18.257Z"
   },
   {
    "duration": 589,
    "start_time": "2022-05-16T19:07:18.302Z"
   },
   {
    "duration": 106,
    "start_time": "2022-05-16T19:07:18.896Z"
   },
   {
    "duration": 164,
    "start_time": "2022-05-16T19:07:19.003Z"
   },
   {
    "duration": 32,
    "start_time": "2022-05-16T19:07:19.168Z"
   },
   {
    "duration": 58,
    "start_time": "2022-05-16T19:07:19.202Z"
   },
   {
    "duration": 148,
    "start_time": "2022-05-16T19:07:19.261Z"
   },
   {
    "duration": 159,
    "start_time": "2022-05-16T19:07:19.411Z"
   },
   {
    "duration": 23,
    "start_time": "2022-05-16T19:07:19.572Z"
   },
   {
    "duration": 13,
    "start_time": "2022-05-16T19:07:19.596Z"
   },
   {
    "duration": 58,
    "start_time": "2022-05-16T19:07:19.611Z"
   },
   {
    "duration": 87,
    "start_time": "2022-05-16T19:07:19.671Z"
   },
   {
    "duration": 17,
    "start_time": "2022-05-16T19:07:19.760Z"
   },
   {
    "duration": 130,
    "start_time": "2022-05-16T19:07:19.779Z"
   },
   {
    "duration": 26,
    "start_time": "2022-05-16T19:07:19.911Z"
   },
   {
    "duration": 92,
    "start_time": "2022-05-16T19:07:19.939Z"
   },
   {
    "duration": 182,
    "start_time": "2022-05-16T19:07:20.033Z"
   },
   {
    "duration": 82,
    "start_time": "2022-05-16T19:07:20.217Z"
   },
   {
    "duration": 73,
    "start_time": "2022-05-16T19:07:20.301Z"
   },
   {
    "duration": 17,
    "start_time": "2022-05-16T19:07:20.376Z"
   },
   {
    "duration": 38,
    "start_time": "2022-05-16T19:07:20.395Z"
   },
   {
    "duration": 178,
    "start_time": "2022-05-16T19:07:20.435Z"
   },
   {
    "duration": 78,
    "start_time": "2022-05-16T19:07:20.615Z"
   },
   {
    "duration": 272,
    "start_time": "2022-05-16T19:07:20.695Z"
   },
   {
    "duration": 338,
    "start_time": "2022-05-16T19:07:20.969Z"
   },
   {
    "duration": 5,
    "start_time": "2022-05-16T19:07:21.309Z"
   },
   {
    "duration": 36,
    "start_time": "2022-05-16T19:07:21.315Z"
   },
   {
    "duration": 16,
    "start_time": "2022-05-16T19:07:21.357Z"
   },
   {
    "duration": 5,
    "start_time": "2022-05-16T19:07:21.375Z"
   },
   {
    "duration": 53,
    "start_time": "2022-05-16T19:07:49.061Z"
   },
   {
    "duration": 1794,
    "start_time": "2022-05-16T19:07:59.389Z"
   },
   {
    "duration": 1799,
    "start_time": "2022-05-16T19:08:01.185Z"
   },
   {
    "duration": 151,
    "start_time": "2022-05-16T19:08:02.986Z"
   },
   {
    "duration": 312,
    "start_time": "2022-05-16T19:08:03.140Z"
   },
   {
    "duration": 106,
    "start_time": "2022-05-16T19:08:03.455Z"
   },
   {
    "duration": 72,
    "start_time": "2022-05-16T19:08:03.563Z"
   },
   {
    "duration": 124,
    "start_time": "2022-05-16T19:08:03.636Z"
   },
   {
    "duration": 100,
    "start_time": "2022-05-16T19:08:03.762Z"
   },
   {
    "duration": 95,
    "start_time": "2022-05-16T19:08:03.864Z"
   },
   {
    "duration": 23,
    "start_time": "2022-05-16T19:08:03.961Z"
   },
   {
    "duration": 53,
    "start_time": "2022-05-16T19:08:03.987Z"
   },
   {
    "duration": 91,
    "start_time": "2022-05-16T19:08:04.042Z"
   },
   {
    "duration": 32,
    "start_time": "2022-05-16T19:08:04.135Z"
   },
   {
    "duration": 47,
    "start_time": "2022-05-16T19:08:04.171Z"
   },
   {
    "duration": 117,
    "start_time": "2022-05-16T19:08:04.220Z"
   },
   {
    "duration": 29,
    "start_time": "2022-05-16T19:08:04.339Z"
   },
   {
    "duration": 46,
    "start_time": "2022-05-16T19:08:04.370Z"
   },
   {
    "duration": 94,
    "start_time": "2022-05-16T19:08:04.418Z"
   },
   {
    "duration": 19,
    "start_time": "2022-05-16T19:08:04.515Z"
   },
   {
    "duration": 40,
    "start_time": "2022-05-16T19:08:04.537Z"
   },
   {
    "duration": 635,
    "start_time": "2022-05-16T19:08:04.579Z"
   },
   {
    "duration": 55,
    "start_time": "2022-05-16T19:08:05.216Z"
   },
   {
    "duration": 5,
    "start_time": "2022-05-16T19:08:05.273Z"
   },
   {
    "duration": 14,
    "start_time": "2022-05-16T19:08:05.279Z"
   },
   {
    "duration": 27,
    "start_time": "2022-05-16T19:08:05.295Z"
   },
   {
    "duration": 55,
    "start_time": "2022-05-16T19:08:05.324Z"
   },
   {
    "duration": 578,
    "start_time": "2022-05-16T19:08:05.381Z"
   },
   {
    "duration": 96,
    "start_time": "2022-05-16T19:08:05.961Z"
   },
   {
    "duration": 164,
    "start_time": "2022-05-16T19:08:06.059Z"
   },
   {
    "duration": 37,
    "start_time": "2022-05-16T19:08:06.225Z"
   },
   {
    "duration": 31,
    "start_time": "2022-05-16T19:08:06.264Z"
   },
   {
    "duration": 159,
    "start_time": "2022-05-16T19:08:06.297Z"
   },
   {
    "duration": 137,
    "start_time": "2022-05-16T19:08:06.458Z"
   },
   {
    "duration": 21,
    "start_time": "2022-05-16T19:08:06.597Z"
   },
   {
    "duration": 11,
    "start_time": "2022-05-16T19:08:06.620Z"
   },
   {
    "duration": 52,
    "start_time": "2022-05-16T19:08:06.633Z"
   },
   {
    "duration": 90,
    "start_time": "2022-05-16T19:08:06.687Z"
   },
   {
    "duration": 17,
    "start_time": "2022-05-16T19:08:06.779Z"
   },
   {
    "duration": 111,
    "start_time": "2022-05-16T19:08:06.798Z"
   },
   {
    "duration": 24,
    "start_time": "2022-05-16T19:08:06.912Z"
   },
   {
    "duration": 90,
    "start_time": "2022-05-16T19:08:06.940Z"
   },
   {
    "duration": 166,
    "start_time": "2022-05-16T19:08:07.032Z"
   },
   {
    "duration": 78,
    "start_time": "2022-05-16T19:08:07.201Z"
   },
   {
    "duration": 58,
    "start_time": "2022-05-16T19:08:07.281Z"
   },
   {
    "duration": 29,
    "start_time": "2022-05-16T19:08:07.340Z"
   },
   {
    "duration": 30,
    "start_time": "2022-05-16T19:08:07.371Z"
   },
   {
    "duration": 166,
    "start_time": "2022-05-16T19:08:07.403Z"
   },
   {
    "duration": 70,
    "start_time": "2022-05-16T19:08:07.571Z"
   },
   {
    "duration": 266,
    "start_time": "2022-05-16T19:08:07.643Z"
   },
   {
    "duration": 309,
    "start_time": "2022-05-16T19:08:07.912Z"
   },
   {
    "duration": 6,
    "start_time": "2022-05-16T19:08:08.223Z"
   },
   {
    "duration": 30,
    "start_time": "2022-05-16T19:08:08.231Z"
   },
   {
    "duration": 17,
    "start_time": "2022-05-16T19:08:08.263Z"
   },
   {
    "duration": 5,
    "start_time": "2022-05-16T19:08:08.281Z"
   },
   {
    "duration": 622,
    "start_time": "2022-05-16T19:08:15.610Z"
   },
   {
    "duration": 483,
    "start_time": "2022-05-16T19:27:55.257Z"
   },
   {
    "duration": 913,
    "start_time": "2022-05-16T19:31:03.018Z"
   },
   {
    "duration": 822,
    "start_time": "2022-05-16T19:31:20.981Z"
   },
   {
    "duration": 1294,
    "start_time": "2022-05-16T19:33:03.235Z"
   },
   {
    "duration": 1209,
    "start_time": "2022-05-16T19:33:49.140Z"
   },
   {
    "duration": 1497,
    "start_time": "2022-05-16T19:33:55.326Z"
   },
   {
    "duration": 4342,
    "start_time": "2022-05-16T19:34:06.957Z"
   },
   {
    "duration": 340,
    "start_time": "2022-05-16T19:36:21.103Z"
   },
   {
    "duration": 2040,
    "start_time": "2022-05-16T19:36:25.712Z"
   },
   {
    "duration": 16,
    "start_time": "2022-05-16T19:36:55.004Z"
   },
   {
    "duration": 1795,
    "start_time": "2022-05-16T19:37:05.973Z"
   },
   {
    "duration": 1720,
    "start_time": "2022-05-16T19:37:07.770Z"
   },
   {
    "duration": 138,
    "start_time": "2022-05-16T19:37:09.491Z"
   },
   {
    "duration": 284,
    "start_time": "2022-05-16T19:37:09.632Z"
   },
   {
    "duration": 101,
    "start_time": "2022-05-16T19:37:09.918Z"
   },
   {
    "duration": 80,
    "start_time": "2022-05-16T19:37:10.021Z"
   },
   {
    "duration": 116,
    "start_time": "2022-05-16T19:37:10.103Z"
   },
   {
    "duration": 102,
    "start_time": "2022-05-16T19:37:10.221Z"
   },
   {
    "duration": 92,
    "start_time": "2022-05-16T19:37:10.324Z"
   },
   {
    "duration": 18,
    "start_time": "2022-05-16T19:37:10.419Z"
   },
   {
    "duration": 67,
    "start_time": "2022-05-16T19:37:10.439Z"
   },
   {
    "duration": 81,
    "start_time": "2022-05-16T19:37:10.508Z"
   },
   {
    "duration": 18,
    "start_time": "2022-05-16T19:37:10.591Z"
   },
   {
    "duration": 68,
    "start_time": "2022-05-16T19:37:10.610Z"
   },
   {
    "duration": 95,
    "start_time": "2022-05-16T19:37:10.680Z"
   },
   {
    "duration": 17,
    "start_time": "2022-05-16T19:37:10.777Z"
   },
   {
    "duration": 57,
    "start_time": "2022-05-16T19:37:10.795Z"
   },
   {
    "duration": 74,
    "start_time": "2022-05-16T19:37:10.853Z"
   },
   {
    "duration": 28,
    "start_time": "2022-05-16T19:37:10.929Z"
   },
   {
    "duration": 27,
    "start_time": "2022-05-16T19:37:10.959Z"
   },
   {
    "duration": 612,
    "start_time": "2022-05-16T19:37:10.988Z"
   },
   {
    "duration": 43,
    "start_time": "2022-05-16T19:37:11.601Z"
   },
   {
    "duration": 15,
    "start_time": "2022-05-16T19:37:11.645Z"
   },
   {
    "duration": 12,
    "start_time": "2022-05-16T19:37:11.661Z"
   },
   {
    "duration": 35,
    "start_time": "2022-05-16T19:37:11.675Z"
   },
   {
    "duration": 52,
    "start_time": "2022-05-16T19:37:11.712Z"
   },
   {
    "duration": 533,
    "start_time": "2022-05-16T19:37:11.766Z"
   },
   {
    "duration": 99,
    "start_time": "2022-05-16T19:37:12.303Z"
   },
   {
    "duration": 157,
    "start_time": "2022-05-16T19:37:12.404Z"
   },
   {
    "duration": 31,
    "start_time": "2022-05-16T19:37:12.563Z"
   },
   {
    "duration": 29,
    "start_time": "2022-05-16T19:37:12.595Z"
   },
   {
    "duration": 152,
    "start_time": "2022-05-16T19:37:12.626Z"
   },
   {
    "duration": 142,
    "start_time": "2022-05-16T19:37:12.780Z"
   },
   {
    "duration": 21,
    "start_time": "2022-05-16T19:37:12.924Z"
   },
   {
    "duration": 12,
    "start_time": "2022-05-16T19:37:12.957Z"
   },
   {
    "duration": 37,
    "start_time": "2022-05-16T19:37:12.971Z"
   },
   {
    "duration": 90,
    "start_time": "2022-05-16T19:37:13.010Z"
   },
   {
    "duration": 16,
    "start_time": "2022-05-16T19:37:13.102Z"
   },
   {
    "duration": 117,
    "start_time": "2022-05-16T19:37:13.120Z"
   },
   {
    "duration": 34,
    "start_time": "2022-05-16T19:37:13.239Z"
   },
   {
    "duration": 82,
    "start_time": "2022-05-16T19:37:13.275Z"
   },
   {
    "duration": 157,
    "start_time": "2022-05-16T19:37:13.359Z"
   },
   {
    "duration": 73,
    "start_time": "2022-05-16T19:37:13.518Z"
   },
   {
    "duration": 63,
    "start_time": "2022-05-16T19:37:13.593Z"
   },
   {
    "duration": 16,
    "start_time": "2022-05-16T19:37:13.658Z"
   },
   {
    "duration": 46,
    "start_time": "2022-05-16T19:37:13.676Z"
   },
   {
    "duration": 149,
    "start_time": "2022-05-16T19:37:13.724Z"
   },
   {
    "duration": 66,
    "start_time": "2022-05-16T19:37:13.874Z"
   },
   {
    "duration": 256,
    "start_time": "2022-05-16T19:37:13.942Z"
   },
   {
    "duration": 301,
    "start_time": "2022-05-16T19:37:14.200Z"
   },
   {
    "duration": 4,
    "start_time": "2022-05-16T19:37:14.503Z"
   },
   {
    "duration": 35,
    "start_time": "2022-05-16T19:37:14.509Z"
   },
   {
    "duration": 24,
    "start_time": "2022-05-16T19:37:14.546Z"
   },
   {
    "duration": 13,
    "start_time": "2022-05-16T19:37:14.572Z"
   },
   {
    "duration": 844,
    "start_time": "2022-05-16T19:37:17.264Z"
   },
   {
    "duration": 5,
    "start_time": "2022-05-16T19:38:08.774Z"
   },
   {
    "duration": 1710,
    "start_time": "2022-05-16T19:38:08.781Z"
   },
   {
    "duration": 138,
    "start_time": "2022-05-16T19:38:10.493Z"
   },
   {
    "duration": 249,
    "start_time": "2022-05-16T19:38:10.633Z"
   },
   {
    "duration": 102,
    "start_time": "2022-05-16T19:38:10.884Z"
   },
   {
    "duration": 82,
    "start_time": "2022-05-16T19:38:10.988Z"
   },
   {
    "duration": 113,
    "start_time": "2022-05-16T19:38:11.072Z"
   },
   {
    "duration": 102,
    "start_time": "2022-05-16T19:38:11.186Z"
   },
   {
    "duration": 88,
    "start_time": "2022-05-16T19:38:11.291Z"
   },
   {
    "duration": 18,
    "start_time": "2022-05-16T19:38:11.381Z"
   },
   {
    "duration": 69,
    "start_time": "2022-05-16T19:38:11.401Z"
   },
   {
    "duration": 85,
    "start_time": "2022-05-16T19:38:11.472Z"
   },
   {
    "duration": 19,
    "start_time": "2022-05-16T19:38:11.558Z"
   },
   {
    "duration": 50,
    "start_time": "2022-05-16T19:38:11.579Z"
   },
   {
    "duration": 111,
    "start_time": "2022-05-16T19:38:11.630Z"
   },
   {
    "duration": 27,
    "start_time": "2022-05-16T19:38:11.743Z"
   },
   {
    "duration": 45,
    "start_time": "2022-05-16T19:38:11.772Z"
   },
   {
    "duration": 95,
    "start_time": "2022-05-16T19:38:11.819Z"
   },
   {
    "duration": 17,
    "start_time": "2022-05-16T19:38:11.916Z"
   },
   {
    "duration": 34,
    "start_time": "2022-05-16T19:38:11.935Z"
   },
   {
    "duration": 664,
    "start_time": "2022-05-16T19:38:11.971Z"
   },
   {
    "duration": 48,
    "start_time": "2022-05-16T19:38:12.637Z"
   },
   {
    "duration": 4,
    "start_time": "2022-05-16T19:38:12.687Z"
   },
   {
    "duration": 4,
    "start_time": "2022-05-16T19:38:12.695Z"
   },
   {
    "duration": 21,
    "start_time": "2022-05-16T19:38:12.701Z"
   },
   {
    "duration": 68,
    "start_time": "2022-05-16T19:38:12.724Z"
   },
   {
    "duration": 553,
    "start_time": "2022-05-16T19:38:12.793Z"
   },
   {
    "duration": 98,
    "start_time": "2022-05-16T19:38:13.348Z"
   },
   {
    "duration": 160,
    "start_time": "2022-05-16T19:38:13.447Z"
   },
   {
    "duration": 31,
    "start_time": "2022-05-16T19:38:13.609Z"
   },
   {
    "duration": 38,
    "start_time": "2022-05-16T19:38:13.642Z"
   },
   {
    "duration": 146,
    "start_time": "2022-05-16T19:38:13.682Z"
   },
   {
    "duration": 135,
    "start_time": "2022-05-16T19:38:13.830Z"
   },
   {
    "duration": 21,
    "start_time": "2022-05-16T19:38:13.967Z"
   },
   {
    "duration": 13,
    "start_time": "2022-05-16T19:38:13.990Z"
   },
   {
    "duration": 55,
    "start_time": "2022-05-16T19:38:14.005Z"
   },
   {
    "duration": 79,
    "start_time": "2022-05-16T19:38:14.062Z"
   },
   {
    "duration": 29,
    "start_time": "2022-05-16T19:38:14.142Z"
   },
   {
    "duration": 133,
    "start_time": "2022-05-16T19:38:14.173Z"
   },
   {
    "duration": 27,
    "start_time": "2022-05-16T19:38:14.308Z"
   },
   {
    "duration": 93,
    "start_time": "2022-05-16T19:38:14.337Z"
   },
   {
    "duration": 174,
    "start_time": "2022-05-16T19:38:14.432Z"
   },
   {
    "duration": 78,
    "start_time": "2022-05-16T19:38:14.608Z"
   },
   {
    "duration": 75,
    "start_time": "2022-05-16T19:38:14.688Z"
   },
   {
    "duration": 17,
    "start_time": "2022-05-16T19:38:14.765Z"
   },
   {
    "duration": 34,
    "start_time": "2022-05-16T19:38:14.784Z"
   },
   {
    "duration": 171,
    "start_time": "2022-05-16T19:38:14.820Z"
   },
   {
    "duration": 86,
    "start_time": "2022-05-16T19:38:14.993Z"
   },
   {
    "duration": 260,
    "start_time": "2022-05-16T19:38:15.081Z"
   },
   {
    "duration": 318,
    "start_time": "2022-05-16T19:38:15.342Z"
   },
   {
    "duration": 4,
    "start_time": "2022-05-16T19:38:15.662Z"
   },
   {
    "duration": 31,
    "start_time": "2022-05-16T19:38:15.668Z"
   },
   {
    "duration": 17,
    "start_time": "2022-05-16T19:38:15.700Z"
   },
   {
    "duration": 1140,
    "start_time": "2022-05-16T19:38:15.718Z"
   },
   {
    "duration": 404,
    "start_time": "2022-05-16T19:38:16.859Z"
   },
   {
    "duration": 4,
    "start_time": "2022-05-16T19:38:17.264Z"
   },
   {
    "duration": 163,
    "start_time": "2022-05-16T19:38:17.270Z"
   },
   {
    "duration": 80,
    "start_time": "2022-05-16T19:38:17.434Z"
   },
   {
    "duration": 91,
    "start_time": "2022-05-16T19:38:17.516Z"
   },
   {
    "duration": 3,
    "start_time": "2022-05-16T19:38:17.608Z"
   },
   {
    "duration": 6,
    "start_time": "2022-05-16T19:38:17.613Z"
   },
   {
    "duration": 6,
    "start_time": "2022-05-16T19:38:17.620Z"
   },
   {
    "duration": 10487,
    "start_time": "2022-05-16T19:38:24.636Z"
   },
   {
    "duration": 1740,
    "start_time": "2022-05-16T19:39:12.902Z"
   },
   {
    "duration": 1710,
    "start_time": "2022-05-16T19:39:14.645Z"
   },
   {
    "duration": 134,
    "start_time": "2022-05-16T19:39:16.356Z"
   },
   {
    "duration": 284,
    "start_time": "2022-05-16T19:39:16.492Z"
   },
   {
    "duration": 93,
    "start_time": "2022-05-16T19:39:16.778Z"
   },
   {
    "duration": 84,
    "start_time": "2022-05-16T19:39:16.872Z"
   },
   {
    "duration": 107,
    "start_time": "2022-05-16T19:39:16.958Z"
   },
   {
    "duration": 96,
    "start_time": "2022-05-16T19:39:17.066Z"
   },
   {
    "duration": 94,
    "start_time": "2022-05-16T19:39:17.163Z"
   },
   {
    "duration": 18,
    "start_time": "2022-05-16T19:39:17.260Z"
   },
   {
    "duration": 58,
    "start_time": "2022-05-16T19:39:17.279Z"
   },
   {
    "duration": 78,
    "start_time": "2022-05-16T19:39:17.338Z"
   },
   {
    "duration": 18,
    "start_time": "2022-05-16T19:39:17.418Z"
   },
   {
    "duration": 60,
    "start_time": "2022-05-16T19:39:17.438Z"
   },
   {
    "duration": 105,
    "start_time": "2022-05-16T19:39:17.500Z"
   },
   {
    "duration": 18,
    "start_time": "2022-05-16T19:39:17.606Z"
   },
   {
    "duration": 56,
    "start_time": "2022-05-16T19:39:17.626Z"
   },
   {
    "duration": 80,
    "start_time": "2022-05-16T19:39:17.684Z"
   },
   {
    "duration": 18,
    "start_time": "2022-05-16T19:39:17.766Z"
   },
   {
    "duration": 18,
    "start_time": "2022-05-16T19:39:17.786Z"
   },
   {
    "duration": 629,
    "start_time": "2022-05-16T19:39:17.806Z"
   },
   {
    "duration": 44,
    "start_time": "2022-05-16T19:39:18.436Z"
   },
   {
    "duration": 4,
    "start_time": "2022-05-16T19:39:18.482Z"
   },
   {
    "duration": 8,
    "start_time": "2022-05-16T19:39:18.487Z"
   },
   {
    "duration": 21,
    "start_time": "2022-05-16T19:39:18.497Z"
   },
   {
    "duration": 72,
    "start_time": "2022-05-16T19:39:18.520Z"
   },
   {
    "duration": 552,
    "start_time": "2022-05-16T19:39:18.594Z"
   },
   {
    "duration": 90,
    "start_time": "2022-05-16T19:39:19.156Z"
   },
   {
    "duration": 150,
    "start_time": "2022-05-16T19:39:19.257Z"
   },
   {
    "duration": 32,
    "start_time": "2022-05-16T19:39:19.408Z"
   },
   {
    "duration": 43,
    "start_time": "2022-05-16T19:39:19.442Z"
   },
   {
    "duration": 144,
    "start_time": "2022-05-16T19:39:19.486Z"
   },
   {
    "duration": 133,
    "start_time": "2022-05-16T19:39:19.632Z"
   },
   {
    "duration": 20,
    "start_time": "2022-05-16T19:39:19.767Z"
   },
   {
    "duration": 11,
    "start_time": "2022-05-16T19:39:19.789Z"
   },
   {
    "duration": 25,
    "start_time": "2022-05-16T19:39:19.802Z"
   },
   {
    "duration": 100,
    "start_time": "2022-05-16T19:39:19.829Z"
   },
   {
    "duration": 30,
    "start_time": "2022-05-16T19:39:19.930Z"
   },
   {
    "duration": 109,
    "start_time": "2022-05-16T19:39:19.962Z"
   },
   {
    "duration": 25,
    "start_time": "2022-05-16T19:39:20.072Z"
   },
   {
    "duration": 90,
    "start_time": "2022-05-16T19:39:20.099Z"
   },
   {
    "duration": 155,
    "start_time": "2022-05-16T19:39:20.191Z"
   },
   {
    "duration": 75,
    "start_time": "2022-05-16T19:39:20.347Z"
   },
   {
    "duration": 71,
    "start_time": "2022-05-16T19:39:20.423Z"
   },
   {
    "duration": 16,
    "start_time": "2022-05-16T19:39:20.496Z"
   },
   {
    "duration": 48,
    "start_time": "2022-05-16T19:39:20.514Z"
   },
   {
    "duration": 152,
    "start_time": "2022-05-16T19:39:20.564Z"
   },
   {
    "duration": 74,
    "start_time": "2022-05-16T19:39:20.718Z"
   },
   {
    "duration": 252,
    "start_time": "2022-05-16T19:39:20.794Z"
   },
   {
    "duration": 290,
    "start_time": "2022-05-16T19:39:21.048Z"
   },
   {
    "duration": 4,
    "start_time": "2022-05-16T19:39:21.340Z"
   },
   {
    "duration": 28,
    "start_time": "2022-05-16T19:39:21.345Z"
   },
   {
    "duration": 17,
    "start_time": "2022-05-16T19:39:21.375Z"
   },
   {
    "duration": 925,
    "start_time": "2022-05-16T19:39:21.394Z"
   },
   {
    "duration": 131,
    "start_time": "2022-05-16T19:39:36.429Z"
   },
   {
    "duration": 16,
    "start_time": "2022-05-16T19:44:14.223Z"
   },
   {
    "duration": 82,
    "start_time": "2022-05-16T19:44:17.430Z"
   },
   {
    "duration": 127,
    "start_time": "2022-05-16T19:44:22.890Z"
   },
   {
    "duration": 1673,
    "start_time": "2022-05-16T19:45:23.503Z"
   },
   {
    "duration": 1679,
    "start_time": "2022-05-16T19:45:25.178Z"
   },
   {
    "duration": 139,
    "start_time": "2022-05-16T19:45:26.859Z"
   },
   {
    "duration": 285,
    "start_time": "2022-05-16T19:45:27.001Z"
   },
   {
    "duration": 96,
    "start_time": "2022-05-16T19:45:27.288Z"
   },
   {
    "duration": 82,
    "start_time": "2022-05-16T19:45:27.386Z"
   },
   {
    "duration": 113,
    "start_time": "2022-05-16T19:45:27.470Z"
   },
   {
    "duration": 97,
    "start_time": "2022-05-16T19:45:27.585Z"
   },
   {
    "duration": 84,
    "start_time": "2022-05-16T19:45:27.684Z"
   },
   {
    "duration": 18,
    "start_time": "2022-05-16T19:45:27.770Z"
   },
   {
    "duration": 4,
    "start_time": "2022-05-16T19:46:22.187Z"
   },
   {
    "duration": 1632,
    "start_time": "2022-05-16T19:46:22.193Z"
   },
   {
    "duration": 137,
    "start_time": "2022-05-16T19:46:23.827Z"
   },
   {
    "duration": 264,
    "start_time": "2022-05-16T19:46:23.965Z"
   },
   {
    "duration": 98,
    "start_time": "2022-05-16T19:46:24.231Z"
   },
   {
    "duration": 74,
    "start_time": "2022-05-16T19:46:24.330Z"
   },
   {
    "duration": 107,
    "start_time": "2022-05-16T19:46:24.406Z"
   },
   {
    "duration": 94,
    "start_time": "2022-05-16T19:46:24.514Z"
   },
   {
    "duration": 87,
    "start_time": "2022-05-16T19:46:24.610Z"
   },
   {
    "duration": 17,
    "start_time": "2022-05-16T19:46:24.699Z"
   },
   {
    "duration": 64,
    "start_time": "2022-05-16T19:46:24.719Z"
   },
   {
    "duration": 80,
    "start_time": "2022-05-16T19:46:24.784Z"
   },
   {
    "duration": 19,
    "start_time": "2022-05-16T19:46:24.866Z"
   },
   {
    "duration": 50,
    "start_time": "2022-05-16T19:46:24.887Z"
   },
   {
    "duration": 117,
    "start_time": "2022-05-16T19:46:24.939Z"
   },
   {
    "duration": 19,
    "start_time": "2022-05-16T19:46:25.058Z"
   },
   {
    "duration": 47,
    "start_time": "2022-05-16T19:46:25.079Z"
   },
   {
    "duration": 83,
    "start_time": "2022-05-16T19:46:25.128Z"
   },
   {
    "duration": 18,
    "start_time": "2022-05-16T19:46:25.213Z"
   },
   {
    "duration": 33,
    "start_time": "2022-05-16T19:46:25.233Z"
   },
   {
    "duration": 601,
    "start_time": "2022-05-16T19:46:25.267Z"
   },
   {
    "duration": 45,
    "start_time": "2022-05-16T19:46:25.869Z"
   },
   {
    "duration": 4,
    "start_time": "2022-05-16T19:46:25.915Z"
   },
   {
    "duration": 6,
    "start_time": "2022-05-16T19:46:25.921Z"
   },
   {
    "duration": 41,
    "start_time": "2022-05-16T19:46:25.929Z"
   },
   {
    "duration": 44,
    "start_time": "2022-05-16T19:46:25.972Z"
   },
   {
    "duration": 555,
    "start_time": "2022-05-16T19:46:26.018Z"
   },
   {
    "duration": 112,
    "start_time": "2022-05-16T19:46:26.575Z"
   },
   {
    "duration": 148,
    "start_time": "2022-05-16T19:46:26.690Z"
   },
   {
    "duration": 40,
    "start_time": "2022-05-16T19:46:26.840Z"
   },
   {
    "duration": 26,
    "start_time": "2022-05-16T19:46:26.882Z"
   },
   {
    "duration": 152,
    "start_time": "2022-05-16T19:46:26.909Z"
   },
   {
    "duration": 124,
    "start_time": "2022-05-16T19:46:27.063Z"
   },
   {
    "duration": 21,
    "start_time": "2022-05-16T19:46:27.189Z"
   },
   {
    "duration": 11,
    "start_time": "2022-05-16T19:46:27.212Z"
   },
   {
    "duration": 26,
    "start_time": "2022-05-16T19:46:29.519Z"
   },
   {
    "duration": 6,
    "start_time": "2022-05-16T19:46:46.898Z"
   },
   {
    "duration": 77,
    "start_time": "2022-05-16T19:46:50.463Z"
   },
   {
    "duration": 6,
    "start_time": "2022-05-16T19:46:51.998Z"
   },
   {
    "duration": 75,
    "start_time": "2022-05-16T19:47:18.059Z"
   },
   {
    "duration": 13,
    "start_time": "2022-05-16T19:47:20.450Z"
   },
   {
    "duration": 6,
    "start_time": "2022-05-16T19:47:45.975Z"
   },
   {
    "duration": 17,
    "start_time": "2022-05-16T19:50:17.046Z"
   },
   {
    "duration": 4,
    "start_time": "2022-05-16T19:50:36.015Z"
   },
   {
    "duration": 6,
    "start_time": "2022-05-16T19:50:53.052Z"
   },
   {
    "duration": 6,
    "start_time": "2022-05-16T19:51:42.823Z"
   },
   {
    "duration": 1808,
    "start_time": "2022-05-16T19:51:53.666Z"
   },
   {
    "duration": 1816,
    "start_time": "2022-05-16T19:51:55.477Z"
   },
   {
    "duration": 151,
    "start_time": "2022-05-16T19:51:57.295Z"
   },
   {
    "duration": 272,
    "start_time": "2022-05-16T19:51:57.456Z"
   },
   {
    "duration": 99,
    "start_time": "2022-05-16T19:51:57.730Z"
   },
   {
    "duration": 77,
    "start_time": "2022-05-16T19:51:57.831Z"
   },
   {
    "duration": 119,
    "start_time": "2022-05-16T19:51:57.910Z"
   },
   {
    "duration": 103,
    "start_time": "2022-05-16T19:51:58.031Z"
   },
   {
    "duration": 92,
    "start_time": "2022-05-16T19:51:58.136Z"
   },
   {
    "duration": 26,
    "start_time": "2022-05-16T19:51:58.231Z"
   },
   {
    "duration": 53,
    "start_time": "2022-05-16T19:51:58.259Z"
   },
   {
    "duration": 100,
    "start_time": "2022-05-16T19:51:58.314Z"
   },
   {
    "duration": 19,
    "start_time": "2022-05-16T19:51:58.415Z"
   },
   {
    "duration": 60,
    "start_time": "2022-05-16T19:51:58.436Z"
   },
   {
    "duration": 115,
    "start_time": "2022-05-16T19:51:58.497Z"
   },
   {
    "duration": 20,
    "start_time": "2022-05-16T19:51:58.614Z"
   },
   {
    "duration": 78,
    "start_time": "2022-05-16T19:51:58.636Z"
   },
   {
    "duration": 93,
    "start_time": "2022-05-16T19:51:58.716Z"
   },
   {
    "duration": 19,
    "start_time": "2022-05-16T19:51:58.811Z"
   },
   {
    "duration": 38,
    "start_time": "2022-05-16T19:51:58.832Z"
   },
   {
    "duration": 658,
    "start_time": "2022-05-16T19:51:58.872Z"
   },
   {
    "duration": 60,
    "start_time": "2022-05-16T19:51:59.532Z"
   },
   {
    "duration": 5,
    "start_time": "2022-05-16T19:51:59.595Z"
   },
   {
    "duration": 13,
    "start_time": "2022-05-16T19:51:59.602Z"
   },
   {
    "duration": 56,
    "start_time": "2022-05-16T19:51:59.618Z"
   },
   {
    "duration": 50,
    "start_time": "2022-05-16T19:51:59.676Z"
   },
   {
    "duration": 603,
    "start_time": "2022-05-16T19:51:59.728Z"
   },
   {
    "duration": 116,
    "start_time": "2022-05-16T19:52:00.335Z"
   },
   {
    "duration": 174,
    "start_time": "2022-05-16T19:52:00.453Z"
   },
   {
    "duration": 46,
    "start_time": "2022-05-16T19:52:00.629Z"
   },
   {
    "duration": 32,
    "start_time": "2022-05-16T19:52:00.677Z"
   },
   {
    "duration": 173,
    "start_time": "2022-05-16T19:52:00.711Z"
   },
   {
    "duration": 146,
    "start_time": "2022-05-16T19:52:00.886Z"
   },
   {
    "duration": 32,
    "start_time": "2022-05-16T19:52:01.034Z"
   },
   {
    "duration": 10,
    "start_time": "2022-05-16T19:52:07.613Z"
   },
   {
    "duration": 6,
    "start_time": "2022-05-16T19:52:21.215Z"
   },
   {
    "duration": 26,
    "start_time": "2022-05-16T19:53:08.366Z"
   },
   {
    "duration": 25,
    "start_time": "2022-05-16T19:53:10.643Z"
   },
   {
    "duration": 24,
    "start_time": "2022-05-16T19:53:37.197Z"
   },
   {
    "duration": 9,
    "start_time": "2022-05-16T19:54:03.052Z"
   },
   {
    "duration": 83,
    "start_time": "2022-05-16T19:54:35.140Z"
   },
   {
    "duration": 5,
    "start_time": "2022-05-16T19:54:47.008Z"
   },
   {
    "duration": 3,
    "start_time": "2022-05-16T19:55:36.297Z"
   },
   {
    "duration": 3,
    "start_time": "2022-05-16T19:56:06.011Z"
   },
   {
    "duration": 35,
    "start_time": "2022-05-16T19:56:16.759Z"
   },
   {
    "duration": 5,
    "start_time": "2022-05-16T19:56:19.274Z"
   },
   {
    "duration": 1851,
    "start_time": "2022-05-16T19:57:51.993Z"
   },
   {
    "duration": 1786,
    "start_time": "2022-05-16T19:57:53.846Z"
   },
   {
    "duration": 137,
    "start_time": "2022-05-16T19:57:55.634Z"
   },
   {
    "duration": 291,
    "start_time": "2022-05-16T19:57:55.773Z"
   },
   {
    "duration": 102,
    "start_time": "2022-05-16T19:57:56.066Z"
   },
   {
    "duration": 71,
    "start_time": "2022-05-16T19:57:56.169Z"
   },
   {
    "duration": 130,
    "start_time": "2022-05-16T19:57:56.241Z"
   },
   {
    "duration": 104,
    "start_time": "2022-05-16T19:57:56.373Z"
   },
   {
    "duration": 88,
    "start_time": "2022-05-16T19:57:56.478Z"
   },
   {
    "duration": 20,
    "start_time": "2022-05-16T19:57:56.568Z"
   },
   {
    "duration": 70,
    "start_time": "2022-05-16T19:57:56.590Z"
   },
   {
    "duration": 75,
    "start_time": "2022-05-16T19:57:56.662Z"
   },
   {
    "duration": 32,
    "start_time": "2022-05-16T19:57:56.739Z"
   },
   {
    "duration": 48,
    "start_time": "2022-05-16T19:57:56.774Z"
   },
   {
    "duration": 125,
    "start_time": "2022-05-16T19:57:56.824Z"
   },
   {
    "duration": 21,
    "start_time": "2022-05-16T19:57:56.950Z"
   },
   {
    "duration": 45,
    "start_time": "2022-05-16T19:57:56.973Z"
   },
   {
    "duration": 91,
    "start_time": "2022-05-16T19:57:57.020Z"
   },
   {
    "duration": 18,
    "start_time": "2022-05-16T19:57:57.112Z"
   },
   {
    "duration": 36,
    "start_time": "2022-05-16T19:57:57.132Z"
   },
   {
    "duration": 667,
    "start_time": "2022-05-16T19:57:57.170Z"
   },
   {
    "duration": 49,
    "start_time": "2022-05-16T19:57:57.839Z"
   },
   {
    "duration": 4,
    "start_time": "2022-05-16T19:57:57.890Z"
   },
   {
    "duration": 7,
    "start_time": "2022-05-16T19:57:57.896Z"
   },
   {
    "duration": 23,
    "start_time": "2022-05-16T19:57:57.904Z"
   },
   {
    "duration": 64,
    "start_time": "2022-05-16T19:57:57.929Z"
   },
   {
    "duration": 577,
    "start_time": "2022-05-16T19:57:57.995Z"
   },
   {
    "duration": 104,
    "start_time": "2022-05-16T19:57:58.576Z"
   },
   {
    "duration": 169,
    "start_time": "2022-05-16T19:57:58.682Z"
   },
   {
    "duration": 33,
    "start_time": "2022-05-16T19:57:58.857Z"
   },
   {
    "duration": 32,
    "start_time": "2022-05-16T19:57:58.893Z"
   },
   {
    "duration": 170,
    "start_time": "2022-05-16T19:57:58.927Z"
   },
   {
    "duration": 142,
    "start_time": "2022-05-16T19:57:59.099Z"
   },
   {
    "duration": 125,
    "start_time": "2022-05-16T19:57:59.243Z"
   },
   {
    "duration": 6,
    "start_time": "2022-05-16T19:57:59.370Z"
   },
   {
    "duration": 27,
    "start_time": "2022-05-16T19:57:59.378Z"
   },
   {
    "duration": 26,
    "start_time": "2022-05-16T19:57:59.407Z"
   },
   {
    "duration": 126,
    "start_time": "2022-05-16T19:57:59.434Z"
   },
   {
    "duration": 9,
    "start_time": "2022-05-16T19:57:59.562Z"
   },
   {
    "duration": 51,
    "start_time": "2022-05-16T19:58:21.569Z"
   },
   {
    "duration": 1758,
    "start_time": "2022-05-16T19:58:24.331Z"
   },
   {
    "duration": 1798,
    "start_time": "2022-05-16T19:58:26.091Z"
   },
   {
    "duration": 154,
    "start_time": "2022-05-16T19:58:27.891Z"
   },
   {
    "duration": 295,
    "start_time": "2022-05-16T19:58:28.047Z"
   },
   {
    "duration": 100,
    "start_time": "2022-05-16T19:58:28.344Z"
   },
   {
    "duration": 71,
    "start_time": "2022-05-16T19:58:28.456Z"
   },
   {
    "duration": 117,
    "start_time": "2022-05-16T19:58:28.529Z"
   },
   {
    "duration": 91,
    "start_time": "2022-05-16T19:58:28.648Z"
   },
   {
    "duration": 89,
    "start_time": "2022-05-16T19:58:28.741Z"
   },
   {
    "duration": 28,
    "start_time": "2022-05-16T19:58:28.833Z"
   },
   {
    "duration": 56,
    "start_time": "2022-05-16T19:58:28.863Z"
   },
   {
    "duration": 85,
    "start_time": "2022-05-16T19:58:28.921Z"
   },
   {
    "duration": 20,
    "start_time": "2022-05-16T19:58:29.007Z"
   },
   {
    "duration": 62,
    "start_time": "2022-05-16T19:58:29.029Z"
   },
   {
    "duration": 110,
    "start_time": "2022-05-16T19:58:29.092Z"
   },
   {
    "duration": 20,
    "start_time": "2022-05-16T19:58:29.204Z"
   },
   {
    "duration": 59,
    "start_time": "2022-05-16T19:58:29.225Z"
   },
   {
    "duration": 83,
    "start_time": "2022-05-16T19:58:29.286Z"
   },
   {
    "duration": 18,
    "start_time": "2022-05-16T19:58:29.371Z"
   },
   {
    "duration": 20,
    "start_time": "2022-05-16T19:58:29.391Z"
   },
   {
    "duration": 705,
    "start_time": "2022-05-16T19:58:29.412Z"
   },
   {
    "duration": 50,
    "start_time": "2022-05-16T19:58:30.119Z"
   },
   {
    "duration": 4,
    "start_time": "2022-05-16T19:58:30.172Z"
   },
   {
    "duration": 10,
    "start_time": "2022-05-16T19:58:30.178Z"
   },
   {
    "duration": 23,
    "start_time": "2022-05-16T19:58:30.190Z"
   },
   {
    "duration": 64,
    "start_time": "2022-05-16T19:58:30.214Z"
   },
   {
    "duration": 547,
    "start_time": "2022-05-16T19:58:30.280Z"
   },
   {
    "duration": 107,
    "start_time": "2022-05-16T19:58:30.831Z"
   },
   {
    "duration": 164,
    "start_time": "2022-05-16T19:58:30.940Z"
   },
   {
    "duration": 33,
    "start_time": "2022-05-16T19:58:31.107Z"
   },
   {
    "duration": 48,
    "start_time": "2022-05-16T19:58:31.142Z"
   },
   {
    "duration": 164,
    "start_time": "2022-05-16T19:58:31.192Z"
   },
   {
    "duration": 143,
    "start_time": "2022-05-16T19:58:31.358Z"
   },
   {
    "duration": 10,
    "start_time": "2022-05-16T19:58:31.503Z"
   },
   {
    "duration": 8,
    "start_time": "2022-05-16T19:58:31.514Z"
   },
   {
    "duration": 55,
    "start_time": "2022-05-16T19:58:31.524Z"
   },
   {
    "duration": 26,
    "start_time": "2022-05-16T19:58:31.581Z"
   },
   {
    "duration": 111,
    "start_time": "2022-05-16T19:58:31.609Z"
   },
   {
    "duration": 9,
    "start_time": "2022-05-16T19:58:31.722Z"
   },
   {
    "duration": 52,
    "start_time": "2022-05-16T19:58:44.262Z"
   },
   {
    "duration": 8,
    "start_time": "2022-05-16T20:00:04.527Z"
   },
   {
    "duration": 1781,
    "start_time": "2022-05-16T20:00:08.209Z"
   },
   {
    "duration": 1801,
    "start_time": "2022-05-16T20:00:09.992Z"
   },
   {
    "duration": 141,
    "start_time": "2022-05-16T20:00:11.795Z"
   },
   {
    "duration": 289,
    "start_time": "2022-05-16T20:00:11.938Z"
   },
   {
    "duration": 100,
    "start_time": "2022-05-16T20:00:12.229Z"
   },
   {
    "duration": 79,
    "start_time": "2022-05-16T20:00:12.331Z"
   },
   {
    "duration": 114,
    "start_time": "2022-05-16T20:00:12.412Z"
   },
   {
    "duration": 105,
    "start_time": "2022-05-16T20:00:12.527Z"
   },
   {
    "duration": 83,
    "start_time": "2022-05-16T20:00:12.633Z"
   },
   {
    "duration": 19,
    "start_time": "2022-05-16T20:00:12.719Z"
   },
   {
    "duration": 65,
    "start_time": "2022-05-16T20:00:12.740Z"
   },
   {
    "duration": 89,
    "start_time": "2022-05-16T20:00:12.807Z"
   },
   {
    "duration": 18,
    "start_time": "2022-05-16T20:00:12.898Z"
   },
   {
    "duration": 57,
    "start_time": "2022-05-16T20:00:12.918Z"
   },
   {
    "duration": 110,
    "start_time": "2022-05-16T20:00:12.977Z"
   },
   {
    "duration": 20,
    "start_time": "2022-05-16T20:00:13.089Z"
   },
   {
    "duration": 64,
    "start_time": "2022-05-16T20:00:13.111Z"
   },
   {
    "duration": 81,
    "start_time": "2022-05-16T20:00:13.177Z"
   },
   {
    "duration": 18,
    "start_time": "2022-05-16T20:00:13.260Z"
   },
   {
    "duration": 21,
    "start_time": "2022-05-16T20:00:13.280Z"
   },
   {
    "duration": 638,
    "start_time": "2022-05-16T20:00:13.303Z"
   },
   {
    "duration": 44,
    "start_time": "2022-05-16T20:00:13.942Z"
   },
   {
    "duration": 3,
    "start_time": "2022-05-16T20:00:13.988Z"
   },
   {
    "duration": 12,
    "start_time": "2022-05-16T20:00:13.993Z"
   },
   {
    "duration": 23,
    "start_time": "2022-05-16T20:00:14.007Z"
   },
   {
    "duration": 59,
    "start_time": "2022-05-16T20:00:14.033Z"
   },
   {
    "duration": 563,
    "start_time": "2022-05-16T20:00:14.094Z"
   },
   {
    "duration": 102,
    "start_time": "2022-05-16T20:00:14.661Z"
   },
   {
    "duration": 163,
    "start_time": "2022-05-16T20:00:14.765Z"
   },
   {
    "duration": 48,
    "start_time": "2022-05-16T20:00:14.930Z"
   },
   {
    "duration": 31,
    "start_time": "2022-05-16T20:00:14.980Z"
   },
   {
    "duration": 157,
    "start_time": "2022-05-16T20:00:15.014Z"
   },
   {
    "duration": 146,
    "start_time": "2022-05-16T20:00:15.173Z"
   },
   {
    "duration": 9,
    "start_time": "2022-05-16T20:00:15.321Z"
   },
   {
    "duration": 8,
    "start_time": "2022-05-16T20:00:15.332Z"
   },
   {
    "duration": 31,
    "start_time": "2022-05-16T20:00:15.356Z"
   },
   {
    "duration": 27,
    "start_time": "2022-05-16T20:00:15.388Z"
   },
   {
    "duration": 122,
    "start_time": "2022-05-16T20:00:15.416Z"
   },
   {
    "duration": 19,
    "start_time": "2022-05-16T20:00:15.540Z"
   },
   {
    "duration": 51,
    "start_time": "2022-05-16T20:00:51.928Z"
   },
   {
    "duration": 1663,
    "start_time": "2022-05-16T20:00:56.312Z"
   },
   {
    "duration": 1767,
    "start_time": "2022-05-16T20:00:57.978Z"
   },
   {
    "duration": 151,
    "start_time": "2022-05-16T20:00:59.747Z"
   },
   {
    "duration": 310,
    "start_time": "2022-05-16T20:00:59.900Z"
   },
   {
    "duration": 110,
    "start_time": "2022-05-16T20:01:00.212Z"
   },
   {
    "duration": 86,
    "start_time": "2022-05-16T20:01:00.324Z"
   },
   {
    "duration": 120,
    "start_time": "2022-05-16T20:01:00.413Z"
   },
   {
    "duration": 107,
    "start_time": "2022-05-16T20:01:00.535Z"
   },
   {
    "duration": 85,
    "start_time": "2022-05-16T20:01:00.644Z"
   },
   {
    "duration": 28,
    "start_time": "2022-05-16T20:01:00.732Z"
   },
   {
    "duration": 58,
    "start_time": "2022-05-16T20:01:00.762Z"
   },
   {
    "duration": 91,
    "start_time": "2022-05-16T20:01:00.822Z"
   },
   {
    "duration": 20,
    "start_time": "2022-05-16T20:01:00.915Z"
   },
   {
    "duration": 64,
    "start_time": "2022-05-16T20:01:00.937Z"
   },
   {
    "duration": 125,
    "start_time": "2022-05-16T20:01:01.003Z"
   },
   {
    "duration": 27,
    "start_time": "2022-05-16T20:01:01.131Z"
   },
   {
    "duration": 48,
    "start_time": "2022-05-16T20:01:01.160Z"
   },
   {
    "duration": 94,
    "start_time": "2022-05-16T20:01:01.210Z"
   },
   {
    "duration": 20,
    "start_time": "2022-05-16T20:01:01.307Z"
   },
   {
    "duration": 36,
    "start_time": "2022-05-16T20:01:01.329Z"
   },
   {
    "duration": 721,
    "start_time": "2022-05-16T20:01:01.367Z"
   },
   {
    "duration": 48,
    "start_time": "2022-05-16T20:01:02.090Z"
   },
   {
    "duration": 19,
    "start_time": "2022-05-16T20:01:02.141Z"
   },
   {
    "duration": 15,
    "start_time": "2022-05-16T20:01:02.162Z"
   },
   {
    "duration": 28,
    "start_time": "2022-05-16T20:01:02.179Z"
   },
   {
    "duration": 55,
    "start_time": "2022-05-16T20:01:02.209Z"
   },
   {
    "duration": 625,
    "start_time": "2022-05-16T20:01:02.266Z"
   },
   {
    "duration": 128,
    "start_time": "2022-05-16T20:01:02.895Z"
   },
   {
    "duration": 170,
    "start_time": "2022-05-16T20:01:03.025Z"
   },
   {
    "duration": 39,
    "start_time": "2022-05-16T20:01:03.197Z"
   },
   {
    "duration": 53,
    "start_time": "2022-05-16T20:01:03.238Z"
   },
   {
    "duration": 165,
    "start_time": "2022-05-16T20:01:03.293Z"
   },
   {
    "duration": 146,
    "start_time": "2022-05-16T20:01:03.460Z"
   },
   {
    "duration": 9,
    "start_time": "2022-05-16T20:01:03.608Z"
   },
   {
    "duration": 9,
    "start_time": "2022-05-16T20:01:03.620Z"
   },
   {
    "duration": 62,
    "start_time": "2022-05-16T20:01:03.630Z"
   },
   {
    "duration": 33,
    "start_time": "2022-05-16T20:01:03.694Z"
   },
   {
    "duration": 114,
    "start_time": "2022-05-16T20:01:03.729Z"
   },
   {
    "duration": 20,
    "start_time": "2022-05-16T20:01:03.846Z"
   },
   {
    "duration": 4578,
    "start_time": "2022-05-16T20:01:06.122Z"
   },
   {
    "duration": 5,
    "start_time": "2022-05-16T20:01:15.727Z"
   },
   {
    "duration": 7,
    "start_time": "2022-05-16T20:01:21.493Z"
   },
   {
    "duration": 1788,
    "start_time": "2022-05-16T20:01:49.629Z"
   },
   {
    "duration": 1747,
    "start_time": "2022-05-16T20:01:51.419Z"
   },
   {
    "duration": 150,
    "start_time": "2022-05-16T20:01:53.167Z"
   },
   {
    "duration": 288,
    "start_time": "2022-05-16T20:01:53.319Z"
   },
   {
    "duration": 100,
    "start_time": "2022-05-16T20:01:53.609Z"
   },
   {
    "duration": 83,
    "start_time": "2022-05-16T20:01:53.711Z"
   },
   {
    "duration": 115,
    "start_time": "2022-05-16T20:01:53.796Z"
   },
   {
    "duration": 104,
    "start_time": "2022-05-16T20:01:53.913Z"
   },
   {
    "duration": 88,
    "start_time": "2022-05-16T20:01:54.019Z"
   },
   {
    "duration": 19,
    "start_time": "2022-05-16T20:01:54.109Z"
   },
   {
    "duration": 62,
    "start_time": "2022-05-16T20:01:54.129Z"
   },
   {
    "duration": 101,
    "start_time": "2022-05-16T20:01:54.193Z"
   },
   {
    "duration": 20,
    "start_time": "2022-05-16T20:01:54.299Z"
   },
   {
    "duration": 63,
    "start_time": "2022-05-16T20:01:54.320Z"
   },
   {
    "duration": 108,
    "start_time": "2022-05-16T20:01:54.385Z"
   },
   {
    "duration": 20,
    "start_time": "2022-05-16T20:01:54.494Z"
   },
   {
    "duration": 57,
    "start_time": "2022-05-16T20:01:54.516Z"
   },
   {
    "duration": 84,
    "start_time": "2022-05-16T20:01:54.575Z"
   },
   {
    "duration": 17,
    "start_time": "2022-05-16T20:01:54.661Z"
   },
   {
    "duration": 23,
    "start_time": "2022-05-16T20:01:54.680Z"
   },
   {
    "duration": 633,
    "start_time": "2022-05-16T20:01:54.704Z"
   },
   {
    "duration": 53,
    "start_time": "2022-05-16T20:01:55.339Z"
   },
   {
    "duration": 4,
    "start_time": "2022-05-16T20:01:55.394Z"
   },
   {
    "duration": 12,
    "start_time": "2022-05-16T20:01:55.400Z"
   },
   {
    "duration": 24,
    "start_time": "2022-05-16T20:01:55.414Z"
   },
   {
    "duration": 58,
    "start_time": "2022-05-16T20:01:55.439Z"
   },
   {
    "duration": 568,
    "start_time": "2022-05-16T20:01:55.498Z"
   },
   {
    "duration": 105,
    "start_time": "2022-05-16T20:01:56.067Z"
   },
   {
    "duration": 153,
    "start_time": "2022-05-16T20:01:56.174Z"
   },
   {
    "duration": 41,
    "start_time": "2022-05-16T20:01:56.329Z"
   },
   {
    "duration": 31,
    "start_time": "2022-05-16T20:01:56.371Z"
   },
   {
    "duration": 158,
    "start_time": "2022-05-16T20:01:56.404Z"
   },
   {
    "duration": 142,
    "start_time": "2022-05-16T20:01:56.564Z"
   },
   {
    "duration": 8,
    "start_time": "2022-05-16T20:01:56.708Z"
   },
   {
    "duration": 6,
    "start_time": "2022-05-16T20:01:56.718Z"
   },
   {
    "duration": 49,
    "start_time": "2022-05-16T20:01:56.725Z"
   },
   {
    "duration": 25,
    "start_time": "2022-05-16T20:01:56.776Z"
   },
   {
    "duration": 113,
    "start_time": "2022-05-16T20:01:56.803Z"
   },
   {
    "duration": 133,
    "start_time": "2022-05-16T20:01:59.006Z"
   },
   {
    "duration": 10,
    "start_time": "2022-05-16T20:02:16.402Z"
   },
   {
    "duration": 2220,
    "start_time": "2022-05-16T20:02:18.042Z"
   },
   {
    "duration": 6,
    "start_time": "2022-05-16T20:02:24.978Z"
   },
   {
    "duration": 3068,
    "start_time": "2022-05-16T20:03:35.969Z"
   },
   {
    "duration": 20,
    "start_time": "2022-05-16T20:03:42.214Z"
   },
   {
    "duration": 884,
    "start_time": "2022-05-16T20:05:04.757Z"
   },
   {
    "duration": 2414,
    "start_time": "2022-05-16T20:05:28.920Z"
   },
   {
    "duration": 1790,
    "start_time": "2022-05-16T20:05:58.358Z"
   },
   {
    "duration": 1723,
    "start_time": "2022-05-16T20:06:00.150Z"
   },
   {
    "duration": 134,
    "start_time": "2022-05-16T20:06:01.875Z"
   },
   {
    "duration": 284,
    "start_time": "2022-05-16T20:06:02.011Z"
   },
   {
    "duration": 99,
    "start_time": "2022-05-16T20:06:02.297Z"
   },
   {
    "duration": 85,
    "start_time": "2022-05-16T20:06:02.398Z"
   },
   {
    "duration": 116,
    "start_time": "2022-05-16T20:06:02.486Z"
   },
   {
    "duration": 99,
    "start_time": "2022-05-16T20:06:02.604Z"
   },
   {
    "duration": 91,
    "start_time": "2022-05-16T20:06:02.706Z"
   },
   {
    "duration": 19,
    "start_time": "2022-05-16T20:06:02.799Z"
   },
   {
    "duration": 64,
    "start_time": "2022-05-16T20:06:02.820Z"
   },
   {
    "duration": 85,
    "start_time": "2022-05-16T20:06:02.886Z"
   },
   {
    "duration": 20,
    "start_time": "2022-05-16T20:06:02.973Z"
   },
   {
    "duration": 68,
    "start_time": "2022-05-16T20:06:02.997Z"
   },
   {
    "duration": 104,
    "start_time": "2022-05-16T20:06:03.067Z"
   },
   {
    "duration": 19,
    "start_time": "2022-05-16T20:06:03.173Z"
   },
   {
    "duration": 46,
    "start_time": "2022-05-16T20:06:03.194Z"
   },
   {
    "duration": 75,
    "start_time": "2022-05-16T20:06:03.256Z"
   },
   {
    "duration": 27,
    "start_time": "2022-05-16T20:06:03.333Z"
   },
   {
    "duration": 21,
    "start_time": "2022-05-16T20:06:03.362Z"
   },
   {
    "duration": 631,
    "start_time": "2022-05-16T20:06:03.385Z"
   },
   {
    "duration": 55,
    "start_time": "2022-05-16T20:06:04.018Z"
   },
   {
    "duration": 4,
    "start_time": "2022-05-16T20:06:04.076Z"
   },
   {
    "duration": 11,
    "start_time": "2022-05-16T20:06:04.082Z"
   },
   {
    "duration": 23,
    "start_time": "2022-05-16T20:06:04.095Z"
   },
   {
    "duration": 61,
    "start_time": "2022-05-16T20:06:04.120Z"
   },
   {
    "duration": 548,
    "start_time": "2022-05-16T20:06:04.184Z"
   },
   {
    "duration": 95,
    "start_time": "2022-05-16T20:06:04.734Z"
   },
   {
    "duration": 155,
    "start_time": "2022-05-16T20:06:04.831Z"
   },
   {
    "duration": 31,
    "start_time": "2022-05-16T20:06:04.988Z"
   },
   {
    "duration": 52,
    "start_time": "2022-05-16T20:06:05.022Z"
   },
   {
    "duration": 195,
    "start_time": "2022-05-16T20:06:05.075Z"
   },
   {
    "duration": 132,
    "start_time": "2022-05-16T20:06:05.272Z"
   },
   {
    "duration": 9,
    "start_time": "2022-05-16T20:06:05.406Z"
   },
   {
    "duration": 22,
    "start_time": "2022-05-16T20:06:05.417Z"
   },
   {
    "duration": 40,
    "start_time": "2022-05-16T20:06:05.441Z"
   },
   {
    "duration": 39,
    "start_time": "2022-05-16T20:06:05.483Z"
   },
   {
    "duration": 97,
    "start_time": "2022-05-16T20:06:05.524Z"
   },
   {
    "duration": 137,
    "start_time": "2022-05-16T20:06:05.623Z"
   },
   {
    "duration": 9,
    "start_time": "2022-05-16T20:06:05.762Z"
   },
   {
    "duration": 2202,
    "start_time": "2022-05-16T20:06:05.776Z"
   },
   {
    "duration": 14,
    "start_time": "2022-05-16T20:06:33.230Z"
   },
   {
    "duration": 13,
    "start_time": "2022-05-16T20:06:43.571Z"
   },
   {
    "duration": 3067,
    "start_time": "2022-05-16T20:06:49.804Z"
   },
   {
    "duration": 787,
    "start_time": "2022-05-16T20:06:54.745Z"
   },
   {
    "duration": 1724,
    "start_time": "2022-05-16T20:07:31.430Z"
   },
   {
    "duration": 1656,
    "start_time": "2022-05-16T20:07:33.156Z"
   },
   {
    "duration": 130,
    "start_time": "2022-05-16T20:07:34.814Z"
   },
   {
    "duration": 277,
    "start_time": "2022-05-16T20:07:34.945Z"
   },
   {
    "duration": 93,
    "start_time": "2022-05-16T20:07:35.224Z"
   },
   {
    "duration": 76,
    "start_time": "2022-05-16T20:07:35.319Z"
   },
   {
    "duration": 119,
    "start_time": "2022-05-16T20:07:35.397Z"
   },
   {
    "duration": 91,
    "start_time": "2022-05-16T20:07:35.518Z"
   },
   {
    "duration": 83,
    "start_time": "2022-05-16T20:07:35.611Z"
   },
   {
    "duration": 17,
    "start_time": "2022-05-16T20:07:35.696Z"
   },
   {
    "duration": 60,
    "start_time": "2022-05-16T20:07:35.715Z"
   },
   {
    "duration": 82,
    "start_time": "2022-05-16T20:07:35.777Z"
   },
   {
    "duration": 18,
    "start_time": "2022-05-16T20:07:35.861Z"
   },
   {
    "duration": 45,
    "start_time": "2022-05-16T20:07:35.883Z"
   },
   {
    "duration": 116,
    "start_time": "2022-05-16T20:07:35.929Z"
   },
   {
    "duration": 24,
    "start_time": "2022-05-16T20:07:36.047Z"
   },
   {
    "duration": 45,
    "start_time": "2022-05-16T20:07:36.073Z"
   },
   {
    "duration": 93,
    "start_time": "2022-05-16T20:07:36.120Z"
   },
   {
    "duration": 18,
    "start_time": "2022-05-16T20:07:36.215Z"
   },
   {
    "duration": 38,
    "start_time": "2022-05-16T20:07:36.236Z"
   },
   {
    "duration": 625,
    "start_time": "2022-05-16T20:07:36.276Z"
   },
   {
    "duration": 54,
    "start_time": "2022-05-16T20:07:36.903Z"
   },
   {
    "duration": 5,
    "start_time": "2022-05-16T20:07:36.959Z"
   },
   {
    "duration": 19,
    "start_time": "2022-05-16T20:07:36.966Z"
   },
   {
    "duration": 39,
    "start_time": "2022-05-16T20:07:36.987Z"
   },
   {
    "duration": 57,
    "start_time": "2022-05-16T20:07:37.028Z"
   },
   {
    "duration": 557,
    "start_time": "2022-05-16T20:07:37.087Z"
   },
   {
    "duration": 93,
    "start_time": "2022-05-16T20:07:37.646Z"
   },
   {
    "duration": 149,
    "start_time": "2022-05-16T20:07:37.741Z"
   },
   {
    "duration": 29,
    "start_time": "2022-05-16T20:07:37.892Z"
   },
   {
    "duration": 48,
    "start_time": "2022-05-16T20:07:37.923Z"
   },
   {
    "duration": 149,
    "start_time": "2022-05-16T20:07:37.973Z"
   },
   {
    "duration": 138,
    "start_time": "2022-05-16T20:07:38.124Z"
   },
   {
    "duration": 10,
    "start_time": "2022-05-16T20:07:38.263Z"
   },
   {
    "duration": 8,
    "start_time": "2022-05-16T20:07:38.274Z"
   },
   {
    "duration": 44,
    "start_time": "2022-05-16T20:07:38.284Z"
   },
   {
    "duration": 51,
    "start_time": "2022-05-16T20:07:38.330Z"
   },
   {
    "duration": 111,
    "start_time": "2022-05-16T20:07:38.382Z"
   },
   {
    "duration": 137,
    "start_time": "2022-05-16T20:07:38.495Z"
   },
   {
    "duration": 9,
    "start_time": "2022-05-16T20:07:38.634Z"
   },
   {
    "duration": 2170,
    "start_time": "2022-05-16T20:07:38.659Z"
   },
   {
    "duration": 12,
    "start_time": "2022-05-16T20:07:40.830Z"
   },
   {
    "duration": 81,
    "start_time": "2022-05-16T20:08:19.426Z"
   },
   {
    "duration": 5,
    "start_time": "2022-05-16T20:08:30.949Z"
   },
   {
    "duration": 32,
    "start_time": "2022-05-16T20:08:37.346Z"
   },
   {
    "duration": 157,
    "start_time": "2022-05-16T20:08:39.950Z"
   },
   {
    "duration": 62,
    "start_time": "2022-05-16T20:08:47.344Z"
   },
   {
    "duration": 58,
    "start_time": "2022-05-16T20:08:53.805Z"
   },
   {
    "duration": 10,
    "start_time": "2022-05-16T20:09:20.700Z"
   },
   {
    "duration": 8,
    "start_time": "2022-05-16T20:10:20.624Z"
   },
   {
    "duration": 1689,
    "start_time": "2022-05-16T20:12:02.910Z"
   },
   {
    "duration": 1744,
    "start_time": "2022-05-16T20:12:04.601Z"
   },
   {
    "duration": 133,
    "start_time": "2022-05-16T20:12:06.347Z"
   },
   {
    "duration": 294,
    "start_time": "2022-05-16T20:12:06.482Z"
   },
   {
    "duration": 93,
    "start_time": "2022-05-16T20:12:06.778Z"
   },
   {
    "duration": 85,
    "start_time": "2022-05-16T20:12:06.873Z"
   },
   {
    "duration": 113,
    "start_time": "2022-05-16T20:12:06.959Z"
   },
   {
    "duration": 96,
    "start_time": "2022-05-16T20:12:07.074Z"
   },
   {
    "duration": 90,
    "start_time": "2022-05-16T20:12:07.172Z"
   },
   {
    "duration": 19,
    "start_time": "2022-05-16T20:12:07.263Z"
   },
   {
    "duration": 51,
    "start_time": "2022-05-16T20:12:07.284Z"
   },
   {
    "duration": 88,
    "start_time": "2022-05-16T20:12:07.336Z"
   },
   {
    "duration": 18,
    "start_time": "2022-05-16T20:12:07.426Z"
   },
   {
    "duration": 43,
    "start_time": "2022-05-16T20:12:07.459Z"
   },
   {
    "duration": 112,
    "start_time": "2022-05-16T20:12:07.504Z"
   },
   {
    "duration": 17,
    "start_time": "2022-05-16T20:12:07.618Z"
   },
   {
    "duration": 56,
    "start_time": "2022-05-16T20:12:07.637Z"
   },
   {
    "duration": 79,
    "start_time": "2022-05-16T20:12:07.695Z"
   },
   {
    "duration": 17,
    "start_time": "2022-05-16T20:12:07.776Z"
   },
   {
    "duration": 18,
    "start_time": "2022-05-16T20:12:07.795Z"
   },
   {
    "duration": 631,
    "start_time": "2022-05-16T20:12:07.815Z"
   },
   {
    "duration": 53,
    "start_time": "2022-05-16T20:12:08.448Z"
   },
   {
    "duration": 3,
    "start_time": "2022-05-16T20:12:08.503Z"
   },
   {
    "duration": 6,
    "start_time": "2022-05-16T20:12:08.508Z"
   },
   {
    "duration": 42,
    "start_time": "2022-05-16T20:12:08.515Z"
   },
   {
    "duration": 42,
    "start_time": "2022-05-16T20:12:08.559Z"
   },
   {
    "duration": 557,
    "start_time": "2022-05-16T20:12:08.602Z"
   },
   {
    "duration": 99,
    "start_time": "2022-05-16T20:12:09.161Z"
   },
   {
    "duration": 149,
    "start_time": "2022-05-16T20:12:09.262Z"
   },
   {
    "duration": 31,
    "start_time": "2022-05-16T20:12:09.413Z"
   },
   {
    "duration": 31,
    "start_time": "2022-05-16T20:12:09.456Z"
   },
   {
    "duration": 153,
    "start_time": "2022-05-16T20:12:09.488Z"
   },
   {
    "duration": 132,
    "start_time": "2022-05-16T20:12:09.643Z"
   },
   {
    "duration": 9,
    "start_time": "2022-05-16T20:12:09.777Z"
   },
   {
    "duration": 5,
    "start_time": "2022-05-16T20:12:09.788Z"
   },
   {
    "duration": 27,
    "start_time": "2022-05-16T20:12:09.795Z"
   },
   {
    "duration": 46,
    "start_time": "2022-05-16T20:12:09.824Z"
   },
   {
    "duration": 113,
    "start_time": "2022-05-16T20:12:09.872Z"
   },
   {
    "duration": 142,
    "start_time": "2022-05-16T20:12:09.987Z"
   },
   {
    "duration": 11,
    "start_time": "2022-05-16T20:12:10.131Z"
   },
   {
    "duration": 2185,
    "start_time": "2022-05-16T20:12:10.156Z"
   },
   {
    "duration": 18,
    "start_time": "2022-05-16T20:12:12.343Z"
   },
   {
    "duration": 95,
    "start_time": "2022-05-16T20:12:12.363Z"
   },
   {
    "duration": 31,
    "start_time": "2022-05-16T20:12:12.460Z"
   },
   {
    "duration": 156,
    "start_time": "2022-05-16T20:12:12.493Z"
   },
   {
    "duration": 66,
    "start_time": "2022-05-16T20:12:12.650Z"
   },
   {
    "duration": 63,
    "start_time": "2022-05-16T20:13:02.673Z"
   },
   {
    "duration": 9,
    "start_time": "2022-05-16T20:13:07.246Z"
   },
   {
    "duration": 1808,
    "start_time": "2022-05-16T20:13:52.127Z"
   },
   {
    "duration": 1835,
    "start_time": "2022-05-16T20:13:53.937Z"
   },
   {
    "duration": 142,
    "start_time": "2022-05-16T20:13:55.774Z"
   },
   {
    "duration": 308,
    "start_time": "2022-05-16T20:13:55.917Z"
   },
   {
    "duration": 100,
    "start_time": "2022-05-16T20:13:56.228Z"
   },
   {
    "duration": 84,
    "start_time": "2022-05-16T20:13:56.330Z"
   },
   {
    "duration": 119,
    "start_time": "2022-05-16T20:13:56.416Z"
   },
   {
    "duration": 97,
    "start_time": "2022-05-16T20:13:56.537Z"
   },
   {
    "duration": 90,
    "start_time": "2022-05-16T20:13:56.636Z"
   },
   {
    "duration": 32,
    "start_time": "2022-05-16T20:13:56.728Z"
   },
   {
    "duration": 52,
    "start_time": "2022-05-16T20:13:56.762Z"
   },
   {
    "duration": 96,
    "start_time": "2022-05-16T20:13:56.816Z"
   },
   {
    "duration": 19,
    "start_time": "2022-05-16T20:13:56.914Z"
   },
   {
    "duration": 61,
    "start_time": "2022-05-16T20:13:56.936Z"
   },
   {
    "duration": 116,
    "start_time": "2022-05-16T20:13:56.999Z"
   },
   {
    "duration": 19,
    "start_time": "2022-05-16T20:13:57.117Z"
   },
   {
    "duration": 58,
    "start_time": "2022-05-16T20:13:57.138Z"
   },
   {
    "duration": 87,
    "start_time": "2022-05-16T20:13:57.198Z"
   },
   {
    "duration": 19,
    "start_time": "2022-05-16T20:13:57.287Z"
   },
   {
    "duration": 20,
    "start_time": "2022-05-16T20:13:57.308Z"
   },
   {
    "duration": 647,
    "start_time": "2022-05-16T20:13:57.330Z"
   },
   {
    "duration": 45,
    "start_time": "2022-05-16T20:13:57.979Z"
   },
   {
    "duration": 3,
    "start_time": "2022-05-16T20:13:58.026Z"
   },
   {
    "duration": 35,
    "start_time": "2022-05-16T20:13:58.031Z"
   },
   {
    "duration": 23,
    "start_time": "2022-05-16T20:13:58.068Z"
   },
   {
    "duration": 44,
    "start_time": "2022-05-16T20:13:58.092Z"
   },
   {
    "duration": 598,
    "start_time": "2022-05-16T20:13:58.138Z"
   },
   {
    "duration": 111,
    "start_time": "2022-05-16T20:13:58.737Z"
   },
   {
    "duration": 166,
    "start_time": "2022-05-16T20:13:58.856Z"
   },
   {
    "duration": 45,
    "start_time": "2022-05-16T20:13:59.024Z"
   },
   {
    "duration": 32,
    "start_time": "2022-05-16T20:13:59.071Z"
   },
   {
    "duration": 164,
    "start_time": "2022-05-16T20:13:59.105Z"
   },
   {
    "duration": 139,
    "start_time": "2022-05-16T20:13:59.270Z"
   },
   {
    "duration": 9,
    "start_time": "2022-05-16T20:13:59.410Z"
   },
   {
    "duration": 6,
    "start_time": "2022-05-16T20:13:59.421Z"
   },
   {
    "duration": 57,
    "start_time": "2022-05-16T20:13:59.429Z"
   },
   {
    "duration": 27,
    "start_time": "2022-05-16T20:13:59.488Z"
   },
   {
    "duration": 128,
    "start_time": "2022-05-16T20:13:59.517Z"
   },
   {
    "duration": 153,
    "start_time": "2022-05-16T20:13:59.647Z"
   },
   {
    "duration": 10,
    "start_time": "2022-05-16T20:13:59.802Z"
   },
   {
    "duration": 2327,
    "start_time": "2022-05-16T20:13:59.816Z"
   },
   {
    "duration": 18,
    "start_time": "2022-05-16T20:14:02.145Z"
   },
   {
    "duration": 103,
    "start_time": "2022-05-16T20:14:02.165Z"
   },
   {
    "duration": 170,
    "start_time": "2022-05-16T20:14:02.270Z"
   },
   {
    "duration": 65,
    "start_time": "2022-05-16T20:14:33.974Z"
   },
   {
    "duration": 64,
    "start_time": "2022-05-16T20:14:36.717Z"
   },
   {
    "duration": 9,
    "start_time": "2022-05-16T20:14:38.268Z"
   },
   {
    "duration": 1831,
    "start_time": "2022-05-16T20:15:35.912Z"
   },
   {
    "duration": 1793,
    "start_time": "2022-05-16T20:15:37.745Z"
   },
   {
    "duration": 136,
    "start_time": "2022-05-16T20:15:39.540Z"
   },
   {
    "duration": 297,
    "start_time": "2022-05-16T20:15:39.677Z"
   },
   {
    "duration": 98,
    "start_time": "2022-05-16T20:15:39.977Z"
   },
   {
    "duration": 91,
    "start_time": "2022-05-16T20:15:40.077Z"
   },
   {
    "duration": 109,
    "start_time": "2022-05-16T20:15:40.169Z"
   },
   {
    "duration": 97,
    "start_time": "2022-05-16T20:15:40.280Z"
   },
   {
    "duration": 93,
    "start_time": "2022-05-16T20:15:40.379Z"
   },
   {
    "duration": 19,
    "start_time": "2022-05-16T20:15:40.474Z"
   },
   {
    "duration": 69,
    "start_time": "2022-05-16T20:15:40.494Z"
   },
   {
    "duration": 75,
    "start_time": "2022-05-16T20:15:40.565Z"
   },
   {
    "duration": 26,
    "start_time": "2022-05-16T20:15:40.642Z"
   },
   {
    "duration": 50,
    "start_time": "2022-05-16T20:15:40.672Z"
   },
   {
    "duration": 108,
    "start_time": "2022-05-16T20:15:40.724Z"
   },
   {
    "duration": 25,
    "start_time": "2022-05-16T20:15:40.834Z"
   },
   {
    "duration": 46,
    "start_time": "2022-05-16T20:15:40.861Z"
   },
   {
    "duration": 85,
    "start_time": "2022-05-16T20:15:40.909Z"
   },
   {
    "duration": 18,
    "start_time": "2022-05-16T20:15:40.996Z"
   },
   {
    "duration": 19,
    "start_time": "2022-05-16T20:15:41.016Z"
   },
   {
    "duration": 636,
    "start_time": "2022-05-16T20:15:41.037Z"
   },
   {
    "duration": 44,
    "start_time": "2022-05-16T20:15:41.674Z"
   },
   {
    "duration": 4,
    "start_time": "2022-05-16T20:15:41.719Z"
   },
   {
    "duration": 6,
    "start_time": "2022-05-16T20:15:41.725Z"
   },
   {
    "duration": 41,
    "start_time": "2022-05-16T20:15:41.733Z"
   },
   {
    "duration": 42,
    "start_time": "2022-05-16T20:15:41.776Z"
   },
   {
    "duration": 567,
    "start_time": "2022-05-16T20:15:41.820Z"
   },
   {
    "duration": 98,
    "start_time": "2022-05-16T20:15:42.388Z"
   },
   {
    "duration": 159,
    "start_time": "2022-05-16T20:15:42.488Z"
   },
   {
    "duration": 34,
    "start_time": "2022-05-16T20:15:42.649Z"
   },
   {
    "duration": 34,
    "start_time": "2022-05-16T20:15:42.684Z"
   },
   {
    "duration": 168,
    "start_time": "2022-05-16T20:15:42.720Z"
   },
   {
    "duration": 137,
    "start_time": "2022-05-16T20:15:42.890Z"
   },
   {
    "duration": 9,
    "start_time": "2022-05-16T20:15:43.029Z"
   },
   {
    "duration": 22,
    "start_time": "2022-05-16T20:15:43.039Z"
   },
   {
    "duration": 32,
    "start_time": "2022-05-16T20:15:43.062Z"
   },
   {
    "duration": 26,
    "start_time": "2022-05-16T20:15:43.095Z"
   },
   {
    "duration": 125,
    "start_time": "2022-05-16T20:15:43.123Z"
   },
   {
    "duration": 147,
    "start_time": "2022-05-16T20:15:43.250Z"
   },
   {
    "duration": 9,
    "start_time": "2022-05-16T20:15:43.399Z"
   },
   {
    "duration": 8,
    "start_time": "2022-05-16T20:15:46.314Z"
   },
   {
    "duration": 5,
    "start_time": "2022-05-16T20:16:46.194Z"
   },
   {
    "duration": 1726,
    "start_time": "2022-05-16T20:17:23.046Z"
   },
   {
    "duration": 1727,
    "start_time": "2022-05-16T20:17:24.774Z"
   },
   {
    "duration": 142,
    "start_time": "2022-05-16T20:17:26.502Z"
   },
   {
    "duration": 294,
    "start_time": "2022-05-16T20:17:26.647Z"
   },
   {
    "duration": 102,
    "start_time": "2022-05-16T20:17:26.942Z"
   },
   {
    "duration": 80,
    "start_time": "2022-05-16T20:17:27.045Z"
   },
   {
    "duration": 130,
    "start_time": "2022-05-16T20:17:27.127Z"
   },
   {
    "duration": 88,
    "start_time": "2022-05-16T20:17:27.258Z"
   },
   {
    "duration": 77,
    "start_time": "2022-05-16T20:17:27.356Z"
   },
   {
    "duration": 27,
    "start_time": "2022-05-16T20:17:27.436Z"
   },
   {
    "duration": 52,
    "start_time": "2022-05-16T20:17:27.464Z"
   },
   {
    "duration": 95,
    "start_time": "2022-05-16T20:17:27.518Z"
   },
   {
    "duration": 19,
    "start_time": "2022-05-16T20:17:27.615Z"
   },
   {
    "duration": 55,
    "start_time": "2022-05-16T20:17:27.635Z"
   },
   {
    "duration": 102,
    "start_time": "2022-05-16T20:17:27.692Z"
   },
   {
    "duration": 18,
    "start_time": "2022-05-16T20:17:27.796Z"
   },
   {
    "duration": 58,
    "start_time": "2022-05-16T20:17:27.816Z"
   },
   {
    "duration": 84,
    "start_time": "2022-05-16T20:17:27.876Z"
   },
   {
    "duration": 18,
    "start_time": "2022-05-16T20:17:27.962Z"
   },
   {
    "duration": 22,
    "start_time": "2022-05-16T20:17:27.982Z"
   },
   {
    "duration": 632,
    "start_time": "2022-05-16T20:17:28.005Z"
   },
   {
    "duration": 45,
    "start_time": "2022-05-16T20:17:28.639Z"
   },
   {
    "duration": 5,
    "start_time": "2022-05-16T20:17:28.685Z"
   },
   {
    "duration": 9,
    "start_time": "2022-05-16T20:17:28.692Z"
   },
   {
    "duration": 22,
    "start_time": "2022-05-16T20:17:28.702Z"
   },
   {
    "duration": 65,
    "start_time": "2022-05-16T20:17:28.726Z"
   },
   {
    "duration": 538,
    "start_time": "2022-05-16T20:17:28.792Z"
   },
   {
    "duration": 94,
    "start_time": "2022-05-16T20:17:29.333Z"
   },
   {
    "duration": 152,
    "start_time": "2022-05-16T20:17:29.429Z"
   },
   {
    "duration": 31,
    "start_time": "2022-05-16T20:17:29.583Z"
   },
   {
    "duration": 53,
    "start_time": "2022-05-16T20:17:29.615Z"
   },
   {
    "duration": 144,
    "start_time": "2022-05-16T20:17:29.670Z"
   },
   {
    "duration": 141,
    "start_time": "2022-05-16T20:17:29.816Z"
   },
   {
    "duration": 9,
    "start_time": "2022-05-16T20:17:29.958Z"
   },
   {
    "duration": 17,
    "start_time": "2022-05-16T20:17:29.969Z"
   },
   {
    "duration": 38,
    "start_time": "2022-05-16T20:17:29.988Z"
   },
   {
    "duration": 40,
    "start_time": "2022-05-16T20:17:30.028Z"
   },
   {
    "duration": 104,
    "start_time": "2022-05-16T20:17:30.070Z"
   },
   {
    "duration": 143,
    "start_time": "2022-05-16T20:17:30.176Z"
   },
   {
    "duration": 10,
    "start_time": "2022-05-16T20:17:30.320Z"
   },
   {
    "duration": 2273,
    "start_time": "2022-05-16T20:17:30.332Z"
   },
   {
    "duration": 11,
    "start_time": "2022-05-16T20:17:32.607Z"
   },
   {
    "duration": 105,
    "start_time": "2022-05-16T20:17:32.620Z"
   },
   {
    "duration": 157,
    "start_time": "2022-05-16T20:17:32.727Z"
   },
   {
    "duration": 74,
    "start_time": "2022-05-16T20:17:32.886Z"
   },
   {
    "duration": 60,
    "start_time": "2022-05-16T20:17:32.961Z"
   },
   {
    "duration": 5,
    "start_time": "2022-05-16T20:17:50.744Z"
   },
   {
    "duration": 67,
    "start_time": "2022-05-16T20:18:04.765Z"
   },
   {
    "duration": 103,
    "start_time": "2022-05-16T20:18:24.759Z"
   },
   {
    "duration": 27,
    "start_time": "2022-05-16T20:18:36.329Z"
   },
   {
    "duration": 1775,
    "start_time": "2022-05-16T20:19:07.154Z"
   },
   {
    "duration": 1839,
    "start_time": "2022-05-16T20:19:08.931Z"
   },
   {
    "duration": 144,
    "start_time": "2022-05-16T20:19:10.772Z"
   },
   {
    "duration": 302,
    "start_time": "2022-05-16T20:19:10.919Z"
   },
   {
    "duration": 103,
    "start_time": "2022-05-16T20:19:11.223Z"
   },
   {
    "duration": 82,
    "start_time": "2022-05-16T20:19:11.327Z"
   },
   {
    "duration": 122,
    "start_time": "2022-05-16T20:19:11.410Z"
   },
   {
    "duration": 100,
    "start_time": "2022-05-16T20:19:11.534Z"
   },
   {
    "duration": 85,
    "start_time": "2022-05-16T20:19:11.635Z"
   },
   {
    "duration": 34,
    "start_time": "2022-05-16T20:19:11.723Z"
   },
   {
    "duration": 52,
    "start_time": "2022-05-16T20:19:11.758Z"
   },
   {
    "duration": 93,
    "start_time": "2022-05-16T20:19:11.812Z"
   },
   {
    "duration": 18,
    "start_time": "2022-05-16T20:19:11.907Z"
   },
   {
    "duration": 58,
    "start_time": "2022-05-16T20:19:11.927Z"
   },
   {
    "duration": 106,
    "start_time": "2022-05-16T20:19:11.987Z"
   },
   {
    "duration": 19,
    "start_time": "2022-05-16T20:19:12.094Z"
   },
   {
    "duration": 64,
    "start_time": "2022-05-16T20:19:12.115Z"
   },
   {
    "duration": 82,
    "start_time": "2022-05-16T20:19:12.181Z"
   },
   {
    "duration": 18,
    "start_time": "2022-05-16T20:19:12.265Z"
   },
   {
    "duration": 24,
    "start_time": "2022-05-16T20:19:12.285Z"
   },
   {
    "duration": 643,
    "start_time": "2022-05-16T20:19:12.311Z"
   },
   {
    "duration": 45,
    "start_time": "2022-05-16T20:19:12.956Z"
   },
   {
    "duration": 4,
    "start_time": "2022-05-16T20:19:13.002Z"
   },
   {
    "duration": 10,
    "start_time": "2022-05-16T20:19:13.008Z"
   },
   {
    "duration": 42,
    "start_time": "2022-05-16T20:19:13.020Z"
   },
   {
    "duration": 45,
    "start_time": "2022-05-16T20:19:13.064Z"
   },
   {
    "duration": 580,
    "start_time": "2022-05-16T20:19:13.111Z"
   },
   {
    "duration": 105,
    "start_time": "2022-05-16T20:19:13.695Z"
   },
   {
    "duration": 161,
    "start_time": "2022-05-16T20:19:13.802Z"
   },
   {
    "duration": 31,
    "start_time": "2022-05-16T20:19:13.965Z"
   },
   {
    "duration": 31,
    "start_time": "2022-05-16T20:19:13.998Z"
   },
   {
    "duration": 166,
    "start_time": "2022-05-16T20:19:14.030Z"
   },
   {
    "duration": 145,
    "start_time": "2022-05-16T20:19:14.198Z"
   },
   {
    "duration": 20,
    "start_time": "2022-05-16T20:19:14.345Z"
   },
   {
    "duration": 7,
    "start_time": "2022-05-16T20:19:14.367Z"
   },
   {
    "duration": 34,
    "start_time": "2022-05-16T20:19:14.376Z"
   },
   {
    "duration": 57,
    "start_time": "2022-05-16T20:19:14.412Z"
   },
   {
    "duration": 118,
    "start_time": "2022-05-16T20:19:14.472Z"
   },
   {
    "duration": 154,
    "start_time": "2022-05-16T20:19:14.592Z"
   },
   {
    "duration": 10,
    "start_time": "2022-05-16T20:19:14.757Z"
   },
   {
    "duration": 2285,
    "start_time": "2022-05-16T20:19:14.770Z"
   },
   {
    "duration": 13,
    "start_time": "2022-05-16T20:19:17.057Z"
   },
   {
    "duration": 106,
    "start_time": "2022-05-16T20:19:17.072Z"
   },
   {
    "duration": 161,
    "start_time": "2022-05-16T20:19:17.179Z"
   },
   {
    "duration": 75,
    "start_time": "2022-05-16T20:19:17.341Z"
   },
   {
    "duration": 76,
    "start_time": "2022-05-16T20:19:17.418Z"
   },
   {
    "duration": 6,
    "start_time": "2022-05-16T20:19:17.496Z"
   },
   {
    "duration": 275,
    "start_time": "2022-05-16T20:19:17.504Z"
   },
   {
    "duration": 83,
    "start_time": "2022-05-16T20:19:17.781Z"
   },
   {
    "duration": 259,
    "start_time": "2022-05-16T20:19:17.865Z"
   },
   {
    "duration": 303,
    "start_time": "2022-05-16T20:19:18.126Z"
   },
   {
    "duration": 4,
    "start_time": "2022-05-16T20:19:18.431Z"
   },
   {
    "duration": 35,
    "start_time": "2022-05-16T20:19:18.437Z"
   },
   {
    "duration": 17,
    "start_time": "2022-05-16T20:19:18.474Z"
   },
   {
    "duration": 949,
    "start_time": "2022-05-16T20:19:22.334Z"
   },
   {
    "duration": 135,
    "start_time": "2022-05-16T20:19:28.734Z"
   },
   {
    "duration": 1825,
    "start_time": "2022-05-16T20:19:56.395Z"
   },
   {
    "duration": 1869,
    "start_time": "2022-05-16T20:19:58.222Z"
   },
   {
    "duration": 140,
    "start_time": "2022-05-16T20:20:00.092Z"
   },
   {
    "duration": 304,
    "start_time": "2022-05-16T20:20:00.234Z"
   },
   {
    "duration": 95,
    "start_time": "2022-05-16T20:20:00.540Z"
   },
   {
    "duration": 85,
    "start_time": "2022-05-16T20:20:00.636Z"
   },
   {
    "duration": 120,
    "start_time": "2022-05-16T20:20:00.723Z"
   },
   {
    "duration": 97,
    "start_time": "2022-05-16T20:20:00.845Z"
   },
   {
    "duration": 90,
    "start_time": "2022-05-16T20:20:00.944Z"
   },
   {
    "duration": 27,
    "start_time": "2022-05-16T20:20:01.037Z"
   },
   {
    "duration": 56,
    "start_time": "2022-05-16T20:20:01.066Z"
   },
   {
    "duration": 91,
    "start_time": "2022-05-16T20:20:01.124Z"
   },
   {
    "duration": 19,
    "start_time": "2022-05-16T20:20:01.217Z"
   },
   {
    "duration": 58,
    "start_time": "2022-05-16T20:20:01.238Z"
   },
   {
    "duration": 116,
    "start_time": "2022-05-16T20:20:01.298Z"
   },
   {
    "duration": 19,
    "start_time": "2022-05-16T20:20:01.417Z"
   },
   {
    "duration": 60,
    "start_time": "2022-05-16T20:20:01.439Z"
   },
   {
    "duration": 90,
    "start_time": "2022-05-16T20:20:01.501Z"
   },
   {
    "duration": 18,
    "start_time": "2022-05-16T20:20:01.593Z"
   },
   {
    "duration": 39,
    "start_time": "2022-05-16T20:20:01.613Z"
   },
   {
    "duration": 658,
    "start_time": "2022-05-16T20:20:01.654Z"
   },
   {
    "duration": 55,
    "start_time": "2022-05-16T20:20:02.314Z"
   },
   {
    "duration": 5,
    "start_time": "2022-05-16T20:20:02.371Z"
   },
   {
    "duration": 13,
    "start_time": "2022-05-16T20:20:02.377Z"
   },
   {
    "duration": 32,
    "start_time": "2022-05-16T20:20:02.392Z"
   },
   {
    "duration": 54,
    "start_time": "2022-05-16T20:20:02.426Z"
   },
   {
    "duration": 591,
    "start_time": "2022-05-16T20:20:02.482Z"
   },
   {
    "duration": 112,
    "start_time": "2022-05-16T20:20:03.077Z"
   },
   {
    "duration": 168,
    "start_time": "2022-05-16T20:20:03.191Z"
   },
   {
    "duration": 33,
    "start_time": "2022-05-16T20:20:03.361Z"
   },
   {
    "duration": 33,
    "start_time": "2022-05-16T20:20:03.396Z"
   },
   {
    "duration": 167,
    "start_time": "2022-05-16T20:20:03.431Z"
   },
   {
    "duration": 142,
    "start_time": "2022-05-16T20:20:03.600Z"
   },
   {
    "duration": 14,
    "start_time": "2022-05-16T20:20:03.743Z"
   },
   {
    "duration": 6,
    "start_time": "2022-05-16T20:20:03.759Z"
   },
   {
    "duration": 28,
    "start_time": "2022-05-16T20:20:03.767Z"
   },
   {
    "duration": 27,
    "start_time": "2022-05-16T20:20:03.797Z"
   },
   {
    "duration": 132,
    "start_time": "2022-05-16T20:20:03.826Z"
   },
   {
    "duration": 152,
    "start_time": "2022-05-16T20:20:03.960Z"
   },
   {
    "duration": 9,
    "start_time": "2022-05-16T20:20:04.114Z"
   },
   {
    "duration": 2340,
    "start_time": "2022-05-16T20:20:04.125Z"
   },
   {
    "duration": 13,
    "start_time": "2022-05-16T20:20:06.467Z"
   },
   {
    "duration": 115,
    "start_time": "2022-05-16T20:20:06.482Z"
   },
   {
    "duration": 173,
    "start_time": "2022-05-16T20:20:06.599Z"
   },
   {
    "duration": 70,
    "start_time": "2022-05-16T20:20:06.774Z"
   },
   {
    "duration": 64,
    "start_time": "2022-05-16T20:20:06.858Z"
   },
   {
    "duration": 5,
    "start_time": "2022-05-16T20:20:06.924Z"
   },
   {
    "duration": 294,
    "start_time": "2022-05-16T20:20:06.931Z"
   },
   {
    "duration": 83,
    "start_time": "2022-05-16T20:20:07.227Z"
   },
   {
    "duration": 277,
    "start_time": "2022-05-16T20:20:07.312Z"
   },
   {
    "duration": 325,
    "start_time": "2022-05-16T20:20:07.590Z"
   },
   {
    "duration": 6,
    "start_time": "2022-05-16T20:20:07.917Z"
   },
   {
    "duration": 37,
    "start_time": "2022-05-16T20:20:07.925Z"
   },
   {
    "duration": 17,
    "start_time": "2022-05-16T20:20:07.964Z"
   },
   {
    "duration": 1073,
    "start_time": "2022-05-16T20:20:07.983Z"
   },
   {
    "duration": 399,
    "start_time": "2022-05-16T20:20:09.058Z"
   },
   {
    "duration": 5,
    "start_time": "2022-05-16T20:20:09.459Z"
   },
   {
    "duration": 170,
    "start_time": "2022-05-16T20:20:09.466Z"
   },
   {
    "duration": 87,
    "start_time": "2022-05-16T20:20:09.638Z"
   },
   {
    "duration": 97,
    "start_time": "2022-05-16T20:20:09.727Z"
   },
   {
    "duration": 3,
    "start_time": "2022-05-16T20:20:09.826Z"
   },
   {
    "duration": 9,
    "start_time": "2022-05-16T20:20:09.830Z"
   },
   {
    "duration": 3,
    "start_time": "2022-05-16T20:20:09.856Z"
   },
   {
    "duration": 48287,
    "start_time": "2022-05-16T20:20:45.140Z"
   },
   {
    "duration": 1103112,
    "start_time": "2022-05-16T20:23:07.603Z"
   },
   {
    "duration": 172422,
    "start_time": "2022-05-16T20:41:33.544Z"
   },
   {
    "duration": 16,
    "start_time": "2022-05-16T20:44:55.361Z"
   },
   {
    "duration": 82,
    "start_time": "2022-05-16T20:44:57.177Z"
   },
   {
    "duration": 180,
    "start_time": "2022-05-16T20:44:58.686Z"
   },
   {
    "duration": 17,
    "start_time": "2022-05-16T20:45:06.164Z"
   },
   {
    "duration": 17377,
    "start_time": "2022-05-16T20:45:54.988Z"
   },
   {
    "duration": 15,
    "start_time": "2022-05-16T20:46:29.975Z"
   },
   {
    "duration": 227,
    "start_time": "2022-05-16T20:46:38.617Z"
   },
   {
    "duration": 1305,
    "start_time": "2022-05-16T20:47:01.303Z"
   },
   {
    "duration": 136788,
    "start_time": "2022-05-16T20:47:05.080Z"
   },
   {
    "duration": 0,
    "start_time": "2022-05-16T20:49:21.871Z"
   },
   {
    "duration": 294,
    "start_time": "2022-05-16T20:49:24.616Z"
   },
   {
    "duration": 56,
    "start_time": "2022-05-16T20:49:49.164Z"
   },
   {
    "duration": 172583,
    "start_time": "2022-05-16T20:51:22.390Z"
   },
   {
    "duration": 176,
    "start_time": "2022-05-16T20:57:46.597Z"
   },
   {
    "duration": 263003,
    "start_time": "2022-05-16T20:58:02.993Z"
   },
   {
    "duration": 1386,
    "start_time": "2022-05-18T08:07:46.051Z"
   },
   {
    "duration": 128,
    "start_time": "2022-05-18T08:07:47.439Z"
   },
   {
    "duration": 0,
    "start_time": "2022-05-18T08:07:47.571Z"
   },
   {
    "duration": 0,
    "start_time": "2022-05-18T08:07:47.573Z"
   },
   {
    "duration": 0,
    "start_time": "2022-05-18T08:07:47.574Z"
   },
   {
    "duration": 0,
    "start_time": "2022-05-18T08:07:47.575Z"
   },
   {
    "duration": 0,
    "start_time": "2022-05-18T08:07:47.576Z"
   },
   {
    "duration": 0,
    "start_time": "2022-05-18T08:07:47.577Z"
   },
   {
    "duration": 0,
    "start_time": "2022-05-18T08:07:47.578Z"
   },
   {
    "duration": 0,
    "start_time": "2022-05-18T08:07:47.578Z"
   },
   {
    "duration": 0,
    "start_time": "2022-05-18T08:07:47.579Z"
   },
   {
    "duration": 0,
    "start_time": "2022-05-18T08:07:47.580Z"
   },
   {
    "duration": 0,
    "start_time": "2022-05-18T08:07:47.581Z"
   },
   {
    "duration": 0,
    "start_time": "2022-05-18T08:07:47.582Z"
   },
   {
    "duration": 0,
    "start_time": "2022-05-18T08:07:47.583Z"
   },
   {
    "duration": 0,
    "start_time": "2022-05-18T08:07:47.584Z"
   },
   {
    "duration": 0,
    "start_time": "2022-05-18T08:07:47.619Z"
   },
   {
    "duration": 0,
    "start_time": "2022-05-18T08:07:47.623Z"
   },
   {
    "duration": 0,
    "start_time": "2022-05-18T08:07:47.628Z"
   },
   {
    "duration": 0,
    "start_time": "2022-05-18T08:07:47.629Z"
   },
   {
    "duration": 0,
    "start_time": "2022-05-18T08:07:47.631Z"
   },
   {
    "duration": 0,
    "start_time": "2022-05-18T08:07:47.632Z"
   },
   {
    "duration": 0,
    "start_time": "2022-05-18T08:07:47.633Z"
   },
   {
    "duration": 0,
    "start_time": "2022-05-18T08:07:47.633Z"
   },
   {
    "duration": 0,
    "start_time": "2022-05-18T08:07:47.635Z"
   },
   {
    "duration": 0,
    "start_time": "2022-05-18T08:07:47.636Z"
   },
   {
    "duration": 0,
    "start_time": "2022-05-18T08:07:47.637Z"
   },
   {
    "duration": 0,
    "start_time": "2022-05-18T08:07:47.637Z"
   },
   {
    "duration": 0,
    "start_time": "2022-05-18T08:07:47.639Z"
   },
   {
    "duration": 0,
    "start_time": "2022-05-18T08:07:47.639Z"
   },
   {
    "duration": 0,
    "start_time": "2022-05-18T08:07:47.640Z"
   },
   {
    "duration": 0,
    "start_time": "2022-05-18T08:07:47.641Z"
   },
   {
    "duration": 0,
    "start_time": "2022-05-18T08:07:47.643Z"
   },
   {
    "duration": 0,
    "start_time": "2022-05-18T08:07:47.644Z"
   },
   {
    "duration": 0,
    "start_time": "2022-05-18T08:07:47.644Z"
   },
   {
    "duration": 0,
    "start_time": "2022-05-18T08:07:47.645Z"
   },
   {
    "duration": 0,
    "start_time": "2022-05-18T08:07:47.647Z"
   },
   {
    "duration": 0,
    "start_time": "2022-05-18T08:07:47.648Z"
   },
   {
    "duration": 0,
    "start_time": "2022-05-18T08:07:47.649Z"
   },
   {
    "duration": 0,
    "start_time": "2022-05-18T08:07:47.650Z"
   },
   {
    "duration": 0,
    "start_time": "2022-05-18T08:07:47.651Z"
   },
   {
    "duration": 0,
    "start_time": "2022-05-18T08:07:47.652Z"
   },
   {
    "duration": 0,
    "start_time": "2022-05-18T08:07:47.653Z"
   },
   {
    "duration": 0,
    "start_time": "2022-05-18T08:07:47.654Z"
   },
   {
    "duration": 0,
    "start_time": "2022-05-18T08:07:47.655Z"
   },
   {
    "duration": 0,
    "start_time": "2022-05-18T08:07:47.656Z"
   },
   {
    "duration": 0,
    "start_time": "2022-05-18T08:07:47.657Z"
   },
   {
    "duration": 0,
    "start_time": "2022-05-18T08:07:47.658Z"
   },
   {
    "duration": 0,
    "start_time": "2022-05-18T08:07:47.716Z"
   },
   {
    "duration": 0,
    "start_time": "2022-05-18T08:07:47.717Z"
   },
   {
    "duration": 0,
    "start_time": "2022-05-18T08:07:47.717Z"
   },
   {
    "duration": 0,
    "start_time": "2022-05-18T08:07:47.718Z"
   },
   {
    "duration": 0,
    "start_time": "2022-05-18T08:07:47.719Z"
   },
   {
    "duration": 0,
    "start_time": "2022-05-18T08:07:47.719Z"
   },
   {
    "duration": 0,
    "start_time": "2022-05-18T08:07:47.720Z"
   },
   {
    "duration": 0,
    "start_time": "2022-05-18T08:07:47.720Z"
   },
   {
    "duration": 0,
    "start_time": "2022-05-18T08:07:47.721Z"
   },
   {
    "duration": 0,
    "start_time": "2022-05-18T08:07:47.721Z"
   },
   {
    "duration": 0,
    "start_time": "2022-05-18T08:07:47.722Z"
   },
   {
    "duration": 0,
    "start_time": "2022-05-18T08:07:47.722Z"
   },
   {
    "duration": 0,
    "start_time": "2022-05-18T08:07:47.724Z"
   },
   {
    "duration": 0,
    "start_time": "2022-05-18T08:07:47.724Z"
   },
   {
    "duration": 0,
    "start_time": "2022-05-18T08:07:47.725Z"
   },
   {
    "duration": 0,
    "start_time": "2022-05-18T08:07:47.726Z"
   },
   {
    "duration": 0,
    "start_time": "2022-05-18T08:07:47.727Z"
   },
   {
    "duration": 0,
    "start_time": "2022-05-18T08:07:47.727Z"
   },
   {
    "duration": 0,
    "start_time": "2022-05-18T08:07:47.729Z"
   },
   {
    "duration": 0,
    "start_time": "2022-05-18T08:07:47.730Z"
   },
   {
    "duration": 0,
    "start_time": "2022-05-18T08:07:47.731Z"
   },
   {
    "duration": 0,
    "start_time": "2022-05-18T08:07:47.732Z"
   },
   {
    "duration": 0,
    "start_time": "2022-05-18T08:07:47.733Z"
   },
   {
    "duration": 0,
    "start_time": "2022-05-18T08:07:47.734Z"
   },
   {
    "duration": 0,
    "start_time": "2022-05-18T08:07:47.735Z"
   },
   {
    "duration": 0,
    "start_time": "2022-05-18T08:07:47.735Z"
   },
   {
    "duration": 0,
    "start_time": "2022-05-18T08:07:47.738Z"
   },
   {
    "duration": 0,
    "start_time": "2022-05-18T08:07:47.739Z"
   },
   {
    "duration": 2505,
    "start_time": "2022-05-18T08:22:57.339Z"
   },
   {
    "duration": 5201,
    "start_time": "2022-05-18T08:22:59.846Z"
   },
   {
    "duration": 292,
    "start_time": "2022-05-18T08:23:05.049Z"
   },
   {
    "duration": 508,
    "start_time": "2022-05-18T08:23:05.344Z"
   },
   {
    "duration": 188,
    "start_time": "2022-05-18T08:23:05.854Z"
   },
   {
    "duration": 175,
    "start_time": "2022-05-18T08:23:06.044Z"
   },
   {
    "duration": 202,
    "start_time": "2022-05-18T08:23:06.220Z"
   },
   {
    "duration": 134,
    "start_time": "2022-05-18T08:23:06.423Z"
   },
   {
    "duration": 181,
    "start_time": "2022-05-18T08:23:06.559Z"
   },
   {
    "duration": 68,
    "start_time": "2022-05-18T08:23:06.744Z"
   },
   {
    "duration": 113,
    "start_time": "2022-05-18T08:23:06.814Z"
   },
   {
    "duration": 212,
    "start_time": "2022-05-18T08:23:06.929Z"
   },
   {
    "duration": 72,
    "start_time": "2022-05-18T08:23:07.143Z"
   },
   {
    "duration": 102,
    "start_time": "2022-05-18T08:23:07.217Z"
   },
   {
    "duration": 194,
    "start_time": "2022-05-18T08:23:07.321Z"
   },
   {
    "duration": 15,
    "start_time": "2022-05-18T08:23:07.517Z"
   },
   {
    "duration": 92,
    "start_time": "2022-05-18T08:23:07.534Z"
   },
   {
    "duration": 117,
    "start_time": "2022-05-18T08:23:07.628Z"
   },
   {
    "duration": 69,
    "start_time": "2022-05-18T08:23:07.746Z"
   },
   {
    "duration": 15,
    "start_time": "2022-05-18T08:23:07.817Z"
   },
   {
    "duration": 1027,
    "start_time": "2022-05-18T08:23:07.833Z"
   },
   {
    "duration": 100,
    "start_time": "2022-05-18T08:23:08.912Z"
   },
   {
    "duration": 4,
    "start_time": "2022-05-18T08:23:09.014Z"
   },
   {
    "duration": 5,
    "start_time": "2022-05-18T08:23:09.019Z"
   },
   {
    "duration": 19,
    "start_time": "2022-05-18T08:23:09.026Z"
   },
   {
    "duration": 110,
    "start_time": "2022-05-18T08:23:09.047Z"
   },
   {
    "duration": 1079,
    "start_time": "2022-05-18T08:23:09.159Z"
   },
   {
    "duration": 195,
    "start_time": "2022-05-18T08:23:10.242Z"
   },
   {
    "duration": 294,
    "start_time": "2022-05-18T08:23:10.439Z"
   },
   {
    "duration": 84,
    "start_time": "2022-05-18T08:23:10.734Z"
   },
   {
    "duration": 27,
    "start_time": "2022-05-18T08:23:10.820Z"
   },
   {
    "duration": 500,
    "start_time": "2022-05-18T08:23:10.849Z"
   },
   {
    "duration": 374,
    "start_time": "2022-05-18T08:23:11.351Z"
   },
   {
    "duration": 11,
    "start_time": "2022-05-18T08:23:11.727Z"
   },
   {
    "duration": 12,
    "start_time": "2022-05-18T08:23:11.739Z"
   },
   {
    "duration": 32,
    "start_time": "2022-05-18T08:23:11.812Z"
   },
   {
    "duration": 74,
    "start_time": "2022-05-18T08:23:11.846Z"
   },
   {
    "duration": 204,
    "start_time": "2022-05-18T08:23:11.921Z"
   },
   {
    "duration": 9,
    "start_time": "2022-05-18T08:23:12.126Z"
   },
   {
    "duration": 4418,
    "start_time": "2022-05-18T08:23:12.137Z"
   },
   {
    "duration": 65,
    "start_time": "2022-05-18T08:23:16.557Z"
   },
   {
    "duration": 207,
    "start_time": "2022-05-18T08:23:16.624Z"
   },
   {
    "duration": 310,
    "start_time": "2022-05-18T08:23:16.833Z"
   },
   {
    "duration": 174,
    "start_time": "2022-05-18T08:23:17.145Z"
   },
   {
    "duration": 117,
    "start_time": "2022-05-18T08:23:17.321Z"
   },
   {
    "duration": 5,
    "start_time": "2022-05-18T08:23:17.440Z"
   },
   {
    "duration": 384,
    "start_time": "2022-05-18T08:23:17.447Z"
   },
   {
    "duration": 116,
    "start_time": "2022-05-18T08:23:17.832Z"
   },
   {
    "duration": 496,
    "start_time": "2022-05-18T08:23:17.950Z"
   },
   {
    "duration": 565,
    "start_time": "2022-05-18T08:23:18.447Z"
   },
   {
    "duration": 5,
    "start_time": "2022-05-18T08:23:19.014Z"
   },
   {
    "duration": 27,
    "start_time": "2022-05-18T08:23:19.021Z"
   },
   {
    "duration": 74,
    "start_time": "2022-05-18T08:23:19.049Z"
   },
   {
    "duration": 1691,
    "start_time": "2022-05-18T08:23:19.125Z"
   },
   {
    "duration": 808,
    "start_time": "2022-05-18T08:23:20.818Z"
   },
   {
    "duration": 4,
    "start_time": "2022-05-18T08:23:21.629Z"
   },
   {
    "duration": 379,
    "start_time": "2022-05-18T08:23:21.635Z"
   },
   {
    "duration": 118,
    "start_time": "2022-05-18T08:23:22.015Z"
   },
   {
    "duration": 124,
    "start_time": "2022-05-18T08:23:22.135Z"
   },
   {
    "duration": 2,
    "start_time": "2022-05-18T08:23:22.313Z"
   },
   {
    "duration": 5,
    "start_time": "2022-05-18T08:23:22.317Z"
   },
   {
    "duration": 4,
    "start_time": "2022-05-18T08:23:22.324Z"
   },
   {
    "duration": 2563,
    "start_time": "2022-05-18T08:34:36.663Z"
   },
   {
    "duration": 3499,
    "start_time": "2022-05-18T08:34:39.228Z"
   },
   {
    "duration": 228,
    "start_time": "2022-05-18T08:34:42.729Z"
   },
   {
    "duration": 515,
    "start_time": "2022-05-18T08:34:43.013Z"
   },
   {
    "duration": 197,
    "start_time": "2022-05-18T08:34:43.530Z"
   },
   {
    "duration": 215,
    "start_time": "2022-05-18T08:34:43.729Z"
   },
   {
    "duration": 199,
    "start_time": "2022-05-18T08:34:43.946Z"
   },
   {
    "duration": 185,
    "start_time": "2022-05-18T08:34:44.147Z"
   },
   {
    "duration": 183,
    "start_time": "2022-05-18T08:34:44.333Z"
   },
   {
    "duration": 16,
    "start_time": "2022-05-18T08:34:44.519Z"
   },
   {
    "duration": 115,
    "start_time": "2022-05-18T08:34:44.537Z"
   },
   {
    "duration": 177,
    "start_time": "2022-05-18T08:34:44.654Z"
   },
   {
    "duration": 16,
    "start_time": "2022-05-18T08:34:44.833Z"
   },
   {
    "duration": 102,
    "start_time": "2022-05-18T08:34:44.850Z"
   },
   {
    "duration": 195,
    "start_time": "2022-05-18T08:34:44.954Z"
   },
   {
    "duration": 68,
    "start_time": "2022-05-18T08:34:45.151Z"
   },
   {
    "duration": 113,
    "start_time": "2022-05-18T08:34:45.220Z"
   },
   {
    "duration": 118,
    "start_time": "2022-05-18T08:34:45.335Z"
   },
   {
    "duration": 72,
    "start_time": "2022-05-18T08:34:45.455Z"
   },
   {
    "duration": 86,
    "start_time": "2022-05-18T08:34:45.528Z"
   },
   {
    "duration": 1031,
    "start_time": "2022-05-18T08:34:45.615Z"
   },
   {
    "duration": 92,
    "start_time": "2022-05-18T08:34:46.647Z"
   },
   {
    "duration": 4,
    "start_time": "2022-05-18T08:34:46.740Z"
   },
   {
    "duration": 68,
    "start_time": "2022-05-18T08:34:46.745Z"
   },
   {
    "duration": 29,
    "start_time": "2022-05-18T08:34:46.815Z"
   },
   {
    "duration": 172,
    "start_time": "2022-05-18T08:34:46.846Z"
   },
   {
    "duration": 1107,
    "start_time": "2022-05-18T08:34:47.019Z"
   },
   {
    "duration": 191,
    "start_time": "2022-05-18T08:34:48.131Z"
   },
   {
    "duration": 291,
    "start_time": "2022-05-18T08:34:48.324Z"
   },
   {
    "duration": 95,
    "start_time": "2022-05-18T08:34:48.617Z"
   },
   {
    "duration": 36,
    "start_time": "2022-05-18T08:34:48.714Z"
   },
   {
    "duration": 579,
    "start_time": "2022-05-18T08:34:48.752Z"
   },
   {
    "duration": 226,
    "start_time": "2022-05-18T08:34:49.332Z"
   },
   {
    "duration": 61,
    "start_time": "2022-05-18T08:34:49.559Z"
   },
   {
    "duration": 28,
    "start_time": "2022-05-18T08:34:49.622Z"
   },
   {
    "duration": 80,
    "start_time": "2022-05-18T08:34:49.651Z"
   },
   {
    "duration": 79,
    "start_time": "2022-05-18T08:34:49.733Z"
   },
   {
    "duration": 201,
    "start_time": "2022-05-18T08:34:49.814Z"
   },
   {
    "duration": 10,
    "start_time": "2022-05-18T08:34:50.017Z"
   },
   {
    "duration": 4500,
    "start_time": "2022-05-18T08:34:50.029Z"
   },
   {
    "duration": 11,
    "start_time": "2022-05-18T08:34:54.531Z"
   },
   {
    "duration": 179,
    "start_time": "2022-05-18T08:34:54.543Z"
   },
   {
    "duration": 308,
    "start_time": "2022-05-18T08:34:54.724Z"
   },
   {
    "duration": 117,
    "start_time": "2022-05-18T08:34:55.034Z"
   },
   {
    "duration": 188,
    "start_time": "2022-05-18T08:34:55.153Z"
   },
   {
    "duration": 4,
    "start_time": "2022-05-18T08:34:55.343Z"
   },
   {
    "duration": 304,
    "start_time": "2022-05-18T08:34:55.349Z"
   },
   {
    "duration": 189,
    "start_time": "2022-05-18T08:34:55.654Z"
   },
   {
    "duration": 474,
    "start_time": "2022-05-18T08:34:55.846Z"
   },
   {
    "duration": 515,
    "start_time": "2022-05-18T08:34:56.322Z"
   },
   {
    "duration": 4,
    "start_time": "2022-05-18T08:34:56.839Z"
   },
   {
    "duration": 84,
    "start_time": "2022-05-18T08:34:56.845Z"
   },
   {
    "duration": 15,
    "start_time": "2022-05-18T08:34:56.931Z"
   },
   {
    "duration": 1779,
    "start_time": "2022-05-18T08:34:56.947Z"
   },
   {
    "duration": 796,
    "start_time": "2022-05-18T08:34:58.728Z"
   },
   {
    "duration": 4,
    "start_time": "2022-05-18T08:34:59.526Z"
   },
   {
    "duration": 391,
    "start_time": "2022-05-18T08:34:59.533Z"
   },
   {
    "duration": 124,
    "start_time": "2022-05-18T08:34:59.925Z"
   },
   {
    "duration": 172,
    "start_time": "2022-05-18T08:35:00.051Z"
   },
   {
    "duration": 2,
    "start_time": "2022-05-18T08:35:00.225Z"
   },
   {
    "duration": 13,
    "start_time": "2022-05-18T08:35:00.229Z"
   },
   {
    "duration": 9,
    "start_time": "2022-05-18T08:35:00.244Z"
   },
   {
    "duration": 264983,
    "start_time": "2022-05-18T08:35:00.255Z"
   },
   {
    "duration": 1259643,
    "start_time": "2022-05-18T08:39:25.239Z"
   },
   {
    "duration": 41839,
    "start_time": "2022-05-18T09:00:24.883Z"
   },
   {
    "duration": 105,
    "start_time": "2022-05-18T09:01:06.813Z"
   },
   {
    "duration": 75,
    "start_time": "2022-05-18T09:01:06.920Z"
   },
   {
    "duration": 180,
    "start_time": "2022-05-18T09:01:06.998Z"
   },
   {
    "duration": 39951,
    "start_time": "2022-05-18T09:01:07.180Z"
   },
   {
    "duration": 2275,
    "start_time": "2022-05-18T19:04:37.873Z"
   },
   {
    "duration": 4320,
    "start_time": "2022-05-18T19:04:40.151Z"
   },
   {
    "duration": 172,
    "start_time": "2022-05-18T19:04:44.473Z"
   },
   {
    "duration": 277,
    "start_time": "2022-05-18T19:04:44.648Z"
   },
   {
    "duration": 130,
    "start_time": "2022-05-18T19:04:44.928Z"
   },
   {
    "duration": 79,
    "start_time": "2022-05-18T19:04:45.059Z"
   },
   {
    "duration": 163,
    "start_time": "2022-05-18T19:04:45.141Z"
   },
   {
    "duration": 87,
    "start_time": "2022-05-18T19:04:45.306Z"
   },
   {
    "duration": 116,
    "start_time": "2022-05-18T19:04:45.396Z"
   },
   {
    "duration": 17,
    "start_time": "2022-05-18T19:04:45.515Z"
   },
   {
    "duration": 86,
    "start_time": "2022-05-18T19:04:45.535Z"
   },
   {
    "duration": 91,
    "start_time": "2022-05-18T19:04:45.624Z"
   },
   {
    "duration": 17,
    "start_time": "2022-05-18T19:04:45.717Z"
   },
   {
    "duration": 46,
    "start_time": "2022-05-18T19:04:45.736Z"
   },
   {
    "duration": 105,
    "start_time": "2022-05-18T19:04:45.784Z"
   },
   {
    "duration": 25,
    "start_time": "2022-05-18T19:04:45.891Z"
   },
   {
    "duration": 44,
    "start_time": "2022-05-18T19:04:45.918Z"
   },
   {
    "duration": 86,
    "start_time": "2022-05-18T19:04:45.964Z"
   },
   {
    "duration": 17,
    "start_time": "2022-05-18T19:04:46.052Z"
   },
   {
    "duration": 43,
    "start_time": "2022-05-18T19:04:46.072Z"
   },
   {
    "duration": 527,
    "start_time": "2022-05-18T19:04:46.117Z"
   },
   {
    "duration": 39,
    "start_time": "2022-05-18T19:04:46.645Z"
   },
   {
    "duration": 4,
    "start_time": "2022-05-18T19:04:46.686Z"
   },
   {
    "duration": 6,
    "start_time": "2022-05-18T19:04:46.713Z"
   },
   {
    "duration": 34,
    "start_time": "2022-05-18T19:04:46.721Z"
   },
   {
    "duration": 64,
    "start_time": "2022-05-18T19:04:46.757Z"
   },
   {
    "duration": 596,
    "start_time": "2022-05-18T19:04:46.823Z"
   },
   {
    "duration": 114,
    "start_time": "2022-05-18T19:04:47.423Z"
   },
   {
    "duration": 140,
    "start_time": "2022-05-18T19:04:47.539Z"
   },
   {
    "duration": 58,
    "start_time": "2022-05-18T19:04:47.681Z"
   },
   {
    "duration": 37,
    "start_time": "2022-05-18T19:04:47.741Z"
   },
   {
    "duration": 272,
    "start_time": "2022-05-18T19:04:47.780Z"
   },
   {
    "duration": 6,
    "start_time": "2022-05-18T19:05:00.019Z"
   },
   {
    "duration": 7,
    "start_time": "2022-05-18T19:05:11.463Z"
   },
   {
    "duration": 6,
    "start_time": "2022-05-18T19:07:11.417Z"
   },
   {
    "duration": 18,
    "start_time": "2022-05-18T19:08:38.157Z"
   },
   {
    "duration": 3978,
    "start_time": "2022-05-18T19:10:38.495Z"
   },
   {
    "duration": 11,
    "start_time": "2022-05-18T19:10:52.157Z"
   },
   {
    "duration": 611,
    "start_time": "2022-05-18T19:11:22.387Z"
   },
   {
    "duration": 35,
    "start_time": "2022-05-18T19:11:29.006Z"
   },
   {
    "duration": 19,
    "start_time": "2022-05-18T19:13:09.019Z"
   },
   {
    "duration": 5,
    "start_time": "2022-05-18T19:13:21.091Z"
   },
   {
    "duration": 1392,
    "start_time": "2022-05-18T19:13:41.606Z"
   },
   {
    "duration": 1640,
    "start_time": "2022-05-18T19:13:43.000Z"
   },
   {
    "duration": 129,
    "start_time": "2022-05-18T19:13:44.642Z"
   },
   {
    "duration": 270,
    "start_time": "2022-05-18T19:13:44.774Z"
   },
   {
    "duration": 85,
    "start_time": "2022-05-18T19:13:45.046Z"
   },
   {
    "duration": 62,
    "start_time": "2022-05-18T19:13:45.132Z"
   },
   {
    "duration": 104,
    "start_time": "2022-05-18T19:13:45.195Z"
   },
   {
    "duration": 83,
    "start_time": "2022-05-18T19:13:45.301Z"
   },
   {
    "duration": 82,
    "start_time": "2022-05-18T19:13:45.385Z"
   },
   {
    "duration": 16,
    "start_time": "2022-05-18T19:13:45.471Z"
   },
   {
    "duration": 62,
    "start_time": "2022-05-18T19:13:45.489Z"
   },
   {
    "duration": 73,
    "start_time": "2022-05-18T19:13:45.553Z"
   },
   {
    "duration": 17,
    "start_time": "2022-05-18T19:13:45.628Z"
   },
   {
    "duration": 41,
    "start_time": "2022-05-18T19:13:45.647Z"
   },
   {
    "duration": 101,
    "start_time": "2022-05-18T19:13:45.690Z"
   },
   {
    "duration": 25,
    "start_time": "2022-05-18T19:13:45.793Z"
   },
   {
    "duration": 40,
    "start_time": "2022-05-18T19:13:45.819Z"
   },
   {
    "duration": 94,
    "start_time": "2022-05-18T19:13:45.861Z"
   },
   {
    "duration": 16,
    "start_time": "2022-05-18T19:13:45.957Z"
   },
   {
    "duration": 16,
    "start_time": "2022-05-18T19:13:45.975Z"
   },
   {
    "duration": 499,
    "start_time": "2022-05-18T19:13:45.993Z"
   },
   {
    "duration": 42,
    "start_time": "2022-05-18T19:13:46.493Z"
   },
   {
    "duration": 5,
    "start_time": "2022-05-18T19:13:46.536Z"
   },
   {
    "duration": 5,
    "start_time": "2022-05-18T19:13:46.542Z"
   },
   {
    "duration": 18,
    "start_time": "2022-05-18T19:13:46.549Z"
   },
   {
    "duration": 65,
    "start_time": "2022-05-18T19:13:46.569Z"
   },
   {
    "duration": 489,
    "start_time": "2022-05-18T19:13:46.636Z"
   },
   {
    "duration": 104,
    "start_time": "2022-05-18T19:13:47.128Z"
   },
   {
    "duration": 160,
    "start_time": "2022-05-18T19:13:47.234Z"
   },
   {
    "duration": 30,
    "start_time": "2022-05-18T19:13:47.396Z"
   },
   {
    "duration": 28,
    "start_time": "2022-05-18T19:13:47.428Z"
   },
   {
    "duration": 233,
    "start_time": "2022-05-18T19:13:47.458Z"
   },
   {
    "duration": 121,
    "start_time": "2022-05-18T19:13:47.693Z"
   },
   {
    "duration": 8,
    "start_time": "2022-05-18T19:13:47.816Z"
   },
   {
    "duration": 28,
    "start_time": "2022-05-18T19:13:47.825Z"
   },
   {
    "duration": 6,
    "start_time": "2022-05-18T19:13:47.854Z"
   },
   {
    "duration": 9,
    "start_time": "2022-05-18T19:14:13.459Z"
   },
   {
    "duration": 3548,
    "start_time": "2022-05-18T19:14:19.856Z"
   },
   {
    "duration": 5,
    "start_time": "2022-05-18T19:14:29.417Z"
   },
   {
    "duration": 61,
    "start_time": "2022-05-19T11:34:00.174Z"
   },
   {
    "duration": 1882,
    "start_time": "2022-05-19T11:34:03.967Z"
   },
   {
    "duration": 3620,
    "start_time": "2022-05-19T11:34:05.851Z"
   },
   {
    "duration": 140,
    "start_time": "2022-05-19T11:34:09.472Z"
   },
   {
    "duration": 363,
    "start_time": "2022-05-19T11:34:09.614Z"
   },
   {
    "duration": 94,
    "start_time": "2022-05-19T11:34:09.978Z"
   },
   {
    "duration": 85,
    "start_time": "2022-05-19T11:34:10.073Z"
   },
   {
    "duration": 117,
    "start_time": "2022-05-19T11:34:10.160Z"
   },
   {
    "duration": 92,
    "start_time": "2022-05-19T11:34:10.278Z"
   },
   {
    "duration": 85,
    "start_time": "2022-05-19T11:34:10.372Z"
   },
   {
    "duration": 19,
    "start_time": "2022-05-19T11:34:10.460Z"
   },
   {
    "duration": 61,
    "start_time": "2022-05-19T11:34:10.481Z"
   },
   {
    "duration": 76,
    "start_time": "2022-05-19T11:34:10.544Z"
   },
   {
    "duration": 18,
    "start_time": "2022-05-19T11:34:10.621Z"
   },
   {
    "duration": 73,
    "start_time": "2022-05-19T11:34:10.641Z"
   },
   {
    "duration": 96,
    "start_time": "2022-05-19T11:34:10.716Z"
   },
   {
    "duration": 18,
    "start_time": "2022-05-19T11:34:10.814Z"
   },
   {
    "duration": 46,
    "start_time": "2022-05-19T11:34:10.834Z"
   },
   {
    "duration": 86,
    "start_time": "2022-05-19T11:34:10.882Z"
   },
   {
    "duration": 19,
    "start_time": "2022-05-19T11:34:10.969Z"
   },
   {
    "duration": 16,
    "start_time": "2022-05-19T11:34:11.002Z"
   },
   {
    "duration": 618,
    "start_time": "2022-05-19T11:34:11.020Z"
   },
   {
    "duration": 39,
    "start_time": "2022-05-19T11:34:11.640Z"
   },
   {
    "duration": 21,
    "start_time": "2022-05-19T11:34:11.681Z"
   },
   {
    "duration": 4,
    "start_time": "2022-05-19T11:34:11.704Z"
   },
   {
    "duration": 30,
    "start_time": "2022-05-19T11:34:11.709Z"
   },
   {
    "duration": 74,
    "start_time": "2022-05-19T11:34:11.741Z"
   },
   {
    "duration": 544,
    "start_time": "2022-05-19T11:34:11.817Z"
   },
   {
    "duration": 93,
    "start_time": "2022-05-19T11:34:12.364Z"
   },
   {
    "duration": 222,
    "start_time": "2022-05-19T11:34:12.459Z"
   },
   {
    "duration": 34,
    "start_time": "2022-05-19T11:34:12.683Z"
   },
   {
    "duration": 28,
    "start_time": "2022-05-19T11:34:12.718Z"
   },
   {
    "duration": 142,
    "start_time": "2022-05-19T11:34:12.748Z"
   },
   {
    "duration": 132,
    "start_time": "2022-05-19T11:34:12.892Z"
   },
   {
    "duration": 7,
    "start_time": "2022-05-19T11:34:13.026Z"
   },
   {
    "duration": 30,
    "start_time": "2022-05-19T11:34:13.035Z"
   },
   {
    "duration": 5,
    "start_time": "2022-05-19T11:34:13.067Z"
   },
   {
    "duration": 33,
    "start_time": "2022-05-19T11:34:13.073Z"
   },
   {
    "duration": 4427,
    "start_time": "2022-05-19T11:34:13.107Z"
   },
   {
    "duration": 5,
    "start_time": "2022-05-19T11:34:35.459Z"
   },
   {
    "duration": 10,
    "start_time": "2022-05-19T11:34:58.629Z"
   },
   {
    "duration": 5,
    "start_time": "2022-05-19T11:35:03.648Z"
   },
   {
    "duration": 100,
    "start_time": "2022-05-19T11:36:10.864Z"
   },
   {
    "duration": 6,
    "start_time": "2022-05-19T11:36:12.466Z"
   },
   {
    "duration": 1419,
    "start_time": "2022-05-19T11:39:23.540Z"
   },
   {
    "duration": 1622,
    "start_time": "2022-05-19T11:39:24.961Z"
   },
   {
    "duration": 141,
    "start_time": "2022-05-19T11:39:26.584Z"
   },
   {
    "duration": 284,
    "start_time": "2022-05-19T11:39:26.727Z"
   },
   {
    "duration": 96,
    "start_time": "2022-05-19T11:39:27.013Z"
   },
   {
    "duration": 65,
    "start_time": "2022-05-19T11:39:27.110Z"
   },
   {
    "duration": 109,
    "start_time": "2022-05-19T11:39:27.177Z"
   },
   {
    "duration": 89,
    "start_time": "2022-05-19T11:39:27.288Z"
   },
   {
    "duration": 87,
    "start_time": "2022-05-19T11:39:27.378Z"
   },
   {
    "duration": 17,
    "start_time": "2022-05-19T11:39:27.467Z"
   },
   {
    "duration": 59,
    "start_time": "2022-05-19T11:39:27.485Z"
   },
   {
    "duration": 78,
    "start_time": "2022-05-19T11:39:27.546Z"
   },
   {
    "duration": 17,
    "start_time": "2022-05-19T11:39:27.626Z"
   },
   {
    "duration": 43,
    "start_time": "2022-05-19T11:39:27.644Z"
   },
   {
    "duration": 95,
    "start_time": "2022-05-19T11:39:27.689Z"
   },
   {
    "duration": 24,
    "start_time": "2022-05-19T11:39:27.786Z"
   },
   {
    "duration": 45,
    "start_time": "2022-05-19T11:39:27.812Z"
   },
   {
    "duration": 86,
    "start_time": "2022-05-19T11:39:27.859Z"
   },
   {
    "duration": 15,
    "start_time": "2022-05-19T11:39:27.947Z"
   },
   {
    "duration": 18,
    "start_time": "2022-05-19T11:39:27.963Z"
   },
   {
    "duration": 571,
    "start_time": "2022-05-19T11:39:27.983Z"
   },
   {
    "duration": 51,
    "start_time": "2022-05-19T11:39:28.556Z"
   },
   {
    "duration": 5,
    "start_time": "2022-05-19T11:39:28.609Z"
   },
   {
    "duration": 15,
    "start_time": "2022-05-19T11:39:28.618Z"
   },
   {
    "duration": 32,
    "start_time": "2022-05-19T11:39:28.634Z"
   },
   {
    "duration": 45,
    "start_time": "2022-05-19T11:39:28.668Z"
   },
   {
    "duration": 532,
    "start_time": "2022-05-19T11:39:28.715Z"
   },
   {
    "duration": 96,
    "start_time": "2022-05-19T11:39:29.252Z"
   },
   {
    "duration": 141,
    "start_time": "2022-05-19T11:39:29.350Z"
   },
   {
    "duration": 36,
    "start_time": "2022-05-19T11:39:29.493Z"
   },
   {
    "duration": 31,
    "start_time": "2022-05-19T11:39:29.531Z"
   },
   {
    "duration": 254,
    "start_time": "2022-05-19T11:39:29.563Z"
   },
   {
    "duration": 129,
    "start_time": "2022-05-19T11:39:29.818Z"
   },
   {
    "duration": 9,
    "start_time": "2022-05-19T11:39:29.949Z"
   },
   {
    "duration": 47,
    "start_time": "2022-05-19T11:39:29.959Z"
   },
   {
    "duration": 6,
    "start_time": "2022-05-19T11:39:30.008Z"
   },
   {
    "duration": 16,
    "start_time": "2022-05-19T11:39:30.016Z"
   },
   {
    "duration": 3836,
    "start_time": "2022-05-19T11:39:30.034Z"
   },
   {
    "duration": 5,
    "start_time": "2022-05-19T11:39:33.872Z"
   },
   {
    "duration": 112,
    "start_time": "2022-05-19T11:39:33.878Z"
   },
   {
    "duration": 101,
    "start_time": "2022-05-19T11:39:33.991Z"
   },
   {
    "duration": 10,
    "start_time": "2022-05-19T11:39:34.102Z"
   },
   {
    "duration": 2324,
    "start_time": "2022-05-19T11:39:34.114Z"
   },
   {
    "duration": 64,
    "start_time": "2022-05-19T11:39:36.439Z"
   },
   {
    "duration": 30,
    "start_time": "2022-05-19T11:39:36.505Z"
   },
   {
    "duration": 176,
    "start_time": "2022-05-19T11:39:36.537Z"
   },
   {
    "duration": 90,
    "start_time": "2022-05-19T11:39:36.714Z"
   },
   {
    "duration": 59,
    "start_time": "2022-05-19T11:39:36.805Z"
   },
   {
    "duration": 4,
    "start_time": "2022-05-19T11:39:36.866Z"
   },
   {
    "duration": 162,
    "start_time": "2022-05-19T11:39:36.872Z"
   },
   {
    "duration": 75,
    "start_time": "2022-05-19T11:39:37.036Z"
   },
   {
    "duration": 232,
    "start_time": "2022-05-19T11:39:37.113Z"
   },
   {
    "duration": 268,
    "start_time": "2022-05-19T11:39:37.347Z"
   },
   {
    "duration": 4,
    "start_time": "2022-05-19T11:39:37.616Z"
   },
   {
    "duration": 23,
    "start_time": "2022-05-19T11:39:37.622Z"
   },
   {
    "duration": 14,
    "start_time": "2022-05-19T11:39:37.647Z"
   },
   {
    "duration": 151,
    "start_time": "2022-05-19T11:39:37.662Z"
   },
   {
    "duration": 0,
    "start_time": "2022-05-19T11:39:37.815Z"
   },
   {
    "duration": 0,
    "start_time": "2022-05-19T11:39:37.816Z"
   },
   {
    "duration": 0,
    "start_time": "2022-05-19T11:39:37.817Z"
   },
   {
    "duration": 0,
    "start_time": "2022-05-19T11:39:37.818Z"
   },
   {
    "duration": 0,
    "start_time": "2022-05-19T11:39:37.819Z"
   },
   {
    "duration": 0,
    "start_time": "2022-05-19T11:39:37.820Z"
   },
   {
    "duration": 0,
    "start_time": "2022-05-19T11:39:37.821Z"
   },
   {
    "duration": 0,
    "start_time": "2022-05-19T11:39:37.823Z"
   },
   {
    "duration": 0,
    "start_time": "2022-05-19T11:39:37.823Z"
   },
   {
    "duration": 0,
    "start_time": "2022-05-19T11:39:37.825Z"
   },
   {
    "duration": 0,
    "start_time": "2022-05-19T11:39:37.826Z"
   },
   {
    "duration": 0,
    "start_time": "2022-05-19T11:39:37.827Z"
   },
   {
    "duration": 0,
    "start_time": "2022-05-19T11:39:37.829Z"
   },
   {
    "duration": 0,
    "start_time": "2022-05-19T11:39:37.830Z"
   },
   {
    "duration": 0,
    "start_time": "2022-05-19T11:39:37.831Z"
   },
   {
    "duration": 0,
    "start_time": "2022-05-19T11:39:37.832Z"
   },
   {
    "duration": 0,
    "start_time": "2022-05-19T11:39:37.833Z"
   },
   {
    "duration": 0,
    "start_time": "2022-05-19T11:39:37.835Z"
   },
   {
    "duration": 0,
    "start_time": "2022-05-19T11:39:37.836Z"
   },
   {
    "duration": 0,
    "start_time": "2022-05-19T11:39:37.837Z"
   },
   {
    "duration": 0,
    "start_time": "2022-05-19T11:39:37.838Z"
   },
   {
    "duration": 0,
    "start_time": "2022-05-19T11:39:37.839Z"
   },
   {
    "duration": 1094,
    "start_time": "2022-05-19T11:42:32.633Z"
   },
   {
    "duration": 7,
    "start_time": "2022-05-19T11:42:44.351Z"
   },
   {
    "duration": 1631,
    "start_time": "2022-05-19T11:42:44.372Z"
   },
   {
    "duration": 126,
    "start_time": "2022-05-19T11:42:46.005Z"
   },
   {
    "duration": 243,
    "start_time": "2022-05-19T11:42:46.132Z"
   },
   {
    "duration": 99,
    "start_time": "2022-05-19T11:42:46.378Z"
   },
   {
    "duration": 71,
    "start_time": "2022-05-19T11:42:46.479Z"
   },
   {
    "duration": 102,
    "start_time": "2022-05-19T11:42:46.551Z"
   },
   {
    "duration": 97,
    "start_time": "2022-05-19T11:42:46.655Z"
   },
   {
    "duration": 86,
    "start_time": "2022-05-19T11:42:46.754Z"
   },
   {
    "duration": 17,
    "start_time": "2022-05-19T11:42:46.842Z"
   },
   {
    "duration": 58,
    "start_time": "2022-05-19T11:42:46.862Z"
   },
   {
    "duration": 71,
    "start_time": "2022-05-19T11:42:46.921Z"
   },
   {
    "duration": 18,
    "start_time": "2022-05-19T11:42:47.001Z"
   },
   {
    "duration": 44,
    "start_time": "2022-05-19T11:42:47.020Z"
   },
   {
    "duration": 105,
    "start_time": "2022-05-19T11:42:47.065Z"
   },
   {
    "duration": 30,
    "start_time": "2022-05-19T11:42:47.172Z"
   },
   {
    "duration": 40,
    "start_time": "2022-05-19T11:42:47.204Z"
   },
   {
    "duration": 80,
    "start_time": "2022-05-19T11:42:47.246Z"
   },
   {
    "duration": 17,
    "start_time": "2022-05-19T11:42:47.328Z"
   },
   {
    "duration": 19,
    "start_time": "2022-05-19T11:42:47.347Z"
   },
   {
    "duration": 527,
    "start_time": "2022-05-19T11:42:47.367Z"
   },
   {
    "duration": 45,
    "start_time": "2022-05-19T11:42:47.895Z"
   },
   {
    "duration": 4,
    "start_time": "2022-05-19T11:42:47.942Z"
   },
   {
    "duration": 12,
    "start_time": "2022-05-19T11:42:47.948Z"
   },
   {
    "duration": 46,
    "start_time": "2022-05-19T11:42:47.962Z"
   },
   {
    "duration": 38,
    "start_time": "2022-05-19T11:42:48.010Z"
   },
   {
    "duration": 670,
    "start_time": "2022-05-19T11:42:48.050Z"
   },
   {
    "duration": 98,
    "start_time": "2022-05-19T11:42:48.722Z"
   },
   {
    "duration": 149,
    "start_time": "2022-05-19T11:42:48.824Z"
   },
   {
    "duration": 37,
    "start_time": "2022-05-19T11:42:48.975Z"
   },
   {
    "duration": 26,
    "start_time": "2022-05-19T11:42:49.014Z"
   },
   {
    "duration": 151,
    "start_time": "2022-05-19T11:42:49.042Z"
   },
   {
    "duration": 132,
    "start_time": "2022-05-19T11:42:49.195Z"
   },
   {
    "duration": 8,
    "start_time": "2022-05-19T11:42:49.329Z"
   },
   {
    "duration": 25,
    "start_time": "2022-05-19T11:42:49.339Z"
   },
   {
    "duration": 6,
    "start_time": "2022-05-19T11:42:49.366Z"
   },
   {
    "duration": 38,
    "start_time": "2022-05-19T11:42:49.374Z"
   },
   {
    "duration": 3903,
    "start_time": "2022-05-19T11:42:49.414Z"
   },
   {
    "duration": 6,
    "start_time": "2022-05-19T11:42:53.318Z"
   },
   {
    "duration": 109,
    "start_time": "2022-05-19T11:42:53.325Z"
   },
   {
    "duration": 95,
    "start_time": "2022-05-19T11:42:53.436Z"
   },
   {
    "duration": 9,
    "start_time": "2022-05-19T11:42:53.532Z"
   },
   {
    "duration": 2185,
    "start_time": "2022-05-19T11:42:53.542Z"
   },
   {
    "duration": 62,
    "start_time": "2022-05-19T11:42:55.729Z"
   },
   {
    "duration": 30,
    "start_time": "2022-05-19T11:42:55.802Z"
   },
   {
    "duration": 196,
    "start_time": "2022-05-19T11:42:55.834Z"
   },
   {
    "duration": 71,
    "start_time": "2022-05-19T11:42:56.032Z"
   },
   {
    "duration": 54,
    "start_time": "2022-05-19T11:42:56.105Z"
   },
   {
    "duration": 5,
    "start_time": "2022-05-19T11:42:56.161Z"
   },
   {
    "duration": 166,
    "start_time": "2022-05-19T11:42:56.167Z"
   },
   {
    "duration": 72,
    "start_time": "2022-05-19T11:42:56.335Z"
   },
   {
    "duration": 227,
    "start_time": "2022-05-19T11:42:56.408Z"
   },
   {
    "duration": 292,
    "start_time": "2022-05-19T11:42:56.637Z"
   },
   {
    "duration": 5,
    "start_time": "2022-05-19T11:42:56.930Z"
   },
   {
    "duration": 22,
    "start_time": "2022-05-19T11:42:56.936Z"
   },
   {
    "duration": 14,
    "start_time": "2022-05-19T11:42:56.960Z"
   },
   {
    "duration": 1101,
    "start_time": "2022-05-19T11:42:56.977Z"
   },
   {
    "duration": 64,
    "start_time": "2022-05-19T11:42:58.080Z"
   },
   {
    "duration": 3,
    "start_time": "2022-05-19T11:42:58.146Z"
   },
   {
    "duration": 161,
    "start_time": "2022-05-19T11:42:58.151Z"
   },
   {
    "duration": 12,
    "start_time": "2022-05-19T11:42:58.314Z"
   },
   {
    "duration": 12,
    "start_time": "2022-05-19T11:42:58.327Z"
   },
   {
    "duration": 4,
    "start_time": "2022-05-19T11:42:58.340Z"
   },
   {
    "duration": 7,
    "start_time": "2022-05-19T11:42:58.345Z"
   },
   {
    "duration": 7,
    "start_time": "2022-05-19T11:42:58.354Z"
   },
   {
    "duration": 24012,
    "start_time": "2022-05-19T11:42:58.363Z"
   },
   {
    "duration": 193077,
    "start_time": "2022-05-19T11:43:22.376Z"
   },
   {
    "duration": 554,
    "start_time": "2022-05-19T11:46:35.455Z"
   },
   {
    "duration": 99,
    "start_time": "2022-05-19T11:46:36.011Z"
   },
   {
    "duration": 67,
    "start_time": "2022-05-19T11:46:36.111Z"
   },
   {
    "duration": 178,
    "start_time": "2022-05-19T11:46:36.180Z"
   },
   {
    "duration": 53668,
    "start_time": "2022-05-19T11:46:36.360Z"
   },
   {
    "duration": 2430,
    "start_time": "2022-05-20T05:56:02.000Z"
   },
   {
    "duration": 273,
    "start_time": "2022-05-20T05:56:04.432Z"
   },
   {
    "duration": 0,
    "start_time": "2022-05-20T05:56:04.709Z"
   },
   {
    "duration": 0,
    "start_time": "2022-05-20T05:56:04.710Z"
   },
   {
    "duration": 0,
    "start_time": "2022-05-20T05:56:04.711Z"
   },
   {
    "duration": 0,
    "start_time": "2022-05-20T05:56:04.712Z"
   },
   {
    "duration": 0,
    "start_time": "2022-05-20T05:56:04.713Z"
   },
   {
    "duration": 0,
    "start_time": "2022-05-20T05:56:04.713Z"
   },
   {
    "duration": 0,
    "start_time": "2022-05-20T05:56:04.714Z"
   },
   {
    "duration": 0,
    "start_time": "2022-05-20T05:56:04.715Z"
   },
   {
    "duration": 0,
    "start_time": "2022-05-20T05:56:04.716Z"
   },
   {
    "duration": 0,
    "start_time": "2022-05-20T05:56:04.717Z"
   },
   {
    "duration": 0,
    "start_time": "2022-05-20T05:56:04.718Z"
   },
   {
    "duration": 0,
    "start_time": "2022-05-20T05:56:04.719Z"
   },
   {
    "duration": 0,
    "start_time": "2022-05-20T05:56:04.720Z"
   },
   {
    "duration": 0,
    "start_time": "2022-05-20T05:56:04.721Z"
   },
   {
    "duration": 0,
    "start_time": "2022-05-20T05:56:04.722Z"
   },
   {
    "duration": 0,
    "start_time": "2022-05-20T05:56:04.722Z"
   },
   {
    "duration": 0,
    "start_time": "2022-05-20T05:56:04.723Z"
   },
   {
    "duration": 0,
    "start_time": "2022-05-20T05:56:04.725Z"
   },
   {
    "duration": 0,
    "start_time": "2022-05-20T05:56:04.725Z"
   },
   {
    "duration": 0,
    "start_time": "2022-05-20T05:56:04.726Z"
   },
   {
    "duration": 0,
    "start_time": "2022-05-20T05:56:04.727Z"
   },
   {
    "duration": 0,
    "start_time": "2022-05-20T05:56:04.728Z"
   },
   {
    "duration": 0,
    "start_time": "2022-05-20T05:56:04.729Z"
   },
   {
    "duration": 0,
    "start_time": "2022-05-20T05:56:04.730Z"
   },
   {
    "duration": 0,
    "start_time": "2022-05-20T05:56:04.731Z"
   },
   {
    "duration": 0,
    "start_time": "2022-05-20T05:56:04.794Z"
   },
   {
    "duration": 0,
    "start_time": "2022-05-20T05:56:04.795Z"
   },
   {
    "duration": 0,
    "start_time": "2022-05-20T05:56:04.796Z"
   },
   {
    "duration": 0,
    "start_time": "2022-05-20T05:56:04.797Z"
   },
   {
    "duration": 0,
    "start_time": "2022-05-20T05:56:04.798Z"
   },
   {
    "duration": 0,
    "start_time": "2022-05-20T05:56:04.799Z"
   },
   {
    "duration": 0,
    "start_time": "2022-05-20T05:56:04.800Z"
   },
   {
    "duration": 0,
    "start_time": "2022-05-20T05:56:04.801Z"
   },
   {
    "duration": 0,
    "start_time": "2022-05-20T05:56:04.802Z"
   },
   {
    "duration": 0,
    "start_time": "2022-05-20T05:56:04.803Z"
   },
   {
    "duration": 0,
    "start_time": "2022-05-20T05:56:04.804Z"
   },
   {
    "duration": 0,
    "start_time": "2022-05-20T05:56:04.804Z"
   },
   {
    "duration": 0,
    "start_time": "2022-05-20T05:56:04.805Z"
   },
   {
    "duration": 0,
    "start_time": "2022-05-20T05:56:04.806Z"
   },
   {
    "duration": 0,
    "start_time": "2022-05-20T05:56:04.807Z"
   },
   {
    "duration": 0,
    "start_time": "2022-05-20T05:56:04.808Z"
   },
   {
    "duration": 0,
    "start_time": "2022-05-20T05:56:04.809Z"
   },
   {
    "duration": 0,
    "start_time": "2022-05-20T05:56:04.810Z"
   },
   {
    "duration": 0,
    "start_time": "2022-05-20T05:56:04.811Z"
   },
   {
    "duration": 0,
    "start_time": "2022-05-20T05:56:04.812Z"
   },
   {
    "duration": 0,
    "start_time": "2022-05-20T05:56:04.813Z"
   },
   {
    "duration": 0,
    "start_time": "2022-05-20T05:56:04.814Z"
   },
   {
    "duration": 0,
    "start_time": "2022-05-20T05:56:04.815Z"
   },
   {
    "duration": 0,
    "start_time": "2022-05-20T05:56:04.816Z"
   },
   {
    "duration": 0,
    "start_time": "2022-05-20T05:56:04.818Z"
   },
   {
    "duration": 0,
    "start_time": "2022-05-20T05:56:04.819Z"
   },
   {
    "duration": 0,
    "start_time": "2022-05-20T05:56:04.895Z"
   },
   {
    "duration": 0,
    "start_time": "2022-05-20T05:56:04.896Z"
   },
   {
    "duration": 0,
    "start_time": "2022-05-20T05:56:04.897Z"
   },
   {
    "duration": 0,
    "start_time": "2022-05-20T05:56:04.898Z"
   },
   {
    "duration": 0,
    "start_time": "2022-05-20T05:56:04.899Z"
   },
   {
    "duration": 0,
    "start_time": "2022-05-20T05:56:04.900Z"
   },
   {
    "duration": 0,
    "start_time": "2022-05-20T05:56:04.901Z"
   },
   {
    "duration": 0,
    "start_time": "2022-05-20T05:56:04.902Z"
   },
   {
    "duration": 0,
    "start_time": "2022-05-20T05:56:04.903Z"
   },
   {
    "duration": 0,
    "start_time": "2022-05-20T05:56:04.904Z"
   },
   {
    "duration": 0,
    "start_time": "2022-05-20T05:56:04.905Z"
   },
   {
    "duration": 0,
    "start_time": "2022-05-20T05:56:04.906Z"
   },
   {
    "duration": 0,
    "start_time": "2022-05-20T05:56:04.907Z"
   },
   {
    "duration": 0,
    "start_time": "2022-05-20T05:56:04.908Z"
   },
   {
    "duration": 0,
    "start_time": "2022-05-20T05:56:04.909Z"
   },
   {
    "duration": 0,
    "start_time": "2022-05-20T05:56:04.910Z"
   },
   {
    "duration": 0,
    "start_time": "2022-05-20T05:56:04.911Z"
   },
   {
    "duration": 0,
    "start_time": "2022-05-20T05:56:04.912Z"
   },
   {
    "duration": 0,
    "start_time": "2022-05-20T05:56:04.913Z"
   },
   {
    "duration": 0,
    "start_time": "2022-05-20T05:56:04.914Z"
   },
   {
    "duration": 0,
    "start_time": "2022-05-20T05:56:04.915Z"
   },
   {
    "duration": 0,
    "start_time": "2022-05-20T05:56:04.916Z"
   },
   {
    "duration": 0,
    "start_time": "2022-05-20T05:56:04.916Z"
   },
   {
    "duration": 0,
    "start_time": "2022-05-20T05:56:04.917Z"
   },
   {
    "duration": 0,
    "start_time": "2022-05-20T05:56:04.918Z"
   },
   {
    "duration": 0,
    "start_time": "2022-05-20T05:56:04.994Z"
   },
   {
    "duration": 3020,
    "start_time": "2022-05-20T06:55:35.893Z"
   },
   {
    "duration": 322,
    "start_time": "2022-05-20T06:55:38.916Z"
   },
   {
    "duration": 0,
    "start_time": "2022-05-20T06:55:39.241Z"
   },
   {
    "duration": 0,
    "start_time": "2022-05-20T06:55:39.294Z"
   },
   {
    "duration": 0,
    "start_time": "2022-05-20T06:55:39.296Z"
   },
   {
    "duration": 0,
    "start_time": "2022-05-20T06:55:39.297Z"
   },
   {
    "duration": 0,
    "start_time": "2022-05-20T06:55:39.298Z"
   },
   {
    "duration": 0,
    "start_time": "2022-05-20T06:55:39.299Z"
   },
   {
    "duration": 0,
    "start_time": "2022-05-20T06:55:39.300Z"
   },
   {
    "duration": 0,
    "start_time": "2022-05-20T06:55:39.302Z"
   },
   {
    "duration": 0,
    "start_time": "2022-05-20T06:55:39.303Z"
   },
   {
    "duration": 1,
    "start_time": "2022-05-20T06:55:39.304Z"
   },
   {
    "duration": 0,
    "start_time": "2022-05-20T06:55:39.306Z"
   },
   {
    "duration": 0,
    "start_time": "2022-05-20T06:55:39.307Z"
   },
   {
    "duration": 0,
    "start_time": "2022-05-20T06:55:39.308Z"
   },
   {
    "duration": 0,
    "start_time": "2022-05-20T06:55:39.309Z"
   },
   {
    "duration": 0,
    "start_time": "2022-05-20T06:55:39.310Z"
   },
   {
    "duration": 0,
    "start_time": "2022-05-20T06:55:39.312Z"
   },
   {
    "duration": 0,
    "start_time": "2022-05-20T06:55:39.313Z"
   },
   {
    "duration": 0,
    "start_time": "2022-05-20T06:55:39.314Z"
   },
   {
    "duration": 0,
    "start_time": "2022-05-20T06:55:39.315Z"
   },
   {
    "duration": 0,
    "start_time": "2022-05-20T06:55:39.316Z"
   },
   {
    "duration": 0,
    "start_time": "2022-05-20T06:55:39.317Z"
   },
   {
    "duration": 0,
    "start_time": "2022-05-20T06:55:39.318Z"
   },
   {
    "duration": 0,
    "start_time": "2022-05-20T06:55:39.320Z"
   },
   {
    "duration": 0,
    "start_time": "2022-05-20T06:55:39.394Z"
   },
   {
    "duration": 0,
    "start_time": "2022-05-20T06:55:39.396Z"
   },
   {
    "duration": 0,
    "start_time": "2022-05-20T06:55:39.397Z"
   },
   {
    "duration": 0,
    "start_time": "2022-05-20T06:55:39.398Z"
   },
   {
    "duration": 0,
    "start_time": "2022-05-20T06:55:39.399Z"
   },
   {
    "duration": 0,
    "start_time": "2022-05-20T06:55:39.401Z"
   },
   {
    "duration": 0,
    "start_time": "2022-05-20T06:55:39.402Z"
   },
   {
    "duration": 0,
    "start_time": "2022-05-20T06:55:39.402Z"
   },
   {
    "duration": 0,
    "start_time": "2022-05-20T06:55:39.403Z"
   },
   {
    "duration": 0,
    "start_time": "2022-05-20T06:55:39.404Z"
   },
   {
    "duration": 0,
    "start_time": "2022-05-20T06:55:39.406Z"
   },
   {
    "duration": 0,
    "start_time": "2022-05-20T06:55:39.406Z"
   },
   {
    "duration": 0,
    "start_time": "2022-05-20T06:55:39.408Z"
   },
   {
    "duration": 0,
    "start_time": "2022-05-20T06:55:39.409Z"
   },
   {
    "duration": 0,
    "start_time": "2022-05-20T06:55:39.409Z"
   },
   {
    "duration": 0,
    "start_time": "2022-05-20T06:55:39.410Z"
   },
   {
    "duration": 0,
    "start_time": "2022-05-20T06:55:39.411Z"
   },
   {
    "duration": 0,
    "start_time": "2022-05-20T06:55:39.412Z"
   },
   {
    "duration": 0,
    "start_time": "2022-05-20T06:55:39.413Z"
   },
   {
    "duration": 0,
    "start_time": "2022-05-20T06:55:39.414Z"
   },
   {
    "duration": 0,
    "start_time": "2022-05-20T06:55:39.416Z"
   },
   {
    "duration": 0,
    "start_time": "2022-05-20T06:55:39.417Z"
   },
   {
    "duration": 0,
    "start_time": "2022-05-20T06:55:39.418Z"
   },
   {
    "duration": 0,
    "start_time": "2022-05-20T06:55:39.419Z"
   },
   {
    "duration": 0,
    "start_time": "2022-05-20T06:55:39.494Z"
   },
   {
    "duration": 0,
    "start_time": "2022-05-20T06:55:39.495Z"
   },
   {
    "duration": 0,
    "start_time": "2022-05-20T06:55:39.496Z"
   },
   {
    "duration": 0,
    "start_time": "2022-05-20T06:55:39.497Z"
   },
   {
    "duration": 0,
    "start_time": "2022-05-20T06:55:39.498Z"
   },
   {
    "duration": 0,
    "start_time": "2022-05-20T06:55:39.499Z"
   },
   {
    "duration": 0,
    "start_time": "2022-05-20T06:55:39.500Z"
   },
   {
    "duration": 0,
    "start_time": "2022-05-20T06:55:39.500Z"
   },
   {
    "duration": 0,
    "start_time": "2022-05-20T06:55:39.501Z"
   },
   {
    "duration": 0,
    "start_time": "2022-05-20T06:55:39.503Z"
   },
   {
    "duration": 0,
    "start_time": "2022-05-20T06:55:39.503Z"
   },
   {
    "duration": 0,
    "start_time": "2022-05-20T06:55:39.504Z"
   },
   {
    "duration": 0,
    "start_time": "2022-05-20T06:55:39.506Z"
   },
   {
    "duration": 0,
    "start_time": "2022-05-20T06:55:39.507Z"
   },
   {
    "duration": 0,
    "start_time": "2022-05-20T06:55:39.509Z"
   },
   {
    "duration": 0,
    "start_time": "2022-05-20T06:55:39.510Z"
   },
   {
    "duration": 0,
    "start_time": "2022-05-20T06:55:39.512Z"
   },
   {
    "duration": 0,
    "start_time": "2022-05-20T06:55:39.513Z"
   },
   {
    "duration": 0,
    "start_time": "2022-05-20T06:55:39.514Z"
   },
   {
    "duration": 0,
    "start_time": "2022-05-20T06:55:39.516Z"
   },
   {
    "duration": 0,
    "start_time": "2022-05-20T06:55:39.517Z"
   },
   {
    "duration": 0,
    "start_time": "2022-05-20T06:55:39.518Z"
   },
   {
    "duration": 0,
    "start_time": "2022-05-20T06:55:39.520Z"
   },
   {
    "duration": 0,
    "start_time": "2022-05-20T06:55:39.597Z"
   },
   {
    "duration": 0,
    "start_time": "2022-05-20T06:55:39.598Z"
   },
   {
    "duration": 0,
    "start_time": "2022-05-20T06:55:39.599Z"
   },
   {
    "duration": 0,
    "start_time": "2022-05-20T06:55:39.601Z"
   },
   {
    "duration": 0,
    "start_time": "2022-05-20T06:55:39.602Z"
   },
   {
    "duration": 0,
    "start_time": "2022-05-20T06:55:39.603Z"
   },
   {
    "duration": 0,
    "start_time": "2022-05-20T06:55:39.604Z"
   },
   {
    "duration": 58,
    "start_time": "2022-05-20T06:57:02.147Z"
   },
   {
    "duration": 2595,
    "start_time": "2022-05-20T06:57:45.109Z"
   },
   {
    "duration": 3633,
    "start_time": "2022-05-20T06:57:47.707Z"
   },
   {
    "duration": 359,
    "start_time": "2022-05-20T06:57:51.342Z"
   },
   {
    "duration": 591,
    "start_time": "2022-05-20T06:57:51.703Z"
   },
   {
    "duration": 212,
    "start_time": "2022-05-20T06:57:52.296Z"
   },
   {
    "duration": 202,
    "start_time": "2022-05-20T06:57:52.510Z"
   },
   {
    "duration": 208,
    "start_time": "2022-05-20T06:57:52.714Z"
   },
   {
    "duration": 197,
    "start_time": "2022-05-20T06:57:52.925Z"
   },
   {
    "duration": 191,
    "start_time": "2022-05-20T06:57:53.124Z"
   },
   {
    "duration": 17,
    "start_time": "2022-05-20T06:57:53.319Z"
   },
   {
    "duration": 156,
    "start_time": "2022-05-20T06:57:53.338Z"
   },
   {
    "duration": 131,
    "start_time": "2022-05-20T06:57:53.496Z"
   },
   {
    "duration": 72,
    "start_time": "2022-05-20T06:57:53.629Z"
   },
   {
    "duration": 112,
    "start_time": "2022-05-20T06:57:53.703Z"
   },
   {
    "duration": 208,
    "start_time": "2022-05-20T06:57:53.817Z"
   },
   {
    "duration": 72,
    "start_time": "2022-05-20T06:57:54.027Z"
   },
   {
    "duration": 112,
    "start_time": "2022-05-20T06:57:54.100Z"
   },
   {
    "duration": 198,
    "start_time": "2022-05-20T06:57:54.214Z"
   },
   {
    "duration": 81,
    "start_time": "2022-05-20T06:57:54.414Z"
   },
   {
    "duration": 18,
    "start_time": "2022-05-20T06:57:54.497Z"
   },
   {
    "duration": 1098,
    "start_time": "2022-05-20T06:57:54.516Z"
   },
   {
    "duration": 102,
    "start_time": "2022-05-20T06:57:55.616Z"
   },
   {
    "duration": 4,
    "start_time": "2022-05-20T06:57:55.720Z"
   },
   {
    "duration": 6,
    "start_time": "2022-05-20T06:57:55.727Z"
   },
   {
    "duration": 80,
    "start_time": "2022-05-20T06:57:55.735Z"
   },
   {
    "duration": 102,
    "start_time": "2022-05-20T06:57:55.817Z"
   },
   {
    "duration": 1117,
    "start_time": "2022-05-20T06:57:55.921Z"
   },
   {
    "duration": 204,
    "start_time": "2022-05-20T06:57:57.094Z"
   },
   {
    "duration": 304,
    "start_time": "2022-05-20T06:57:57.301Z"
   },
   {
    "duration": 88,
    "start_time": "2022-05-20T06:57:57.608Z"
   },
   {
    "duration": 33,
    "start_time": "2022-05-20T06:57:57.698Z"
   },
   {
    "duration": 572,
    "start_time": "2022-05-20T06:57:57.733Z"
   },
   {
    "duration": 236,
    "start_time": "2022-05-20T06:57:58.308Z"
   },
   {
    "duration": 11,
    "start_time": "2022-05-20T06:57:58.595Z"
   },
   {
    "duration": 90,
    "start_time": "2022-05-20T06:57:58.608Z"
   },
   {
    "duration": 7,
    "start_time": "2022-05-20T06:57:58.700Z"
   },
   {
    "duration": 12,
    "start_time": "2022-05-20T06:57:58.709Z"
   },
   {
    "duration": 1588,
    "start_time": "2022-05-20T07:02:08.546Z"
   },
   {
    "duration": 2074,
    "start_time": "2022-05-20T07:02:10.137Z"
   },
   {
    "duration": 137,
    "start_time": "2022-05-20T07:02:12.213Z"
   },
   {
    "duration": 293,
    "start_time": "2022-05-20T07:02:12.353Z"
   },
   {
    "duration": 87,
    "start_time": "2022-05-20T07:02:12.648Z"
   },
   {
    "duration": 78,
    "start_time": "2022-05-20T07:02:12.737Z"
   },
   {
    "duration": 109,
    "start_time": "2022-05-20T07:02:12.817Z"
   },
   {
    "duration": 89,
    "start_time": "2022-05-20T07:02:12.928Z"
   },
   {
    "duration": 84,
    "start_time": "2022-05-20T07:02:13.019Z"
   },
   {
    "duration": 17,
    "start_time": "2022-05-20T07:02:13.105Z"
   },
   {
    "duration": 69,
    "start_time": "2022-05-20T07:02:13.124Z"
   },
   {
    "duration": 79,
    "start_time": "2022-05-20T07:02:13.195Z"
   },
   {
    "duration": 24,
    "start_time": "2022-05-20T07:02:13.275Z"
   },
   {
    "duration": 53,
    "start_time": "2022-05-20T07:02:13.300Z"
   },
   {
    "duration": 106,
    "start_time": "2022-05-20T07:02:13.355Z"
   },
   {
    "duration": 17,
    "start_time": "2022-05-20T07:02:13.463Z"
   },
   {
    "duration": 62,
    "start_time": "2022-05-20T07:02:13.481Z"
   },
   {
    "duration": 77,
    "start_time": "2022-05-20T07:02:13.545Z"
   },
   {
    "duration": 17,
    "start_time": "2022-05-20T07:02:13.624Z"
   },
   {
    "duration": 33,
    "start_time": "2022-05-20T07:02:13.642Z"
   },
   {
    "duration": 538,
    "start_time": "2022-05-20T07:02:13.677Z"
   },
   {
    "duration": 43,
    "start_time": "2022-05-20T07:02:14.217Z"
   },
   {
    "duration": 13,
    "start_time": "2022-05-20T07:02:14.262Z"
   },
   {
    "duration": 39,
    "start_time": "2022-05-20T07:02:14.277Z"
   },
   {
    "duration": 48,
    "start_time": "2022-05-20T07:02:14.318Z"
   },
   {
    "duration": 50,
    "start_time": "2022-05-20T07:02:14.367Z"
   },
   {
    "duration": 626,
    "start_time": "2022-05-20T07:02:14.419Z"
   },
   {
    "duration": 110,
    "start_time": "2022-05-20T07:02:15.050Z"
   },
   {
    "duration": 178,
    "start_time": "2022-05-20T07:02:15.161Z"
   },
   {
    "duration": 36,
    "start_time": "2022-05-20T07:02:15.342Z"
   },
   {
    "duration": 33,
    "start_time": "2022-05-20T07:02:15.393Z"
   },
   {
    "duration": 266,
    "start_time": "2022-05-20T07:02:15.428Z"
   },
   {
    "duration": 145,
    "start_time": "2022-05-20T07:02:15.696Z"
   },
   {
    "duration": 9,
    "start_time": "2022-05-20T07:02:15.843Z"
   },
   {
    "duration": 46,
    "start_time": "2022-05-20T07:02:15.854Z"
   },
   {
    "duration": 6,
    "start_time": "2022-05-20T07:02:15.902Z"
   },
   {
    "duration": 31,
    "start_time": "2022-05-20T07:02:15.910Z"
   },
   {
    "duration": 1612,
    "start_time": "2022-05-20T07:10:02.454Z"
   },
   {
    "duration": 2114,
    "start_time": "2022-05-20T07:10:04.068Z"
   },
   {
    "duration": 152,
    "start_time": "2022-05-20T07:10:06.184Z"
   },
   {
    "duration": 303,
    "start_time": "2022-05-20T07:10:06.338Z"
   },
   {
    "duration": 94,
    "start_time": "2022-05-20T07:10:06.643Z"
   },
   {
    "duration": 90,
    "start_time": "2022-05-20T07:10:06.738Z"
   },
   {
    "duration": 123,
    "start_time": "2022-05-20T07:10:06.831Z"
   },
   {
    "duration": 104,
    "start_time": "2022-05-20T07:10:06.956Z"
   },
   {
    "duration": 86,
    "start_time": "2022-05-20T07:10:07.062Z"
   },
   {
    "duration": 19,
    "start_time": "2022-05-20T07:10:07.151Z"
   },
   {
    "duration": 76,
    "start_time": "2022-05-20T07:10:07.172Z"
   },
   {
    "duration": 90,
    "start_time": "2022-05-20T07:10:07.250Z"
   },
   {
    "duration": 18,
    "start_time": "2022-05-20T07:10:07.343Z"
   },
   {
    "duration": 62,
    "start_time": "2022-05-20T07:10:07.362Z"
   },
   {
    "duration": 106,
    "start_time": "2022-05-20T07:10:07.426Z"
   },
   {
    "duration": 18,
    "start_time": "2022-05-20T07:10:07.534Z"
   },
   {
    "duration": 61,
    "start_time": "2022-05-20T07:10:07.554Z"
   },
   {
    "duration": 84,
    "start_time": "2022-05-20T07:10:07.617Z"
   },
   {
    "duration": 19,
    "start_time": "2022-05-20T07:10:07.703Z"
   },
   {
    "duration": 19,
    "start_time": "2022-05-20T07:10:07.724Z"
   },
   {
    "duration": 616,
    "start_time": "2022-05-20T07:10:07.746Z"
   },
   {
    "duration": 48,
    "start_time": "2022-05-20T07:10:08.364Z"
   },
   {
    "duration": 4,
    "start_time": "2022-05-20T07:10:08.414Z"
   },
   {
    "duration": 7,
    "start_time": "2022-05-20T07:10:08.420Z"
   },
   {
    "duration": 23,
    "start_time": "2022-05-20T07:10:08.428Z"
   },
   {
    "duration": 69,
    "start_time": "2022-05-20T07:10:08.453Z"
   },
   {
    "duration": 641,
    "start_time": "2022-05-20T07:10:08.523Z"
   },
   {
    "duration": 119,
    "start_time": "2022-05-20T07:10:09.170Z"
   },
   {
    "duration": 172,
    "start_time": "2022-05-20T07:10:09.294Z"
   },
   {
    "duration": 47,
    "start_time": "2022-05-20T07:10:09.468Z"
   },
   {
    "duration": 40,
    "start_time": "2022-05-20T07:10:09.518Z"
   },
   {
    "duration": 264,
    "start_time": "2022-05-20T07:10:09.560Z"
   },
   {
    "duration": 140,
    "start_time": "2022-05-20T07:10:09.825Z"
   },
   {
    "duration": 9,
    "start_time": "2022-05-20T07:10:09.967Z"
   },
   {
    "duration": 54,
    "start_time": "2022-05-20T07:10:09.978Z"
   },
   {
    "duration": 7,
    "start_time": "2022-05-20T07:10:10.034Z"
   },
   {
    "duration": 45,
    "start_time": "2022-05-20T07:10:10.044Z"
   },
   {
    "duration": 64,
    "start_time": "2022-05-20T07:10:57.279Z"
   },
   {
    "duration": 1681,
    "start_time": "2022-05-20T07:11:05.370Z"
   },
   {
    "duration": 2279,
    "start_time": "2022-05-20T07:11:07.053Z"
   },
   {
    "duration": 139,
    "start_time": "2022-05-20T07:11:09.334Z"
   },
   {
    "duration": 307,
    "start_time": "2022-05-20T07:11:09.476Z"
   },
   {
    "duration": 92,
    "start_time": "2022-05-20T07:11:09.785Z"
   },
   {
    "duration": 79,
    "start_time": "2022-05-20T07:11:09.879Z"
   },
   {
    "duration": 131,
    "start_time": "2022-05-20T07:11:09.960Z"
   },
   {
    "duration": 87,
    "start_time": "2022-05-20T07:11:10.094Z"
   },
   {
    "duration": 87,
    "start_time": "2022-05-20T07:11:10.183Z"
   },
   {
    "duration": 33,
    "start_time": "2022-05-20T07:11:10.274Z"
   },
   {
    "duration": 53,
    "start_time": "2022-05-20T07:11:10.309Z"
   },
   {
    "duration": 95,
    "start_time": "2022-05-20T07:11:10.364Z"
   },
   {
    "duration": 18,
    "start_time": "2022-05-20T07:11:10.461Z"
   },
   {
    "duration": 47,
    "start_time": "2022-05-20T07:11:10.493Z"
   },
   {
    "duration": 128,
    "start_time": "2022-05-20T07:11:10.542Z"
   },
   {
    "duration": 23,
    "start_time": "2022-05-20T07:11:10.672Z"
   },
   {
    "duration": 50,
    "start_time": "2022-05-20T07:11:10.697Z"
   },
   {
    "duration": 92,
    "start_time": "2022-05-20T07:11:10.748Z"
   },
   {
    "duration": 19,
    "start_time": "2022-05-20T07:11:10.842Z"
   },
   {
    "duration": 39,
    "start_time": "2022-05-20T07:11:10.862Z"
   },
   {
    "duration": 573,
    "start_time": "2022-05-20T07:11:10.903Z"
   },
   {
    "duration": 70,
    "start_time": "2022-05-20T07:11:11.478Z"
   },
   {
    "duration": 5,
    "start_time": "2022-05-20T07:11:11.549Z"
   },
   {
    "duration": 8,
    "start_time": "2022-05-20T07:11:11.556Z"
   },
   {
    "duration": 43,
    "start_time": "2022-05-20T07:11:11.566Z"
   },
   {
    "duration": 44,
    "start_time": "2022-05-20T07:11:11.611Z"
   },
   {
    "duration": 599,
    "start_time": "2022-05-20T07:11:11.657Z"
   },
   {
    "duration": 116,
    "start_time": "2022-05-20T07:11:12.260Z"
   },
   {
    "duration": 186,
    "start_time": "2022-05-20T07:11:12.378Z"
   },
   {
    "duration": 40,
    "start_time": "2022-05-20T07:11:12.566Z"
   },
   {
    "duration": 40,
    "start_time": "2022-05-20T07:11:12.608Z"
   },
   {
    "duration": 283,
    "start_time": "2022-05-20T07:11:12.650Z"
   },
   {
    "duration": 139,
    "start_time": "2022-05-20T07:11:12.935Z"
   },
   {
    "duration": 20,
    "start_time": "2022-05-20T07:11:13.076Z"
   },
   {
    "duration": 29,
    "start_time": "2022-05-20T07:11:13.097Z"
   },
   {
    "duration": 6,
    "start_time": "2022-05-20T07:11:13.128Z"
   },
   {
    "duration": 11,
    "start_time": "2022-05-20T07:11:16.674Z"
   },
   {
    "duration": 15,
    "start_time": "2022-05-20T07:11:28.337Z"
   },
   {
    "duration": 57,
    "start_time": "2022-05-20T07:11:33.918Z"
   },
   {
    "duration": 2006,
    "start_time": "2022-05-20T07:13:15.942Z"
   },
   {
    "duration": 2960,
    "start_time": "2022-05-20T07:13:17.953Z"
   },
   {
    "duration": 196,
    "start_time": "2022-05-20T07:13:20.915Z"
   },
   {
    "duration": 478,
    "start_time": "2022-05-20T07:13:21.114Z"
   },
   {
    "duration": 173,
    "start_time": "2022-05-20T07:13:21.595Z"
   },
   {
    "duration": 134,
    "start_time": "2022-05-20T07:13:21.771Z"
   },
   {
    "duration": 190,
    "start_time": "2022-05-20T07:13:21.907Z"
   },
   {
    "duration": 180,
    "start_time": "2022-05-20T07:13:22.100Z"
   },
   {
    "duration": 155,
    "start_time": "2022-05-20T07:13:22.282Z"
   },
   {
    "duration": 33,
    "start_time": "2022-05-20T07:13:22.440Z"
   },
   {
    "duration": 111,
    "start_time": "2022-05-20T07:13:22.475Z"
   },
   {
    "duration": 104,
    "start_time": "2022-05-20T07:13:22.592Z"
   },
   {
    "duration": 19,
    "start_time": "2022-05-20T07:13:22.699Z"
   },
   {
    "duration": 62,
    "start_time": "2022-05-20T07:13:22.720Z"
   },
   {
    "duration": 124,
    "start_time": "2022-05-20T07:13:22.785Z"
   },
   {
    "duration": 34,
    "start_time": "2022-05-20T07:13:22.911Z"
   },
   {
    "duration": 76,
    "start_time": "2022-05-20T07:13:22.948Z"
   },
   {
    "duration": 101,
    "start_time": "2022-05-20T07:13:23.029Z"
   },
   {
    "duration": 20,
    "start_time": "2022-05-20T07:13:23.132Z"
   },
   {
    "duration": 43,
    "start_time": "2022-05-20T07:13:23.154Z"
   },
   {
    "duration": 600,
    "start_time": "2022-05-20T07:13:23.200Z"
   },
   {
    "duration": 48,
    "start_time": "2022-05-20T07:13:23.803Z"
   },
   {
    "duration": 7,
    "start_time": "2022-05-20T07:13:23.854Z"
   },
   {
    "duration": 31,
    "start_time": "2022-05-20T07:13:23.863Z"
   },
   {
    "duration": 37,
    "start_time": "2022-05-20T07:13:23.898Z"
   },
   {
    "duration": 85,
    "start_time": "2022-05-20T07:13:23.937Z"
   },
   {
    "duration": 647,
    "start_time": "2022-05-20T07:13:24.024Z"
   },
   {
    "duration": 147,
    "start_time": "2022-05-20T07:13:24.677Z"
   },
   {
    "duration": 173,
    "start_time": "2022-05-20T07:13:24.826Z"
   },
   {
    "duration": 34,
    "start_time": "2022-05-20T07:13:25.001Z"
   },
   {
    "duration": 58,
    "start_time": "2022-05-20T07:13:25.037Z"
   },
   {
    "duration": 314,
    "start_time": "2022-05-20T07:13:25.097Z"
   },
   {
    "duration": 162,
    "start_time": "2022-05-20T07:13:25.413Z"
   },
   {
    "duration": 21,
    "start_time": "2022-05-20T07:13:25.578Z"
   },
   {
    "duration": 30,
    "start_time": "2022-05-20T07:13:25.601Z"
   },
   {
    "duration": 8,
    "start_time": "2022-05-20T07:13:25.633Z"
   },
   {
    "duration": 13,
    "start_time": "2022-05-20T07:19:01.604Z"
   },
   {
    "duration": 7,
    "start_time": "2022-05-20T07:19:06.843Z"
   },
   {
    "duration": 4,
    "start_time": "2022-05-20T07:19:06.876Z"
   },
   {
    "duration": 51,
    "start_time": "2022-05-20T07:19:06.883Z"
   },
   {
    "duration": 13,
    "start_time": "2022-05-20T07:19:06.937Z"
   },
   {
    "duration": 2673,
    "start_time": "2022-05-20T07:19:06.951Z"
   },
   {
    "duration": 69,
    "start_time": "2022-05-20T07:19:09.627Z"
   },
   {
    "duration": 220,
    "start_time": "2022-05-20T07:19:09.698Z"
   },
   {
    "duration": 389,
    "start_time": "2022-05-20T07:19:09.921Z"
   },
   {
    "duration": 125,
    "start_time": "2022-05-20T07:19:10.313Z"
   },
   {
    "duration": 189,
    "start_time": "2022-05-20T07:19:10.440Z"
   },
   {
    "duration": 6,
    "start_time": "2022-05-20T07:19:10.632Z"
   },
   {
    "duration": 332,
    "start_time": "2022-05-20T07:19:10.699Z"
   },
   {
    "duration": 168,
    "start_time": "2022-05-20T07:19:11.033Z"
   },
   {
    "duration": 460,
    "start_time": "2022-05-20T07:19:11.203Z"
   },
   {
    "duration": 312,
    "start_time": "2022-05-20T07:19:11.665Z"
   },
   {
    "duration": 4,
    "start_time": "2022-05-20T07:19:11.979Z"
   },
   {
    "duration": 35,
    "start_time": "2022-05-20T07:19:11.985Z"
   },
   {
    "duration": 17,
    "start_time": "2022-05-20T07:19:12.022Z"
   },
   {
    "duration": 1281,
    "start_time": "2022-05-20T07:19:12.042Z"
   },
   {
    "duration": 68,
    "start_time": "2022-05-20T07:19:13.326Z"
   },
   {
    "duration": 5,
    "start_time": "2022-05-20T07:19:13.396Z"
   },
   {
    "duration": 192,
    "start_time": "2022-05-20T07:19:13.402Z"
   },
   {
    "duration": 14,
    "start_time": "2022-05-20T07:19:13.596Z"
   },
   {
    "duration": 19,
    "start_time": "2022-05-20T07:19:13.612Z"
   },
   {
    "duration": 7,
    "start_time": "2022-05-20T07:19:13.633Z"
   },
   {
    "duration": 5,
    "start_time": "2022-05-20T07:19:13.642Z"
   },
   {
    "duration": 6,
    "start_time": "2022-05-20T07:19:13.649Z"
   },
   {
    "duration": 27652,
    "start_time": "2022-05-20T07:19:13.657Z"
   },
   {
    "duration": 219514,
    "start_time": "2022-05-20T07:19:41.311Z"
   },
   {
    "duration": 769,
    "start_time": "2022-05-20T07:23:20.830Z"
   },
   {
    "duration": 105,
    "start_time": "2022-05-20T07:23:21.602Z"
   },
   {
    "duration": 118,
    "start_time": "2022-05-20T07:23:21.709Z"
   },
   {
    "duration": 217,
    "start_time": "2022-05-20T07:23:21.829Z"
   },
   {
    "duration": 62814,
    "start_time": "2022-05-20T07:23:22.048Z"
   },
   {
    "duration": 1665,
    "start_time": "2022-05-21T07:45:09.819Z"
   },
   {
    "duration": 2369,
    "start_time": "2022-05-21T07:45:11.486Z"
   },
   {
    "duration": 177,
    "start_time": "2022-05-21T07:45:13.857Z"
   },
   {
    "duration": 288,
    "start_time": "2022-05-21T07:45:14.036Z"
   },
   {
    "duration": 103,
    "start_time": "2022-05-21T07:45:14.327Z"
   },
   {
    "duration": 73,
    "start_time": "2022-05-21T07:45:14.438Z"
   },
   {
    "duration": 135,
    "start_time": "2022-05-21T07:45:14.514Z"
   },
   {
    "duration": 106,
    "start_time": "2022-05-21T07:45:14.651Z"
   },
   {
    "duration": 96,
    "start_time": "2022-05-21T07:45:14.759Z"
   },
   {
    "duration": 18,
    "start_time": "2022-05-21T07:45:14.858Z"
   },
   {
    "duration": 61,
    "start_time": "2022-05-21T07:45:14.878Z"
   },
   {
    "duration": 89,
    "start_time": "2022-05-21T07:45:14.941Z"
   },
   {
    "duration": 26,
    "start_time": "2022-05-21T07:45:15.035Z"
   },
   {
    "duration": 80,
    "start_time": "2022-05-21T07:45:15.063Z"
   },
   {
    "duration": 103,
    "start_time": "2022-05-21T07:45:15.145Z"
   },
   {
    "duration": 27,
    "start_time": "2022-05-21T07:45:15.250Z"
   },
   {
    "duration": 69,
    "start_time": "2022-05-21T07:45:15.279Z"
   },
   {
    "duration": 84,
    "start_time": "2022-05-21T07:45:15.350Z"
   },
   {
    "duration": 21,
    "start_time": "2022-05-21T07:45:15.436Z"
   },
   {
    "duration": 17,
    "start_time": "2022-05-21T07:45:15.459Z"
   },
   {
    "duration": 586,
    "start_time": "2022-05-21T07:45:15.478Z"
   },
   {
    "duration": 41,
    "start_time": "2022-05-21T07:45:16.066Z"
   },
   {
    "duration": 22,
    "start_time": "2022-05-21T07:45:16.110Z"
   },
   {
    "duration": 14,
    "start_time": "2022-05-21T07:45:16.134Z"
   },
   {
    "duration": 23,
    "start_time": "2022-05-21T07:45:16.150Z"
   },
   {
    "duration": 41,
    "start_time": "2022-05-21T07:45:16.175Z"
   },
   {
    "duration": 605,
    "start_time": "2022-05-21T07:45:16.217Z"
   },
   {
    "duration": 100,
    "start_time": "2022-05-21T07:45:16.827Z"
   },
   {
    "duration": 154,
    "start_time": "2022-05-21T07:45:16.928Z"
   },
   {
    "duration": 28,
    "start_time": "2022-05-21T07:45:17.084Z"
   },
   {
    "duration": 42,
    "start_time": "2022-05-21T07:45:17.123Z"
   },
   {
    "duration": 258,
    "start_time": "2022-05-21T07:45:17.168Z"
   },
   {
    "duration": 139,
    "start_time": "2022-05-21T07:45:17.427Z"
   },
   {
    "duration": 8,
    "start_time": "2022-05-21T07:45:17.568Z"
   },
   {
    "duration": 52,
    "start_time": "2022-05-21T07:45:17.577Z"
   },
   {
    "duration": 11,
    "start_time": "2022-05-21T07:45:17.630Z"
   },
   {
    "duration": 16,
    "start_time": "2022-05-21T07:45:17.643Z"
   },
   {
    "duration": 3885,
    "start_time": "2022-05-21T07:45:17.661Z"
   },
   {
    "duration": 6,
    "start_time": "2022-05-21T07:45:21.548Z"
   },
   {
    "duration": 130,
    "start_time": "2022-05-21T07:45:21.555Z"
   },
   {
    "duration": 11,
    "start_time": "2022-05-21T07:45:21.687Z"
   },
   {
    "duration": 2286,
    "start_time": "2022-05-21T07:45:21.699Z"
   },
   {
    "duration": 80,
    "start_time": "2022-05-21T07:45:23.987Z"
   },
   {
    "duration": 30,
    "start_time": "2022-05-21T07:45:24.069Z"
   },
   {
    "duration": 163,
    "start_time": "2022-05-21T07:45:24.100Z"
   },
   {
    "duration": 75,
    "start_time": "2022-05-21T07:45:24.265Z"
   },
   {
    "duration": 57,
    "start_time": "2022-05-21T07:45:24.341Z"
   },
   {
    "duration": 5,
    "start_time": "2022-05-21T07:45:24.399Z"
   },
   {
    "duration": 160,
    "start_time": "2022-05-21T07:45:24.405Z"
   },
   {
    "duration": 81,
    "start_time": "2022-05-21T07:45:24.567Z"
   },
   {
    "duration": 244,
    "start_time": "2022-05-21T07:45:24.650Z"
   },
   {
    "duration": 363,
    "start_time": "2022-05-21T07:45:24.896Z"
   },
   {
    "duration": 3,
    "start_time": "2022-05-21T07:45:25.262Z"
   },
   {
    "duration": 27,
    "start_time": "2022-05-21T07:45:25.271Z"
   },
   {
    "duration": 27,
    "start_time": "2022-05-21T07:45:25.300Z"
   },
   {
    "duration": 1335,
    "start_time": "2022-05-21T07:45:25.335Z"
   },
   {
    "duration": 68,
    "start_time": "2022-05-21T07:45:26.672Z"
   },
   {
    "duration": 5,
    "start_time": "2022-05-21T07:45:26.741Z"
   },
   {
    "duration": 164,
    "start_time": "2022-05-21T07:45:26.748Z"
   },
   {
    "duration": 25,
    "start_time": "2022-05-21T07:45:26.914Z"
   },
   {
    "duration": 15,
    "start_time": "2022-05-21T07:45:26.941Z"
   },
   {
    "duration": 5,
    "start_time": "2022-05-21T07:45:26.958Z"
   },
   {
    "duration": 5,
    "start_time": "2022-05-21T07:45:26.965Z"
   },
   {
    "duration": 5,
    "start_time": "2022-05-21T07:45:26.971Z"
   },
   {
    "duration": 25535,
    "start_time": "2022-05-21T07:45:26.978Z"
   },
   {
    "duration": 203421,
    "start_time": "2022-05-21T07:45:52.515Z"
   },
   {
    "duration": 699,
    "start_time": "2022-05-21T07:49:15.937Z"
   },
   {
    "duration": 100,
    "start_time": "2022-05-21T07:49:16.639Z"
   },
   {
    "duration": 73,
    "start_time": "2022-05-21T07:49:16.741Z"
   },
   {
    "duration": 179,
    "start_time": "2022-05-21T07:49:16.825Z"
   },
   {
    "duration": 58088,
    "start_time": "2022-05-21T07:49:17.006Z"
   },
   {
    "duration": 1637,
    "start_time": "2022-09-01T17:50:49.899Z"
   },
   {
    "duration": 3439,
    "start_time": "2022-09-01T17:50:51.538Z"
   },
   {
    "duration": 102,
    "start_time": "2022-09-01T17:50:54.979Z"
   },
   {
    "duration": 244,
    "start_time": "2022-09-01T17:50:55.082Z"
   },
   {
    "duration": 67,
    "start_time": "2022-09-01T17:50:55.328Z"
   },
   {
    "duration": 54,
    "start_time": "2022-09-01T17:50:55.397Z"
   },
   {
    "duration": 90,
    "start_time": "2022-09-01T17:50:55.452Z"
   },
   {
    "duration": 68,
    "start_time": "2022-09-01T17:50:55.544Z"
   },
   {
    "duration": 55,
    "start_time": "2022-09-01T17:50:55.614Z"
   },
   {
    "duration": 13,
    "start_time": "2022-09-01T17:50:55.670Z"
   },
   {
    "duration": 53,
    "start_time": "2022-09-01T17:50:55.684Z"
   },
   {
    "duration": 54,
    "start_time": "2022-09-01T17:50:55.739Z"
   },
   {
    "duration": 20,
    "start_time": "2022-09-01T17:50:55.794Z"
   },
   {
    "duration": 45,
    "start_time": "2022-09-01T17:50:55.816Z"
   },
   {
    "duration": 88,
    "start_time": "2022-09-01T17:50:55.863Z"
   },
   {
    "duration": 14,
    "start_time": "2022-09-01T17:50:55.953Z"
   },
   {
    "duration": 50,
    "start_time": "2022-09-01T17:50:55.968Z"
   },
   {
    "duration": 67,
    "start_time": "2022-09-01T17:50:56.020Z"
   },
   {
    "duration": 29,
    "start_time": "2022-09-01T17:50:56.089Z"
   },
   {
    "duration": 18,
    "start_time": "2022-09-01T17:50:56.119Z"
   },
   {
    "duration": 557,
    "start_time": "2022-09-01T17:50:56.139Z"
   },
   {
    "duration": 34,
    "start_time": "2022-09-01T17:50:56.698Z"
   },
   {
    "duration": 3,
    "start_time": "2022-09-01T17:50:56.734Z"
   },
   {
    "duration": 6,
    "start_time": "2022-09-01T17:50:56.738Z"
   },
   {
    "duration": 17,
    "start_time": "2022-09-01T17:50:56.745Z"
   },
   {
    "duration": 49,
    "start_time": "2022-09-01T17:50:56.764Z"
   },
   {
    "duration": 448,
    "start_time": "2022-09-01T17:50:56.814Z"
   },
   {
    "duration": 84,
    "start_time": "2022-09-01T17:50:57.264Z"
   },
   {
    "duration": 122,
    "start_time": "2022-09-01T17:50:57.350Z"
   },
   {
    "duration": 36,
    "start_time": "2022-09-01T17:50:57.474Z"
   },
   {
    "duration": 26,
    "start_time": "2022-09-01T17:50:57.512Z"
   },
   {
    "duration": 124,
    "start_time": "2022-09-01T17:50:57.540Z"
   },
   {
    "duration": 125,
    "start_time": "2022-09-01T17:50:57.666Z"
   },
   {
    "duration": 15,
    "start_time": "2022-09-01T17:50:57.792Z"
   },
   {
    "duration": 23,
    "start_time": "2022-09-01T17:50:57.808Z"
   },
   {
    "duration": 5,
    "start_time": "2022-09-01T17:50:57.833Z"
   },
   {
    "duration": 26,
    "start_time": "2022-09-01T17:50:57.839Z"
   },
   {
    "duration": 3374,
    "start_time": "2022-09-01T17:50:57.867Z"
   },
   {
    "duration": 4,
    "start_time": "2022-09-01T17:51:01.242Z"
   },
   {
    "duration": 116,
    "start_time": "2022-09-01T17:51:01.248Z"
   },
   {
    "duration": 8,
    "start_time": "2022-09-01T17:51:01.368Z"
   },
   {
    "duration": 2032,
    "start_time": "2022-09-01T17:51:01.377Z"
   },
   {
    "duration": 66,
    "start_time": "2022-09-01T17:51:03.411Z"
   },
   {
    "duration": 37,
    "start_time": "2022-09-01T17:51:03.478Z"
   },
   {
    "duration": 128,
    "start_time": "2022-09-01T17:51:03.516Z"
   },
   {
    "duration": 63,
    "start_time": "2022-09-01T17:51:03.645Z"
   },
   {
    "duration": 46,
    "start_time": "2022-09-01T17:51:03.709Z"
   },
   {
    "duration": 5,
    "start_time": "2022-09-01T17:51:03.757Z"
   },
   {
    "duration": 135,
    "start_time": "2022-09-01T17:51:03.763Z"
   },
   {
    "duration": 52,
    "start_time": "2022-09-01T17:51:03.905Z"
   },
   {
    "duration": 215,
    "start_time": "2022-09-01T17:51:03.958Z"
   },
   {
    "duration": 242,
    "start_time": "2022-09-01T17:51:04.175Z"
   },
   {
    "duration": 4,
    "start_time": "2022-09-01T17:51:04.418Z"
   },
   {
    "duration": 22,
    "start_time": "2022-09-01T17:51:04.423Z"
   },
   {
    "duration": 18,
    "start_time": "2022-09-01T17:51:04.446Z"
   },
   {
    "duration": 987,
    "start_time": "2022-09-01T17:51:04.466Z"
   },
   {
    "duration": 66,
    "start_time": "2022-09-01T17:51:05.455Z"
   },
   {
    "duration": 4,
    "start_time": "2022-09-01T17:51:05.522Z"
   },
   {
    "duration": 220,
    "start_time": "2022-09-01T17:51:05.527Z"
   },
   {
    "duration": 13,
    "start_time": "2022-09-01T17:51:05.749Z"
   },
   {
    "duration": 12,
    "start_time": "2022-09-01T17:51:05.763Z"
   },
   {
    "duration": 4,
    "start_time": "2022-09-01T17:51:05.776Z"
   },
   {
    "duration": 6,
    "start_time": "2022-09-01T17:51:05.782Z"
   },
   {
    "duration": 17,
    "start_time": "2022-09-01T17:51:05.789Z"
   },
   {
    "duration": 18963,
    "start_time": "2022-09-01T17:51:05.807Z"
   },
   {
    "duration": 165640,
    "start_time": "2022-09-01T17:51:24.771Z"
   },
   {
    "duration": 601,
    "start_time": "2022-09-01T17:54:10.413Z"
   },
   {
    "duration": 102,
    "start_time": "2022-09-01T17:54:11.015Z"
   },
   {
    "duration": 112,
    "start_time": "2022-09-01T17:54:11.119Z"
   },
   {
    "duration": 131,
    "start_time": "2022-09-01T17:54:11.233Z"
   },
   {
    "duration": 50286,
    "start_time": "2022-09-01T17:54:11.365Z"
   }
  ],
  "kernelspec": {
   "display_name": "Python 3",
   "language": "python",
   "name": "python3"
  },
  "language_info": {
   "codemirror_mode": {
    "name": "ipython",
    "version": 3
   },
   "file_extension": ".py",
   "mimetype": "text/x-python",
   "name": "python",
   "nbconvert_exporter": "python",
   "pygments_lexer": "ipython3",
   "version": "3.8.8"
  },
  "toc": {
   "base_numbering": 1,
   "nav_menu": {},
   "number_sections": true,
   "sideBar": true,
   "skip_h1_title": true,
   "title_cell": "Table of Contents",
   "title_sidebar": "Contents",
   "toc_cell": false,
   "toc_position": {
    "height": "calc(100% - 180px)",
    "left": "10px",
    "top": "150px",
    "width": "237.195px"
   },
   "toc_section_display": true,
   "toc_window_display": true
  }
 },
 "nbformat": 4,
 "nbformat_minor": 2
}
